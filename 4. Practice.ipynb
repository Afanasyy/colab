{
  "nbformat": 4,
  "nbformat_minor": 0,
  "metadata": {
    "colab": {
      "name": "4. Practice.ipynb",
      "provenance": [],
      "collapsed_sections": [],
      "toc_visible": true
    },
    "kernelspec": {
      "name": "python3",
      "display_name": "Python 3"
    },
    "language_info": {
      "name": "python"
    }
  },
  "cells": [
    {
      "cell_type": "markdown",
      "source": [
        "# 1. NLTK"
      ],
      "metadata": {
        "id": "IDBXX9MTsKUm"
      }
    },
    {
      "cell_type": "code",
      "execution_count": null,
      "metadata": {
        "id": "jd_8hKGaZP_i"
      },
      "outputs": [],
      "source": [
        "import nltk"
      ]
    },
    {
      "cell_type": "markdown",
      "source": [
        "# Частотный словарь"
      ],
      "metadata": {
        "id": "Ueg9e5AZqBge"
      }
    },
    {
      "cell_type": "code",
      "source": [
        "from nltk import FreqDist\n",
        "nltk.download('punkt')"
      ],
      "metadata": {
        "colab": {
          "base_uri": "https://localhost:8080/"
        },
        "id": "XyH45QrvrR_x",
        "outputId": "9a5eafe0-0a0d-47ee-da86-2b446df4512b"
      },
      "execution_count": null,
      "outputs": [
        {
          "output_type": "stream",
          "name": "stdout",
          "text": [
            "[nltk_data] Downloading package punkt to /root/nltk_data...\n",
            "[nltk_data]   Unzipping tokenizers/punkt.zip.\n"
          ]
        },
        {
          "output_type": "execute_result",
          "data": {
            "text/plain": [
              "True"
            ]
          },
          "metadata": {},
          "execution_count": 2
        }
      ]
    },
    {
      "cell_type": "code",
      "source": [
        "file = open(\"Война и мир.txt\", \"r\", encoding='utf-8')\n",
        "text = file.read()\n",
        "file.close()"
      ],
      "metadata": {
        "id": "hQua1WMuqFxi"
      },
      "execution_count": null,
      "outputs": []
    },
    {
      "cell_type": "code",
      "source": [
        "tokens = nltk.word_tokenize(text)\n",
        "frequency_distribution = FreqDist(tokens) \n",
        "frequency_distribution.most_common(30)"
      ],
      "metadata": {
        "colab": {
          "base_uri": "https://localhost:8080/"
        },
        "id": "30uInYArq15Y",
        "outputId": "75339bdd-6671-41b8-c621-d6ea7215c35f"
      },
      "execution_count": null,
      "outputs": [
        {
          "output_type": "execute_result",
          "data": {
            "text/plain": [
              "[(',', 33712),\n",
              " ('.', 14161),\n",
              " ('и', 10276),\n",
              " ('–', 8749),\n",
              " ('в', 4943),\n",
              " ('не', 4350),\n",
              " ('что', 3456),\n",
              " ('на', 3219),\n",
              " ('он', 3047),\n",
              " ('с', 3046),\n",
              " ('как', 1952),\n",
              " ('его', 1931),\n",
              " (';', 1885),\n",
              " ('!', 1798),\n",
              " ('к', 1797),\n",
              " ('?', 1745),\n",
              " ('я', 1411),\n",
              " ('она', 1201),\n",
              " ('все', 1165),\n",
              " ('было', 1150),\n",
              " ('сказал', 1147),\n",
              " ('это', 1070),\n",
              " ('&', 996),\n",
              " ('#', 996),\n",
              " ('так', 969),\n",
              " ('но', 965),\n",
              " ('то', 946),\n",
              " ('ее', 907),\n",
              " ('за', 906),\n",
              " ('ему', 883)]"
            ]
          },
          "metadata": {},
          "execution_count": 4
        }
      ]
    },
    {
      "cell_type": "code",
      "source": [
        "file = open(\"Каштанка.txt\", \"r\", encoding='utf-8')\n",
        "kashtanka = file.read()\n",
        "file.close()"
      ],
      "metadata": {
        "id": "vrzDLnIAZN1G"
      },
      "execution_count": null,
      "outputs": []
    },
    {
      "cell_type": "code",
      "source": [
        "k_tokens = nltk.word_tokenize(kashtanka)\n",
        "frequency_distribution = FreqDist(k_tokens) \n",
        "frequency_distribution.most_common(10)"
      ],
      "metadata": {
        "colab": {
          "base_uri": "https://localhost:8080/"
        },
        "id": "TvnFfVYMZZkO",
        "outputId": "83c994d7-1d06-43f2-9d63-82e200119d89"
      },
      "execution_count": null,
      "outputs": [
        {
          "output_type": "execute_result",
          "data": {
            "text/plain": [
              "[(',', 729),\n",
              " ('и', 392),\n",
              " ('.', 312),\n",
              " ('-', 127),\n",
              " ('в', 124),\n",
              " ('на', 115),\n",
              " ('!', 92),\n",
              " ('не', 82),\n",
              " ('с', 78),\n",
              " ('что', 67)]"
            ]
          },
          "metadata": {},
          "execution_count": 6
        }
      ]
    },
    {
      "cell_type": "markdown",
      "source": [
        "# Ngrams"
      ],
      "metadata": {
        "id": "1e4aOl2Jrjqw"
      }
    },
    {
      "cell_type": "code",
      "source": [
        "from nltk import ngrams\n",
        "\n",
        "n_grams = ngrams(tokens[500:520], 5) #tokens - из нашего текста выше\n",
        "\n",
        "for i in n_grams:\n",
        "  print(i)"
      ],
      "metadata": {
        "colab": {
          "base_uri": "https://localhost:8080/"
        },
        "id": "JfWLoJeSri0-",
        "outputId": "12136236-521d-4963-f252-af91b481747f"
      },
      "execution_count": null,
      "outputs": [
        {
          "output_type": "stream",
          "name": "stdout",
          "text": [
            "('с', 'светлым', 'выражением', 'плоского', 'лица')\n",
            "('светлым', 'выражением', 'плоского', 'лица', '.')\n",
            "('выражением', 'плоского', 'лица', '.', 'Он')\n",
            "('плоского', 'лица', '.', 'Он', 'говорил')\n",
            "('лица', '.', 'Он', 'говорил', 'на')\n",
            "('.', 'Он', 'говорил', 'на', 'том')\n",
            "('Он', 'говорил', 'на', 'том', 'изысканном')\n",
            "('говорил', 'на', 'том', 'изысканном', 'французском')\n",
            "('на', 'том', 'изысканном', 'французском', 'языке')\n",
            "('том', 'изысканном', 'французском', 'языке', ',')\n",
            "('изысканном', 'французском', 'языке', ',', 'на')\n",
            "('французском', 'языке', ',', 'на', 'котором')\n",
            "('языке', ',', 'на', 'котором', 'не')\n",
            "(',', 'на', 'котором', 'не', 'только')\n",
            "('на', 'котором', 'не', 'только', 'говорили')\n",
            "('котором', 'не', 'только', 'говорили', ',')\n"
          ]
        }
      ]
    },
    {
      "cell_type": "code",
      "source": [
        "n_grams = ngrams(k_tokens[:20], 2) #tokens - из нашего текста выше\n",
        "\n",
        "for i in n_grams:\n",
        "  print(i)"
      ],
      "metadata": {
        "colab": {
          "base_uri": "https://localhost:8080/"
        },
        "id": "ffAPFII5akEQ",
        "outputId": "26ac6276-3af2-4e57-928e-cb2d46a8de4e"
      },
      "execution_count": null,
      "outputs": [
        {
          "output_type": "stream",
          "name": "stdout",
          "text": [
            "('\\ufeff1', '.')\n",
            "('.', 'Дурное')\n",
            "('Дурное', 'поведение')\n",
            "('поведение', 'Молодая')\n",
            "('Молодая', 'рыжая')\n",
            "('рыжая', 'собака')\n",
            "('собака', '-')\n",
            "('-', 'помесь')\n",
            "('помесь', 'такса')\n",
            "('такса', 'с')\n",
            "('с', 'дворняжкой')\n",
            "('дворняжкой', '-')\n",
            "('-', 'очень')\n",
            "('очень', 'похожая')\n",
            "('похожая', 'мордой')\n",
            "('мордой', 'на')\n",
            "('на', 'лисицу')\n",
            "('лисицу', ',')\n",
            "(',', 'бегала')\n"
          ]
        }
      ]
    },
    {
      "cell_type": "markdown",
      "source": [
        "# Sentiment analysis (тональность текста)"
      ],
      "metadata": {
        "id": "Qb-wpmVihaYl"
      }
    },
    {
      "cell_type": "code",
      "source": [
        "import pandas as pd\n",
        "from nltk.sentiment.vader import SentimentIntensityAnalyzer\n",
        "nltk.download('vader_lexicon')"
      ],
      "metadata": {
        "colab": {
          "base_uri": "https://localhost:8080/"
        },
        "id": "BV4r7Y-chlvR",
        "outputId": "6c99b7da-dbe3-403b-ae06-825d33ad0f33"
      },
      "execution_count": null,
      "outputs": [
        {
          "output_type": "stream",
          "name": "stdout",
          "text": [
            "[nltk_data] Downloading package vader_lexicon to /root/nltk_data...\n"
          ]
        },
        {
          "output_type": "stream",
          "name": "stderr",
          "text": [
            "/usr/local/lib/python3.7/dist-packages/nltk/twitter/__init__.py:20: UserWarning: The twython library has not been installed. Some functionality from the twitter package will not be available.\n",
            "  warnings.warn(\"The twython library has not been installed. \"\n"
          ]
        },
        {
          "output_type": "execute_result",
          "data": {
            "text/plain": [
              "True"
            ]
          },
          "metadata": {},
          "execution_count": 9
        }
      ]
    },
    {
      "cell_type": "code",
      "source": [
        "sid = SentimentIntensityAnalyzer()"
      ],
      "metadata": {
        "id": "0rbMUVOKh1Ba"
      },
      "execution_count": null,
      "outputs": []
    },
    {
      "cell_type": "code",
      "source": [
        "data = pd.read_csv('Harry Potter 2.csv', sep = ';')"
      ],
      "metadata": {
        "id": "oBqlImt3h3BY"
      },
      "execution_count": null,
      "outputs": []
    },
    {
      "cell_type": "code",
      "source": [
        "data[['neg', 'neu', 'pos', 'compound']] = data['Sentence'].apply(sid.polarity_scores).apply(pd.Series)\n",
        "data"
      ],
      "metadata": {
        "colab": {
          "base_uri": "https://localhost:8080/",
          "height": 424
        },
        "id": "_ZLZPryUiq-C",
        "outputId": "013321b8-a26e-42cf-bfdd-4412a678a17c"
      },
      "execution_count": null,
      "outputs": [
        {
          "output_type": "execute_result",
          "data": {
            "text/plain": [
              "     Character                                           Sentence    neg  \\\n",
              "0       HARRY                       I can’t let you out, Hedwig.   0.000   \n",
              "1       HARRY    I’m not allowed to use magic outside of school.   0.000   \n",
              "2       HARRY                           Besides, if Uncle Vernon…  0.000   \n",
              "3       VERNON                                      Harry Potter!  0.000   \n",
              "4        HARRY                                Now you’ve done it.  0.000   \n",
              "...        ...                                                ...    ...   \n",
              "1695    HAGRID                                    Sorry I'm late.  0.394   \n",
              "1696    HAGRID  The owl that delivered my release papers got a...  0.315   \n",
              "1697    HAGRID                      Some ruddy bird called Errol.  0.000   \n",
              "1698    HAGRID  And I'd just like to say that if it hadn't bee...  0.000   \n",
              "1699     HARRY           There's no Hogwarts without you, Hagrid.  0.306   \n",
              "\n",
              "        neu   pos  compound  \n",
              "0     1.000  0.00    0.0000  \n",
              "1     1.000  0.00    0.0000  \n",
              "2     1.000  0.00    0.0000  \n",
              "3     1.000  0.00    0.0000  \n",
              "4     1.000  0.00    0.0000  \n",
              "...     ...   ...       ...  \n",
              "1695  0.606  0.00   -0.0772  \n",
              "1696  0.685  0.00   -0.5574  \n",
              "1697  1.000  0.00    0.0000  \n",
              "1698  0.780  0.22    0.7845  \n",
              "1699  0.694  0.00   -0.2960  \n",
              "\n",
              "[1700 rows x 6 columns]"
            ],
            "text/html": [
              "\n",
              "  <div id=\"df-c2a68d7e-ff13-46e2-ae03-e63a2b0b86b0\">\n",
              "    <div class=\"colab-df-container\">\n",
              "      <div>\n",
              "<style scoped>\n",
              "    .dataframe tbody tr th:only-of-type {\n",
              "        vertical-align: middle;\n",
              "    }\n",
              "\n",
              "    .dataframe tbody tr th {\n",
              "        vertical-align: top;\n",
              "    }\n",
              "\n",
              "    .dataframe thead th {\n",
              "        text-align: right;\n",
              "    }\n",
              "</style>\n",
              "<table border=\"1\" class=\"dataframe\">\n",
              "  <thead>\n",
              "    <tr style=\"text-align: right;\">\n",
              "      <th></th>\n",
              "      <th>Character</th>\n",
              "      <th>Sentence</th>\n",
              "      <th>neg</th>\n",
              "      <th>neu</th>\n",
              "      <th>pos</th>\n",
              "      <th>compound</th>\n",
              "    </tr>\n",
              "  </thead>\n",
              "  <tbody>\n",
              "    <tr>\n",
              "      <th>0</th>\n",
              "      <td>HARRY</td>\n",
              "      <td>I can’t let you out, Hedwig.</td>\n",
              "      <td>0.000</td>\n",
              "      <td>1.000</td>\n",
              "      <td>0.00</td>\n",
              "      <td>0.0000</td>\n",
              "    </tr>\n",
              "    <tr>\n",
              "      <th>1</th>\n",
              "      <td>HARRY</td>\n",
              "      <td>I’m not allowed to use magic outside of school.</td>\n",
              "      <td>0.000</td>\n",
              "      <td>1.000</td>\n",
              "      <td>0.00</td>\n",
              "      <td>0.0000</td>\n",
              "    </tr>\n",
              "    <tr>\n",
              "      <th>2</th>\n",
              "      <td>HARRY</td>\n",
              "      <td>Besides, if Uncle Vernon…</td>\n",
              "      <td>0.000</td>\n",
              "      <td>1.000</td>\n",
              "      <td>0.00</td>\n",
              "      <td>0.0000</td>\n",
              "    </tr>\n",
              "    <tr>\n",
              "      <th>3</th>\n",
              "      <td>VERNON</td>\n",
              "      <td>Harry Potter!</td>\n",
              "      <td>0.000</td>\n",
              "      <td>1.000</td>\n",
              "      <td>0.00</td>\n",
              "      <td>0.0000</td>\n",
              "    </tr>\n",
              "    <tr>\n",
              "      <th>4</th>\n",
              "      <td>HARRY</td>\n",
              "      <td>Now you’ve done it.</td>\n",
              "      <td>0.000</td>\n",
              "      <td>1.000</td>\n",
              "      <td>0.00</td>\n",
              "      <td>0.0000</td>\n",
              "    </tr>\n",
              "    <tr>\n",
              "      <th>...</th>\n",
              "      <td>...</td>\n",
              "      <td>...</td>\n",
              "      <td>...</td>\n",
              "      <td>...</td>\n",
              "      <td>...</td>\n",
              "      <td>...</td>\n",
              "    </tr>\n",
              "    <tr>\n",
              "      <th>1695</th>\n",
              "      <td>HAGRID</td>\n",
              "      <td>Sorry I'm late.</td>\n",
              "      <td>0.394</td>\n",
              "      <td>0.606</td>\n",
              "      <td>0.00</td>\n",
              "      <td>-0.0772</td>\n",
              "    </tr>\n",
              "    <tr>\n",
              "      <th>1696</th>\n",
              "      <td>HAGRID</td>\n",
              "      <td>The owl that delivered my release papers got a...</td>\n",
              "      <td>0.315</td>\n",
              "      <td>0.685</td>\n",
              "      <td>0.00</td>\n",
              "      <td>-0.5574</td>\n",
              "    </tr>\n",
              "    <tr>\n",
              "      <th>1697</th>\n",
              "      <td>HAGRID</td>\n",
              "      <td>Some ruddy bird called Errol.</td>\n",
              "      <td>0.000</td>\n",
              "      <td>1.000</td>\n",
              "      <td>0.00</td>\n",
              "      <td>0.0000</td>\n",
              "    </tr>\n",
              "    <tr>\n",
              "      <th>1698</th>\n",
              "      <td>HAGRID</td>\n",
              "      <td>And I'd just like to say that if it hadn't bee...</td>\n",
              "      <td>0.000</td>\n",
              "      <td>0.780</td>\n",
              "      <td>0.22</td>\n",
              "      <td>0.7845</td>\n",
              "    </tr>\n",
              "    <tr>\n",
              "      <th>1699</th>\n",
              "      <td>HARRY</td>\n",
              "      <td>There's no Hogwarts without you, Hagrid.</td>\n",
              "      <td>0.306</td>\n",
              "      <td>0.694</td>\n",
              "      <td>0.00</td>\n",
              "      <td>-0.2960</td>\n",
              "    </tr>\n",
              "  </tbody>\n",
              "</table>\n",
              "<p>1700 rows × 6 columns</p>\n",
              "</div>\n",
              "      <button class=\"colab-df-convert\" onclick=\"convertToInteractive('df-c2a68d7e-ff13-46e2-ae03-e63a2b0b86b0')\"\n",
              "              title=\"Convert this dataframe to an interactive table.\"\n",
              "              style=\"display:none;\">\n",
              "        \n",
              "  <svg xmlns=\"http://www.w3.org/2000/svg\" height=\"24px\"viewBox=\"0 0 24 24\"\n",
              "       width=\"24px\">\n",
              "    <path d=\"M0 0h24v24H0V0z\" fill=\"none\"/>\n",
              "    <path d=\"M18.56 5.44l.94 2.06.94-2.06 2.06-.94-2.06-.94-.94-2.06-.94 2.06-2.06.94zm-11 1L8.5 8.5l.94-2.06 2.06-.94-2.06-.94L8.5 2.5l-.94 2.06-2.06.94zm10 10l.94 2.06.94-2.06 2.06-.94-2.06-.94-.94-2.06-.94 2.06-2.06.94z\"/><path d=\"M17.41 7.96l-1.37-1.37c-.4-.4-.92-.59-1.43-.59-.52 0-1.04.2-1.43.59L10.3 9.45l-7.72 7.72c-.78.78-.78 2.05 0 2.83L4 21.41c.39.39.9.59 1.41.59.51 0 1.02-.2 1.41-.59l7.78-7.78 2.81-2.81c.8-.78.8-2.07 0-2.86zM5.41 20L4 18.59l7.72-7.72 1.47 1.35L5.41 20z\"/>\n",
              "  </svg>\n",
              "      </button>\n",
              "      \n",
              "  <style>\n",
              "    .colab-df-container {\n",
              "      display:flex;\n",
              "      flex-wrap:wrap;\n",
              "      gap: 12px;\n",
              "    }\n",
              "\n",
              "    .colab-df-convert {\n",
              "      background-color: #E8F0FE;\n",
              "      border: none;\n",
              "      border-radius: 50%;\n",
              "      cursor: pointer;\n",
              "      display: none;\n",
              "      fill: #1967D2;\n",
              "      height: 32px;\n",
              "      padding: 0 0 0 0;\n",
              "      width: 32px;\n",
              "    }\n",
              "\n",
              "    .colab-df-convert:hover {\n",
              "      background-color: #E2EBFA;\n",
              "      box-shadow: 0px 1px 2px rgba(60, 64, 67, 0.3), 0px 1px 3px 1px rgba(60, 64, 67, 0.15);\n",
              "      fill: #174EA6;\n",
              "    }\n",
              "\n",
              "    [theme=dark] .colab-df-convert {\n",
              "      background-color: #3B4455;\n",
              "      fill: #D2E3FC;\n",
              "    }\n",
              "\n",
              "    [theme=dark] .colab-df-convert:hover {\n",
              "      background-color: #434B5C;\n",
              "      box-shadow: 0px 1px 3px 1px rgba(0, 0, 0, 0.15);\n",
              "      filter: drop-shadow(0px 1px 2px rgba(0, 0, 0, 0.3));\n",
              "      fill: #FFFFFF;\n",
              "    }\n",
              "  </style>\n",
              "\n",
              "      <script>\n",
              "        const buttonEl =\n",
              "          document.querySelector('#df-c2a68d7e-ff13-46e2-ae03-e63a2b0b86b0 button.colab-df-convert');\n",
              "        buttonEl.style.display =\n",
              "          google.colab.kernel.accessAllowed ? 'block' : 'none';\n",
              "\n",
              "        async function convertToInteractive(key) {\n",
              "          const element = document.querySelector('#df-c2a68d7e-ff13-46e2-ae03-e63a2b0b86b0');\n",
              "          const dataTable =\n",
              "            await google.colab.kernel.invokeFunction('convertToInteractive',\n",
              "                                                     [key], {});\n",
              "          if (!dataTable) return;\n",
              "\n",
              "          const docLinkHtml = 'Like what you see? Visit the ' +\n",
              "            '<a target=\"_blank\" href=https://colab.research.google.com/notebooks/data_table.ipynb>data table notebook</a>'\n",
              "            + ' to learn more about interactive tables.';\n",
              "          element.innerHTML = '';\n",
              "          dataTable['output_type'] = 'display_data';\n",
              "          await google.colab.output.renderOutput(dataTable, element);\n",
              "          const docLink = document.createElement('div');\n",
              "          docLink.innerHTML = docLinkHtml;\n",
              "          element.appendChild(docLink);\n",
              "        }\n",
              "      </script>\n",
              "    </div>\n",
              "  </div>\n",
              "  "
            ]
          },
          "metadata": {},
          "execution_count": 11
        }
      ]
    },
    {
      "cell_type": "markdown",
      "source": [
        "# 2. spaCy"
      ],
      "metadata": {
        "id": "t3CK2FatsOUE"
      }
    },
    {
      "cell_type": "code",
      "source": [
        "!pip install spacy==3.2.4\n",
        "!python -m spacy download ru_core_news_sm"
      ],
      "metadata": {
        "id": "l4vHn0ussQdn"
      },
      "execution_count": null,
      "outputs": []
    },
    {
      "cell_type": "code",
      "source": [
        "import spacy\n",
        "nlp = spacy.load(\"ru_core_news_sm\")"
      ],
      "metadata": {
        "id": "M4-_TV69sUsG"
      },
      "execution_count": null,
      "outputs": []
    },
    {
      "cell_type": "markdown",
      "source": [
        "Для наших целей мы не сможем обработать текст Войны и Мира: возникает следующая ошибка\n",
        "\n",
        "ValueError: [E088] Text of length 1527652 exceeds maximum of 1000000. The parser and NER models require roughly 1GB of temporary memory per 100,000 characters in the input. This means long texts may cause memory allocation errors. If you're not using the parser or NER, it's probably safe to increase the `nlp.max_length` limit. The limit is in number of characters, so you can check whether your inputs are too long by checking `len(text)`."
      ],
      "metadata": {
        "id": "qgp3Ah9JtwPd"
      }
    },
    {
      "cell_type": "code",
      "source": [
        "file = open(\"Каштанка.txt\", \"r\")\n",
        "text = file.read()\n",
        "file.close()"
      ],
      "metadata": {
        "id": "Bs_iKvFuyzny"
      },
      "execution_count": null,
      "outputs": []
    },
    {
      "cell_type": "code",
      "source": [
        "doc = nlp(text) #text - наш текст выше"
      ],
      "metadata": {
        "id": "-2BBDd0mslz8"
      },
      "execution_count": null,
      "outputs": []
    },
    {
      "cell_type": "markdown",
      "source": [
        "# NER"
      ],
      "metadata": {
        "id": "pak0zRsx0XPm"
      }
    },
    {
      "cell_type": "code",
      "source": [
        "print(doc.ents)"
      ],
      "metadata": {
        "colab": {
          "base_uri": "https://localhost:8080/"
        },
        "id": "qNU6WzyOuABF",
        "outputId": "c383ecb8-e736-4ea0-ce77-468c15c109cc"
      },
      "execution_count": null,
      "outputs": [
        {
          "output_type": "stream",
          "name": "stdout",
          "text": [
            "(Луки Александрыча, сердито, Лука Александрыч, Каштанка, Каштанка, Каштанки, Каштанка, Каштанкою, Лукой Александрычем, немножко клейстеру да, Каштанка, Каштанка, Каштанке, Каштанка, Луку  Александрыча, Федюшку, Каштанке, Каштанка, Каштанки, Каштанка, Каштанка, Каштанку, Федор Тимофеич, Каштанку, Гусь, Иван Иваныч, Иван Иваныч, Иван Иваныч, Каштанке, Ивана Иваныча, Ивана  Иваныча, восторга, Хавронью Ивановну, Ивана Иваныча, Федор Тимофеич, Федор, Иван Иваныч, Ивана Иваныча, Федор, Иван  Иваныч, Каштанки, Федора Тимофеича, Теткой, Каштанка, Тимофеич, Каштанка, Федор Тимофеич, Иван  Иваныч, Тетка, Тетка, Тетка, Федора Тимофеича, хрюкнула свинья, Тетка, Федора Тимофеича, Иван Иваныч, Иван Иваныч, Иван  Иваныч, Иваныч, Федор Тимофеич, Гусь, Федор, Тетки, Федор Тимофеич, Иван Иваныч, Гусь, Тетка, Федор Тимофеич, Иван Иваныч, Иван Иваныч, Иваныч, Тетка, Федор Тимофеич, Иван Иваныч, Федора Тимофеича, Тетку, Федора  Тимофеича, Тетка, Ивана  Иваныча, Федор, Тетка, Тетку, Федор Тимофеич, Тетки, Федор Тимофеич, Теткою, Федор Тимофеич, Теткой, Тетки, Тетку, Федора Тимофеича, Арабеллы, Жорж, Федором  Тимофеичем, Засим, Федор  Тимофеич, Тетку, Тетка, Тетушка, Федор Тимофеич, Тетушка, Каштанка, Каштанка, Каштанка, Федюшка, Федора  Тимофеича)\n"
          ]
        }
      ]
    },
    {
      "cell_type": "code",
      "source": [
        "from spacy import displacy\n",
        "displacy.render(doc, style='ent', jupyter=True)"
      ],
      "metadata": {
        "id": "4XXokStp0cHy",
        "outputId": "4bc494a4-dea4-47d2-eb6d-e162ed2c7301",
        "colab": {
          "base_uri": "https://localhost:8080/",
          "height": 1000
        }
      },
      "execution_count": null,
      "outputs": [
        {
          "output_type": "display_data",
          "data": {
            "text/plain": [
              "<IPython.core.display.HTML object>"
            ],
            "text/html": [
              "<span class=\"tex2jax_ignore\"><div class=\"entities\" style=\"line-height: 2.5; direction: ltr\">﻿1. Дурное поведение</br></br></br>     Молодая рыжая собака - помесь такса с дворняжкой - очень похожая мордой</br>на лисицу, бегала взад и вперед по тротуару  и  беспокойно  оглядывалась  по</br>сторонам. Изредка она останавливалась и, плача, приподнимая то одну  озябшую</br>лапу, то другую, старалась дать себе отчет: как это могло случиться, что она</br>заблудилась?</br>     Она отлично помнила, как она провела день и как в конце  концов  попала</br>на этот незнакомый тротуар.</br>     День начался с того, что ее  хозяин,  столяр  Лука  Александрыч,  надел</br>шапку, взял под  мышку  какую-то  деревянную  штуку,  завернутую  в  красный</br>платок, и крикнул:</br>     - Каштанка, пойдем!</br>     Услыхав свое имя, помесь такса с дворняжкой вышла из-под верстака,  где</br>она спала на стружках, сладко потянулась и побежала за  хозяином.  Заказчики</br>\n",
              "<mark class=\"entity\" style=\"background: #ddd; padding: 0.45em 0.6em; margin: 0 0.25em; line-height: 1; border-radius: 0.35em;\">\n",
              "    Луки Александрыча\n",
              "    <span style=\"font-size: 0.8em; font-weight: bold; line-height: 1; border-radius: 0.35em; vertical-align: middle; margin-left: 0.5rem\">PER</span>\n",
              "</mark>\n",
              " жили ужасно далеко, так что, прежде чем дойти  до  каждого</br>из  них,  столяр  должен  был  по  нескольку  раз  заходить  в   трактир   и</br>подкрепляться.  Каштанка  помнила,  что  по  дороге  она  вела  себя  крайне</br>неприлично. От радости, что ее взяли гулять, она прыгала, бросалась  с  лаем</br>на вагоны конножелезки, забегала во дворы и гонялась за собаками. Столяр  то</br>и дело терял ее из виду, останавливался и \n",
              "<mark class=\"entity\" style=\"background: #ddd; padding: 0.45em 0.6em; margin: 0 0.25em; line-height: 1; border-radius: 0.35em;\">\n",
              "    сердито\n",
              "    <span style=\"font-size: 0.8em; font-weight: bold; line-height: 1; border-radius: 0.35em; vertical-align: middle; margin-left: 0.5rem\">PER</span>\n",
              "</mark>\n",
              " кричал на нее. Раз даже он</br>с выражением алчности на лице забрал  в  кулак  ее  лисье  ухо,  потрепал  и</br>проговорил с расстановкой:</br>     - Чтоб... ты... из... дох... ла, холера!</br>     Побывав у заказчиков, \n",
              "<mark class=\"entity\" style=\"background: #ddd; padding: 0.45em 0.6em; margin: 0 0.25em; line-height: 1; border-radius: 0.35em;\">\n",
              "    Лука Александрыч\n",
              "    <span style=\"font-size: 0.8em; font-weight: bold; line-height: 1; border-radius: 0.35em; vertical-align: middle; margin-left: 0.5rem\">PER</span>\n",
              "</mark>\n",
              " зашел на  минутку  к  сестре,  у</br>которой пил и закусывал; от сестры пошел он  к  знакомому  переплетчику,  от</br>переплетчика в трактир, из трактира  к  куму  и  т.д.  Одним  словом,  когда</br>Каштанка попала на незнакомый тротуар, то уже вечерело и  столяр  был  пьян,</br>как сапожник. Он размахивал руками и, глубоко вздыхая, бормотал:</br>     - Во гресех роди мя мати во утробе моей! Ох, грехи, грехи!  Теперь  вот</br>мы по улице идем и на фонарики глядим, а  как  помрем  -  в  гиене  огненной</br>гореть будем...</br>     Или же он впадал в добродушный тон, подзывал к себе Каштанку и  говорил</br>ей:</br>     - Ты, \n",
              "<mark class=\"entity\" style=\"background: #7aecec; padding: 0.45em 0.6em; margin: 0 0.25em; line-height: 1; border-radius: 0.35em;\">\n",
              "    Каштанка\n",
              "    <span style=\"font-size: 0.8em; font-weight: bold; line-height: 1; border-radius: 0.35em; vertical-align: middle; margin-left: 0.5rem\">ORG</span>\n",
              "</mark>\n",
              ", насекомое существо и больше ничего.  Супротив  человека</br>ты все равно, что плотник супротив столяра...</br>     Когда он разговаривал с нею  таким  образом,  вдруг  загремела  музыка.</br>Каштанка оглянулась и увидела, что по улице прямо на нее шел полк солдат. Не</br>вынося музыки, которая расстраивала ей нервы, она  заметалась  и  завыла.  К</br>великому ее удивлению, столяр, вместо того  чтобы  испугаться,  завизжать  и</br>залаять, широко улыбнулся, вытянулся во фрунт и  всей  пятерней  сделал  под</br>козырек. Видя, что хозяин не протестует, \n",
              "<mark class=\"entity\" style=\"background: #ddd; padding: 0.45em 0.6em; margin: 0 0.25em; line-height: 1; border-radius: 0.35em;\">\n",
              "    Каштанка\n",
              "    <span style=\"font-size: 0.8em; font-weight: bold; line-height: 1; border-radius: 0.35em; vertical-align: middle; margin-left: 0.5rem\">PER</span>\n",
              "</mark>\n",
              " еще громче  завыла  и,  не</br>помня себя, бросилась через дорогу на другой тротуар.</br>     Когда она опомнилась, музыка  уже  не  играла  и  полка  не  было.  Она</br>перебежала дорогу к тому месту, где оставила хозяина, но, увы!  столяра  уже</br>там не было. Она бросилась вперед, потом назад, еще раз  перебежала  дорогу,</br>но  столяр  точно  сквозь  землю  провалился...  Каштанка  стала  обнюхивать</br>тротуар, надеясь найти хозяина по запаху  его  следов,  но  раньше  какой-то</br>негодяй прошел в  новых  резиновых  калошах,  и  теперь  все  тонкие  запахи</br>мешались с острою каучуковою вонью, так что ничего нельзя было разобрать.</br>     Каштанка бегала взад и вперед  и  не  находила  хозяина,  а  между  тем</br>становилось темно. По обе стороны улицы зажглись фонари,  и  в  окнах  домов</br>показались огни. Шел крупный  пушистый  снег  и  красил  в  белое  мостовую,</br>лошадиные спины, шапки извозчиков, и чем больше  темнел  воздух,  тем  белее</br>становились предметы. Мимо \n",
              "<mark class=\"entity\" style=\"background: #ff9561; padding: 0.45em 0.6em; margin: 0 0.25em; line-height: 1; border-radius: 0.35em;\">\n",
              "    Каштанки\n",
              "    <span style=\"font-size: 0.8em; font-weight: bold; line-height: 1; border-radius: 0.35em; vertical-align: middle; margin-left: 0.5rem\">LOC</span>\n",
              "</mark>\n",
              ", заслоняя ей поле  зрения  и  толкая  ее</br>ногами, безостановочно взад и вперед проходили  незнакомые  заказчики.  (Все</br>человечество \n",
              "<mark class=\"entity\" style=\"background: #7aecec; padding: 0.45em 0.6em; margin: 0 0.25em; line-height: 1; border-radius: 0.35em;\">\n",
              "    Каштанка\n",
              "    <span style=\"font-size: 0.8em; font-weight: bold; line-height: 1; border-radius: 0.35em; vertical-align: middle; margin-left: 0.5rem\">ORG</span>\n",
              "</mark>\n",
              " делила на две очень неравные части:  на  хозяев  и  на</br>заказчиков; между теми и другими была  существенная  разница:  первые  имели</br>право бить ее, а вторых она сама имела право  хватать  за  икры.)  Заказчики</br>куда-то спешили и не обращали на нее никакого внимания.</br>     Когда стало совсем темно,  \n",
              "<mark class=\"entity\" style=\"background: #ddd; padding: 0.45em 0.6em; margin: 0 0.25em; line-height: 1; border-radius: 0.35em;\">\n",
              "    Каштанкою\n",
              "    <span style=\"font-size: 0.8em; font-weight: bold; line-height: 1; border-radius: 0.35em; vertical-align: middle; margin-left: 0.5rem\">PER</span>\n",
              "</mark>\n",
              "  овладели  отчаяние  и  ужас.  Она</br>прижалась  к  какому-то  подъезду  и  стала  горько   плакать.   Целодневное</br>путешествие с \n",
              "<mark class=\"entity\" style=\"background: #ff9561; padding: 0.45em 0.6em; margin: 0 0.25em; line-height: 1; border-radius: 0.35em;\">\n",
              "    Лукой Александрычем\n",
              "    <span style=\"font-size: 0.8em; font-weight: bold; line-height: 1; border-radius: 0.35em; vertical-align: middle; margin-left: 0.5rem\">LOC</span>\n",
              "</mark>\n",
              " утомило ее, уши и лапы ее озябли, и к тому</br>же еще она была ужасно голодна. За весь день ей  приходилось  жевать  только</br>два раза: покушала у переплетчика \n",
              "<mark class=\"entity\" style=\"background: #ddd; padding: 0.45em 0.6em; margin: 0 0.25em; line-height: 1; border-radius: 0.35em;\">\n",
              "    немножко клейстеру да\n",
              "    <span style=\"font-size: 0.8em; font-weight: bold; line-height: 1; border-radius: 0.35em; vertical-align: middle; margin-left: 0.5rem\">PER</span>\n",
              "</mark>\n",
              " в одном из трактиров</br>около прилавка нашла колбасную  кожицу  -  вот  и  все.  Если  бы  она  была</br>человеком, то, наверное, подумала бы:</br>     &quot;Нет, так жить невозможно! Нужно застрелиться!&quot;</br></br></br></br></br>2. Таинственный незнакомец</br></br></br></br>     Но она ни о чем не думала и только плакала. Когда мягкий пушистый  снег</br>совсем облепил ее спину и голову и она от изнеможения погрузилась в  тяжелую</br>дремоту, вдруг подъездная дверь щелкнула, запищала и ударила ее по боку. Она</br>вскочила. Из  отворенной  двери  вышел  какой-то  человек,  принадлежащий  к</br>разряду заказчиков. Так как \n",
              "<mark class=\"entity\" style=\"background: #7aecec; padding: 0.45em 0.6em; margin: 0 0.25em; line-height: 1; border-radius: 0.35em;\">\n",
              "    Каштанка\n",
              "    <span style=\"font-size: 0.8em; font-weight: bold; line-height: 1; border-radius: 0.35em; vertical-align: middle; margin-left: 0.5rem\">ORG</span>\n",
              "</mark>\n",
              " взвизгнула и попала ему под ноги, то он</br>не мог не обратить на нее внимания. Он нагнулся к ней и спросил:</br>     - Псина, ты откуда? Я тебя ушиб? О бедная, бедная... Ну, не сердись, не</br>сердись... Виноват.</br>     Каштанка поглядела на незнакомца сквозь снежинки, нависшие на  ресницы,</br>и увидела перед собой коротенького и толстенького человечка с бритым  пухлым</br>лицом, в цилиндре и в шубе нараспашку.</br>     - Что же ты скулишь? - продолжал он, сбивая пальцем с ее спины снег.  -</br>Где твой хозяин? Должно быть, ты потерялась? Ах, бедный  песик!  Что  же  мы</br>теперь будем делать?</br>     Уловив в голосе незнакомца теплую, душевную нотку, \n",
              "<mark class=\"entity\" style=\"background: #7aecec; padding: 0.45em 0.6em; margin: 0 0.25em; line-height: 1; border-radius: 0.35em;\">\n",
              "    Каштанка\n",
              "    <span style=\"font-size: 0.8em; font-weight: bold; line-height: 1; border-radius: 0.35em; vertical-align: middle; margin-left: 0.5rem\">ORG</span>\n",
              "</mark>\n",
              " лизнула ему</br>руку и заскулила еще жалостнее.</br>     - А ты хорошая, смешная! - сказал незнакомец. - Совсем лисица! Ну,  что</br>ж,  делать  нечего,  пойдем  со  мной!  Может  быть,  ты  и   сгодишься   на</br>что-нибудь... Ну, фюйть!</br>     Он чмокнул губами и сделал \n",
              "<mark class=\"entity\" style=\"background: #ddd; padding: 0.45em 0.6em; margin: 0 0.25em; line-height: 1; border-radius: 0.35em;\">\n",
              "    Каштанке\n",
              "    <span style=\"font-size: 0.8em; font-weight: bold; line-height: 1; border-radius: 0.35em; vertical-align: middle; margin-left: 0.5rem\">PER</span>\n",
              "</mark>\n",
              " знак рукой,  который  мог  означать</br>только одно: &quot;Пойдем!&quot; Каштанка пошла.</br>     Не больше как через полчаса она уже сидела на полу  в  большой  светлой</br>комнате и, склонив голову набок, с умилением и  с  любопытством  глядела  на</br>незнакомца, который сидел за столом и обедал. Он ел и бросал  ей  кусочки...</br>Сначала он дал  ей  хлеба  и  зеленую  корочку  сыра,  потом  кусочек  мяса,</br>полпирожка, куриных костей, и она с голодухи все это съела так  быстро,  что</br>не успела разобрать вкуса. И чем больше она ела,  тем  сильнее  чувствовался</br>голод.</br>     - Однако плохо же кормят  тебя  твои  хозяева!  -  говорил  незнакомец,</br>глядя, с какою свирепою жадностью она глотала неразжеванные куски. - И какая</br>ты тощая! Кожа да кости...</br>     Каштанка съела много, но не наелась, а только опьянела  от  еды.  После</br>обеда она разлеглась среди комнаты, протянула ноги и, чувствуя во всем  теле</br>приятную истому, завиляла хвостом. Пока  ее  новый  хозяин,  развалившись  в</br>кресле, курил сигару, она виляла хвостом и решала  вопрос:  где  лучше  -  у</br>незнакомца или у столяра? У незнакомца обстановка бедная и некрасивая; кроме</br>кресел, дивана, лампы и ковров, у него нет ничего, и комната кажется пустою;</br>у столяра же вся квартира битком набита вещами; у него есть  стол,  верстак,</br>куча стружек,  рубанки,  стамески,  пилы,  клетка  с  чижиком,  лохань...  У</br>незнакомца не пахнет ничем, у столяра же в квартире  всегда  стоит  туман  и</br>великолепно пахнет клеем, лаком и стружками. Зато  у  незнакомца  есть  одно</br>очень важное преимущество - он дает много есть, и, надо  отдать  ему  полную</br>справедливость, когда \n",
              "<mark class=\"entity\" style=\"background: #7aecec; padding: 0.45em 0.6em; margin: 0 0.25em; line-height: 1; border-radius: 0.35em;\">\n",
              "    Каштанка\n",
              "    <span style=\"font-size: 0.8em; font-weight: bold; line-height: 1; border-radius: 0.35em; vertical-align: middle; margin-left: 0.5rem\">ORG</span>\n",
              "</mark>\n",
              " сидела перед  столом  и  умильно  глядела  на</br>него, он ни разу не ударил ее, не затопал  ногами  и  ни  разу  не  крикнул:</br>&quot;По-ошла вон, треклятая!&quot;</br>     Выкурив сигару, новый хозяин вышел и через  минуту  вернулся,  держа  в</br>руках маленький матрасик.</br>     - Эй ты, пес, поди сюда! - сказал  он,  кладя  матрасик  в  углу  около</br>дивана. -Ложись здесь. Спи!</br>     Затем он потушил лампу и вышел.  Каштанка  разлеглась  на  матрасике  и</br>закрыла глаза; с улицы послышался лай, и она хотела  ответить  на  него,  но</br>вдруг неожиданно ею овладела грусть. Она вспомнила  \n",
              "<mark class=\"entity\" style=\"background: #ddd; padding: 0.45em 0.6em; margin: 0 0.25em; line-height: 1; border-radius: 0.35em;\">\n",
              "    Луку  Александрыча\n",
              "    <span style=\"font-size: 0.8em; font-weight: bold; line-height: 1; border-radius: 0.35em; vertical-align: middle; margin-left: 0.5rem\">PER</span>\n",
              "</mark>\n",
              ",  его</br>сына \n",
              "<mark class=\"entity\" style=\"background: #ddd; padding: 0.45em 0.6em; margin: 0 0.25em; line-height: 1; border-radius: 0.35em;\">\n",
              "    Федюшку\n",
              "    <span style=\"font-size: 0.8em; font-weight: bold; line-height: 1; border-radius: 0.35em; vertical-align: middle; margin-left: 0.5rem\">PER</span>\n",
              "</mark>\n",
              ", уютное местечко под верстаком... Вспомнила она, что в  длинные</br>зимние  вечера,  когда  столяр  строгал  или  читал  вслух  газету,  Федюшка</br>обыкновенно играл с нею... Он вытаскивал ее за задние лапы из-под верстака и</br>выделывал с нею такие фокусы, что у нее зеленело в глазах и болело  во  всех</br>суставах. Он заставлял ее ходить на задних лапах, изображал из нее  колокол,</br>то есть сильно дергал ее за хвост, отчего она  визжала  и  лаяла,  давал  ей</br>нюхать табаку... Особенно мучителен был следующий фокус: Федюшка  привязывал</br>на  ниточку  кусочек  мяса  и  давал  его  \n",
              "<mark class=\"entity\" style=\"background: #ddd; padding: 0.45em 0.6em; margin: 0 0.25em; line-height: 1; border-radius: 0.35em;\">\n",
              "    Каштанке\n",
              "    <span style=\"font-size: 0.8em; font-weight: bold; line-height: 1; border-radius: 0.35em; vertical-align: middle; margin-left: 0.5rem\">PER</span>\n",
              "</mark>\n",
              ",  потом  же,  когда  она</br>проглатывала, он с громким смехом вытаскивал его обратно из  ее  желудка.  И</br>чем ярче были воспоминания, тем громче и тоскливее скулила \n",
              "<mark class=\"entity\" style=\"background: #ddd; padding: 0.45em 0.6em; margin: 0 0.25em; line-height: 1; border-radius: 0.35em;\">\n",
              "    Каштанка\n",
              "    <span style=\"font-size: 0.8em; font-weight: bold; line-height: 1; border-radius: 0.35em; vertical-align: middle; margin-left: 0.5rem\">PER</span>\n",
              "</mark>\n",
              ".</br>     Но скоро утомление и  теплота  взяли  верх  над  грустью...  Она  стала</br>засыпать. В ее  воображении  забегали  собаки;  пробежал,  между  прочим,  и</br>мохнатый старый пудель, которого она видела сегодня на улице, с  бельмом  на</br>глазах и с клочьями шерсти около носа. Федюшка, с долотом в  руке,  погнался</br>за пуделем, потом вдруг сам  покрылся  мохнатой  шерстью,  весело  залаял  и</br>очутился около \n",
              "<mark class=\"entity\" style=\"background: #ff9561; padding: 0.45em 0.6em; margin: 0 0.25em; line-height: 1; border-radius: 0.35em;\">\n",
              "    Каштанки\n",
              "    <span style=\"font-size: 0.8em; font-weight: bold; line-height: 1; border-radius: 0.35em; vertical-align: middle; margin-left: 0.5rem\">LOC</span>\n",
              "</mark>\n",
              ". Каштанка и он добродушно понюхали друг другу носы и</br>побежали на улицу...</br></br></br></br></br>3. Новое, очень приятное знакомство</br></br></br></br>     Когда \n",
              "<mark class=\"entity\" style=\"background: #ddd; padding: 0.45em 0.6em; margin: 0 0.25em; line-height: 1; border-radius: 0.35em;\">\n",
              "    Каштанка\n",
              "    <span style=\"font-size: 0.8em; font-weight: bold; line-height: 1; border-radius: 0.35em; vertical-align: middle; margin-left: 0.5rem\">PER</span>\n",
              "</mark>\n",
              " проснулась, было уже светло и  с  улицы  доносился  шум,</br>какой бывает только днем. В комнате не было ни  души.  Каштанка  потянулась,</br>зевнула и, сердитая, угрюмая, прошлась  по  комнате.  Она  обнюхала  углы  и</br>мебель, заглянула в переднюю и не нашла  ничего  интересного.  Кроме  двери,</br>которая вела в переднюю, была еще одна дверь. Подумав,  Каштанка  поцарапала</br>ее обеими лапами, отворила и вошла в  следующую  комнату.  Тут  на  кровати,</br>укрывшись байковым одеялом, спал заказчик, в котором она  узнала  вчерашнего</br>незнакомца.</br>     - Рррр... - заворчала она, но, вспомнив про  вчерашний  обед,  завиляла</br>хвостом и стала нюхать.</br>     Она понюхала одежду и сапоги незнакомца и нашла, что они  очень  пахнут</br>лошадью. Из спальни вела куда-то еще одна дверь, тоже затворенная.  Каштанка</br>поцарапала  эту  дверь,  налегла  на  нее  грудью,  отворила  и  тотчас   же</br>почувствовала странный, очень подозрительный запах. Предчувствуя  неприятную</br>встречу, ворча и оглядываясь, \n",
              "<mark class=\"entity\" style=\"background: #ddd; padding: 0.45em 0.6em; margin: 0 0.25em; line-height: 1; border-radius: 0.35em;\">\n",
              "    Каштанка\n",
              "    <span style=\"font-size: 0.8em; font-weight: bold; line-height: 1; border-radius: 0.35em; vertical-align: middle; margin-left: 0.5rem\">PER</span>\n",
              "</mark>\n",
              " вошла в маленькую комнатку с грязными</br>обоями и  в  страхе  попятилась  назад.  Она  увидела  нечто  неожиданное  и</br>страшное. Пригнув к земле шею и голову, растопырив крылья и шипя,  прямо  на</br>нее шел серый гусь. Несколько в стороне от него, на матрасике,  лежал  белый</br>кот; увидев Каштанку,  он  вскочил,  выгнул  спину  в  дугу,  задрал  хвост,</br>взъерошил шерсть и тоже зашипел. Собака испугалась не на шутку, но, не желая</br>выдавать своего страха, громко залаяла и бросилась к коту... Кот еще сильнее</br>выгнул спину, зашипел и ударил \n",
              "<mark class=\"entity\" style=\"background: #ddd; padding: 0.45em 0.6em; margin: 0 0.25em; line-height: 1; border-radius: 0.35em;\">\n",
              "    Каштанку\n",
              "    <span style=\"font-size: 0.8em; font-weight: bold; line-height: 1; border-radius: 0.35em; vertical-align: middle; margin-left: 0.5rem\">PER</span>\n",
              "</mark>\n",
              " лапой по голове. Каштанка отскочила,</br>присела на все четыре лапы и, протягивая к  коту  морду,  залилась  громким,</br>визгливым лаем; в это время гусь подошел сзади и больно долбанул ее клювом в</br>спину. Каштанка вскочила и бросилась на гуся...</br>     - Это что такое? - послышался громкий сердитый голос, и в комнату вошел</br>незнакомец в халате и с сигарой в зубах. - Что это значит? На место!</br>     Он подошел к коту, щелкнул его по выгнутой спине и сказал:</br>     - \n",
              "<mark class=\"entity\" style=\"background: #ddd; padding: 0.45em 0.6em; margin: 0 0.25em; line-height: 1; border-radius: 0.35em;\">\n",
              "    Федор Тимофеич\n",
              "    <span style=\"font-size: 0.8em; font-weight: bold; line-height: 1; border-radius: 0.35em; vertical-align: middle; margin-left: 0.5rem\">PER</span>\n",
              "</mark>\n",
              ", это что значит? Драку подняли? Ах ты, старая каналья!</br>Ложись!</br>     И, обратившись к гусю, он крикнул:</br>     - Иван Иваныч, на место!</br>     Кот покорно лег на свой матрасик и закрыл глаза. Судя по выражению  его</br>морды и усов, он сам был недоволен,  что  погорячился  и  вступил  в  драку.</br>Каштанка обиженно заскулила, а гусь вытянул шею и заговорил о чем-то быстро,</br>горячо и отчетливо, но крайне непонятно.</br>     - Ладно, ладно! - сказал хозяин, зевая. - Надо жить мирно и дружно.  Он</br>погладил \n",
              "<mark class=\"entity\" style=\"background: #ddd; padding: 0.45em 0.6em; margin: 0 0.25em; line-height: 1; border-radius: 0.35em;\">\n",
              "    Каштанку\n",
              "    <span style=\"font-size: 0.8em; font-weight: bold; line-height: 1; border-radius: 0.35em; vertical-align: middle; margin-left: 0.5rem\">PER</span>\n",
              "</mark>\n",
              " и продолжал: -  А  ты,  рыжик,  не  бойся...  Это  хорошая</br>публика, не обидит. Постой, как же мы тебя звать будем?  Без  имени  нельзя,</br>брат.</br>     Незнакомец подумал и сказал:</br>     - Вот что... Ты будешь - Тетка... Понимаешь? Тетка!</br>     И, повторив несколько раз слово &quot;Тетка&quot;,  он  вышел.  Каштанка  села  и</br>стала наблюдать. Кот неподвижно сидел на матрасике и делал  вид,  что  спит.</br>Гусь, вытягивая шею и топчась на одном месте, продолжал  говорить  о  чем-то</br>быстро и горячо. По-видимому, это был очень умный гусь; после каждой длинной</br>тирады он всякий раз удивленно пятился назад и  делал  вид,  что  восхищался</br>своею речью... Послушав его и ответив  ему:  &quot;рррр...&quot;,  Каштанка  принялась</br>обнюхивать углы. В одном из углов стояло маленькое корытце,  в  котором  она</br>увидела моченый горох и размокшие ржаные  корки.  Она  попробовала  горох  -</br>невкусно, попробовала корки -и стала есть. \n",
              "<mark class=\"entity\" style=\"background: #ddd; padding: 0.45em 0.6em; margin: 0 0.25em; line-height: 1; border-radius: 0.35em;\">\n",
              "    Гусь\n",
              "    <span style=\"font-size: 0.8em; font-weight: bold; line-height: 1; border-radius: 0.35em; vertical-align: middle; margin-left: 0.5rem\">PER</span>\n",
              "</mark>\n",
              " нисколько не  обиделся,  что</br>незнакомая собака поедает его корм, а напротив,  заговорил  еще  горячее  и,</br>чтобы показать  свое  доверие,  сам  подошел  к  корытцу  и  съел  несколько</br>горошинок.</br></br></br></br></br>4. Чудеса в решете</br></br></br></br>     Немного погодя  опять  вошел  незнакомец  и  принес  с  собой  какую-то</br>странную вещь, похожую  на  ворота  и  на  букву  П.  На  перекладине  этого</br>деревянного, грубо сколоченного П висел колокол и был привязан пистолет;  от</br>языка колокола и от курка пистолета тянулись веревочки. Незнакомец  поставил</br>П посреди комнаты, долго что-то развязал и  завязывал,  потом  посмотрел  на</br>гуся и сказал:</br>     - Иван Иваныч, пожалуйте!</br>     Гусь подошел к нему и остановился в ожидательной позе.</br>     - Ну-с, - сказал незнакомец, - начнем с  самого  начала.  Прежде  всего</br>поклонись и сделай реверанс! Живо!</br>     \n",
              "<mark class=\"entity\" style=\"background: #ddd; padding: 0.45em 0.6em; margin: 0 0.25em; line-height: 1; border-radius: 0.35em;\">\n",
              "    Иван Иваныч\n",
              "    <span style=\"font-size: 0.8em; font-weight: bold; line-height: 1; border-radius: 0.35em; vertical-align: middle; margin-left: 0.5rem\">PER</span>\n",
              "</mark>\n",
              " вытянул шею, закивал во все стороны и шаркнул лапкой.</br>     - Так, молодец... Теперь умри!</br>     Гусь лег на спину и задрал вверх лапы. Проделав еще несколько  подобных</br>неважных фокусов, незнакомец вдруг схватил  себя  за  голову,  изобразил  на</br>своем лице ужас и закричал:</br>     - Караул! Пожар! Горим!</br>     \n",
              "<mark class=\"entity\" style=\"background: #ddd; padding: 0.45em 0.6em; margin: 0 0.25em; line-height: 1; border-radius: 0.35em;\">\n",
              "    Иван Иваныч\n",
              "    <span style=\"font-size: 0.8em; font-weight: bold; line-height: 1; border-radius: 0.35em; vertical-align: middle; margin-left: 0.5rem\">PER</span>\n",
              "</mark>\n",
              " подбежал к П, взял в клюв веревку  и  зазвонил  в  колокол.</br>Незнакомец остался очень доволен. Он погладил гуся по шее и сказал:</br>     - Молодец, \n",
              "<mark class=\"entity\" style=\"background: #ddd; padding: 0.45em 0.6em; margin: 0 0.25em; line-height: 1; border-radius: 0.35em;\">\n",
              "    Иван Иваныч\n",
              "    <span style=\"font-size: 0.8em; font-weight: bold; line-height: 1; border-radius: 0.35em; vertical-align: middle; margin-left: 0.5rem\">PER</span>\n",
              "</mark>\n",
              "! Теперь представь,  что  ты  ювелир  и  торгуешь</br>золотом и брильянтами. Представь теперь, что ты приходишь к себе в магазин и</br>застаешь в нем воров. Как бы та поступил в данном случае?</br>     Гусь взял в клюв другую веревочку и потянул, отчего тотчас же  раздался</br>оглушительный выстрел. \n",
              "<mark class=\"entity\" style=\"background: #ddd; padding: 0.45em 0.6em; margin: 0 0.25em; line-height: 1; border-radius: 0.35em;\">\n",
              "    Каштанке\n",
              "    <span style=\"font-size: 0.8em; font-weight: bold; line-height: 1; border-radius: 0.35em; vertical-align: middle; margin-left: 0.5rem\">PER</span>\n",
              "</mark>\n",
              " очень понравился звон,  а  от  выстрела  она</br>пришла в такой восторг, что забегала вокруг П и залаяла.</br>     - Тетка, на место! - крикнул ей незнакомец. - Молчать!</br>     Работа \n",
              "<mark class=\"entity\" style=\"background: #ddd; padding: 0.45em 0.6em; margin: 0 0.25em; line-height: 1; border-radius: 0.35em;\">\n",
              "    Ивана Иваныча\n",
              "    <span style=\"font-size: 0.8em; font-weight: bold; line-height: 1; border-radius: 0.35em; vertical-align: middle; margin-left: 0.5rem\">PER</span>\n",
              "</mark>\n",
              " не кончилась стрельбой. Целый час потом незнакомец</br>гонял его вокруг себя на корде  и  хлопал  бичом,  причем  гусь  должен  был</br>прыгать через барьер и сквозь обруч, становиться на дыбы, то  есть  садиться</br>на хвост и махать лапками. Каштанка  не  отрывала  глаз  от  \n",
              "<mark class=\"entity\" style=\"background: #ddd; padding: 0.45em 0.6em; margin: 0 0.25em; line-height: 1; border-radius: 0.35em;\">\n",
              "    Ивана  Иваныча\n",
              "    <span style=\"font-size: 0.8em; font-weight: bold; line-height: 1; border-radius: 0.35em; vertical-align: middle; margin-left: 0.5rem\">PER</span>\n",
              "</mark>\n",
              ",</br>завывала от \n",
              "<mark class=\"entity\" style=\"background: #ddd; padding: 0.45em 0.6em; margin: 0 0.25em; line-height: 1; border-radius: 0.35em;\">\n",
              "    восторга\n",
              "    <span style=\"font-size: 0.8em; font-weight: bold; line-height: 1; border-radius: 0.35em; vertical-align: middle; margin-left: 0.5rem\">PER</span>\n",
              "</mark>\n",
              " и несколько раз принималась бегать за  ним  со  звонким</br>лаем. Утомив гуся и себя, незнакомец вытер со лба пот и крикнул:</br>     - Марья, позови-ка сюда \n",
              "<mark class=\"entity\" style=\"background: #ddd; padding: 0.45em 0.6em; margin: 0 0.25em; line-height: 1; border-radius: 0.35em;\">\n",
              "    Хавронью Ивановну\n",
              "    <span style=\"font-size: 0.8em; font-weight: bold; line-height: 1; border-radius: 0.35em; vertical-align: middle; margin-left: 0.5rem\">PER</span>\n",
              "</mark>\n",
              "!</br>     Через минуту послышалось хрюканье... Каштанка заворчала, приняла  очень</br>храбрый вид и на всякий случай  подошла  поближе  к  незнакомцу.  Отворилась</br>дверь, в комнату поглядела  какая-то  старуха  и,  сказав  что-то,  впустила</br>черную, очень некрасивую свинью. Не обращая никакого  внимания  на  ворчанье</br>Каштанки, свинья подняла вверх свой пятачок и весело захрюкала. По-видимому,</br>ей было очень приятно видеть своего хозяина, кота и \n",
              "<mark class=\"entity\" style=\"background: #ddd; padding: 0.45em 0.6em; margin: 0 0.25em; line-height: 1; border-radius: 0.35em;\">\n",
              "    Ивана Иваныча\n",
              "    <span style=\"font-size: 0.8em; font-weight: bold; line-height: 1; border-radius: 0.35em; vertical-align: middle; margin-left: 0.5rem\">PER</span>\n",
              "</mark>\n",
              ". Когда она</br>подошла к коту и слегка толкнула его под живот  своим  пятачком  и  потом  о</br>чем-то заговорила с гусем, в ее движениях, в голосе и  в  дрожании  хвостика</br>чувствовалось много добродушия. Каштанка сразу поняла, что ворчать  и  лаять</br>на таких субъектов бесполезно.</br>     Хозяин убрал П и крикнул:</br>     - \n",
              "<mark class=\"entity\" style=\"background: #ddd; padding: 0.45em 0.6em; margin: 0 0.25em; line-height: 1; border-radius: 0.35em;\">\n",
              "    Федор Тимофеич\n",
              "    <span style=\"font-size: 0.8em; font-weight: bold; line-height: 1; border-radius: 0.35em; vertical-align: middle; margin-left: 0.5rem\">PER</span>\n",
              "</mark>\n",
              ", пожалуйте!</br>     Кот поднялся, лениво потянулся и нехотя, точно делая одолжение, подошел</br>к свинье.</br>     - Ну-с, начнем с египетской пирамиды, - начал хозяин.</br>     Он долго объяснял что-то, потом скомандовал: &quot;Раз... два... три!&quot;  Иван</br>Иваныч при слове &quot;три&quot; взмахнул крыльями и вскочил на спину свиньи...  Когда</br>он, балансируя  крыльями  и  шеей,  укрепился  на  щетинистой  спине,  \n",
              "<mark class=\"entity\" style=\"background: #ddd; padding: 0.45em 0.6em; margin: 0 0.25em; line-height: 1; border-radius: 0.35em;\">\n",
              "    Федор\n",
              "    <span style=\"font-size: 0.8em; font-weight: bold; line-height: 1; border-radius: 0.35em; vertical-align: middle; margin-left: 0.5rem\">PER</span>\n",
              "</mark>\n",
              "</br>Тимофеич вяло и лениво, с явным пренебрежением и с таким видом, как будто он</br>презирает и ставит ни в грош свое искусство, полез на  спину  свиньи,  потом</br>нехотя взобрался  на  гуся  и  стал  на  задние  лапы.  Получилось  то,  что</br>незнакомец называл &quot;египетской пирамидой&quot;. Каштанка взвизгнула от  восторга,</br>но в это время старик кот зевнул и, потеряв  равновесие,  свалился  с  гуся.</br>\n",
              "<mark class=\"entity\" style=\"background: #ddd; padding: 0.45em 0.6em; margin: 0 0.25em; line-height: 1; border-radius: 0.35em;\">\n",
              "    Иван Иваныч\n",
              "    <span style=\"font-size: 0.8em; font-weight: bold; line-height: 1; border-radius: 0.35em; vertical-align: middle; margin-left: 0.5rem\">PER</span>\n",
              "</mark>\n",
              " пошатнулся и тоже свалился. Незнакомец закричал, замахал  руками</br>и  стал  опять  что-то  объяснять.  Провозившись  целый  час  с   пирамидой,</br>неутомимый хозяин принялся учить \n",
              "<mark class=\"entity\" style=\"background: #ddd; padding: 0.45em 0.6em; margin: 0 0.25em; line-height: 1; border-radius: 0.35em;\">\n",
              "    Ивана Иваныча\n",
              "    <span style=\"font-size: 0.8em; font-weight: bold; line-height: 1; border-radius: 0.35em; vertical-align: middle; margin-left: 0.5rem\">PER</span>\n",
              "</mark>\n",
              " ездить верхом на коте,  потом</br>стал учить кота курить и т.п.</br>     Ученье кончилось тем, что незнакомец вытер со лба пот  и  вышел,  \n",
              "<mark class=\"entity\" style=\"background: #ddd; padding: 0.45em 0.6em; margin: 0 0.25em; line-height: 1; border-radius: 0.35em;\">\n",
              "    Федор\n",
              "    <span style=\"font-size: 0.8em; font-weight: bold; line-height: 1; border-radius: 0.35em; vertical-align: middle; margin-left: 0.5rem\">PER</span>\n",
              "</mark>\n",
              "</br>Тимофеич брезгливо фыркнул, лег на матрасик  и  закрыл  глаза,  \n",
              "<mark class=\"entity\" style=\"background: #ddd; padding: 0.45em 0.6em; margin: 0 0.25em; line-height: 1; border-radius: 0.35em;\">\n",
              "    Иван  Иваныч\n",
              "    <span style=\"font-size: 0.8em; font-weight: bold; line-height: 1; border-radius: 0.35em; vertical-align: middle; margin-left: 0.5rem\">PER</span>\n",
              "</mark>\n",
              "</br>направился к корытцу, а свинья была уведена старухой. Благодаря массе  новых</br>впечатлений день прошел для \n",
              "<mark class=\"entity\" style=\"background: #ddd; padding: 0.45em 0.6em; margin: 0 0.25em; line-height: 1; border-radius: 0.35em;\">\n",
              "    Каштанки\n",
              "    <span style=\"font-size: 0.8em; font-weight: bold; line-height: 1; border-radius: 0.35em; vertical-align: middle; margin-left: 0.5rem\">PER</span>\n",
              "</mark>\n",
              "  незаметно,  а  вечером  она  со  своим</br>матрасиком была уже водворена в комнатке с  грязными  обоями  и  ночевала  в</br>обществе \n",
              "<mark class=\"entity\" style=\"background: #ddd; padding: 0.45em 0.6em; margin: 0 0.25em; line-height: 1; border-radius: 0.35em;\">\n",
              "    Федора Тимофеича\n",
              "    <span style=\"font-size: 0.8em; font-weight: bold; line-height: 1; border-radius: 0.35em; vertical-align: middle; margin-left: 0.5rem\">PER</span>\n",
              "</mark>\n",
              " и гуся.</br></br></br></br></br>5. Талант! Талант!</br></br></br></br>     Прошел месяц.</br>     Каштанка уже привыкла к тому,  что  ее  каждый  вечер  кормили  вкусным</br>обедом и звали  \n",
              "<mark class=\"entity\" style=\"background: #ddd; padding: 0.45em 0.6em; margin: 0 0.25em; line-height: 1; border-radius: 0.35em;\">\n",
              "    Теткой\n",
              "    <span style=\"font-size: 0.8em; font-weight: bold; line-height: 1; border-radius: 0.35em; vertical-align: middle; margin-left: 0.5rem\">PER</span>\n",
              "</mark>\n",
              ".  Привыкла  она  и  к  незнакомцу  и  к  своим  новым</br>сожителям. Жизнь потекла как по маслу.</br>     Все дни начинались одинаково. Обыкновенно раньше всех  просыпался  Иван</br>Иваныч и тотчас же подходил к Тетке  или  к  коту,  выгибал  шею  и  начинал</br>говорить о чем-то горячо и убедительно, но по-прежнему непонятно.  Иной  раз</br>он поднимал вверх  голову  и  произносил  длинные  монологи.  В  первые  дни</br>знакомства \n",
              "<mark class=\"entity\" style=\"background: #ddd; padding: 0.45em 0.6em; margin: 0 0.25em; line-height: 1; border-radius: 0.35em;\">\n",
              "    Каштанка\n",
              "    <span style=\"font-size: 0.8em; font-weight: bold; line-height: 1; border-radius: 0.35em; vertical-align: middle; margin-left: 0.5rem\">PER</span>\n",
              "</mark>\n",
              " думала, что он говорит много потому, что очень умен,  но</br>прошло немного времени, и она потеряла к  нему  всякое  уважение;  когда  он</br>подходил к ней со своими длинными  речами,  она  уж  не  виляла  хвостом,  а</br>третировала его, как надоедливого болтуна, который не дает никому  спать,  и</br>без всякой церемонии отвечала ему: &quot;рррр&quot;...</br>     Федор же \n",
              "<mark class=\"entity\" style=\"background: #ddd; padding: 0.45em 0.6em; margin: 0 0.25em; line-height: 1; border-radius: 0.35em;\">\n",
              "    Тимофеич\n",
              "    <span style=\"font-size: 0.8em; font-weight: bold; line-height: 1; border-radius: 0.35em; vertical-align: middle; margin-left: 0.5rem\">PER</span>\n",
              "</mark>\n",
              "  был  иного  рода  господин.  Этот,  проснувшись,  не</br>издавал никакого звука, не шевелился и даже не открывал глаз. Он  охотно  бы</br>не просыпался, потому что, как видно было, он недолюбливал жизни. Ничто  его</br>не интересовало, ко всему он относился вяло и небрежно, все презирал и даже,</br>поедая свой вкусный обед, брезгливо фыркал.</br>     Проснувшись, \n",
              "<mark class=\"entity\" style=\"background: #ddd; padding: 0.45em 0.6em; margin: 0 0.25em; line-height: 1; border-radius: 0.35em;\">\n",
              "    Каштанка\n",
              "    <span style=\"font-size: 0.8em; font-weight: bold; line-height: 1; border-radius: 0.35em; vertical-align: middle; margin-left: 0.5rem\">PER</span>\n",
              "</mark>\n",
              " начинала ходить по комнатам  и  обнюхивать  углы.</br>Только ей и коту позволялось ходить по всей квартире: гусь же не имел  права</br>переступать порог комнатки с  грязными  обоями,  а  Хавронья  Ивановна  жила</br>где-то на дворе в сарайчике и появлялась  только  во  время  ученья.  Хозяин</br>просыпался поздно и, напившись чаю, тотчас же  принимался  за  свои  фокусы.</br>Каждый день в комнатку вносились П, бич, обручи, и каждый день проделывалось</br>почти одно и то же. Ученье продолжалось часа три-четыре, так  что  иной  раз</br>\n",
              "<mark class=\"entity\" style=\"background: #ddd; padding: 0.45em 0.6em; margin: 0 0.25em; line-height: 1; border-radius: 0.35em;\">\n",
              "    Федор Тимофеич\n",
              "    <span style=\"font-size: 0.8em; font-weight: bold; line-height: 1; border-radius: 0.35em; vertical-align: middle; margin-left: 0.5rem\">PER</span>\n",
              "</mark>\n",
              " от утомления пошатывался, как пьяный, \n",
              "<mark class=\"entity\" style=\"background: #ddd; padding: 0.45em 0.6em; margin: 0 0.25em; line-height: 1; border-radius: 0.35em;\">\n",
              "    Иван  Иваныч\n",
              "    <span style=\"font-size: 0.8em; font-weight: bold; line-height: 1; border-radius: 0.35em; vertical-align: middle; margin-left: 0.5rem\">PER</span>\n",
              "</mark>\n",
              "  раскрывал</br>клюв и тяжело дышал, а хозяин становился красным и никак не мог  стереть  со</br>лба пот.</br>     Ученье и  обед  делали  дни  очень  интересными,  вечера  же  проходили</br>скучновато. Обыкновенно вечерами хозяин уезжал куда-то и увозил с собою гуся</br>и кота. Оставшись одна, \n",
              "<mark class=\"entity\" style=\"background: #ddd; padding: 0.45em 0.6em; margin: 0 0.25em; line-height: 1; border-radius: 0.35em;\">\n",
              "    Тетка\n",
              "    <span style=\"font-size: 0.8em; font-weight: bold; line-height: 1; border-radius: 0.35em; vertical-align: middle; margin-left: 0.5rem\">PER</span>\n",
              "</mark>\n",
              " ложилась на матрасик  и  начинала  грустить...</br>Грусть подкрадывалась к ней как-то незаметно и овладевала ею постепенно, как</br>потемки комнатой. Начиналось с того, что у  собаки  пропадала  всякая  охота</br>лаять, бегать по комнатам и даже глядеть, затем в воображении ее  появлялись</br>какие-то две неясные фигуры, не  то  собаки,  не  то  люди,  с  физиономиями</br>симпатичными, милыми, но непонятными; при появлении их \n",
              "<mark class=\"entity\" style=\"background: #ddd; padding: 0.45em 0.6em; margin: 0 0.25em; line-height: 1; border-radius: 0.35em;\">\n",
              "    Тетка\n",
              "    <span style=\"font-size: 0.8em; font-weight: bold; line-height: 1; border-radius: 0.35em; vertical-align: middle; margin-left: 0.5rem\">PER</span>\n",
              "</mark>\n",
              " виляла хвостом,</br>и ей казалось, что она их где-то когда-то видела и любила.... А засыпая, она</br>всякий раз чувствовала, что от этих фигур пахнет клеем, стружками и лаком.</br>     Когда она совсем уже свыклась с новой  жизнью  и  из  тощей,  костлявой</br>дворняжки обратилась в  сытого,  выхоленного  пса,  однажды,  перед  ученьем</br>хозяин погладил ее и сказал:</br>     - Пора нам, \n",
              "<mark class=\"entity\" style=\"background: #ddd; padding: 0.45em 0.6em; margin: 0 0.25em; line-height: 1; border-radius: 0.35em;\">\n",
              "    Тетка\n",
              "    <span style=\"font-size: 0.8em; font-weight: bold; line-height: 1; border-radius: 0.35em; vertical-align: middle; margin-left: 0.5rem\">PER</span>\n",
              "</mark>\n",
              ", делом заняться. Довольно тебе бить баклуши.  Я  хочу</br>из тебя артистку сделать... Ты хочешь быть артисткой?</br>     И он стал учить ее разным выходкам. В первый урок она училась стоять  и</br>ходить на задних лапах, что ей ужасно нравилось. Во второй урок  она  должна</br>была прыгать на задних лапах и хватать сахар, который высоко над ее  головой</br>держал учитель. Затем в следующие уроки она плясала, бегала на  корде,  выла</br>под музыку, звонила и стреляла, а  через  месяц  могла  с  успехом  заменять</br>\n",
              "<mark class=\"entity\" style=\"background: #ddd; padding: 0.45em 0.6em; margin: 0 0.25em; line-height: 1; border-radius: 0.35em;\">\n",
              "    Федора Тимофеича\n",
              "    <span style=\"font-size: 0.8em; font-weight: bold; line-height: 1; border-radius: 0.35em; vertical-align: middle; margin-left: 0.5rem\">PER</span>\n",
              "</mark>\n",
              " в египетской пирамиде. Училась  она  очень  охотно  и  была</br>довольна своими успехами; беганье с высунутым языком на  корде,  прыганье  в</br>обруч и езда верхом на старом  Федоре  Тимофеиче  доставляли  ей  величайшее</br>наслаждение. Всякий удавшийся фокус она сопровождала  звонким,  восторженным</br>лаем, а учитель удивлялся, приходил тоже в восторг и потирал руки.</br>     - Талант! Талант! - говорил он. - Несомненный талант!  Ты  положительно</br>будешь иметь успех!</br>     И Тетка так привыкла к слову &quot;талант&quot;, что  всякий  раз,  когда  хозяин</br>произносил его, вскакивала и оглядывалась, как будто оно было ее кличкой.</br></br></br></br></br>6. Беспокойная ночь</br></br></br></br>     Тетке приснился собачий сон, будто за ней гонится дворник с  метлой,  и</br>она проснулась от страха.</br>     В комнате было тихо, темно и очень душно. Кусались блохи. Тетка  раньше</br>никогда не боялась потемок, но теперь почему-то ей стало жутко и  захотелось</br>лаять. В соседней комнате громко вздохнул хозяин,  потом  немного  погодя  в</br>своем сарайчике \n",
              "<mark class=\"entity\" style=\"background: #ddd; padding: 0.45em 0.6em; margin: 0 0.25em; line-height: 1; border-radius: 0.35em;\">\n",
              "    хрюкнула свинья\n",
              "    <span style=\"font-size: 0.8em; font-weight: bold; line-height: 1; border-radius: 0.35em; vertical-align: middle; margin-left: 0.5rem\">PER</span>\n",
              "</mark>\n",
              ", и опять все смолкло. Когда думаешь об  еде,</br>то на душе становится легче, и \n",
              "<mark class=\"entity\" style=\"background: #ddd; padding: 0.45em 0.6em; margin: 0 0.25em; line-height: 1; border-radius: 0.35em;\">\n",
              "    Тетка\n",
              "    <span style=\"font-size: 0.8em; font-weight: bold; line-height: 1; border-radius: 0.35em; vertical-align: middle; margin-left: 0.5rem\">PER</span>\n",
              "</mark>\n",
              " стала думать о  том,  как  она  сегодня</br>украла у \n",
              "<mark class=\"entity\" style=\"background: #ddd; padding: 0.45em 0.6em; margin: 0 0.25em; line-height: 1; border-radius: 0.35em;\">\n",
              "    Федора Тимофеича\n",
              "    <span style=\"font-size: 0.8em; font-weight: bold; line-height: 1; border-radius: 0.35em; vertical-align: middle; margin-left: 0.5rem\">PER</span>\n",
              "</mark>\n",
              " куриную лапку  и  спрятала  ее  в  гостиной  между</br>шкафом и стеной, где очень много паутины и пыли. Не мешало бы теперь пойти и</br>посмотреть: цела эта лапка или нет? Очень может быть, что хозяин нашел ее  и</br>скушал. Но раньше утра нельзя выходить  из  комнатки  такое  правило.  Тетка</br>закрыла глаза, чтобы поскорее уснуть, так как она знала по  опыту,  что  чем</br>скорее уснешь, тем скорее наступит утро. Но вдруг недалеко от  нее  раздался</br>странный крик, который заставил ее вздрогнуть и вскочить на все четыре лапы.</br>Это крикнул \n",
              "<mark class=\"entity\" style=\"background: #ddd; padding: 0.45em 0.6em; margin: 0 0.25em; line-height: 1; border-radius: 0.35em;\">\n",
              "    Иван Иваныч\n",
              "    <span style=\"font-size: 0.8em; font-weight: bold; line-height: 1; border-radius: 0.35em; vertical-align: middle; margin-left: 0.5rem\">PER</span>\n",
              "</mark>\n",
              ", и крик его был не  болтливый  и  убедительный,  как</br>обыкновенно, а какой-то дикий, пронзительный и  неестественный,  похожий  на</br>скрип отворяемых ворот. Ничего не разглядев в потемках  и  не  поняв,  Тетка</br>почувствовала еще больший страх и проворчала:</br>     - Ррррр...</br>     Прошло немного времени, сколько его требуется на  то,  чтобы  обглодать</br>хорошую  кость;  крик  не  повторялся.  Тетка  мало-помалу   успокоилась   и</br>задремала. Ей приснились две большие черные собаки с  клочьями  прошлогодней</br>шерсти на бедрах и на боках; они из большой лохани с жадностью ели помои, от</br>которых шел белый пар и очень вкусный запах;  изредка  они  оглядывались  на</br>Тетку, скалили зубы и ворчали: &quot;А тебе мы не  дадим!&quot;  Но  из  дому  выбежал</br>мужик в шубе и прогнал их кнутом; тогда  Тетка  подошла  к  лохани  и  стала</br>кушать, но как только мужик ушел  за  ворота,  обе  черные  собаки  с  ревом</br>бросились на нее, и вдруг опять раздался пронзительный крик.</br>     - К-ге! К-ге-ге! - крикнул \n",
              "<mark class=\"entity\" style=\"background: #ddd; padding: 0.45em 0.6em; margin: 0 0.25em; line-height: 1; border-radius: 0.35em;\">\n",
              "    Иван Иваныч\n",
              "    <span style=\"font-size: 0.8em; font-weight: bold; line-height: 1; border-radius: 0.35em; vertical-align: middle; margin-left: 0.5rem\">PER</span>\n",
              "</mark>\n",
              ".</br>     Тетка проснулась, вскочила и, не сходя  с  матрасика,  залилась  воющим</br>лаем. Ей  уже  казалось,  что  кричит  не  \n",
              "<mark class=\"entity\" style=\"background: #ddd; padding: 0.45em 0.6em; margin: 0 0.25em; line-height: 1; border-radius: 0.35em;\">\n",
              "    Иван  Иваныч\n",
              "    <span style=\"font-size: 0.8em; font-weight: bold; line-height: 1; border-radius: 0.35em; vertical-align: middle; margin-left: 0.5rem\">PER</span>\n",
              "</mark>\n",
              ",  а  кто-то  другой,</br>посторонний. И почему-то в сарайчике опять хрюкнула свинья.</br>     Но вот послышалось шарканье туфель, и в комнатку вошел хозяин в  халате</br>и со свечой. Мелькающий свет запрыгал  по  грязным  обоям  и  по  потолку  и</br>прогнал потемки. Тетка увидела, что в комнатке нет никого постороннего. Иван</br>\n",
              "<mark class=\"entity\" style=\"background: #ddd; padding: 0.45em 0.6em; margin: 0 0.25em; line-height: 1; border-radius: 0.35em;\">\n",
              "    Иваныч\n",
              "    <span style=\"font-size: 0.8em; font-weight: bold; line-height: 1; border-radius: 0.35em; vertical-align: middle; margin-left: 0.5rem\">PER</span>\n",
              "</mark>\n",
              " сидел на полу и не спал.  Крылья  у  него  были  растопырены  и  клюв</br>раскрыт, и вообще он имел такой вид, как будто очень утомился и хотел  пить.</br>Старый \n",
              "<mark class=\"entity\" style=\"background: #ddd; padding: 0.45em 0.6em; margin: 0 0.25em; line-height: 1; border-radius: 0.35em;\">\n",
              "    Федор Тимофеич\n",
              "    <span style=\"font-size: 0.8em; font-weight: bold; line-height: 1; border-radius: 0.35em; vertical-align: middle; margin-left: 0.5rem\">PER</span>\n",
              "</mark>\n",
              " тоже не спал. Должно быть, и он был разбужен криком.</br>     - Иван Иваныч, что с тобой? - спросил хозяин у гуся. - Что ты  кричишь?</br>Ты болен?</br>     Гусь молчал. Хозяин потрогал его за шею, погладил по спине и сказал:  -</br>Ты чудак. И сам не спишь и другим не даешь.</br>     Когда хозяин вышел и унес с собою свет, опять наступили потемки.</br>     Тетке было страшно. \n",
              "<mark class=\"entity\" style=\"background: #ddd; padding: 0.45em 0.6em; margin: 0 0.25em; line-height: 1; border-radius: 0.35em;\">\n",
              "    Гусь\n",
              "    <span style=\"font-size: 0.8em; font-weight: bold; line-height: 1; border-radius: 0.35em; vertical-align: middle; margin-left: 0.5rem\">PER</span>\n",
              "</mark>\n",
              " не кричал, но ей опять стало чудиться,  что  в</br>потемках стоит кто-то чужой. Страшнее всего было то, что этого чужого нельзя</br>было укусить, так как  он  был  невидим  и  в  эту  ночь  должно  непременно</br>произойти что-то очень  худое.  \n",
              "<mark class=\"entity\" style=\"background: #ddd; padding: 0.45em 0.6em; margin: 0 0.25em; line-height: 1; border-radius: 0.35em;\">\n",
              "    Федор\n",
              "    <span style=\"font-size: 0.8em; font-weight: bold; line-height: 1; border-radius: 0.35em; vertical-align: middle; margin-left: 0.5rem\">PER</span>\n",
              "</mark>\n",
              "  Тимофеич  тоже  был  непокоен.  Тетка</br>слышала, как он возился на своем матрасике, зевал и встряхивал головой.</br>     Где-то на улице застучали в ворота, и в сарайчике хрюкнула свинья.</br>     Тетка заскулила, протянула передние лапы и положила на  них  голову.  В</br>стуке ворот, в хрюканье не спавшей почему-то свиньи, в потемках и  в  тишине</br>почудилось ей что-то такое же  тоскливое  и  страшное,  как  в  крике  Ивана</br>Иваныча. Все было в тревоге и в беспокойстве, но  отчего?  Кто  этот  чужой,</br>которого не было видно? Вот около \n",
              "<mark class=\"entity\" style=\"background: #ff9561; padding: 0.45em 0.6em; margin: 0 0.25em; line-height: 1; border-radius: 0.35em;\">\n",
              "    Тетки\n",
              "    <span style=\"font-size: 0.8em; font-weight: bold; line-height: 1; border-radius: 0.35em; vertical-align: middle; margin-left: 0.5rem\">LOC</span>\n",
              "</mark>\n",
              " на мгновение вспыхнули  две  тусклые</br>зеленые искорки. Это в первый раз за все  время  знакомства  подошел  к  ней</br>\n",
              "<mark class=\"entity\" style=\"background: #ddd; padding: 0.45em 0.6em; margin: 0 0.25em; line-height: 1; border-radius: 0.35em;\">\n",
              "    Федор Тимофеич\n",
              "    <span style=\"font-size: 0.8em; font-weight: bold; line-height: 1; border-radius: 0.35em; vertical-align: middle; margin-left: 0.5rem\">PER</span>\n",
              "</mark>\n",
              ". Что ему нужно было? Тетка лизнула ему лапу и, не  спрашивая,</br>зачем он пришел, завыла тихо и на разные голоса.</br>     - К-ге! - крикнул \n",
              "<mark class=\"entity\" style=\"background: #ddd; padding: 0.45em 0.6em; margin: 0 0.25em; line-height: 1; border-radius: 0.35em;\">\n",
              "    Иван Иваныч\n",
              "    <span style=\"font-size: 0.8em; font-weight: bold; line-height: 1; border-radius: 0.35em; vertical-align: middle; margin-left: 0.5rem\">PER</span>\n",
              "</mark>\n",
              ". - К-ге-ге!</br>     Опять отворилась дверь, и вошел хозяин со свечой. \n",
              "<mark class=\"entity\" style=\"background: #ddd; padding: 0.45em 0.6em; margin: 0 0.25em; line-height: 1; border-radius: 0.35em;\">\n",
              "    Гусь\n",
              "    <span style=\"font-size: 0.8em; font-weight: bold; line-height: 1; border-radius: 0.35em; vertical-align: middle; margin-left: 0.5rem\">PER</span>\n",
              "</mark>\n",
              " сидел в  прежней</br>позе, с разинутым клювом и растопырив крылья. Глаза у него закрыты.</br>     - Иван Иваныч! - позвал хозяин.</br>     Гусь не шевельнулся. Хозяин сел перед ним на  полу,  минуту  глядел  на</br>него молча и сказал:</br>     - Иван Иваныч! Что же это такое? Умираешь ты,  что  ли?  Ах,  я  теперь</br>вспомнил, вспомнил! - вскрикнул он и схватил  себя  за  голову.  -  Я  знаю,</br>отчего это! Это оттого, что сегодня на тебя наступила лошадь! Боже мой, боже</br>мой!</br>     Тетка не понимала, что говорит хозяин, но по его лицу видела, что и  он</br>ждет чего-то ужасного. Она протянула морду к темному окну,  в  которое,  как</br>казалось ей, глядел кто-то чужой, и завыла.</br>     - Он умирает, \n",
              "<mark class=\"entity\" style=\"background: #ddd; padding: 0.45em 0.6em; margin: 0 0.25em; line-height: 1; border-radius: 0.35em;\">\n",
              "    Тетка\n",
              "    <span style=\"font-size: 0.8em; font-weight: bold; line-height: 1; border-radius: 0.35em; vertical-align: middle; margin-left: 0.5rem\">PER</span>\n",
              "</mark>\n",
              "! - сказал хозяин и  всплеснул  руками.  -  Да,  да,</br>умирает! К вам в комнату пришла смерть. Что нам делать?</br>     Бледный, встревоженный хозяин, вздыхая и покачивая головой, вернулся  к</br>себе в спальню. Тетке жутко было оставаться в потемках, и она пошла за  ним.</br>Он сел на кровать и несколько раз повторил:</br>     - Боже мой, что же делать?</br>     Тетка ходила около его ног и, не понимая, отчего это у нее такая  тоска</br>и отчего все так беспокоятся, и  стараясь  понять,  следила  за  каждым  его</br>движением. \n",
              "<mark class=\"entity\" style=\"background: #ddd; padding: 0.45em 0.6em; margin: 0 0.25em; line-height: 1; border-radius: 0.35em;\">\n",
              "    Федор Тимофеич\n",
              "    <span style=\"font-size: 0.8em; font-weight: bold; line-height: 1; border-radius: 0.35em; vertical-align: middle; margin-left: 0.5rem\">PER</span>\n",
              "</mark>\n",
              ", редко покидавший  свой  матрасик,  тоже  вошел  в</br>спальню хозяина и стал тереться около его ног. Он  встряхивал  головой,  как</br>будто хотел вытряхнуть из нее тяжелые мысли, и подозрительно заглядывал  под</br>кровать.</br>     Хозяин взял блюдечко, налил в него из рукомойника воды и опять пошел  к</br>гусю.</br>     - Пей, \n",
              "<mark class=\"entity\" style=\"background: #ddd; padding: 0.45em 0.6em; margin: 0 0.25em; line-height: 1; border-radius: 0.35em;\">\n",
              "    Иван Иваныч\n",
              "    <span style=\"font-size: 0.8em; font-weight: bold; line-height: 1; border-radius: 0.35em; vertical-align: middle; margin-left: 0.5rem\">PER</span>\n",
              "</mark>\n",
              "! - сказал он нежно, ставя перед ним  блюдечко.  Пей,</br>голубчик.</br>     Но \n",
              "<mark class=\"entity\" style=\"background: #ddd; padding: 0.45em 0.6em; margin: 0 0.25em; line-height: 1; border-radius: 0.35em;\">\n",
              "    Иван Иваныч\n",
              "    <span style=\"font-size: 0.8em; font-weight: bold; line-height: 1; border-radius: 0.35em; vertical-align: middle; margin-left: 0.5rem\">PER</span>\n",
              "</mark>\n",
              " не шевелился и не  открывал  глаз.  Хозяин  пригнул  его</br>голову к блюдечку и окунул клюв в воду, но гусь не пил, еще шире  растопырил</br>крылья, и голова его так и осталась лежать в блюдечке.</br>     - Нет, ничего уже нельзя сделать! - вздохнул  хозяин.  -  Все  кончено.</br>Пропал иван \n",
              "<mark class=\"entity\" style=\"background: #ddd; padding: 0.45em 0.6em; margin: 0 0.25em; line-height: 1; border-radius: 0.35em;\">\n",
              "    Иваныч\n",
              "    <span style=\"font-size: 0.8em; font-weight: bold; line-height: 1; border-radius: 0.35em; vertical-align: middle; margin-left: 0.5rem\">PER</span>\n",
              "</mark>\n",
              "!</br>     И по его щекам поползли вниз блестящие капельки, какие бывают на  окнах</br>во время</br>     дождя. Не понимая, в чем дело, \n",
              "<mark class=\"entity\" style=\"background: #ddd; padding: 0.45em 0.6em; margin: 0 0.25em; line-height: 1; border-radius: 0.35em;\">\n",
              "    Тетка\n",
              "    <span style=\"font-size: 0.8em; font-weight: bold; line-height: 1; border-radius: 0.35em; vertical-align: middle; margin-left: 0.5rem\">PER</span>\n",
              "</mark>\n",
              " и \n",
              "<mark class=\"entity\" style=\"background: #ddd; padding: 0.45em 0.6em; margin: 0 0.25em; line-height: 1; border-radius: 0.35em;\">\n",
              "    Федор Тимофеич\n",
              "    <span style=\"font-size: 0.8em; font-weight: bold; line-height: 1; border-radius: 0.35em; vertical-align: middle; margin-left: 0.5rem\">PER</span>\n",
              "</mark>\n",
              " жались к нему и с</br>ужасом смотрели на гуся.</br>     - Бедный \n",
              "<mark class=\"entity\" style=\"background: #ddd; padding: 0.45em 0.6em; margin: 0 0.25em; line-height: 1; border-radius: 0.35em;\">\n",
              "    Иван Иваныч\n",
              "    <span style=\"font-size: 0.8em; font-weight: bold; line-height: 1; border-radius: 0.35em; vertical-align: middle; margin-left: 0.5rem\">PER</span>\n",
              "</mark>\n",
              "! - говорил хозяин,  печально  вздыхая.  -  А  я-то</br>мечтал, что весной повезу тебя на дачу и буду  гулять  с  тобой  по  зеленой</br>травке. Милое животное, хороший мой товарищ, тебя уже нет! Как же  я  теперь</br>буду обходиться без тебя?</br>     Тетке казалось, что и с нею случится то же самое, то есть что и она вот</br>так, неизвестно отчего, закроет глаза, протянет лапы, оскалит рот, и все  на</br>нее будут</br>     смотреть с ужасом. По-видимому, такие  же  мысли  бродили  и  в  голове</br>\n",
              "<mark class=\"entity\" style=\"background: #ddd; padding: 0.45em 0.6em; margin: 0 0.25em; line-height: 1; border-radius: 0.35em;\">\n",
              "    Федора Тимофеича\n",
              "    <span style=\"font-size: 0.8em; font-weight: bold; line-height: 1; border-radius: 0.35em; vertical-align: middle; margin-left: 0.5rem\">PER</span>\n",
              "</mark>\n",
              ". Никогда раньше старый кот не был так угрюм и  мрачен,  как</br>теперь.</br>     Начинался рассвет, и в комнатке уже не  было  того  невидимого  чужого,</br>который пугал так \n",
              "<mark class=\"entity\" style=\"background: #ddd; padding: 0.45em 0.6em; margin: 0 0.25em; line-height: 1; border-radius: 0.35em;\">\n",
              "    Тетку\n",
              "    <span style=\"font-size: 0.8em; font-weight: bold; line-height: 1; border-radius: 0.35em; vertical-align: middle; margin-left: 0.5rem\">PER</span>\n",
              "</mark>\n",
              ". Когда совсем рассвело, пришел дворник, взял гуся за</br>лапы и унес его куда-то. А немного погодя явилась старуха и вынесла корытце.</br>     Тетка пошла в гостиную и посмотрела за шкаф: хозяин не  скушал  куриной</br>лапки, она лежала на своем месте, в пыли и паутине. Но  Тетке  было  скучно,</br>грустно и хотелось плакать. Она даже не понюхала лапки, а пошла  под  диван,</br>села там и начала скулить тихо, тонким голоском:</br>     - Ску-ску-ску...</br></br></br></br></br>7. Неудачный дебют</br></br></br></br>     В один прекрасный вечер хозяин вошел в комнатку с  грязными  обоями  и,</br>потирая руки, сказал:</br>     - Ну-с...</br>     Что-то он хотел еще сказать, но  не  сказал  и  вышел.  Тетка,  отлично</br>изучившая во время уроков его лицо  и  интонацию,  догадалась,  что  он  был</br>взволнован, озабочен и,  кажется,  сердит.  Немного  погодя  он  вернулся  и</br>сказал:</br>     - Сегодня я возьму с собой  Тетку  и  \n",
              "<mark class=\"entity\" style=\"background: #ddd; padding: 0.45em 0.6em; margin: 0 0.25em; line-height: 1; border-radius: 0.35em;\">\n",
              "    Федора  Тимофеича\n",
              "    <span style=\"font-size: 0.8em; font-weight: bold; line-height: 1; border-radius: 0.35em; vertical-align: middle; margin-left: 0.5rem\">PER</span>\n",
              "</mark>\n",
              ".  В  египетской</br>пирамиде ты, \n",
              "<mark class=\"entity\" style=\"background: #ddd; padding: 0.45em 0.6em; margin: 0 0.25em; line-height: 1; border-radius: 0.35em;\">\n",
              "    Тетка\n",
              "    <span style=\"font-size: 0.8em; font-weight: bold; line-height: 1; border-radius: 0.35em; vertical-align: middle; margin-left: 0.5rem\">PER</span>\n",
              "</mark>\n",
              ", заменишь сегодня покойного  \n",
              "<mark class=\"entity\" style=\"background: #ddd; padding: 0.45em 0.6em; margin: 0 0.25em; line-height: 1; border-radius: 0.35em;\">\n",
              "    Ивана  Иваныча\n",
              "    <span style=\"font-size: 0.8em; font-weight: bold; line-height: 1; border-radius: 0.35em; vertical-align: middle; margin-left: 0.5rem\">PER</span>\n",
              "</mark>\n",
              ".  Черт  знает</br>что!  Ничего  не  готово,  не  выучено,  репетиций  было  мало!   Осрамимся,</br>провалимся!</br>     Затем он опять вышел и через минуту  вернулся  в  шубе  и  в  цилиндре.</br>Подойдя к коту, он взял его за передние лапы, поднял и спрятал его на  груди</br>под шубу,  причем  \n",
              "<mark class=\"entity\" style=\"background: #ddd; padding: 0.45em 0.6em; margin: 0 0.25em; line-height: 1; border-radius: 0.35em;\">\n",
              "    Федор\n",
              "    <span style=\"font-size: 0.8em; font-weight: bold; line-height: 1; border-radius: 0.35em; vertical-align: middle; margin-left: 0.5rem\">PER</span>\n",
              "</mark>\n",
              "  Тимофеич  казался  очень  равнодушным  и  даже  не</br>потрудился открыть глаз. Для него, по-видимому, было решительно  все  равно:</br>лежать ли, или  быть  поднятым  за  ноги,  валяться  ли  на  матрасике,  или</br>покоиться на груди хозяина под шубой...</br>     - Тетка, пойдем, - сказал хозяин.</br>     Ничего не понимая и виляя хвостом, \n",
              "<mark class=\"entity\" style=\"background: #ddd; padding: 0.45em 0.6em; margin: 0 0.25em; line-height: 1; border-radius: 0.35em;\">\n",
              "    Тетка\n",
              "    <span style=\"font-size: 0.8em; font-weight: bold; line-height: 1; border-radius: 0.35em; vertical-align: middle; margin-left: 0.5rem\">PER</span>\n",
              "</mark>\n",
              " пошла за ним. Через минуту она</br>уже сидела в санях около ног хозяина и слушала, ка он, пожимаясь от холода и</br>волнения, бормотал:</br>     - Осрамимся! Провалимся!</br>     Сани  остановились  около  большого   странного   дома,   похожего   на</br>опрокинутый супник. Длинный подъезд этого дома с тремя  стеклянными  дверями</br>был освещен дюжиной ярких фонарей. Двери со звоном отворялись  и,  как  рты,</br>глотали людей, которые  сновали  у  подъезда.  Людей  было  много,  часто  к</br>подъезду подбегали и лошади, но собак не было видно.</br>     Хозяин взял на руки \n",
              "<mark class=\"entity\" style=\"background: #ddd; padding: 0.45em 0.6em; margin: 0 0.25em; line-height: 1; border-radius: 0.35em;\">\n",
              "    Тетку\n",
              "    <span style=\"font-size: 0.8em; font-weight: bold; line-height: 1; border-radius: 0.35em; vertical-align: middle; margin-left: 0.5rem\">PER</span>\n",
              "</mark>\n",
              " и сунул ее на грудь, под шубу, где  находился</br>\n",
              "<mark class=\"entity\" style=\"background: #ddd; padding: 0.45em 0.6em; margin: 0 0.25em; line-height: 1; border-radius: 0.35em;\">\n",
              "    Федор Тимофеич\n",
              "    <span style=\"font-size: 0.8em; font-weight: bold; line-height: 1; border-radius: 0.35em; vertical-align: middle; margin-left: 0.5rem\">PER</span>\n",
              "</mark>\n",
              ". Тут было темно и душно, но тепло. На мгновение вспыхнули две</br>тусклые зеленые искорки - это  открыл  глаза  кот,  обеспокоенный  холодными</br>жесткими лапами соседки. Тетка лизнула его ухо и,  желая  усесться  возможно</br>удобнее, беспокойно задвигалась, смяла  его  под  себя  холодными  лапами  и</br>нечаянно высунула из-под шубы голову,  но  тотчас  же  сердито  заворчала  и</br>нырнула под шубу. Ей показалось, что она увидела громадную, плохо освещенную</br>комнату, полную чудовищ; из-за перегородок и решеток,  которые  тянулись  по</br>обе  стороны  комнаты,  выглядывали  страшные  рожи:   лошадиные,   рогатые,</br>длинноухие и какая-то одна толстая, громадная рожа с хвостом вместо носа и с</br>двумя длинными обглоданными костями, торчащими изо рта.</br>     Кот сипло замяукал под лапами \n",
              "<mark class=\"entity\" style=\"background: #ff9561; padding: 0.45em 0.6em; margin: 0 0.25em; line-height: 1; border-radius: 0.35em;\">\n",
              "    Тетки\n",
              "    <span style=\"font-size: 0.8em; font-weight: bold; line-height: 1; border-radius: 0.35em; vertical-align: middle; margin-left: 0.5rem\">LOC</span>\n",
              "</mark>\n",
              ", но в это время шуба  распахнулась,</br>хозяин сказал &quot;гоп!&quot;, и \n",
              "<mark class=\"entity\" style=\"background: #ddd; padding: 0.45em 0.6em; margin: 0 0.25em; line-height: 1; border-radius: 0.35em;\">\n",
              "    Федор Тимофеич\n",
              "    <span style=\"font-size: 0.8em; font-weight: bold; line-height: 1; border-radius: 0.35em; vertical-align: middle; margin-left: 0.5rem\">PER</span>\n",
              "</mark>\n",
              " и \n",
              "<mark class=\"entity\" style=\"background: #ddd; padding: 0.45em 0.6em; margin: 0 0.25em; line-height: 1; border-radius: 0.35em;\">\n",
              "    Теткою\n",
              "    <span style=\"font-size: 0.8em; font-weight: bold; line-height: 1; border-radius: 0.35em; vertical-align: middle; margin-left: 0.5rem\">PER</span>\n",
              "</mark>\n",
              " прыгнули  на  пол.  Они  уже</br>были в маленькой комнате серыми  дощатыми  стенами;  тут,  кроме  небольшого</br>столика с зеркалом, табурета  и  тряпья,  развешанного  по  углам,  не  было</br>никакой другой мебели, и, вместо лампы или свечи, горел яркий  веерообразный</br>огонек, приделанный к тумбочке, вбитой в стену. \n",
              "<mark class=\"entity\" style=\"background: #ddd; padding: 0.45em 0.6em; margin: 0 0.25em; line-height: 1; border-radius: 0.35em;\">\n",
              "    Федор Тимофеич\n",
              "    <span style=\"font-size: 0.8em; font-weight: bold; line-height: 1; border-radius: 0.35em; vertical-align: middle; margin-left: 0.5rem\">PER</span>\n",
              "</mark>\n",
              " облизал  свою</br>шубу, помятую \n",
              "<mark class=\"entity\" style=\"background: #ddd; padding: 0.45em 0.6em; margin: 0 0.25em; line-height: 1; border-radius: 0.35em;\">\n",
              "    Теткой\n",
              "    <span style=\"font-size: 0.8em; font-weight: bold; line-height: 1; border-radius: 0.35em; vertical-align: middle; margin-left: 0.5rem\">PER</span>\n",
              "</mark>\n",
              ", пошел под табурет и лег. Хозяин, все еще  волнуясь,  и</br>потирая  руки,  стал  раздеваться...  Он  разделся  так,   как   обыкновенно</br>раздевался у себя дома, готовясь лечь под байковое одеяло, то есть снял все,</br>кроме белья, потом сел на табурет и, глядя в зеркало, начал  выделывать  над</br>собой удивительные штуки. Прежде всего он надел на голову парик с пробором и</br>с двумя вихрами, похожими на рога, потом густо намазал лицо чем-то  белым  и</br>сверх белой краски нарисовал еще брови, усы и  румяны.  Затеи  его  этим  не</br>кончились.  Опачкавши  лицо  и  шею,   он   стал   облачаться   в   какой-то</br>необыкновенный, ни с чем не  сообразный  костюм,  какого  Тетка  никогда  не</br>видала раньше ни в домах,  ни  на  улице.  Представьте  вы  себе  широчайшие</br>панталоны, сшитые  из  ситца  с  крупными  цветами,  какой  употребляется  в</br>мещанских  домах  для  занавесок  и  обивки   мебели,   панталоны,   которые</br>застегиваются у самых подмышек; одна панталона сшита из  коричневого  ситца,</br>другая из светло-желтого. Утонувши в них, хозяин надел еще ситцевую курточку</br>с большим зубчатым воротником и с золотой  звездой  на  спине,  разноцветные</br>чулки и зеленые башмаки...</br>     У \n",
              "<mark class=\"entity\" style=\"background: #ff9561; padding: 0.45em 0.6em; margin: 0 0.25em; line-height: 1; border-radius: 0.35em;\">\n",
              "    Тетки\n",
              "    <span style=\"font-size: 0.8em; font-weight: bold; line-height: 1; border-radius: 0.35em; vertical-align: middle; margin-left: 0.5rem\">LOC</span>\n",
              "</mark>\n",
              " запестрило в глазах и в душе. От  белолицей  мешковатой  фигуры</br>пахло хозяином, голос у нее был тоже знакомый, хозяйский, но бывали  минуты,</br>когда \n",
              "<mark class=\"entity\" style=\"background: #ddd; padding: 0.45em 0.6em; margin: 0 0.25em; line-height: 1; border-radius: 0.35em;\">\n",
              "    Тетку\n",
              "    <span style=\"font-size: 0.8em; font-weight: bold; line-height: 1; border-radius: 0.35em; vertical-align: middle; margin-left: 0.5rem\">PER</span>\n",
              "</mark>\n",
              " мучили сомнения, и тогда  она  готова  была  бежать  от  пестрой</br>фигуры и лаять.  Новое  место,  веерообразный  огонек,  запах,  метаморфоза,</br>случившаяся с хозяином, - все это  вселяло  в  нее  неопределенный  страх  и</br>предчувствие, что она непременно встретится  с  каким-нибудь  ужасом,  вроде</br>толстой рожи с хвостом вместо носа. А тут еще где-то за стеной далеко играла</br>ненавистная музыка и  слышался  временами  непонятный  рев.  Одно  только  и</br>успокаивало ее - это невозмутимость \n",
              "<mark class=\"entity\" style=\"background: #ddd; padding: 0.45em 0.6em; margin: 0 0.25em; line-height: 1; border-radius: 0.35em;\">\n",
              "    Федора Тимофеича\n",
              "    <span style=\"font-size: 0.8em; font-weight: bold; line-height: 1; border-radius: 0.35em; vertical-align: middle; margin-left: 0.5rem\">PER</span>\n",
              "</mark>\n",
              ". Он преспокойно  дремал</br>под табуретом и не открывал глаз, даже когда двигался табурет.</br>     Какой-то человек во фраке и в  белой  жилетке  заглянул  в  комнатку  и</br>сказал:</br>     - Сейчас выход мисс \n",
              "<mark class=\"entity\" style=\"background: #ddd; padding: 0.45em 0.6em; margin: 0 0.25em; line-height: 1; border-radius: 0.35em;\">\n",
              "    Арабеллы\n",
              "    <span style=\"font-size: 0.8em; font-weight: bold; line-height: 1; border-radius: 0.35em; vertical-align: middle; margin-left: 0.5rem\">PER</span>\n",
              "</mark>\n",
              ". После нее - вы.</br>     Хозяин ничего не ответил. Он вытащил из-под  стола  небольшой  чемодан,</br>сел и стал ждать. По губам и по рукам его было заметно, что он волновался, и</br>Тетка слышала, как дрожало его дыхание.</br>     - M-r \n",
              "<mark class=\"entity\" style=\"background: #ddd; padding: 0.45em 0.6em; margin: 0 0.25em; line-height: 1; border-radius: 0.35em;\">\n",
              "    Жорж\n",
              "    <span style=\"font-size: 0.8em; font-weight: bold; line-height: 1; border-radius: 0.35em; vertical-align: middle; margin-left: 0.5rem\">PER</span>\n",
              "</mark>\n",
              ", пожалуйте! - крикнул кто-то за дверью.</br>     Хозяин встал и три раза перекрестился,  потом  достал  из-под  табурета</br>кота и сунул его в чемодан.</br>     - Иди, Тетка! - сказал он тихо.</br>     Тетка, ничего не понимая, подошла к его рукам; он поцеловал ее в голову</br>и положил рядом с  \n",
              "<mark class=\"entity\" style=\"background: #ddd; padding: 0.45em 0.6em; margin: 0 0.25em; line-height: 1; border-radius: 0.35em;\">\n",
              "    Федором  Тимофеичем\n",
              "    <span style=\"font-size: 0.8em; font-weight: bold; line-height: 1; border-radius: 0.35em; vertical-align: middle; margin-left: 0.5rem\">PER</span>\n",
              "</mark>\n",
              ".  \n",
              "<mark class=\"entity\" style=\"background: #ddd; padding: 0.45em 0.6em; margin: 0 0.25em; line-height: 1; border-radius: 0.35em;\">\n",
              "    Засим\n",
              "    <span style=\"font-size: 0.8em; font-weight: bold; line-height: 1; border-radius: 0.35em; vertical-align: middle; margin-left: 0.5rem\">PER</span>\n",
              "</mark>\n",
              "  наступили  потемки...  Тетка</br>топталась по коту, царапала стенки чемодана и от ужаса не  могла  произнести</br>ни звука, а чемодан покачивался, как на волнах, и дрожал...</br>     - А вот и я! - громко крикнул хозяин. - А вот и я!</br>     Тетка почувствовала, что после этого крика чемодан  ударился  о  что-то</br>твердое и перестал  качаться.  Послышался  громкий  густой  рев:  по  ком-то</br>хлопали, и этот кто-то, вероятно рожа с хвостом вместо носа, ревел и хохотал</br>так громко, что задрожали замочки  у  чемодана.  В  ответ  на  рев  раздался</br>пронзительный, визгливый смех хозяина, каким он никогда не смеялся дома.</br>     - Га! - крикнул он, стараясь перекричать рев. - Почтеннейшая публика! Я</br>сейчас только с вокзала! У меня издохла бабушка и оставила мне наследство! В</br>чемодане что очень  тяжелое  -  очевидно,  золото...  Га-а!  И  вдруг  здесь</br>миллион! Сейчас мы откроем и посмотрим...</br>     В чемодане щелкнул замок.  Яркий  свет  ударил  Тетку  по  глазам;  она</br>прыгнула вон из чемодана и, оглушенная ревом, быстро, во всю прыть  забегала</br>вокруг своего хозяина и залилась звонким лаем.</br>     - Га! - закричал хозяин. - Дядюшка  \n",
              "<mark class=\"entity\" style=\"background: #ddd; padding: 0.45em 0.6em; margin: 0 0.25em; line-height: 1; border-radius: 0.35em;\">\n",
              "    Федор  Тимофеич\n",
              "    <span style=\"font-size: 0.8em; font-weight: bold; line-height: 1; border-radius: 0.35em; vertical-align: middle; margin-left: 0.5rem\">PER</span>\n",
              "</mark>\n",
              "!  Дорогая  Тетушка!</br>Милые родственники, черт бы вас взял!</br>     Он упал животом на песок, схватил кота и \n",
              "<mark class=\"entity\" style=\"background: #ddd; padding: 0.45em 0.6em; margin: 0 0.25em; line-height: 1; border-radius: 0.35em;\">\n",
              "    Тетку\n",
              "    <span style=\"font-size: 0.8em; font-weight: bold; line-height: 1; border-radius: 0.35em; vertical-align: middle; margin-left: 0.5rem\">PER</span>\n",
              "</mark>\n",
              " и принялся обнимать  их.</br>Тетка, пока он тискал ее в своих  объятиях,  мельком  оглядела  тот  мир,  в</br>который занесла ее судьба,  и,  пораженная  его  грандиозностью,  на  минуту</br>застыла от удивления и восторга, потом вырвалась из  объятий  хозяина  и  от</br>остроты впечатления, как волчок, закружилась на одном месте. Новый  мир  был</br>велик и полон яркого света; куда ни взглянешь, всюду, от  пола  до  потолка,</br>видны были одни только лица, лица, лица и больше ничего.</br>     - Тетушка, прошу вас сесть! - крикнул хозяин.</br>     Помня, что это значит, \n",
              "<mark class=\"entity\" style=\"background: #ddd; padding: 0.45em 0.6em; margin: 0 0.25em; line-height: 1; border-radius: 0.35em;\">\n",
              "    Тетка\n",
              "    <span style=\"font-size: 0.8em; font-weight: bold; line-height: 1; border-radius: 0.35em; vertical-align: middle; margin-left: 0.5rem\">PER</span>\n",
              "</mark>\n",
              " вскочила на стул и села. Она поглядела  на</br>хозяина. Глаза его, как всегда, глядели  серьезно  и  ласково,  но  лицо,  в</br>особенности рот и зубы, были изуродованы широкой неподвижной улыбкой. Сам он</br>хохотал, прыгал, подергивал плечами и делал вид,  что  ему  очень  весело  в</br>присутствии тысячей лиц. Тетка поверила его веселости,  вдруг  почувствовала</br>всем своим телом, что на нее смотрят эти  тысячи  лиц,  подняла  вверх  свою</br>лисью морду и радостно завыла.</br>     - Вы, \n",
              "<mark class=\"entity\" style=\"background: #ff9561; padding: 0.45em 0.6em; margin: 0 0.25em; line-height: 1; border-radius: 0.35em;\">\n",
              "    Тетушка\n",
              "    <span style=\"font-size: 0.8em; font-weight: bold; line-height: 1; border-radius: 0.35em; vertical-align: middle; margin-left: 0.5rem\">LOC</span>\n",
              "</mark>\n",
              ", посидите, - сказал ей хозяин, - а мы с дядюшкой попляшем</br>камаринского.</br>     \n",
              "<mark class=\"entity\" style=\"background: #ddd; padding: 0.45em 0.6em; margin: 0 0.25em; line-height: 1; border-radius: 0.35em;\">\n",
              "    Федор Тимофеич\n",
              "    <span style=\"font-size: 0.8em; font-weight: bold; line-height: 1; border-radius: 0.35em; vertical-align: middle; margin-left: 0.5rem\">PER</span>\n",
              "</mark>\n",
              " в ожидании, когда его заставят делать глупости, стоял  и</br>равнодушно поглядывал по сторонам. Плясал он вяло, небрежно, угрюмо, и видно</br>было по его движениям, по хвосту и по усам, что он глубоко презирал и толпу,</br>и яркий свет, и хозяина, и себя... Протанцевав свою порцию, он зевнул и сел.</br>     - Ну-с, \n",
              "<mark class=\"entity\" style=\"background: #ddd; padding: 0.45em 0.6em; margin: 0 0.25em; line-height: 1; border-radius: 0.35em;\">\n",
              "    Тетушка\n",
              "    <span style=\"font-size: 0.8em; font-weight: bold; line-height: 1; border-radius: 0.35em; vertical-align: middle; margin-left: 0.5rem\">PER</span>\n",
              "</mark>\n",
              ", - сказал хозяин, - сначала мы с вами  споем,  а  потом</br>попляшем. Хорошо?</br>     Он вынул из  кармана  дудочку  и  заиграл.  Тетка,  не  вынося  музыки,</br>беспокойно задвигалась на стуле и завыла. Со всех сторон послышались  рев  и</br>аплодисменты. Хозяин поклонился и, когда все стихло, продолжал играть...  Во</br>время исполнения одной очень  высокой  ноты  где-то  наверху  среди  публики</br>кто-то громко ахнул.</br>     - Тятька! - крикнул детский голос. - А ведь это \n",
              "<mark class=\"entity\" style=\"background: #7aecec; padding: 0.45em 0.6em; margin: 0 0.25em; line-height: 1; border-radius: 0.35em;\">\n",
              "    Каштанка\n",
              "    <span style=\"font-size: 0.8em; font-weight: bold; line-height: 1; border-radius: 0.35em; vertical-align: middle; margin-left: 0.5rem\">ORG</span>\n",
              "</mark>\n",
              "!</br>     - Каштанка  и  есть!  -  подтвердил  пьяненький,  дребезжащий  тенорок.</br>Каштанка! Федюшка, это, накажи бог, \n",
              "<mark class=\"entity\" style=\"background: #7aecec; padding: 0.45em 0.6em; margin: 0 0.25em; line-height: 1; border-radius: 0.35em;\">\n",
              "    Каштанка\n",
              "    <span style=\"font-size: 0.8em; font-weight: bold; line-height: 1; border-radius: 0.35em; vertical-align: middle; margin-left: 0.5rem\">ORG</span>\n",
              "</mark>\n",
              "! Фюйть!</br>     Кто-то на галерее свистнул,  и  два  голоса,  один  -  детский,  другой</br>мужской, громко позвали:</br>     - Каштанка! Каштанка!</br>     Тетка вздрогнула  и  посмотрела  туда,  где  кричали.  Два  лица:  одно</br>волосатое, пьяное и ухмыляющееся, другое - пухлое, краснощекое и испуганное,</br>ударили по ее глазам, как раньше ударил яркий свет... Она  вспомнила,  упала</br>со стула и забилась на песке, потом вскочила и с радостным визгом  бросилась</br>к этим лицам. Раздался оглушительный рев, пронизанный насквозь  свистками  и</br>пронзительным детским криком:</br>     - Каштанка! Каштанка!</br>     Тетка прыгнула через барьер, потом  через  чье-то  плечо,  очутилась  в</br>ложе; чтобы попасть в следующий ярус, нужно было перескочить высокую  стену;</br>Тетка прыгнула, но не допрыгнула  и  поползла  назад  по  стене.  Затем  она</br>переходила с рук на руки, лизала чьи-то руки и лица, подвигалась все выше  и</br>выше и, наконец, попала на галерку...</br>     Спустя полчаса \n",
              "<mark class=\"entity\" style=\"background: #7aecec; padding: 0.45em 0.6em; margin: 0 0.25em; line-height: 1; border-radius: 0.35em;\">\n",
              "    Каштанка\n",
              "    <span style=\"font-size: 0.8em; font-weight: bold; line-height: 1; border-radius: 0.35em; vertical-align: middle; margin-left: 0.5rem\">ORG</span>\n",
              "</mark>\n",
              " шла уже по улице за людьми,  от  которых  пахло</br>клеем и  лаком.  Лука  Александрыч  покачивался  и  инстинктивно,  наученный</br>опытом, старался держаться подальше от канавы.</br>     - В бездне греховней валяюся во утробе моей... - бормотал он. -  А  ты,</br>Каштанка, - недоумение. Супротив человека ты все равно, что плотник супротив</br>столяра.</br>     Рядом с ним шагал \n",
              "<mark class=\"entity\" style=\"background: #ddd; padding: 0.45em 0.6em; margin: 0 0.25em; line-height: 1; border-radius: 0.35em;\">\n",
              "    Федюшка\n",
              "    <span style=\"font-size: 0.8em; font-weight: bold; line-height: 1; border-radius: 0.35em; vertical-align: middle; margin-left: 0.5rem\">PER</span>\n",
              "</mark>\n",
              " в  отцовском  картузе.  Каштанка  глядела  им</br>обоим в спины, и ей казалось, что она давно уже идет за ними и радуется, что</br>жизнь ее не обрывалась ни на минуту.</br>     Вспомнила она комнатку  с  грязными  обоями,  гуся,  \n",
              "<mark class=\"entity\" style=\"background: #ddd; padding: 0.45em 0.6em; margin: 0 0.25em; line-height: 1; border-radius: 0.35em;\">\n",
              "    Федора  Тимофеича\n",
              "    <span style=\"font-size: 0.8em; font-weight: bold; line-height: 1; border-radius: 0.35em; vertical-align: middle; margin-left: 0.5rem\">PER</span>\n",
              "</mark>\n",
              ",</br>вкусные обеды, ученье, цирк,  но  все  это  представлялось  ей  теперь,  как</br>длинный, перепутанный, тяжелый сон...</div></span>"
            ]
          },
          "metadata": {}
        }
      ]
    },
    {
      "cell_type": "markdown",
      "source": [
        "# Различные паттерны"
      ],
      "metadata": {
        "id": "gn6OQyyY-C4O"
      }
    },
    {
      "cell_type": "code",
      "source": [
        "from spacy.matcher import Matcher \n",
        "matcher = Matcher(nlp.vocab)"
      ],
      "metadata": {
        "id": "x99fCu0E-HUc"
      },
      "execution_count": null,
      "outputs": []
    },
    {
      "cell_type": "markdown",
      "source": [
        "Имя собственное + глагол"
      ],
      "metadata": {
        "id": "lwaCNosw-LE0"
      }
    },
    {
      "cell_type": "code",
      "source": [
        "my_pattern=[{\"POS\": \"PROPN\"}, {\"POS\": \"VERB\"}] "
      ],
      "metadata": {
        "id": "n6CD6XTL-MWr"
      },
      "execution_count": null,
      "outputs": []
    },
    {
      "cell_type": "code",
      "source": [
        "matcher.add(\"VersionFinder\", [my_pattern])"
      ],
      "metadata": {
        "id": "nVTyaQ0L-SqM"
      },
      "execution_count": null,
      "outputs": []
    },
    {
      "cell_type": "code",
      "source": [
        "desired_matches = matcher(doc)"
      ],
      "metadata": {
        "id": "rENDOapN-ea9"
      },
      "execution_count": null,
      "outputs": []
    },
    {
      "cell_type": "code",
      "source": [
        "for i in desired_matches:\n",
        "  match = doc[i[1]:i[2]]\n",
        "  print(match.text)"
      ],
      "metadata": {
        "colab": {
          "base_uri": "https://localhost:8080/"
        },
        "id": "C4FTuD9H-kVe",
        "outputId": "d842ae5c-b123-4d46-ea1e-25fd540a7d03"
      },
      "execution_count": null,
      "outputs": [
        {
          "output_type": "stream",
          "name": "stdout",
          "text": [
            "День начался\n",
            "Александрыча жили\n",
            "сердито кричал\n",
            "Александрыч зашел\n",
            "Каштанка попала\n",
            "негодяй прошел\n",
            "Каштанка бегала\n",
            "Каштанка делила\n",
            "Александрычем утомило\n",
            "Каштанка взвизгнула\n",
            "Каштанка поглядела\n",
            "Каштанка съела\n",
            "Каштанка сидела\n",
            "Каштанка проснулась\n",
            "Каштанка вошла\n",
            "П висел\n",
            "Гусь подошел\n",
            "Иваныч вытянул\n",
            "Иваныч подбежал\n",
            "Гусь взял\n",
            "Тимофеич вяло\n",
            "Иваныч пошатнулся\n",
            "Иваныча ездить\n",
            "Ученье кончилось\n",
            "Каштанка думала\n",
            "Каштанка начинала\n",
            "Тетка ложилась\n",
            "Тетка виляла\n",
            "Тетке приснился\n",
            "Тетка стала\n",
            "Иваныч сидел\n",
            "Гусь молчал\n",
            "Тимофеич жались\n",
            "Тетке казалось\n",
            "Тетка пошла\n",
            "Теткою прыгнули\n",
            "Тимофеич облизал\n",
            "Тетки запестрило\n",
            "Тетку мучили\n",
            "Тетка вскочила\n",
            "Каштанка шла\n"
          ]
        }
      ]
    },
    {
      "cell_type": "code",
      "source": [
        "matcher.remove(\"VersionFinder\") # удаляем предыдущий паттерн из мэтчера"
      ],
      "metadata": {
        "id": "Ubafujdy_b38"
      },
      "execution_count": null,
      "outputs": []
    },
    {
      "cell_type": "markdown",
      "source": [
        "**Именнованная сущность (персона) + глагол**"
      ],
      "metadata": {
        "id": "zllwFb9__zfc"
      }
    },
    {
      "cell_type": "code",
      "source": [
        "my_pattern= [{\"ENT_TYPE\": \"PER\"}, {\"POS\" : \"VERB\"}]\n",
        "matcher.add(\"EntFinder\", [my_pattern])\n",
        "desired_matches = matcher(doc)\n",
        "for i in desired_matches:\n",
        "  match = doc[i[1]:i[2]]\n",
        "  print(match.text)\n",
        "\n",
        "matcher.remove(\"EntFinder\")"
      ],
      "metadata": {
        "id": "AIwoPNYY_yUq",
        "colab": {
          "base_uri": "https://localhost:8080/"
        },
        "outputId": "e3cdd04d-9b4c-4e23-d06a-4d97be4928bb"
      },
      "execution_count": null,
      "outputs": [
        {
          "output_type": "stream",
          "name": "stdout",
          "text": [
            "Александрыча жили\n",
            "сердито кричал\n",
            "Александрыч зашел\n",
            "Каштанка проснулась\n",
            "Каштанка вошла\n",
            "Иваныч вытянул\n",
            "Иваныч подбежал\n",
            "Иваныч пошатнулся\n",
            "Иваныча ездить\n",
            "Каштанка думала\n",
            "Каштанка начинала\n",
            "Тетка ложилась\n",
            "Тетка виляла\n",
            "Тетка стала\n",
            "Иваныч сидел\n",
            "Гусь сидел\n",
            "Тимофеич жались\n",
            "Тетка пошла\n",
            "Теткою прыгнули\n",
            "Тимофеич облизал\n",
            "Тетку мучили\n",
            "Тетка вскочила\n"
          ]
        }
      ]
    },
    {
      "cell_type": "markdown",
      "source": [
        "**Прилагательное + существительное**"
      ],
      "metadata": {
        "id": "NO5lAok6-pRN"
      }
    },
    {
      "cell_type": "code",
      "source": [
        "my_pattern= [{\"POS\" : \"ADJ\"}, {\"POS\" : \"NOUN\"}]\n",
        "matcher.add(\"AdjectiveFinder\", [my_pattern])\n",
        "desired_matches = matcher(doc)\n",
        "for i in desired_matches:\n",
        "  match = doc[i[1]:i[2]]\n",
        "  print(match.text)\n",
        "\n",
        "matcher.remove(\"AdjectiveFinder\")"
      ],
      "metadata": {
        "colab": {
          "base_uri": "https://localhost:8080/"
        },
        "id": "DJKXkSlb-yYW",
        "outputId": "5e56b19c-253b-4809-cff2-428a97d9207d"
      },
      "execution_count": null,
      "outputs": [
        {
          "output_type": "stream",
          "name": "stdout",
          "text": [
            "Дурное поведение\n",
            "рыжая собака\n",
            "дворняжкой -\n",
            "похожая мордой\n",
            "незнакомый тротуар\n",
            "незнакомый тротуар\n",
            "добродушный тон\n",
            "насекомое существо\n",
            "другой тротуар\n",
            "лошадиные спины\n",
            "неравные части\n",
            "Таинственный незнакомец\n",
            "подъездная дверь\n",
            "толстенького человечка\n",
            "душевную нотку\n",
            "куриных костей\n",
            "неразжеванные куски\n",
            "приятную истому\n",
            "важное преимущество\n",
            "новый хозяин\n",
            "маленький матрасик\n",
            "уютное местечко\n",
            "задние лапы\n",
            "задних лапах\n",
            "следующий фокус\n",
            "громким смехом\n",
            "старый пудель\n",
            "приятное знакомство\n",
            "байковым одеялом\n",
            "подозрительный запах\n",
            "маленькую комнатку\n",
            "серый гусь\n",
            "визгливым лаем\n",
            "сердитый голос\n",
            "выгнутой спине\n",
            "старая каналья\n",
            "умный гусь\n",
            "маленькое корытце\n",
            "моченый горох\n",
            "незнакомая собака\n",
            "странную вещь\n",
            "ожидательной позе\n",
            "неважных фокусов\n",
            "данном случае\n",
            "другую веревочку\n",
            "оглушительный выстрел\n",
            "Целый час\n",
            "храбрый вид\n",
            "некрасивую свинью\n",
            "египетской пирамиды\n",
            "явным пренебрежением\n",
            "египетской пирамидой\n",
            "впечатлений день\n",
            "надоедливого болтуна\n",
            "вкусный обед\n",
            "неясные фигуры\n",
            "разным выходкам\n",
            "первый урок\n",
            "задних лапах\n",
            "второй урок\n",
            "задних лапах\n",
            "следующие уроки\n",
            "египетской пирамиде\n",
            "удавшийся фокус\n",
            "Несомненный талант\n",
            "Беспокойная ночь\n",
            "собачий сон\n",
            "соседней комнате\n",
            "куриную лапку\n",
            "странный крик\n",
            "больший страх\n",
            "черные собаки\n",
            "большой лохани\n",
            "белый пар\n",
            "вкусный запах\n",
            "пронзительный крик\n",
            "передние лапы\n",
            "зеленые искорки\n",
            "первый раз\n",
            "разные голоса\n",
            "разинутым клювом\n",
            "темному окну\n",
            "тяжелые мысли\n",
            "Милое животное\n",
            "старый кот\n",
            "тонким голоском\n",
            "Неудачный дебют\n",
            "прекрасный вечер\n",
            "потирая руки\n",
            "передние лапы\n",
            "Длинный подъезд\n",
            "ярких фонарей\n",
            "зеленые искорки\n",
            "жесткими лапами\n",
            "полную чудовищ\n",
            "громадная рожа\n",
            "обглоданными костями\n",
            "маленькой комнате\n",
            "другой мебели\n",
            "байковое одеяло\n",
            "удивительные штуки\n",
            "белой краски\n",
            "самых подмышек\n",
            "ситцевую курточку\n",
            "зеленые башмаки\n",
            "толстой рожи\n",
            "ненавистная музыка\n",
            "визгливый смех\n",
            "Почтеннейшая публика\n",
            "звонким лаем\n",
            "Милые родственники\n",
            "яркого света\n",
            "неподвижной улыбкой\n",
            "дядюшкой попляшем\n",
            "яркий свет\n",
            "детский голос\n",
            "яркий свет\n",
            "радостным визгом\n",
            "оглушительный рев\n",
            "детским криком\n",
            "следующий ярус\n",
            "вкусные обеды\n",
            "тяжелый сон\n"
          ]
        }
      ]
    },
    {
      "cell_type": "code",
      "source": [
        ""
      ],
      "metadata": {
        "id": "qL1-IrMPDe_t"
      },
      "execution_count": null,
      "outputs": []
    }
  ]
}