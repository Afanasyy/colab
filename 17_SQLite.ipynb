{
  "cells": [
    {
      "cell_type": "markdown",
      "metadata": {
        "id": "view-in-github",
        "colab_type": "text"
      },
      "source": [
        "<a href=\"https://colab.research.google.com/github/Alvald1/HSE_colab/blob/main/17_SQLite.ipynb\" target=\"_parent\"><img src=\"https://colab.research.google.com/assets/colab-badge.svg\" alt=\"Open In Colab\"/></a>"
      ]
    },
    {
      "cell_type": "markdown",
      "metadata": {
        "id": "804Y3LGX5sGl"
      },
      "source": [
        "# Использование СУБД SQLite\n",
        "\n",
        "SQLite - компактная встраиваемая СУБД. SQLite хранит всю базу данных (включая определения, таблицы, индексы и данные) в единственном стандартном файле на том компьютере, на котором исполняется программа. https://ru.wikipedia.org/wiki/SQLite"
      ]
    },
    {
      "cell_type": "code",
      "execution_count": null,
      "metadata": {
        "id": "o6ipiWpw5sGt"
      },
      "outputs": [],
      "source": [
        "import sqlite3\n",
        " \n",
        "conn = sqlite3.connect(\"mydatabase.db\") # или :memory: чтобы сохранить в RAM\n",
        "cursor = conn.cursor()"
      ]
    },
    {
      "cell_type": "markdown",
      "metadata": {
        "id": "1DkdU5ZK5sGu"
      },
      "source": [
        "SQL — декларативный язык программирования, применяемый для создания, модификации и управления данными в реляционной базе данных. https://ru.wikipedia.org/wiki/SQL\n",
        "\n",
        "Основной набор операций:\n",
        "* создание в базе данных новой таблицы;\n",
        "* добавление в таблицу новых записей;\n",
        "* изменение записей;\n",
        "* удаление записей;\n",
        "* выборка записей из одной или нескольких таблиц (в соответствии с заданным условием);\n",
        "* изменение структур таблиц."
      ]
    },
    {
      "cell_type": "markdown",
      "metadata": {
        "id": "_mvuP1mZ5sGu"
      },
      "source": [
        "### Создание новой таблицы"
      ]
    },
    {
      "cell_type": "code",
      "execution_count": null,
      "metadata": {
        "id": "xi3_XH-c5sGu",
        "outputId": "7d0b09d6-c63a-466d-8f7a-b681174ab401"
      },
      "outputs": [
        {
          "data": {
            "text/plain": [
              "<sqlite3.Cursor at 0x1cfdae74420>"
            ]
          },
          "execution_count": 2,
          "metadata": {},
          "output_type": "execute_result"
        }
      ],
      "source": [
        "import sqlite3\n",
        " \n",
        "conn = sqlite3.connect(\"mydatabase.db\") # или :memory: чтобы сохранить в RAM\n",
        "cursor = conn.cursor()\n",
        "# Создание таблицы\n",
        "cursor.execute(\"\"\"CREATE TABLE albums\n",
        "                  (artist, title text, label text,\n",
        "                   units_mln int, year int)\n",
        "               \"\"\")\n",
        "\n",
        "# cursor.execute(\"\"\"DROP TABLE albums\"\"\")"
      ]
    },
    {
      "cell_type": "markdown",
      "metadata": {
        "id": "b3BYAkWY5sGv"
      },
      "source": [
        "### Удаление таблицы "
      ]
    },
    {
      "cell_type": "code",
      "execution_count": null,
      "metadata": {
        "id": "Dic2gRnA5sGv"
      },
      "outputs": [],
      "source": [
        "cursor.execute(\"\"\"DROP TABLE albums\"\"\")"
      ]
    },
    {
      "cell_type": "code",
      "execution_count": null,
      "metadata": {
        "id": "wdWNRuPF5sGv",
        "outputId": "2cfce75d-ae58-4d9f-969b-be008c7955ac"
      },
      "outputs": [
        {
          "data": {
            "text/plain": [
              "<sqlite3.Cursor at 0x1cfdae74420>"
            ]
          },
          "execution_count": 3,
          "metadata": {},
          "output_type": "execute_result"
        }
      ],
      "source": [
        "cursor.execute(\"\"\"DROP TABLE IF EXISTS albums\"\"\")"
      ]
    },
    {
      "cell_type": "code",
      "execution_count": null,
      "metadata": {
        "id": "rX3fMDwU5sGw",
        "outputId": "58d34859-4a58-4911-e70c-eb32d6116a95"
      },
      "outputs": [
        {
          "data": {
            "text/plain": [
              "<sqlite3.Cursor at 0x1cfdae74420>"
            ]
          },
          "execution_count": 4,
          "metadata": {},
          "output_type": "execute_result"
        }
      ],
      "source": [
        "cursor.execute(\"\"\"CREATE TABLE albums\n",
        "                  (id INTEGER PRIMARY KEY, artist, title text, label text,\n",
        "                   units_mln int, year int)\n",
        "               \"\"\")"
      ]
    },
    {
      "cell_type": "markdown",
      "metadata": {
        "id": "p0N56OCa5sGw"
      },
      "source": [
        "### Добавление данных"
      ]
    },
    {
      "cell_type": "code",
      "execution_count": null,
      "metadata": {
        "id": "wIzmFIty5sGw"
      },
      "outputs": [],
      "source": [
        "# Вставляем данные в таблицу\n",
        "cursor.execute(\n",
        "    \"\"\"INSERT INTO albums(artist, title, label, units_mln, year) VALUES (?, ?, ?, ?, ?)\"\"\", \n",
        "    ('Pink Floyd', 'The Wall', 'Columbia Records', 23, 1979)\n",
        ")# Безопасный метод \"?\"\n",
        "\n",
        "# Сохраняем изменения\n",
        "conn.commit()"
      ]
    },
    {
      "cell_type": "code",
      "execution_count": null,
      "metadata": {
        "id": "WjB5rIwt5sGx"
      },
      "outputs": [],
      "source": [
        "# Вставляем множество данных в таблицу используя безопасный метод \"?\"\n",
        "albums = [('Pink Floyd', 'The Wall', 'Columbia Records', 23, 1979),\n",
        "          ('Pink Floyd', 'The Wall', 'Columbia Records', 23, 1979),\n",
        "          ('Pink Floyd', 'The Wall', 'Columbia Records', 23, 1979)]\n",
        " \n",
        "cursor.executemany(\n",
        "    \"INSERT INTO albums(artist, title, label, units_mln, year) VALUES (?,?,?,?,?)\", \n",
        "    albums\n",
        ")\n",
        "conn.commit()"
      ]
    },
    {
      "cell_type": "markdown",
      "metadata": {
        "id": "RYULBDc25sGx"
      },
      "source": [
        "### Выборка данных"
      ]
    },
    {
      "cell_type": "code",
      "execution_count": null,
      "metadata": {
        "id": "gAaOZHlh5sGx",
        "outputId": "8bf9a3fe-b678-4bf8-9066-8908f19a64ed"
      },
      "outputs": [
        {
          "name": "stdout",
          "output_type": "stream",
          "text": [
            "(1, 'Pink Floyd', 'The Wall', 'Columbia Records', 23, 1979)\n",
            "(2, 'Pink Floyd', 'The Wall', 'Columbia Records', 23, 1979)\n",
            "(3, 'Pink Floyd', 'The Wall', 'Columbia Records', 23, 1979)\n",
            "(4, 'Pink Floyd', 'The Wall', 'Columbia Records', 23, 1979)\n"
          ]
        }
      ],
      "source": [
        "for row in cursor.execute(\"SELECT * FROM albums\"):\n",
        "    print(row)"
      ]
    },
    {
      "cell_type": "markdown",
      "metadata": {
        "id": "2ES4XpmB5sGx"
      },
      "source": [
        "### Изменение записи"
      ]
    },
    {
      "cell_type": "code",
      "execution_count": null,
      "metadata": {
        "id": "P41zB13Q5sGy",
        "outputId": "458bf6c8-19d8-4dfe-ccaa-75b9839c05f5"
      },
      "outputs": [
        {
          "data": {
            "text/plain": [
              "<sqlite3.Cursor at 0x1cfdae74420>"
            ]
          },
          "execution_count": 8,
          "metadata": {},
          "output_type": "execute_result"
        }
      ],
      "source": [
        "cursor.execute(\"UPDATE albums SET year=? WHERE id=?\",(1970, 3))"
      ]
    },
    {
      "cell_type": "code",
      "execution_count": null,
      "metadata": {
        "id": "znET5-ek5sGy",
        "outputId": "ad2abe29-17bd-4c64-88b9-d69c9099456e"
      },
      "outputs": [
        {
          "data": {
            "text/plain": [
              "[(1, 'Pink Floyd', 'The Wall', 'Columbia Records', 23, 1979),\n",
              " (2, 'Pink Floyd', 'The Wall', 'Columbia Records', 23, 1979),\n",
              " (3, 'Pink Floyd', 'The Wall', 'Columbia Records', 23, 1970),\n",
              " (4, 'Pink Floyd', 'The Wall', 'Columbia Records', 23, 1979)]"
            ]
          },
          "execution_count": 9,
          "metadata": {},
          "output_type": "execute_result"
        }
      ],
      "source": [
        "# Получение списка значений\n",
        "cursor.execute(\"SELECT * FROM albums\").fetchall()"
      ]
    },
    {
      "cell_type": "code",
      "execution_count": null,
      "metadata": {
        "id": "cQJDZo0c5sGy"
      },
      "outputs": [],
      "source": [
        "sql = \"\"\"\n",
        "UPDATE albums \n",
        "SET artist = 'John Doe' \n",
        "WHERE artist = 'Pink Floyd'\n",
        "\"\"\"\n",
        "\n",
        "cursor.execute(sql)\n",
        "conn.commit()"
      ]
    },
    {
      "cell_type": "code",
      "execution_count": null,
      "metadata": {
        "id": "HvsWyH7K5sGy",
        "outputId": "57c44b12-ad92-4acb-8f20-f47b0641a7ff"
      },
      "outputs": [
        {
          "data": {
            "text/plain": [
              "[(1, 'John Doe', 'The Wall', 'Columbia Records', 23, 1979),\n",
              " (2, 'John Doe', 'The Wall', 'Columbia Records', 23, 1979),\n",
              " (3, 'John Doe', 'The Wall', 'Columbia Records', 23, 1970)]"
            ]
          },
          "execution_count": 15,
          "metadata": {},
          "output_type": "execute_result"
        }
      ],
      "source": [
        "cursor.execute(\"SELECT * FROM albums\").fetchall()"
      ]
    },
    {
      "cell_type": "markdown",
      "metadata": {
        "id": "cy6G-wSc5sGz"
      },
      "source": [
        "### Удаление записи"
      ]
    },
    {
      "cell_type": "code",
      "execution_count": null,
      "metadata": {
        "id": "nXwjQ5495sGz"
      },
      "outputs": [],
      "source": [
        "sql = \"DELETE FROM albums WHERE id = ?\"\n",
        " \n",
        "cursor.execute(sql, (4,))\n",
        "conn.commit()"
      ]
    },
    {
      "cell_type": "code",
      "execution_count": null,
      "metadata": {
        "id": "1JNgojD55sGz",
        "outputId": "f10dc26a-6537-4d66-eeff-588d930ff015"
      },
      "outputs": [
        {
          "data": {
            "text/plain": [
              "<sqlite3.Cursor at 0x1cfdae74420>"
            ]
          },
          "execution_count": 16,
          "metadata": {},
          "output_type": "execute_result"
        }
      ],
      "source": [
        "cursor.execute(\"\"\"DROP TABLE albums\"\"\")"
      ]
    },
    {
      "cell_type": "markdown",
      "metadata": {
        "id": "_x3pIrbF5sGz"
      },
      "source": [
        "## Экспорт данных из DataFrame"
      ]
    },
    {
      "cell_type": "code",
      "execution_count": null,
      "metadata": {
        "id": "NdI1n5215sG0"
      },
      "outputs": [],
      "source": [
        "import pandas as pd\n",
        "data = pd.read_excel('17_art.xls', index_col='Unnamed: 0')"
      ]
    },
    {
      "cell_type": "code",
      "execution_count": null,
      "metadata": {
        "id": "YxZbNEnc5sG0",
        "outputId": "8046acb1-45cb-4498-bdac-7130476c56c9"
      },
      "outputs": [
        {
          "data": {
            "text/html": [
              "<div>\n",
              "<style scoped>\n",
              "    .dataframe tbody tr th:only-of-type {\n",
              "        vertical-align: middle;\n",
              "    }\n",
              "\n",
              "    .dataframe tbody tr th {\n",
              "        vertical-align: top;\n",
              "    }\n",
              "\n",
              "    .dataframe thead th {\n",
              "        text-align: right;\n",
              "    }\n",
              "</style>\n",
              "<table border=\"1\" class=\"dataframe\">\n",
              "  <thead>\n",
              "    <tr style=\"text-align: right;\">\n",
              "      <th></th>\n",
              "      <th>artist</th>\n",
              "      <th>title</th>\n",
              "      <th>label</th>\n",
              "      <th>units_mln</th>\n",
              "      <th>year</th>\n",
              "    </tr>\n",
              "  </thead>\n",
              "  <tbody>\n",
              "    <tr>\n",
              "      <td>0</td>\n",
              "      <td>Phil Collins «No Jacket Require</td>\n",
              "      <td>Phil Collins «No Jacket Require</td>\n",
              "      <td>Atlantic Records</td>\n",
              "      <td>12</td>\n",
              "      <td>1985</td>\n",
              "    </tr>\n",
              "    <tr>\n",
              "      <td>1</td>\n",
              "      <td>Matchbox Twenty «Yourself or Someone Like Yo</td>\n",
              "      <td>Matchbox Twenty «Yourself or Someone Like Yo</td>\n",
              "      <td>Atlantic Records</td>\n",
              "      <td>12</td>\n",
              "      <td>1996</td>\n",
              "    </tr>\n",
              "    <tr>\n",
              "      <td>2</td>\n",
              "      <td>Led Zeppelin «Led Zeppelin I</td>\n",
              "      <td>Led Zeppelin «Led Zeppelin I</td>\n",
              "      <td>Atlantic Records</td>\n",
              "      <td>12</td>\n",
              "      <td>1969</td>\n",
              "    </tr>\n",
              "    <tr>\n",
              "      <td>3</td>\n",
              "      <td>Kenny Rogers «Kenny Rogers’ Greatest Hit</td>\n",
              "      <td>Kenny Rogers «Kenny Rogers’ Greatest Hit</td>\n",
              "      <td>Atlantic Records</td>\n",
              "      <td>12</td>\n",
              "      <td>1980</td>\n",
              "    </tr>\n",
              "    <tr>\n",
              "      <td>4</td>\n",
              "      <td>Kenny G «Breathles</td>\n",
              "      <td>Kenny G «Breathles</td>\n",
              "      <td>Arista Records</td>\n",
              "      <td>12</td>\n",
              "      <td>1991</td>\n",
              "    </tr>\n",
              "  </tbody>\n",
              "</table>\n",
              "</div>"
            ],
            "text/plain": [
              "                                         artist  \\\n",
              "0               Phil Collins «No Jacket Require   \n",
              "1  Matchbox Twenty «Yourself or Someone Like Yo   \n",
              "2                  Led Zeppelin «Led Zeppelin I   \n",
              "3      Kenny Rogers «Kenny Rogers’ Greatest Hit   \n",
              "4                            Kenny G «Breathles   \n",
              "\n",
              "                                          title             label  units_mln  \\\n",
              "0               Phil Collins «No Jacket Require  Atlantic Records         12   \n",
              "1  Matchbox Twenty «Yourself or Someone Like Yo  Atlantic Records         12   \n",
              "2                  Led Zeppelin «Led Zeppelin I  Atlantic Records         12   \n",
              "3      Kenny Rogers «Kenny Rogers’ Greatest Hit  Atlantic Records         12   \n",
              "4                            Kenny G «Breathles    Arista Records         12   \n",
              "\n",
              "   year  \n",
              "0  1985  \n",
              "1  1996  \n",
              "2  1969  \n",
              "3  1980  \n",
              "4  1991  "
            ]
          },
          "execution_count": 19,
          "metadata": {},
          "output_type": "execute_result"
        }
      ],
      "source": [
        "data.head()"
      ]
    },
    {
      "cell_type": "code",
      "execution_count": null,
      "metadata": {
        "id": "iUlFHuEb5sG0"
      },
      "outputs": [],
      "source": [
        "data.to_sql('albums',conn)"
      ]
    },
    {
      "cell_type": "code",
      "execution_count": null,
      "metadata": {
        "id": "LKhMujUG5sG0"
      },
      "outputs": [],
      "source": [
        "SQLres = cursor.execute(\"\"\"\n",
        "SELECT * FROM albums \n",
        "WHERE `year` > 1980 \n",
        "AND units_mln <33\n",
        "ORDER BY units_mln DESC \n",
        "LIMIT 0, 5\"\"\" )\n"
      ]
    },
    {
      "cell_type": "code",
      "execution_count": null,
      "metadata": {
        "id": "5WTTbeLJ5sG0",
        "outputId": "6a0861a1-81ce-4e1c-ead7-e5472df7a683"
      },
      "outputs": [
        {
          "name": "stdout",
          "output_type": "stream",
          "text": [
            "(48, 'Eagles «Their Greatest Hits 1971-197', 'agles «Their Greatest Hits 1971-197', 'Rhino', 29, 1986)\n",
            "(47, 'Billy Joel «Greatest Hits Volume I\\xa0& Volume I', 'illy Joel «Greatest Hits Volume I\\xa0& Volume I', 'Columbia Records', 23, 1985)\n",
            "(43, 'Garth Brooks «Double Liv', 'arth Brooks «Double Liv', 'Capitol Nashville', 21, 1998)\n",
            "(41, 'Shania Twain «Come on\\xa0Ove', 'hania Twain «Come on\\xa0Ove', 'Mercury Nashville', 20, 1987)\n",
            "(42, 'Fleetwood Mac «Rumour', 'leetwood Mac «Rumour', 'Warner Bros.', 20, 1987)\n"
          ]
        }
      ],
      "source": [
        "for row in SQLres:\n",
        "    print(row)"
      ]
    },
    {
      "cell_type": "code",
      "execution_count": null,
      "metadata": {
        "id": "rFYEmkCq5sG1",
        "outputId": "aeabdce2-6ae1-46c8-cafb-f4af9d8128d0"
      },
      "outputs": [
        {
          "name": "stdout",
          "output_type": "stream",
          "text": [
            "(49, 'Michael Jackson «Thrille', 'ichael Jackson «Thrille', 'Epic Records', 33, 1982)\n",
            "(48, 'Eagles «Their Greatest Hits 1971-197', 'agles «Their Greatest Hits 1971-197', 'Rhino', 29, 1986)\n",
            "(45, 'Pink Floyd «The Wal', 'ink Floyd «The Wal', 'Columbia Records', 23, 1979)\n",
            "(47, 'Billy Joel «Greatest Hits Volume I\\xa0& Volume I', 'illy Joel «Greatest Hits Volume I\\xa0& Volume I', 'Columbia Records', 23, 1985)\n",
            "(44, 'AC/DC «Back in\\xa0Blac', 'C/DC «Back in\\xa0Blac', 'Epic Records', 22, 1980)\n",
            "(43, 'Garth Brooks «Double Liv', 'arth Brooks «Double Liv', 'Capitol Nashville', 21, 1998)\n",
            "(41, 'Shania Twain «Come on\\xa0Ove', 'hania Twain «Come on\\xa0Ove', 'Mercury Nashville', 20, 1987)\n",
            "(42, 'Fleetwood Mac «Rumour', 'leetwood Mac «Rumour', 'Warner Bros.', 20, 1987)\n",
            "(38, 'Whitney Houston «The Bodyguar', 'Whitney Houston «The Bodyguar', 'RCA', 18, 1992)\n",
            "(39, 'Guns N’ Roses «Appetite for Destructio', 'Guns N’ Roses «Appetite for Destructio', 'Geffen Records', 18, 1987)\n"
          ]
        }
      ],
      "source": [
        "for row in cursor.execute(\"\"\"\n",
        "SELECT * FROM `albums` \n",
        "WHERE `year` > 1976  \n",
        "ORDER BY `units_mln` DESC LIMIT 0, 10\"\"\"):\n",
        "    print(row)"
      ]
    },
    {
      "cell_type": "markdown",
      "metadata": {
        "id": "udbx8sLP5sG1"
      },
      "source": [
        "## Задачи для самостоятельного выполнения"
      ]
    },
    {
      "cell_type": "markdown",
      "metadata": {
        "id": "E6Q-k9PA5sG1"
      },
      "source": [
        "**Самый самый**. По полученной БД, выяснить:\n",
        "1. Самый свежий альбом\n",
        "1. Сколько альбомов было выпущено в 1987 году.\n",
        "1. Кто выпустил самый успешный альбом до 1987 года включительно? После 1987г?\n",
        "1. Сколько всего копий альбомов 1987 года было продано?\n",
        "1. Какой исполнитель выпустил больше всего альбомов?\n",
        "1. В каком году было выпущено больше всего альбомов?\n",
        "1. Альбомы какого года продавались лучше?"
      ]
    },
    {
      "cell_type": "code",
      "source": [
        "!pip install --upgrade pandas"
      ],
      "metadata": {
        "colab": {
          "base_uri": "https://localhost:8080/",
          "height": 363
        },
        "id": "Rx_FZpFk7OIq",
        "outputId": "a09d0926-1d0e-4ea2-b912-dda3654465ac"
      },
      "execution_count": 4,
      "outputs": [
        {
          "output_type": "stream",
          "name": "stdout",
          "text": [
            "Looking in indexes: https://pypi.org/simple, https://us-python.pkg.dev/colab-wheels/public/simple/\n",
            "Requirement already satisfied: pandas in /usr/local/lib/python3.8/dist-packages (1.3.5)\n",
            "Collecting pandas\n",
            "  Downloading pandas-1.5.2-cp38-cp38-manylinux_2_17_x86_64.manylinux2014_x86_64.whl (12.2 MB)\n",
            "\u001b[K     |████████████████████████████████| 12.2 MB 26.6 MB/s \n",
            "\u001b[?25hRequirement already satisfied: python-dateutil>=2.8.1 in /usr/local/lib/python3.8/dist-packages (from pandas) (2.8.2)\n",
            "Requirement already satisfied: pytz>=2020.1 in /usr/local/lib/python3.8/dist-packages (from pandas) (2022.6)\n",
            "Requirement already satisfied: numpy>=1.20.3 in /usr/local/lib/python3.8/dist-packages (from pandas) (1.21.6)\n",
            "Requirement already satisfied: six>=1.5 in /usr/local/lib/python3.8/dist-packages (from python-dateutil>=2.8.1->pandas) (1.15.0)\n",
            "Installing collected packages: pandas\n",
            "  Attempting uninstall: pandas\n",
            "    Found existing installation: pandas 1.3.5\n",
            "    Uninstalling pandas-1.3.5:\n",
            "      Successfully uninstalled pandas-1.3.5\n",
            "Successfully installed pandas-1.5.2\n"
          ]
        },
        {
          "output_type": "display_data",
          "data": {
            "application/vnd.colab-display-data+json": {
              "pip_warning": {
                "packages": [
                  "pandas"
                ]
              }
            }
          },
          "metadata": {}
        }
      ]
    },
    {
      "cell_type": "code",
      "source": [
        "import pandas as pd\n",
        "data = pd.read_excel('17_art.xls', index_col='Unnamed: 0')"
      ],
      "metadata": {
        "colab": {
          "base_uri": "https://localhost:8080/",
          "height": 467
        },
        "id": "CwPoxcbw5wdb",
        "outputId": "6095eeec-7469-4022-ed37-5e85a00dd4f4"
      },
      "execution_count": 5,
      "outputs": [
        {
          "output_type": "error",
          "ename": "ImportError",
          "evalue": "ignored",
          "traceback": [
            "\u001b[0;31m---------------------------------------------------------------------------\u001b[0m",
            "\u001b[0;31mImportError\u001b[0m                               Traceback (most recent call last)",
            "\u001b[0;32m<ipython-input-5-b269284a3205>\u001b[0m in \u001b[0;36m<module>\u001b[0;34m\u001b[0m\n\u001b[1;32m      1\u001b[0m \u001b[0;32mimport\u001b[0m \u001b[0mpandas\u001b[0m \u001b[0;32mas\u001b[0m \u001b[0mpd\u001b[0m\u001b[0;34m\u001b[0m\u001b[0;34m\u001b[0m\u001b[0m\n\u001b[0;32m----> 2\u001b[0;31m \u001b[0mdata\u001b[0m \u001b[0;34m=\u001b[0m \u001b[0mpd\u001b[0m\u001b[0;34m.\u001b[0m\u001b[0mread_excel\u001b[0m\u001b[0;34m(\u001b[0m\u001b[0;34m'17_art.xls'\u001b[0m\u001b[0;34m,\u001b[0m \u001b[0mindex_col\u001b[0m\u001b[0;34m=\u001b[0m\u001b[0;34m'Unnamed: 0'\u001b[0m\u001b[0;34m)\u001b[0m\u001b[0;34m\u001b[0m\u001b[0;34m\u001b[0m\u001b[0m\n\u001b[0m",
            "\u001b[0;32m/usr/local/lib/python3.8/dist-packages/pandas/util/_decorators.py\u001b[0m in \u001b[0;36mwrapper\u001b[0;34m(*args, **kwargs)\u001b[0m\n\u001b[1;32m    309\u001b[0m                 \u001b[0;32mand\u001b[0m \u001b[0mp\u001b[0m\u001b[0;34m.\u001b[0m\u001b[0mname\u001b[0m \u001b[0;32mnot\u001b[0m \u001b[0;32min\u001b[0m \u001b[0mallow_args\u001b[0m\u001b[0;34m\u001b[0m\u001b[0;34m\u001b[0m\u001b[0m\n\u001b[1;32m    310\u001b[0m             )\n\u001b[0;32m--> 311\u001b[0;31m             \u001b[0;32melse\u001b[0m \u001b[0mp\u001b[0m\u001b[0;34m\u001b[0m\u001b[0;34m\u001b[0m\u001b[0m\n\u001b[0m\u001b[1;32m    312\u001b[0m             \u001b[0;32mfor\u001b[0m \u001b[0mp\u001b[0m \u001b[0;32min\u001b[0m \u001b[0mold_sig\u001b[0m\u001b[0;34m.\u001b[0m\u001b[0mparameters\u001b[0m\u001b[0;34m.\u001b[0m\u001b[0mvalues\u001b[0m\u001b[0;34m(\u001b[0m\u001b[0;34m)\u001b[0m\u001b[0;34m\u001b[0m\u001b[0;34m\u001b[0m\u001b[0m\n\u001b[1;32m    313\u001b[0m         ]\n",
            "\u001b[0;32m/usr/local/lib/python3.8/dist-packages/pandas/io/excel/_base.py\u001b[0m in \u001b[0;36mread_excel\u001b[0;34m(io, sheet_name, header, names, index_col, usecols, squeeze, dtype, engine, converters, true_values, false_values, skiprows, nrows, na_values, keep_default_na, na_filter, verbose, parse_dates, date_parser, thousands, comment, skipfooter, convert_float, mangle_dupe_cols, storage_options)\u001b[0m\n\u001b[1;32m    362\u001b[0m \u001b[0;34m@\u001b[0m\u001b[0moverload\u001b[0m\u001b[0;34m\u001b[0m\u001b[0;34m\u001b[0m\u001b[0m\n\u001b[1;32m    363\u001b[0m def read_excel(\n\u001b[0;32m--> 364\u001b[0;31m     \u001b[0mio\u001b[0m\u001b[0;34m,\u001b[0m\u001b[0;34m\u001b[0m\u001b[0;34m\u001b[0m\u001b[0m\n\u001b[0m\u001b[1;32m    365\u001b[0m     \u001b[0;31m# sheet name is str or int -> DataFrame\u001b[0m\u001b[0;34m\u001b[0m\u001b[0;34m\u001b[0m\u001b[0;34m\u001b[0m\u001b[0m\n\u001b[1;32m    366\u001b[0m     \u001b[0msheet_name\u001b[0m\u001b[0;34m:\u001b[0m \u001b[0mstr\u001b[0m \u001b[0;34m|\u001b[0m \u001b[0mint\u001b[0m \u001b[0;34m=\u001b[0m \u001b[0;34m...\u001b[0m\u001b[0;34m,\u001b[0m\u001b[0;34m\u001b[0m\u001b[0;34m\u001b[0m\u001b[0m\n",
            "\u001b[0;32m/usr/local/lib/python3.8/dist-packages/pandas/io/excel/_base.py\u001b[0m in \u001b[0;36m__init__\u001b[0;34m(self, path_or_buffer, engine, storage_options)\u001b[0m\n\u001b[1;32m   1231\u001b[0m         \u001b[0mcells\u001b[0m \u001b[0;34m:\u001b[0m \u001b[0mgenerator\u001b[0m\u001b[0;34m\u001b[0m\u001b[0;34m\u001b[0m\u001b[0m\n\u001b[1;32m   1232\u001b[0m             \u001b[0mcell\u001b[0m \u001b[0mof\u001b[0m \u001b[0mformatted\u001b[0m \u001b[0mdata\u001b[0m \u001b[0mto\u001b[0m \u001b[0msave\u001b[0m \u001b[0mto\u001b[0m \u001b[0mExcel\u001b[0m \u001b[0msheet\u001b[0m\u001b[0;34m\u001b[0m\u001b[0;34m\u001b[0m\u001b[0m\n\u001b[0;32m-> 1233\u001b[0;31m         \u001b[0msheet_name\u001b[0m \u001b[0;34m:\u001b[0m \u001b[0mstr\u001b[0m\u001b[0;34m,\u001b[0m \u001b[0mdefault\u001b[0m \u001b[0;32mNone\u001b[0m\u001b[0;34m\u001b[0m\u001b[0;34m\u001b[0m\u001b[0m\n\u001b[0m\u001b[1;32m   1234\u001b[0m             \u001b[0mName\u001b[0m \u001b[0mof\u001b[0m \u001b[0mExcel\u001b[0m \u001b[0msheet\u001b[0m\u001b[0;34m,\u001b[0m \u001b[0;32mif\u001b[0m \u001b[0;32mNone\u001b[0m\u001b[0;34m,\u001b[0m \u001b[0mthen\u001b[0m \u001b[0muse\u001b[0m \u001b[0mself\u001b[0m\u001b[0;34m.\u001b[0m\u001b[0mcur_sheet\u001b[0m\u001b[0;34m\u001b[0m\u001b[0;34m\u001b[0m\u001b[0m\n\u001b[1;32m   1235\u001b[0m         \u001b[0mstartrow\u001b[0m \u001b[0;34m:\u001b[0m \u001b[0mupper\u001b[0m \u001b[0mleft\u001b[0m \u001b[0mcell\u001b[0m \u001b[0mrow\u001b[0m \u001b[0mto\u001b[0m \u001b[0mdump\u001b[0m \u001b[0mdata\u001b[0m \u001b[0mframe\u001b[0m\u001b[0;34m\u001b[0m\u001b[0;34m\u001b[0m\u001b[0m\n",
            "\u001b[0;32m/usr/local/lib/python3.8/dist-packages/pandas/io/excel/_xlrd.py\u001b[0m in \u001b[0;36m__init__\u001b[0;34m(self, filepath_or_buffer, storage_options)\u001b[0m\n\u001b[1;32m     22\u001b[0m         \u001b[0mself\u001b[0m\u001b[0;34m,\u001b[0m \u001b[0mfilepath_or_buffer\u001b[0m\u001b[0;34m,\u001b[0m \u001b[0mstorage_options\u001b[0m\u001b[0;34m:\u001b[0m \u001b[0mStorageOptions\u001b[0m \u001b[0;34m=\u001b[0m \u001b[0;32mNone\u001b[0m\u001b[0;34m\u001b[0m\u001b[0;34m\u001b[0m\u001b[0m\n\u001b[1;32m     23\u001b[0m     ) -> None:\n\u001b[0;32m---> 24\u001b[0;31m         \"\"\"\n\u001b[0m\u001b[1;32m     25\u001b[0m         \u001b[0mReader\u001b[0m \u001b[0musing\u001b[0m \u001b[0mxlrd\u001b[0m \u001b[0mengine\u001b[0m\u001b[0;34m.\u001b[0m\u001b[0;34m\u001b[0m\u001b[0;34m\u001b[0m\u001b[0m\n\u001b[1;32m     26\u001b[0m \u001b[0;34m\u001b[0m\u001b[0m\n",
            "\u001b[0;32m/usr/local/lib/python3.8/dist-packages/pandas/compat/_optional.py\u001b[0m in \u001b[0;36mimport_optional_dependency\u001b[0;34m(name, extra, errors, min_version)\u001b[0m\n\u001b[1;32m    139\u001b[0m     )\n\u001b[1;32m    140\u001b[0m     \u001b[0;32mtry\u001b[0m\u001b[0;34m:\u001b[0m\u001b[0;34m\u001b[0m\u001b[0;34m\u001b[0m\u001b[0m\n\u001b[0;32m--> 141\u001b[0;31m         \u001b[0mmodule\u001b[0m \u001b[0;34m=\u001b[0m \u001b[0mimportlib\u001b[0m\u001b[0;34m.\u001b[0m\u001b[0mimport_module\u001b[0m\u001b[0;34m(\u001b[0m\u001b[0mname\u001b[0m\u001b[0;34m)\u001b[0m\u001b[0;34m\u001b[0m\u001b[0;34m\u001b[0m\u001b[0m\n\u001b[0m\u001b[1;32m    142\u001b[0m     \u001b[0;32mexcept\u001b[0m \u001b[0mImportError\u001b[0m\u001b[0;34m:\u001b[0m\u001b[0;34m\u001b[0m\u001b[0;34m\u001b[0m\u001b[0m\n\u001b[1;32m    143\u001b[0m         \u001b[0;32mif\u001b[0m \u001b[0merrors\u001b[0m \u001b[0;34m==\u001b[0m \u001b[0;34m\"raise\"\u001b[0m\u001b[0;34m:\u001b[0m\u001b[0;34m\u001b[0m\u001b[0;34m\u001b[0m\u001b[0m\n",
            "\u001b[0;31mImportError\u001b[0m: Pandas requires version '1.2.0' or newer of 'xlrd' (version '1.1.0' currently installed).",
            "",
            "\u001b[0;31m---------------------------------------------------------------------------\u001b[0;32m\nNOTE: If your import is failing due to a missing package, you can\nmanually install dependencies using either !pip or !apt.\n\nTo view examples of installing some common dependencies, click the\n\"Open Examples\" button below.\n\u001b[0;31m---------------------------------------------------------------------------\u001b[0m\n"
          ],
          "errorDetails": {
            "actions": [
              {
                "action": "open_url",
                "actionText": "Open Examples",
                "url": "/notebooks/snippets/importing_libraries.ipynb"
              }
            ]
          }
        }
      ]
    },
    {
      "cell_type": "code",
      "source": [
        "import sqlite3\n",
        " \n",
        "conn = sqlite3.connect(\"mydatabase.db\")\n",
        "cursor = conn.cursor()"
      ],
      "metadata": {
        "id": "MkEnpq4W6z8y"
      },
      "execution_count": null,
      "outputs": []
    },
    {
      "cell_type": "code",
      "source": [
        "cursor.execute(\"\"\"CREATE TABLE albums\n",
        "                  (artist, title text, label text,\n",
        "                   units_mln int, year int)\n",
        "               \"\"\")"
      ],
      "metadata": {
        "id": "gRTU6CNt62Et"
      },
      "execution_count": null,
      "outputs": []
    },
    {
      "cell_type": "code",
      "source": [
        "data.to_sql('albums',conn)"
      ],
      "metadata": {
        "id": "y4IL6xQF63wz"
      },
      "execution_count": null,
      "outputs": []
    },
    {
      "cell_type": "code",
      "source": [
        "SQLres = cursor.execute(\"\"\"\n",
        "SELECT * FROM albums \n",
        "WHERE `year` > 1980 \n",
        "AND units_mln <33\n",
        "ORDER BY units_mln DESC \n",
        "LIMIT 0, 5\"\"\" )"
      ],
      "metadata": {
        "id": "tD90EVKT67EC"
      },
      "execution_count": null,
      "outputs": []
    },
    {
      "cell_type": "code",
      "source": [
        "or row in SQLres:\n",
        "    print(row)"
      ],
      "metadata": {
        "id": "YQGtzjLh7EXL"
      },
      "execution_count": null,
      "outputs": []
    }
  ],
  "metadata": {
    "kernelspec": {
      "display_name": "Python 3",
      "language": "python",
      "name": "python3"
    },
    "language_info": {
      "codemirror_mode": {
        "name": "ipython",
        "version": 3
      },
      "file_extension": ".py",
      "mimetype": "text/x-python",
      "name": "python",
      "nbconvert_exporter": "python",
      "pygments_lexer": "ipython3",
      "version": "3.7.4"
    },
    "colab": {
      "provenance": [],
      "include_colab_link": true
    }
  },
  "nbformat": 4,
  "nbformat_minor": 0
}