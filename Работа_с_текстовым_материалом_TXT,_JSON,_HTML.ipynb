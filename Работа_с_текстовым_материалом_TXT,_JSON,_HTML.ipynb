{
  "nbformat": 4,
  "nbformat_minor": 0,
  "metadata": {
    "colab": {
      "name": "Работа_с_текстовым_материалом_TXT,_JSON,_HTML.ipynb",
      "provenance": [],
      "collapsed_sections": [],
      "include_colab_link": true
    },
    "kernelspec": {
      "name": "python3",
      "display_name": "Python 3"
    },
    "language_info": {
      "name": "python"
    }
  },
  "cells": [
    {
      "cell_type": "markdown",
      "metadata": {
        "id": "view-in-github",
        "colab_type": "text"
      },
      "source": [
        "<a href=\"https://colab.research.google.com/github/Afanasyy/colab/blob/main/%D0%A0%D0%B0%D0%B1%D0%BE%D1%82%D0%B0_%D1%81_%D1%82%D0%B5%D0%BA%D1%81%D1%82%D0%BE%D0%B2%D1%8B%D0%BC_%D0%BC%D0%B0%D1%82%D0%B5%D1%80%D0%B8%D0%B0%D0%BB%D0%BE%D0%BC_TXT%2C_JSON%2C_HTML.ipynb\" target=\"_parent\"><img src=\"https://colab.research.google.com/assets/colab-badge.svg\" alt=\"Open In Colab\"/></a>"
      ]
    },
    {
      "cell_type": "markdown",
      "source": [
        "# Работа с текстовым материалом (TXT, CSV, JSON, HTML)\n",
        "\n",
        "* Работа с текстовыми файлами (`.txt`, `.csv`)\n",
        "* Работа с JSON файлами\n",
        "* Работа с веб-сайтами и парсинг `HTML`"
      ],
      "metadata": {
        "id": "horvdzfcWvLk"
      }
    },
    {
      "cell_type": "markdown",
      "source": [
        "## Работа с текстовыми файлами\n",
        "\n"
      ],
      "metadata": {
        "id": "slrvGvz8YGmg"
      }
    },
    {
      "cell_type": "markdown",
      "source": [
        "### `TXT`\n",
        "\n",
        "Самый простой формат, в котором могут храниться текстовые данные – `txt`. Сплошной текст, часто без форматирования."
      ],
      "metadata": {
        "id": "m2GpV2pIZznt"
      }
    },
    {
      "cell_type": "markdown",
      "source": [
        "Перед началом работы с файлом его следует открыть. Для этого в Python есть функция `open`, принимающая на вход путь до файла, режим работы с файлом и кодировку:\n",
        "\n",
        "`fd = open('path/to/file', mode='r', encoding='utf-8')`\n",
        "\n",
        "* `path/to/file` - путь до файла. **NB**: файл должен существовать!\n",
        "* `r` - режим работы, в данном случае (и по умолчанию) `read` - чтение. Возможные режимы:\n",
        "  * `r` (read) - чтение;\n",
        "  * `w` (write) - запись;\n",
        "  * `a` (append) - добавление;\n",
        "  * `x` - создание.\n",
        "* `utf-8` - кодировка, которая используется для понимания символов. Для кириллицы чаще всего используется `utf-8`. [Узнать больше о кодировках](https://habr.com/ru/post/478636/).\n",
        "\n",
        "\n",
        "**NB**: После окончания работы с файлом его следует закрыть:\n",
        "\n",
        "`fd.close()`"
      ],
      "metadata": {
        "id": "g84HXliuaWXB"
      }
    },
    {
      "cell_type": "markdown",
      "source": [
        "#### Чтение"
      ],
      "metadata": {
        "id": "Z03gnsG4cD98"
      }
    },
    {
      "cell_type": "code",
      "execution_count": null,
      "metadata": {
        "id": "96AldckJWijs",
        "colab": {
          "base_uri": "https://localhost:8080/",
          "height": 183
        },
        "outputId": "d6314e59-9936-4aba-f6a6-328720794cd6"
      },
      "outputs": [
        {
          "output_type": "error",
          "ename": "FileNotFoundError",
          "evalue": "ignored",
          "traceback": [
            "\u001b[0;31m---------------------------------------------------------------------------\u001b[0m",
            "\u001b[0;31mFileNotFoundError\u001b[0m                         Traceback (most recent call last)",
            "\u001b[0;32m<ipython-input-1-9b63ad137280>\u001b[0m in \u001b[0;36m<module>\u001b[0;34m()\u001b[0m\n\u001b[1;32m      1\u001b[0m \u001b[0;31m# Открытие файла\u001b[0m\u001b[0;34m\u001b[0m\u001b[0;34m\u001b[0m\u001b[0;34m\u001b[0m\u001b[0m\n\u001b[0;32m----> 2\u001b[0;31m \u001b[0mfd\u001b[0m \u001b[0;34m=\u001b[0m \u001b[0mopen\u001b[0m\u001b[0;34m(\u001b[0m\u001b[0;34m'/content/sample.txt'\u001b[0m\u001b[0;34m,\u001b[0m \u001b[0mmode\u001b[0m\u001b[0;34m=\u001b[0m\u001b[0;34m'r'\u001b[0m\u001b[0;34m,\u001b[0m \u001b[0mencoding\u001b[0m\u001b[0;34m=\u001b[0m\u001b[0;34m'utf-8'\u001b[0m\u001b[0;34m)\u001b[0m\u001b[0;34m\u001b[0m\u001b[0;34m\u001b[0m\u001b[0m\n\u001b[0m",
            "\u001b[0;31mFileNotFoundError\u001b[0m: [Errno 2] No such file or directory: '/content/sample.txt'"
          ]
        }
      ],
      "source": [
        "# Открытие файла\n",
        "fd = open('/content/sample.txt', mode='r', encoding='utf-8')"
      ]
    },
    {
      "cell_type": "code",
      "source": [
        "# Чтение всего, что есть в файле\n",
        "text = fd.read()\n",
        "print(text)"
      ],
      "metadata": {
        "id": "4J_AXvsoYz3q"
      },
      "execution_count": null,
      "outputs": []
    },
    {
      "cell_type": "code",
      "source": [
        "fd.close()"
      ],
      "metadata": {
        "id": "208JvsjydVJf"
      },
      "execution_count": null,
      "outputs": []
    },
    {
      "cell_type": "markdown",
      "source": [
        "По умолчанию метод `read()` возвращает весь текст целиком, но вы также можете указать, сколько символов вы хотите прочитать."
      ],
      "metadata": {
        "id": "TMHh03emdGz9"
      }
    },
    {
      "cell_type": "code",
      "source": [
        "fd = open('/content/sample.txt', mode='r', encoding='utf-8')\n",
        "print(fd.read(5))\n",
        "fd.close()"
      ],
      "metadata": {
        "id": "ppcCdeACYz0I"
      },
      "execution_count": null,
      "outputs": []
    },
    {
      "cell_type": "code",
      "source": [
        "fd = open('/content/sample.txt', 'r', encoding='utf-8')\n",
        "data = fd.read()\n",
        "print(data)\n",
        "print(data.split('\\n'))\n",
        "fd.close()"
      ],
      "metadata": {
        "id": "ef0pMvbqYzt_"
      },
      "execution_count": null,
      "outputs": []
    },
    {
      "cell_type": "markdown",
      "source": [
        "Вы можете вернуть одну строку, используя метод `readline()`."
      ],
      "metadata": {
        "id": "tyqPErj9dlwl"
      }
    },
    {
      "cell_type": "code",
      "source": [
        "fd = open('/content/sample.txt', 'r', encoding='utf-8')\n",
        "print(fd.readline())\n",
        "fd.close()"
      ],
      "metadata": {
        "id": "BqVpaJ7TdfOs"
      },
      "execution_count": null,
      "outputs": []
    },
    {
      "cell_type": "markdown",
      "source": [
        "Итерируясь по файлу, вы можете прочитать весь файл целиком, строка за строкой."
      ],
      "metadata": {
        "id": "ODptAVUwdumj"
      }
    },
    {
      "cell_type": "code",
      "source": [
        "fd = open('/content/sample.txt', 'r', encoding='utf-8')\n",
        "for line in fd:\n",
        "  print(line)\n",
        "fd.close()"
      ],
      "metadata": {
        "id": "ZBN2mgABdfJU"
      },
      "execution_count": null,
      "outputs": []
    },
    {
      "cell_type": "markdown",
      "source": [
        "Чтобы не прописывать операцию закрытия файла каждый раз, вместо этого можно использовать специальную конструкцию `with as`, тогда файл будет закрыт автоматически.\n",
        "\n",
        "[Больше о `with as`](https://pythonworld.ru/osnovy/with-as-menedzhery-konteksta.html)."
      ],
      "metadata": {
        "id": "jg6YgltOeAYp"
      }
    },
    {
      "cell_type": "code",
      "source": [
        "with open('/content/sample.txt', 'r', encoding='utf-8') as fd:\n",
        "  for line in fd:\n",
        "    print(line)"
      ],
      "metadata": {
        "id": "6esV6sWBde2U"
      },
      "execution_count": null,
      "outputs": []
    },
    {
      "cell_type": "markdown",
      "source": [
        "#### Запись\n",
        "\n",
        "Для записи в существующий файл необходимо добавить параметр в функцию `open()`:\n",
        "\n",
        "* `a` - добавит в конец файла;\n",
        "\n",
        "* `w` - перезапишет любой существующий контент."
      ],
      "metadata": {
        "id": "n8wUyqgqef8C"
      }
    },
    {
      "cell_type": "code",
      "source": [
        "with open('/content/sample.txt', 'a', encoding='utf-8') as fd:\n",
        "  fd.write('\\nAnother line')"
      ],
      "metadata": {
        "id": "3bIpr0yBefw9"
      },
      "execution_count": null,
      "outputs": []
    },
    {
      "cell_type": "code",
      "source": [
        "# К уже существующим строкам добавилась новая\n",
        "\n",
        "with open('/content/sample.txt', 'r', encoding='utf-8') as fd:\n",
        "  print(fd.read())"
      ],
      "metadata": {
        "id": "NVjKGy2ge9cS"
      },
      "execution_count": null,
      "outputs": []
    },
    {
      "cell_type": "code",
      "source": [
        "with open('/content/sample_2.txt', 'w', encoding='utf-8') as fd:\n",
        "  fd.write('\\nAnother line')\n",
        "\n",
        "# Предыдущие данные были стёрты\n",
        "with open('/content/sample_2.txt', 'r', encoding='utf-8') as fd:\n",
        "  print(fd.read())"
      ],
      "metadata": {
        "id": "V-YmeKVIefuu"
      },
      "execution_count": null,
      "outputs": []
    },
    {
      "cell_type": "code",
      "source": [
        "with open('/content/sample_2.txt', 'w', encoding='utf-8') as fd:\n",
        "  fd.write('\\nNew line')"
      ],
      "metadata": {
        "id": "gB6g2ST4_d3_"
      },
      "execution_count": null,
      "outputs": []
    },
    {
      "cell_type": "markdown",
      "source": [
        "#### Создание\n",
        "\n",
        "Чтобы создать новый файл в Python, используйте метод `open()` с одним из следующих параметров:\n",
        "\n",
        "* `x` - создаст файл, возвращает ошибку, если файл существует\n",
        "\n",
        "* `a` - создаст файл, если указанный файл не существует\n",
        "\n",
        "* `w` - создаст файл, если указанный файл не существует"
      ],
      "metadata": {
        "id": "vIljD90_fzEE"
      }
    },
    {
      "cell_type": "code",
      "source": [
        "with open('/content/created_with_x.txt', 'x', encoding='utf-8') as fd:\n",
        "  fd.write('\\nAnother line')\n",
        "\n",
        "with open('/content/created_with_x.txt', 'r', encoding='utf-8') as fd:\n",
        "  print(fd.read())"
      ],
      "metadata": {
        "id": "5Xyr0UHYefsW"
      },
      "execution_count": null,
      "outputs": []
    },
    {
      "cell_type": "code",
      "source": [
        "with open('/content/created_with_w.txt', 'w', encoding='utf-8') as fd:\n",
        "  fd.write('\\nAnother line')\n",
        "\n",
        "with open('/content/created_with_w.txt', 'r', encoding='utf-8') as fd:\n",
        "  print(fd.read())"
      ],
      "metadata": {
        "id": "gYeZLQwNefpo"
      },
      "execution_count": null,
      "outputs": []
    },
    {
      "cell_type": "markdown",
      "source": [
        "### `CSV`\n",
        "\n",
        "Данные, с которыми приходится работать, часто представлены в формате `csv` – от слов comma separated values, то есть значения, разделенные запятыми. Это текстовый формат для представления табличных данных."
      ],
      "metadata": {
        "id": "4sZs5cdvg9Iv"
      }
    },
    {
      "cell_type": "markdown",
      "source": [
        "Для работы с файлами `csv` в Python есть специальный встроенный модуль `csv`."
      ],
      "metadata": {
        "id": "HLIPSmb0hMjn"
      }
    },
    {
      "cell_type": "code",
      "source": [
        "import csv"
      ],
      "metadata": {
        "id": "TzNEVuxvhMYg"
      },
      "execution_count": null,
      "outputs": []
    },
    {
      "cell_type": "code",
      "source": [
        "with open('/content/kinopoisk-top250.csv', 'r', encoding='utf-8') as data_file:\n",
        "  reader = csv.DictReader(data_file)\n",
        "  \n",
        "  data = [line for line in reader] "
      ],
      "metadata": {
        "id": "8U7ccpQfhMWa",
        "outputId": "5d47374c-b7ae-4296-c6e7-d837bd024b8c",
        "colab": {
          "base_uri": "https://localhost:8080/",
          "height": 217
        }
      },
      "execution_count": null,
      "outputs": [
        {
          "output_type": "error",
          "ename": "FileNotFoundError",
          "evalue": "ignored",
          "traceback": [
            "\u001b[0;31m---------------------------------------------------------------------------\u001b[0m",
            "\u001b[0;31mFileNotFoundError\u001b[0m                         Traceback (most recent call last)",
            "\u001b[0;32m<ipython-input-2-7acd4dbaf50a>\u001b[0m in \u001b[0;36m<module>\u001b[0;34m()\u001b[0m\n\u001b[0;32m----> 1\u001b[0;31m \u001b[0;32mwith\u001b[0m \u001b[0mopen\u001b[0m\u001b[0;34m(\u001b[0m\u001b[0;34m'/content/kinopoisk-top250.csv'\u001b[0m\u001b[0;34m,\u001b[0m \u001b[0;34m'r'\u001b[0m\u001b[0;34m,\u001b[0m \u001b[0mencoding\u001b[0m\u001b[0;34m=\u001b[0m\u001b[0;34m'utf-8'\u001b[0m\u001b[0;34m)\u001b[0m \u001b[0;32mas\u001b[0m \u001b[0mdata_file\u001b[0m\u001b[0;34m:\u001b[0m\u001b[0;34m\u001b[0m\u001b[0;34m\u001b[0m\u001b[0m\n\u001b[0m\u001b[1;32m      2\u001b[0m   \u001b[0mreader\u001b[0m \u001b[0;34m=\u001b[0m \u001b[0mcsv\u001b[0m\u001b[0;34m.\u001b[0m\u001b[0mDictReader\u001b[0m\u001b[0;34m(\u001b[0m\u001b[0mdata_file\u001b[0m\u001b[0;34m)\u001b[0m\u001b[0;34m\u001b[0m\u001b[0;34m\u001b[0m\u001b[0m\n\u001b[1;32m      3\u001b[0m \u001b[0;34m\u001b[0m\u001b[0m\n\u001b[1;32m      4\u001b[0m   \u001b[0mdata\u001b[0m \u001b[0;34m=\u001b[0m \u001b[0;34m[\u001b[0m\u001b[0mline\u001b[0m \u001b[0;32mfor\u001b[0m \u001b[0mline\u001b[0m \u001b[0;32min\u001b[0m \u001b[0mreader\u001b[0m\u001b[0;34m]\u001b[0m\u001b[0;34m\u001b[0m\u001b[0;34m\u001b[0m\u001b[0m\n",
            "\u001b[0;31mFileNotFoundError\u001b[0m: [Errno 2] No such file or directory: '/content/kinopoisk-top250.csv'"
          ]
        }
      ]
    },
    {
      "cell_type": "code",
      "source": [
        "data[0]"
      ],
      "metadata": {
        "id": "C5mZWLFaj_PG"
      },
      "execution_count": null,
      "outputs": []
    },
    {
      "cell_type": "code",
      "source": [
        "data[1]"
      ],
      "metadata": {
        "id": "ePj5zYLjhMT6"
      },
      "execution_count": null,
      "outputs": []
    },
    {
      "cell_type": "code",
      "source": [
        "print(f'Наименьший рейтинг: {data[-1][\"rating_ball\"]},\\nНаибольший рейтинг: {data[0][\"rating_ball\"]}')"
      ],
      "metadata": {
        "id": "sMhBvHDpk5hr"
      },
      "execution_count": null,
      "outputs": []
    },
    {
      "cell_type": "code",
      "source": [
        "directors = [film['director'].strip() for film in data]\n",
        "directors"
      ],
      "metadata": {
        "id": "Td99CsGuhMRc"
      },
      "execution_count": null,
      "outputs": []
    },
    {
      "cell_type": "code",
      "source": [
        "directors_frequency = {director: directors.count(director) for director in directors}\n",
        "\n",
        "directors_frequency = sorted(directors_frequency.items(), key=lambda director: director[1], reverse=True)\n",
        "directors_frequency"
      ],
      "metadata": {
        "id": "W4vP6Hv8lbyC"
      },
      "execution_count": null,
      "outputs": []
    },
    {
      "cell_type": "code",
      "source": [
        "for film in data:\n",
        "  if film['director'].strip() == 'Игорь Масленников':\n",
        "    print(film['movie'])"
      ],
      "metadata": {
        "id": "vRaZivnXDF-4"
      },
      "execution_count": null,
      "outputs": []
    },
    {
      "cell_type": "markdown",
      "source": [
        "Также `csv` файлы можно создавать:"
      ],
      "metadata": {
        "id": "7sDmJCEunJ7M"
      }
    },
    {
      "cell_type": "code",
      "source": [
        "with open('names.csv', 'w', newline='', encoding='utf-8') as csvfile:\n",
        "    fieldnames = ['Имя', 'Фамилия']\n",
        "    writer = csv.DictWriter(csvfile, fieldnames=fieldnames)\n",
        "\n",
        "    writer.writeheader()\n",
        "    writer.writerow({'Имя': 'Андрей', 'Фамилия': 'Иванов'})\n",
        "    writer.writerow({'Имя': 'Иван', 'Фамилия': 'Андреев'})\n",
        "    writer.writerow({'Имя': 'Иван', 'Фамилия': 'Иванович'})"
      ],
      "metadata": {
        "id": "ZoPt2_PcnHbA"
      },
      "execution_count": null,
      "outputs": []
    },
    {
      "cell_type": "markdown",
      "source": [
        "## Работа с `JSON` файлами\n",
        "\n",
        "`JSON` (JavaScript Object Notation) - простой формат обмена данными, удобный для чтения и написания как человеком, так и компьютером. Он основан на подмножестве языка программирования JavaScript.\n",
        "\n",
        "`JSON` - текстовый формат, полностью независимый от языка реализации, но он использует соглашения, знакомые программистам C-подобных языков, таких как C, C++, C#, Java, JavaScript, Perl, Python и многих других. Эти свойства делают JSON идеальным языком обмена данными.\n",
        "\n",
        "JSON основан на двух структурах данных:\n",
        "\n",
        "* Коллекция пар ключ/значение. В разных языках, эта концепция реализована как объект, запись, структура, словарь, хэш, именованный список или ассоциативный массив.\n",
        "* Упорядоченный список значений. В большинстве языков это реализовано как массив, вектор, список или последовательность.\n",
        "\n",
        "Это универсальные структуры данных. Почти все современные языки программирования поддерживают их в какой-либо форме. Логично предположить, что формат данных, независимый от языка программирования, должен быть основан на этих структурах.\n",
        "\n",
        "В нотации JSON это выглядит так:\n",
        "\n",
        "Объект - неупорядоченный набор пар ключ/значение. \n",
        "\n",
        "* Объект начинается с `{` открывающей фигурной скобки и заканчивается `}` закрывающей фигурной скобкой. \n",
        "* Каждое имя сопровождается `:` двоеточием, пары ключ/значение разделяются `,` запятой.\n",
        "* **NB**: Ключ - всегда строка.\n",
        "\n",
        "```\n",
        "{\n",
        "  \"query\": \"Виктор Иван\",\n",
        "  \"count\": 7\n",
        "}\n",
        "```\n",
        "\n",
        "Массив - упорядоченная коллекция значений. \n",
        "\n",
        "* Массив начинается с `[` открывающей квадратной скобки и заканчивается `]` закрывающей квадратной скобкой. Значения разделены `,` запятой.\n",
        "\n",
        "```\n",
        "[ \"MALE\", \"FEMALE\" ]\n",
        "```\n",
        "\n",
        "\n",
        "* Значение может быть:\n",
        "  * строкой в двойных кавычках, \n",
        "  * числом, \n",
        "  * `true`, `false`, `null`, \n",
        "  * объектом или массивом. \n",
        "\n",
        "Эти структуры могут быть вложенными.\n",
        "\n",
        "```\n",
        "[\n",
        "        {\n",
        "            \"value\": \"Иванов Виктор\",\n",
        "            \"unrestricted_value\": \"Иванов Виктор\",\n",
        "            \"data\": {\n",
        "                \"surname\": \"Иванов\",\n",
        "                \"name\": \"Виктор\",\n",
        "                \"patronymic\": null,\n",
        "                \"gender\": \"MALE\"\n",
        "            }\n",
        "        },\n",
        "        {\n",
        "            \"value\": \"Иванченко Виктор\",\n",
        "            \"unrestricted_value\": \"Иванченко Виктор\",\n",
        "            \"data\": {\n",
        "                \"surname\": \"Иванченко\",\n",
        "                \"name\": \"Виктор\",\n",
        "                \"patronymic\": null,\n",
        "                \"gender\": \"MALE\"\n",
        "            }\n",
        "        },\n",
        "        {\n",
        "            \"value\": \"Виктор Иванович\",\n",
        "            \"unrestricted_value\": \"Виктор Иванович\",\n",
        "            \"data\": {\n",
        "                \"surname\": null,\n",
        "                \"name\": \"Виктор\",\n",
        "                \"patronymic\": \"Иванович\",\n",
        "                \"gender\": \"MALE\"\n",
        "            }\n",
        "        }\n",
        "]\n",
        "```"
      ],
      "metadata": {
        "id": "dGrybTxWYyaY"
      }
    },
    {
      "cell_type": "markdown",
      "source": [
        "Для работы с файлами в формате `JSON` в Python есть встроенный модуль `json`."
      ],
      "metadata": {
        "id": "djVpFbu7qI2k"
      }
    },
    {
      "cell_type": "code",
      "source": [
        "import json"
      ],
      "metadata": {
        "id": "17y7FGmzYypw"
      },
      "execution_count": null,
      "outputs": []
    },
    {
      "cell_type": "markdown",
      "source": [
        "Как правило, процесс кодирования `JSON` называется сериализация. Этот термин обозначает трансформацию данных в серию байтов (следовательно, серийных) для хранения или передачи по сети. \n",
        "\n",
        "Естественно, десериализация — является противоположным процессом декодирования данных, которые хранятся или направлены в стандарт `JSON`.\n",
        "\n",
        "Звучит как много технических терминов, но в реальности, все, о чем мы сейчас говорим — это чтение и написание. \n",
        "Представьте это следующим образом: кодирование это запись данных на диск, в то время как декодирование — это чтение данных в памяти."
      ],
      "metadata": {
        "id": "BsUukH2NqPa9"
      }
    },
    {
      "cell_type": "markdown",
      "source": [
        "Соответствие типов данных в Python и в `JSON`:\n",
        "\n",
        "![image.png](data:image/png;base64,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)"
      ],
      "metadata": {
        "id": "QyOc1NEEqisy"
      }
    },
    {
      "cell_type": "markdown",
      "source": [
        "### Сериализация (превращение данных в `JSON`)"
      ],
      "metadata": {
        "id": "c9IR9sdLqvjJ"
      }
    },
    {
      "cell_type": "code",
      "source": [
        "data = {\n",
        "    \"president\": {\n",
        "        \"name\": \"Zaphod Beeblebrox\",\n",
        "        \"species\": \"Betelgeusian\"\n",
        "    }\n",
        "}"
      ],
      "metadata": {
        "id": "4Su3DJ8vY0Uo"
      },
      "execution_count": null,
      "outputs": []
    },
    {
      "cell_type": "code",
      "source": [
        "with open(\"data_file.json\", \"w\", encoding='utf-8') as write_file:\n",
        "    json.dump(data, write_file)"
      ],
      "metadata": {
        "id": "QUBcRYHpY0SQ"
      },
      "execution_count": null,
      "outputs": []
    },
    {
      "cell_type": "markdown",
      "source": [
        "Обратите внимание на то, что `dump()` принимает два позиционных аргумента: (1) объект данных, который сериализуется и (2), файловый объект, в который будут вписаны байты."
      ],
      "metadata": {
        "id": "5DmCHpoqrDb1"
      }
    },
    {
      "cell_type": "markdown",
      "source": [
        "### Десериализация (превращение из `JSON`)\n",
        "\n",
        "В модуле `json` вы найдете `load()` и `loads()` для превращения кодированных данных JSON в объекты Python."
      ],
      "metadata": {
        "id": "G-DEgjGNrLIo"
      }
    },
    {
      "cell_type": "code",
      "source": [
        "with open(\"data_file.json\", \"r\") as read_file:\n",
        "    data = json.load(read_file)\n",
        "\n",
        "print(data)\n",
        "print(type(data))"
      ],
      "metadata": {
        "id": "O6oq68LkrF_B",
        "colab": {
          "base_uri": "https://localhost:8080/"
        },
        "outputId": "9951d272-942d-46b0-ec6b-4e9e4297c1a8"
      },
      "execution_count": null,
      "outputs": [
        {
          "output_type": "stream",
          "name": "stdout",
          "text": [
            "{'president': {'name': 'Zaphod Beeblebrox', 'species': 'Betelgeusian'}}\n",
            "<class 'dict'>\n"
          ]
        }
      ]
    },
    {
      "cell_type": "code",
      "source": [
        "json_string = \"\"\"\n",
        "{\n",
        "    \"researcher\": {\n",
        "        \"name\": \"Ford Prefect\",\n",
        "        \"species\": \"Betelgeusian\",\n",
        "        \"relatives\": [\n",
        "            {\n",
        "                \"name\": \"Zaphod Beeblebrox\",\n",
        "                \"species\": \"Betelgeusian\"\n",
        "            }\n",
        "        ]\n",
        "    }\n",
        "}\n",
        "\"\"\"\n",
        " \n",
        "data = json.loads(json_string)\n",
        "print(data)"
      ],
      "metadata": {
        "id": "i1ny1tMHrF8a",
        "colab": {
          "base_uri": "https://localhost:8080/"
        },
        "outputId": "288c71b7-b487-4d73-e4e3-3a47a4b39520"
      },
      "execution_count": null,
      "outputs": [
        {
          "output_type": "stream",
          "name": "stdout",
          "text": [
            "{'researcher': {'name': 'Ford Prefect', 'species': 'Betelgeusian', 'relatives': [{'name': 'Zaphod Beeblebrox', 'species': 'Betelgeusian'}]}}\n"
          ]
        }
      ]
    },
    {
      "cell_type": "markdown",
      "source": [
        "## Работа с веб-сайтами и парсинг `HTML`\n",
        "\n",
        "Веб-страницы, которые мы видим в Интернете, создаются с использованием HTML.\n",
        "\n",
        "Эта аббревиатура расшифровывается как \"HyperText Markup Language\" - язык гипертекстовой разметки.\n",
        "\n",
        "Технически это обычный текст.\n",
        "\n",
        "Но в отличие от обычного текста содержимое HTML-документа структурировано с помощью тегов.\n",
        "\n",
        "Теги представляют собой ключевые слова, заключенные в угловые скобки `<` и `>`.\n",
        "\n",
        "Есть теги, которые отмечают начало и конец части документа. Соответственно, существуют открывающие и закрывающие теги.\n",
        "\n",
        "Например, все абзацы текста помечены тегами `<p>` и `</p>`.\n",
        "\n",
        "```html\n",
        "<p>All ready, Miss Welse, though I'm sorry we can't spare one of the steamer's boats.</p>\n",
        "```"
      ],
      "metadata": {
        "id": "SoJDB4ugYy8h"
      }
    },
    {
      "cell_type": "markdown",
      "source": [
        "Заголовки помечены с помощью тегов `<h1></h1>`, `<h2></h2>`, `<h3></h3>` и так далее. Число указывает на уровень иерархии заголовков.\n",
        "\n",
        "```html\n",
        "<h1>Oliver Twist</h1>\n",
        "<h2>Chapter I</h2>\n",
        "```"
      ],
      "metadata": {
        "id": "zEZ3q5LHsUDB"
      }
    },
    {
      "cell_type": "markdown",
      "source": [
        "Содержимое HTML включает в себя головную часть `<head></head>` и тело `<body></body>`.\n",
        "\n",
        "В заголовочной части описываются свойства документа: его заголовок, набор символов, требуемые дополнительные ресурсы и так далее.\n",
        "\n",
        "Часть тела содержит информацию, показываемую пользователю.\n",
        "\n",
        "```html\n",
        "<!doctype html>\n",
        "<html lang=\"en-US\">\n",
        "<head>\n",
        "    <title>Заголовок страницы</title>\n",
        "    <meta charset=\"utf-8\">\n",
        "</head>\n",
        "<body>\n",
        "  <h1>Главный заголовок</h1>\n",
        "  <p>Текстовый абзац</p>\n",
        "  <p>Текстовый абзац</p>\n",
        "</body>\n",
        "</html>\n",
        "```    \n",
        "\n",
        "Еще несколько тегов:\n",
        "\n",
        "Жирный шрифт:\n",
        "```html\n",
        "<b>Это очень важно</b>\n",
        "```\n",
        "\n",
        "Курсив:\n",
        "```html\n",
        "<i>Также обратите внимание на этот момент</i>\n",
        "```\n",
        "\n",
        "Гиперссылка:\n",
        "\n",
        "```html\n",
        "<a href=\"https://www.wikipedia.org /\">Нажмите здесь, чтобы посетить Википедию</a>\n",
        "```\n",
        "    \n",
        "Изображение (обратите внимание, что у этого тега нет закрывающего)\n",
        "```html\n",
        "<img src=\"https://images.com/animals/dog.jpg \">\n",
        "```\n",
        "\n",
        "Блок тегов, например абзацы с некоторым общим свойством форматирования\n",
        "\n",
        "```html\n",
        "<div>\n",
        "    <p>Автор: Джон Доу</p>\n",
        "    <p>Год выпуска: 2021</p>\n",
        "</div>\n",
        "```\n",
        "\n",
        "Каждый тег может иметь атрибуты. Например, тег `<img>` имеет атрибут `src`, а тег `<a>` имеет атрибут `href`.\n",
        "\n",
        "Также каждый тег может иметь атрибуты `id` и `class`. \n",
        "\n",
        "`id` полезен для идентификации определенных тегов для создания интерактивных веб-страниц.\n",
        "\n",
        "`class` используется для применения форматирования.\n",
        "\n",
        "```html\n",
        "<p id='автор'>Джейн Остин</p>\n",
        "```"
      ],
      "metadata": {
        "id": "dUvmmHA6sdf-"
      }
    },
    {
      "cell_type": "markdown",
      "source": [
        "### Парсинг простой веб-страницы\n",
        "\n",
        "Основная проблема с веб-страницами заключается в том, что обычно они имеют очень сложную структуру.\n",
        "\n",
        "Более того, веб-дизайнеры часто не следуют строгим логическим правилам построения структуры HTML, так что\n",
        "автоматический анализ веб-страниц может быть очень сложным.\n",
        "\n",
        "Для начала попробуем проанализировать простую веб-страницу.\n",
        "\n",
        "\n",
        "Ссылка: [Чарльз Диккенс](https://kupav.github.io/data-sc-intro/dickens.html )\n",
        "\n",
        "Чтобы извлечь информацию с веб-страницы, нам сначала нужно ее загрузить. \n",
        "\n",
        "Это делается с помощью модуля `requests`."
      ],
      "metadata": {
        "id": "bPWrLxz4yBqv"
      }
    },
    {
      "cell_type": "code",
      "source": [
        "import requests"
      ],
      "metadata": {
        "id": "RLasUJo9sM_V"
      },
      "execution_count": null,
      "outputs": []
    },
    {
      "cell_type": "code",
      "source": [
        "# Ссылка\n",
        "url = \"https://kupav.github.io/data-sc-intro/dickens.html\"\n",
        "\n",
        "# С помощью метода get мы получаем веб-страницу\n",
        "raw_data = requests.get(url)"
      ],
      "metadata": {
        "id": "x0O8rOuLYzcf"
      },
      "execution_count": null,
      "outputs": []
    },
    {
      "cell_type": "code",
      "source": [
        "# Вся информация с веб-страницы\n",
        "raw_data.text"
      ],
      "metadata": {
        "id": "7BbqtFBAY01o",
        "colab": {
          "base_uri": "https://localhost:8080/",
          "height": 213
        },
        "outputId": "f6e32b8e-68d1-497d-8f38-64d0e3ae66f0"
      },
      "execution_count": null,
      "outputs": [
        {
          "output_type": "execute_result",
          "data": {
            "text/plain": [
              "'<!doctype html>\\n<html lang=\"en-US\">\\n<head>\\n    <title>data-sc-intro</title>\\n    <meta charset=\"utf-8\">\\n</head>\\n<body>\\n\\n  <h1>Fragment of Hard Times by Charles Dickens</h1>\\n\\n  <img src=\"dickens.jpg\">\\n\\n  <p>Hard Times is the tenth novel by Charles Dickens, first published\\n  in 1854. The book surveys English society and satirises the social\\n  and economic conditions of the era. </p>\\n  \\n  <h2>CHAPTER I - THE ONE THING NEEDFUL</h2>\\n\\n  <p>\\'NOW, what I want is, <b>Facts</b>. Teach these boys and girls nothing\\n  but Facts. Facts alone are wanted in life. Plant nothing else, and\\n  root out everything else. You can only form the minds of reasoning\\n  animals upon Facts: nothing else will ever be of any service to\\n  them. This is the principle on which I bring up my own children, and\\n  this is the principle on which I bring up these children. Stick to\\n  Facts, sir!\\'</p>\\n\\n  <p>The scene was a plain, bare, monotonous vault of a school-room,\\n  and the speaker\\'s square forefinger <i>emphasized</i> his observations by\\n  underscoring every sentence with a line on the schoolmaster\\'s\\n  sleeve. The emphasis was helped by the speaker\\'s square wall of a\\n  forehead, which had his eyebrows for its base, while his eyes found\\n  commodious cellarage in two dark caves, overshadowed by the\\n  wall. The emphasis was helped by the speaker\\'s mouth, which was\\n  wide, thin, and hard set. The emphasis was helped by the speaker\\'s\\n  voice, which was inflexible, dry, and dictatorial. The emphasis was\\n  helped by the speaker\\'s hair, which bristled on the skirts of his\\n  bald head, a plantation of firs to keep the wind from its shining\\n  surface, all covered with knobs, like the crust of a plum pie, as if\\n  the head had scarcely warehouse-room for the hard facts stored\\n  inside. The speaker\\'s obstinate carriage, square coat, square legs,\\n  square shoulders, - nay, his very neckcloth, trained to take him by\\n  the throat with an unaccommodating grasp, like a stubborn fact, as\\n  it was, - all helped the emphasis.</p>\\n\\n  <p.\\'In this life, we want nothing but Facts, sir; nothing but\\n  Facts!\\'</p>\\n\\n  <p>The speaker, and the schoolmaster, and the third grown person\\n  present, all backed a little, and swept with their eyes the inclined\\n  plane of little vessels then and there arranged in order, ready to\\n  have imperial gallons of facts poured into them until they were full\\n  to the brim.</p>\\n\\n\\n  <h2>CHAPTER II - MURDERING THE INNOCENTS</h2>\\n\\n  <p>THOMAS GRADGRIND, sir. A man of realities. A man of facts and\\n  calculations. A man who proceeds upon the principle that two and two\\n  are four, and nothing over, and who is not to be talked into\\n  allowing for anything\\n  over. <a href=\"https://en.wikipedia.org/wiki/Gradgrind\">Thomas\\n  Gradgrind</a>, sir - peremptorily Thomas - Thomas Gradgrind. With a\\n  rule and a pair of scales, and the multiplication table always in\\n  his pocket, sir, ready to weigh and measure any parcel of human\\n  nature, and tell you exactly what it comes to. It is a mere question\\n  of figures, a case of simple arithmetic. You might hope to get some\\n  other nonsensical belief into the head of George Gradgrind, or\\n  Augustus Gradgrind, or John Gradgrind, or Joseph Gradgrind (all\\n  supposititious, non-existent persons), but into the head of Thomas\\n  Gradgrind - no, sir!</p>\\n\\n  <p>In such terms Mr. Gradgrind always mentally introduced himself,\\n  whether to his private circle of acquaintance, or to the public in\\n  general. In such terms, no doubt, substituting the words \\'boys and\\n  girls,\\' for \\'sir,\\' Thomas Gradgrind now presented Thomas Gradgrind\\n  to the little pitchers before him, who were to be filled so full of\\n  facts.</p>\\n\\n  <p>Indeed, as he eagerly sparkled at them from the cellarage before\\n  mentioned, he seemed a kind of cannon loaded to the muzzle with\\n  facts, and prepared to blow them clean out of the regions of\\n  <b>childhood</b> at one discharge. He seemed a <i>galvanizing</i>\\n  apparatus, too, charged with a grim mechanical substitute for the\\n  tender young <i>imaginations</i> that were to be stormed away.</p>\\n\\n  <p>\\'Girl number twenty,\\' said Mr. Gradgrind, squarely pointing with\\n  his square forefinger, \\'I don\\'t know that girl. Who is that\\n  girl?\\'</p>\\n\\n  <p>\\'Sissy Jupe, sir,\\' explained number twenty, blushing, standing\\n  up, and curtseying.</p>\\n\\n  <p>\\'Sissy is not a name,\\' said Mr. Gradgrind. \\'Don\\'t call yourself\\n  Sissy. Call yourself Cecilia.\\'</p>\\n\\n  <p>\\'It\\'s father as calls me Sissy, sir,\\' returned the young girl in\\n  a trembling voice, and with another curtsey.</p>\\n\\n  <p>\\'Then he has no business to do it,\\' said Mr. Gradgrind. \\'Tell him\\n  he mustn\\'t. Cecilia Jupe. Let me see. What is your father?\\'</p>\\n\\n  <p>\\'He belongs to the horse-riding, if you please, sir.\\'</p>\\n\\n  <p>Mr. Gradgrind frowned, and waved off the objectionable calling\\n  with his hand.</p>\\n\\n  <p>\\'We don\\'t want to know anything about that, here. You mustn\\'t\\n  tell us about that, here. Your father breaks horses, don\\'t he?\\'</p>\\n\\n  <p>\\'If you please, sir, when they can get any to break, they do\\n  break horses in the ring, sir.\\'</p>\\n\\n  <p>\\'You mustn\\'t tell us about the ring, here. Very well,\\n  then. Describe your father as a horsebreaker. He doctors sick\\n  horses, I dare say?\\'</p>\\n\\n  <p>\\'Oh yes, sir.\\'</p>\\n\\n  <p>\\'Very well, then. He is a veterinary surgeon, a farrier, and\\n  horsebreaker. Give me your definition of a horse.\\'</p>\\n\\n  <p>(Sissy Jupe thrown into the greatest alarm by this demand.)</p>\\n\\n  <p>\\'Girl number twenty unable to define a horse!\\' said\\n  Mr. Gradgrind, for the general behoof of all the little\\n  pitchers. \\'Girl number twenty possessed of no facts, in reference to\\n  one of the commonest of animals! Some boy\\'s definition of a\\n  horse. Bitzer, yours.\\'</p>\\n\\n  <hr> \\n\\n  <p>\\n    <a href=\"https://en.wikipedia.org/wiki/Charles_Dickens\">See Charles\\n      Dickens in Wikipedia</a></p>\\n\\n  <hr>\\n\\n  <div class=\"signature\">\\n    <p id=\"author\">Charles Dickens</p>\\n    <p id=\"title\">Hard Times</p>\\n  </div>\\n  \\n</body>\\n</html>\\n'"
            ],
            "application/vnd.google.colaboratory.intrinsic+json": {
              "type": "string"
            }
          },
          "metadata": {},
          "execution_count": 9
        }
      ]
    },
    {
      "cell_type": "markdown",
      "source": [
        "Эту информацию можно парсить. \n",
        "\n",
        "\"Парсинг\" означает выявление структуры и сопоставление ее с иерархией объектов Python.\n",
        "\n",
        "Синтаксический анализ выполняется с помощью анализатора `BeautifulSoup`, соответствующее имя модуля Python - `bs4`."
      ],
      "metadata": {
        "id": "0TvLie2ezeKO"
      }
    },
    {
      "cell_type": "code",
      "source": [
        "from bs4 import BeautifulSoup\n",
        "\n",
        "# Объект, в котором будет сохранён результат парсинга\n",
        "soup = BeautifulSoup(raw_data.text, 'html5lib')\n",
        "\n",
        "print(soup)"
      ],
      "metadata": {
        "id": "PP7Rwj_2Y0za",
        "colab": {
          "base_uri": "https://localhost:8080/"
        },
        "outputId": "40bc417f-07d4-4064-9827-90d784c6394c"
      },
      "execution_count": null,
      "outputs": [
        {
          "output_type": "stream",
          "name": "stdout",
          "text": [
            "<!DOCTYPE html>\n",
            "<html lang=\"en-US\"><head>\n",
            "    <title>data-sc-intro</title>\n",
            "    <meta charset=\"utf-8\"/>\n",
            "</head>\n",
            "<body>\n",
            "\n",
            "  <h1>Fragment of Hard Times by Charles Dickens</h1>\n",
            "\n",
            "  <img src=\"dickens.jpg\"/>\n",
            "\n",
            "  <p>Hard Times is the tenth novel by Charles Dickens, first published\n",
            "  in 1854. The book surveys English society and satirises the social\n",
            "  and economic conditions of the era. </p>\n",
            "  \n",
            "  <h2>CHAPTER I - THE ONE THING NEEDFUL</h2>\n",
            "\n",
            "  <p>'NOW, what I want is, <b>Facts</b>. Teach these boys and girls nothing\n",
            "  but Facts. Facts alone are wanted in life. Plant nothing else, and\n",
            "  root out everything else. You can only form the minds of reasoning\n",
            "  animals upon Facts: nothing else will ever be of any service to\n",
            "  them. This is the principle on which I bring up my own children, and\n",
            "  this is the principle on which I bring up these children. Stick to\n",
            "  Facts, sir!'</p>\n",
            "\n",
            "  <p>The scene was a plain, bare, monotonous vault of a school-room,\n",
            "  and the speaker's square forefinger <i>emphasized</i> his observations by\n",
            "  underscoring every sentence with a line on the schoolmaster's\n",
            "  sleeve. The emphasis was helped by the speaker's square wall of a\n",
            "  forehead, which had his eyebrows for its base, while his eyes found\n",
            "  commodious cellarage in two dark caves, overshadowed by the\n",
            "  wall. The emphasis was helped by the speaker's mouth, which was\n",
            "  wide, thin, and hard set. The emphasis was helped by the speaker's\n",
            "  voice, which was inflexible, dry, and dictatorial. The emphasis was\n",
            "  helped by the speaker's hair, which bristled on the skirts of his\n",
            "  bald head, a plantation of firs to keep the wind from its shining\n",
            "  surface, all covered with knobs, like the crust of a plum pie, as if\n",
            "  the head had scarcely warehouse-room for the hard facts stored\n",
            "  inside. The speaker's obstinate carriage, square coat, square legs,\n",
            "  square shoulders, - nay, his very neckcloth, trained to take him by\n",
            "  the throat with an unaccommodating grasp, like a stubborn fact, as\n",
            "  it was, - all helped the emphasis.</p>\n",
            "\n",
            "  <p.'in but=\"\" facts!'<=\"\" facts,=\"\" life,=\"\" nothing=\"\" p=\"\" sir;=\"\" this=\"\" want=\"\" we=\"\">\n",
            "\n",
            "  <p>The speaker, and the schoolmaster, and the third grown person\n",
            "  present, all backed a little, and swept with their eyes the inclined\n",
            "  plane of little vessels then and there arranged in order, ready to\n",
            "  have imperial gallons of facts poured into them until they were full\n",
            "  to the brim.</p>\n",
            "\n",
            "\n",
            "  <h2>CHAPTER II - MURDERING THE INNOCENTS</h2>\n",
            "\n",
            "  <p>THOMAS GRADGRIND, sir. A man of realities. A man of facts and\n",
            "  calculations. A man who proceeds upon the principle that two and two\n",
            "  are four, and nothing over, and who is not to be talked into\n",
            "  allowing for anything\n",
            "  over. <a href=\"https://en.wikipedia.org/wiki/Gradgrind\">Thomas\n",
            "  Gradgrind</a>, sir - peremptorily Thomas - Thomas Gradgrind. With a\n",
            "  rule and a pair of scales, and the multiplication table always in\n",
            "  his pocket, sir, ready to weigh and measure any parcel of human\n",
            "  nature, and tell you exactly what it comes to. It is a mere question\n",
            "  of figures, a case of simple arithmetic. You might hope to get some\n",
            "  other nonsensical belief into the head of George Gradgrind, or\n",
            "  Augustus Gradgrind, or John Gradgrind, or Joseph Gradgrind (all\n",
            "  supposititious, non-existent persons), but into the head of Thomas\n",
            "  Gradgrind - no, sir!</p>\n",
            "\n",
            "  <p>In such terms Mr. Gradgrind always mentally introduced himself,\n",
            "  whether to his private circle of acquaintance, or to the public in\n",
            "  general. In such terms, no doubt, substituting the words 'boys and\n",
            "  girls,' for 'sir,' Thomas Gradgrind now presented Thomas Gradgrind\n",
            "  to the little pitchers before him, who were to be filled so full of\n",
            "  facts.</p>\n",
            "\n",
            "  <p>Indeed, as he eagerly sparkled at them from the cellarage before\n",
            "  mentioned, he seemed a kind of cannon loaded to the muzzle with\n",
            "  facts, and prepared to blow them clean out of the regions of\n",
            "  <b>childhood</b> at one discharge. He seemed a <i>galvanizing</i>\n",
            "  apparatus, too, charged with a grim mechanical substitute for the\n",
            "  tender young <i>imaginations</i> that were to be stormed away.</p>\n",
            "\n",
            "  <p>'Girl number twenty,' said Mr. Gradgrind, squarely pointing with\n",
            "  his square forefinger, 'I don't know that girl. Who is that\n",
            "  girl?'</p>\n",
            "\n",
            "  <p>'Sissy Jupe, sir,' explained number twenty, blushing, standing\n",
            "  up, and curtseying.</p>\n",
            "\n",
            "  <p>'Sissy is not a name,' said Mr. Gradgrind. 'Don't call yourself\n",
            "  Sissy. Call yourself Cecilia.'</p>\n",
            "\n",
            "  <p>'It's father as calls me Sissy, sir,' returned the young girl in\n",
            "  a trembling voice, and with another curtsey.</p>\n",
            "\n",
            "  <p>'Then he has no business to do it,' said Mr. Gradgrind. 'Tell him\n",
            "  he mustn't. Cecilia Jupe. Let me see. What is your father?'</p>\n",
            "\n",
            "  <p>'He belongs to the horse-riding, if you please, sir.'</p>\n",
            "\n",
            "  <p>Mr. Gradgrind frowned, and waved off the objectionable calling\n",
            "  with his hand.</p>\n",
            "\n",
            "  <p>'We don't want to know anything about that, here. You mustn't\n",
            "  tell us about that, here. Your father breaks horses, don't he?'</p>\n",
            "\n",
            "  <p>'If you please, sir, when they can get any to break, they do\n",
            "  break horses in the ring, sir.'</p>\n",
            "\n",
            "  <p>'You mustn't tell us about the ring, here. Very well,\n",
            "  then. Describe your father as a horsebreaker. He doctors sick\n",
            "  horses, I dare say?'</p>\n",
            "\n",
            "  <p>'Oh yes, sir.'</p>\n",
            "\n",
            "  <p>'Very well, then. He is a veterinary surgeon, a farrier, and\n",
            "  horsebreaker. Give me your definition of a horse.'</p>\n",
            "\n",
            "  <p>(Sissy Jupe thrown into the greatest alarm by this demand.)</p>\n",
            "\n",
            "  <p>'Girl number twenty unable to define a horse!' said\n",
            "  Mr. Gradgrind, for the general behoof of all the little\n",
            "  pitchers. 'Girl number twenty possessed of no facts, in reference to\n",
            "  one of the commonest of animals! Some boy's definition of a\n",
            "  horse. Bitzer, yours.'</p>\n",
            "\n",
            "  <hr/> \n",
            "\n",
            "  <p>\n",
            "    <a href=\"https://en.wikipedia.org/wiki/Charles_Dickens\">See Charles\n",
            "      Dickens in Wikipedia</a></p>\n",
            "\n",
            "  <hr/>\n",
            "\n",
            "  <div class=\"signature\">\n",
            "    <p id=\"author\">Charles Dickens</p>\n",
            "    <p id=\"title\">Hard Times</p>\n",
            "  </div>\n",
            "  \n",
            "\n",
            "\n",
            "</p.'in></body></html>\n"
          ]
        }
      ]
    },
    {
      "cell_type": "markdown",
      "source": [
        "#### Поиск информации в документе"
      ],
      "metadata": {
        "id": "Xds3AyxXz1WC"
      }
    },
    {
      "cell_type": "code",
      "source": [
        "# Находит только первый элемент с тегом <p>\n",
        "print(soup.find('p'))"
      ],
      "metadata": {
        "id": "VTJ-6WbdY0xB",
        "colab": {
          "base_uri": "https://localhost:8080/"
        },
        "outputId": "8ae58487-5538-4675-df9e-c3e2f1bcca8d"
      },
      "execution_count": null,
      "outputs": [
        {
          "output_type": "stream",
          "name": "stdout",
          "text": [
            "<p>Hard Times is the tenth novel by Charles Dickens, first published\n",
            "  in 1854. The book surveys English society and satirises the social\n",
            "  and economic conditions of the era. </p>\n"
          ]
        }
      ]
    },
    {
      "cell_type": "code",
      "source": [
        "print(soup.find('p').text)"
      ],
      "metadata": {
        "id": "M354j9cVY0uO",
        "colab": {
          "base_uri": "https://localhost:8080/"
        },
        "outputId": "deba2ad5-15ee-402d-e7e7-9b058c1ddeaf"
      },
      "execution_count": null,
      "outputs": [
        {
          "output_type": "stream",
          "name": "stdout",
          "text": [
            "Hard Times is the tenth novel by Charles Dickens, first published\n",
            "  in 1854. The book surveys English society and satirises the social\n",
            "  and economic conditions of the era. \n"
          ]
        }
      ]
    },
    {
      "cell_type": "code",
      "source": [
        "# Поиск всех элементов с тегом <h2>\n",
        "all_h2 = soup.find_all('h2')\n",
        "print(type(all_h2))\n",
        "print(all_h2)"
      ],
      "metadata": {
        "colab": {
          "base_uri": "https://localhost:8080/"
        },
        "id": "lVT1GH4bzppz",
        "outputId": "007a9842-89e9-4a0c-ce69-2636f206c172"
      },
      "execution_count": null,
      "outputs": [
        {
          "output_type": "stream",
          "name": "stdout",
          "text": [
            "<class 'bs4.element.ResultSet'>\n",
            "[<h2>CHAPTER I - THE ONE THING NEEDFUL</h2>, <h2>CHAPTER II - MURDERING THE INNOCENTS</h2>]\n"
          ]
        }
      ]
    },
    {
      "cell_type": "code",
      "source": [
        "# Взятие текста из каждого заголовка\n",
        "print([x.text for x in soup('h2')])"
      ],
      "metadata": {
        "colab": {
          "base_uri": "https://localhost:8080/"
        },
        "id": "fRihbgfV0OBT",
        "outputId": "3a185770-caef-4eb5-f899-d43c798c3935"
      },
      "execution_count": null,
      "outputs": [
        {
          "output_type": "stream",
          "name": "stdout",
          "text": [
            "['CHAPTER I - THE ONE THING NEEDFUL', 'CHAPTER II - MURDERING THE INNOCENTS']\n"
          ]
        }
      ]
    },
    {
      "cell_type": "markdown",
      "source": [
        "Теги могут быть вложенными.\n",
        "\n",
        "И у каждого тега есть собственный метод `find_all`, который ищет внутри только внутри текущего тега, а не по всему документу."
      ],
      "metadata": {
        "id": "_AaenlRt1Sa5"
      }
    },
    {
      "cell_type": "code",
      "source": [
        "# Поиск всех элементов с тегом <p>, в которых есть элементы с тегами <i> или <b>\n",
        "\n",
        "all_p = soup.find_all('p')\n",
        "for tag in all_p:\n",
        "    if len(tag.find_all('i')) != 0:\n",
        "        print(tag)\n",
        "    if len(tag.find_all('b')) != 0:\n",
        "        print(tag)"
      ],
      "metadata": {
        "colab": {
          "base_uri": "https://localhost:8080/"
        },
        "id": "g1uTt_JB0N_C",
        "outputId": "514a5729-4e7e-45a6-b53e-c26663b15c15"
      },
      "execution_count": null,
      "outputs": [
        {
          "output_type": "stream",
          "name": "stdout",
          "text": [
            "<p>'NOW, what I want is, <b>Facts</b>. Teach these boys and girls nothing\n",
            "  but Facts. Facts alone are wanted in life. Plant nothing else, and\n",
            "  root out everything else. You can only form the minds of reasoning\n",
            "  animals upon Facts: nothing else will ever be of any service to\n",
            "  them. This is the principle on which I bring up my own children, and\n",
            "  this is the principle on which I bring up these children. Stick to\n",
            "  Facts, sir!'</p>\n",
            "<p>The scene was a plain, bare, monotonous vault of a school-room,\n",
            "  and the speaker's square forefinger <i>emphasized</i> his observations by\n",
            "  underscoring every sentence with a line on the schoolmaster's\n",
            "  sleeve. The emphasis was helped by the speaker's square wall of a\n",
            "  forehead, which had his eyebrows for its base, while his eyes found\n",
            "  commodious cellarage in two dark caves, overshadowed by the\n",
            "  wall. The emphasis was helped by the speaker's mouth, which was\n",
            "  wide, thin, and hard set. The emphasis was helped by the speaker's\n",
            "  voice, which was inflexible, dry, and dictatorial. The emphasis was\n",
            "  helped by the speaker's hair, which bristled on the skirts of his\n",
            "  bald head, a plantation of firs to keep the wind from its shining\n",
            "  surface, all covered with knobs, like the crust of a plum pie, as if\n",
            "  the head had scarcely warehouse-room for the hard facts stored\n",
            "  inside. The speaker's obstinate carriage, square coat, square legs,\n",
            "  square shoulders, - nay, his very neckcloth, trained to take him by\n",
            "  the throat with an unaccommodating grasp, like a stubborn fact, as\n",
            "  it was, - all helped the emphasis.</p>\n",
            "<p>Indeed, as he eagerly sparkled at them from the cellarage before\n",
            "  mentioned, he seemed a kind of cannon loaded to the muzzle with\n",
            "  facts, and prepared to blow them clean out of the regions of\n",
            "  <b>childhood</b> at one discharge. He seemed a <i>galvanizing</i>\n",
            "  apparatus, too, charged with a grim mechanical substitute for the\n",
            "  tender young <i>imaginations</i> that were to be stormed away.</p>\n",
            "<p>Indeed, as he eagerly sparkled at them from the cellarage before\n",
            "  mentioned, he seemed a kind of cannon loaded to the muzzle with\n",
            "  facts, and prepared to blow them clean out of the regions of\n",
            "  <b>childhood</b> at one discharge. He seemed a <i>galvanizing</i>\n",
            "  apparatus, too, charged with a grim mechanical substitute for the\n",
            "  tender young <i>imaginations</i> that were to be stormed away.</p>\n"
          ]
        }
      ]
    },
    {
      "cell_type": "code",
      "source": [
        "# Поиск всех картинок\n",
        "print(soup('img'))\n",
        "\n",
        "# Обратите внимание, что такая запись эквивалентна soup.find_all('img')"
      ],
      "metadata": {
        "id": "EXfoNggd0N8S",
        "colab": {
          "base_uri": "https://localhost:8080/"
        },
        "outputId": "a645ccb3-46d2-4bd0-f763-d28ddf1cbba1"
      },
      "execution_count": null,
      "outputs": [
        {
          "output_type": "stream",
          "name": "stdout",
          "text": [
            "[<img src=\"dickens.jpg\"/>]\n"
          ]
        }
      ]
    },
    {
      "cell_type": "code",
      "source": [
        "# Поиск всех гиперссылок\n",
        "print(soup('a'))"
      ],
      "metadata": {
        "id": "HwLR07n91vK_",
        "colab": {
          "base_uri": "https://localhost:8080/"
        },
        "outputId": "0498b6ee-464e-4932-fdf2-b2e95ec09c2f"
      },
      "execution_count": null,
      "outputs": [
        {
          "output_type": "stream",
          "name": "stdout",
          "text": [
            "[<a href=\"https://en.wikipedia.org/wiki/Gradgrind\">Thomas\n",
            "  Gradgrind</a>, <a href=\"https://en.wikipedia.org/wiki/Charles_Dickens\">See Charles\n",
            "      Dickens in Wikipedia</a>]\n"
          ]
        }
      ]
    },
    {
      "cell_type": "code",
      "source": [
        "# Весь текст со страницы\n",
        "print(soup.text)"
      ],
      "metadata": {
        "id": "qh68oJ_61vIf"
      },
      "execution_count": null,
      "outputs": []
    },
    {
      "cell_type": "markdown",
      "source": [
        "### Парсинг страницы Википедии"
      ],
      "metadata": {
        "id": "Lz1miX5n227_"
      }
    },
    {
      "cell_type": "code",
      "source": [
        "url = 'https://ru.wikipedia.org/wiki/Netflix'\n",
        "raw_data = requests.get(url)\n",
        "soup = BeautifulSoup(raw_data.text, 'html5lib')\n",
        "\n",
        "# Структура этой страницы намного сложнее\n",
        "print(soup)"
      ],
      "metadata": {
        "id": "2MigAsyE1vGE",
        "colab": {
          "base_uri": "https://localhost:8080/"
        },
        "outputId": "e26b0570-ff61-454c-af04-6c2b0c942c04"
      },
      "execution_count": null,
      "outputs": [
        {
          "output_type": "stream",
          "name": "stdout",
          "text": [
            "<!DOCTYPE html>\n",
            "<html class=\"client-nojs\" dir=\"ltr\" lang=\"ru\"><head>\n",
            "<meta charset=\"utf-8\"/>\n",
            "<title>Netflix — Википедия</title>\n",
            "<script>document.documentElement.className=\"client-js\";RLCONF={\"wgBreakFrames\":false,\"wgSeparatorTransformTable\":[\",\\t.\",\" \\t,\"],\"wgDigitTransformTable\":[\"\",\"\"],\"wgDefaultDateFormat\":\"dmy\",\"wgMonthNames\":[\"\",\"январь\",\"февраль\",\"март\",\"апрель\",\"май\",\"июнь\",\"июль\",\"август\",\"сентябрь\",\"октябрь\",\"ноябрь\",\"декабрь\"],\"wgRequestId\":\"b1796b1e-399e-48c4-be58-e189d22b3f2e\",\"wgCSPNonce\":false,\"wgCanonicalNamespace\":\"\",\"wgCanonicalSpecialPageName\":false,\"wgNamespaceNumber\":0,\"wgPageName\":\"Netflix\",\"wgTitle\":\"Netflix\",\"wgCurRevisionId\":120557852,\"wgRevisionId\":120557852,\"wgArticleId\":3406461,\"wgIsArticle\":true,\"wgIsRedirect\":false,\"wgAction\":\"view\",\"wgUserName\":null,\"wgUserGroups\":[\"*\"],\"wgCategories\":[\"Википедия:Cite news (заполнен параметр id)\",\"Википедия:Cite web (не указан язык)\",\"Википедия:Страницы с ежедневно очищаемым кэшем\",\n",
            "\"Википедия:Статьи со ссылками на элементы Викиданных без русской подписи\",\"Википедия:Статьи с источниками из Викиданных\",\"Википедия:Глобализировать\",\"Статьи со ссылками на Викисклад\",\"Википедия:Запросы на перевод с английского\",\"Википедия:Страницы с картами\",\"Компании, имеющие листинг акций на NASDAQ\",\"Компании по алфавиту\",\"Компании, основанные в 1997 году\",\"Стриминговые сервисы\",\"Netflix\",\"Кинокомпании США\",\"Компании Кремниевой долины\"],\"wgPageContentLanguage\":\"ru\",\"wgPageContentModel\":\"wikitext\",\"wgRelevantPageName\":\"Netflix\",\"wgRelevantArticleId\":3406461,\"wgIsProbablyEditable\":true,\"wgRelevantPageIsProbablyEditable\":true,\"wgRestrictionEdit\":[],\n",
            "\"wgRestrictionMove\":[],\"wgFlaggedRevsParams\":{\"tags\":{\"accuracy\":{\"levels\":1}}},\"wgStableRevisionId\":120557852,\"wgVisualEditor\":{\"pageLanguageCode\":\"ru\",\"pageLanguageDir\":\"ltr\",\"pageVariantFallbacks\":\"ru\"},\"wgMFDisplayWikibaseDescriptions\":{\"search\":true,\"nearby\":true,\"watchlist\":true,\"tagline\":false},\"wgWMESchemaEditAttemptStepOversample\":false,\"wgWMEPageLength\":50000,\"wgNoticeProject\":\"wikipedia\",\"wgMediaViewerOnClick\":true,\"wgMediaViewerEnabledByDefault\":true,\"wgPopupsFlags\":10,\"wgULSCurrentAutonym\":\"русский\",\"wgCoordinates\":{\"lat\":37.2597,\"lon\":-121.9627},\"wgEditSubmitButtonLabelPublish\":true,\"wgCentralAuthMobileDomain\":false,\"wgULSPosition\":\"interlanguage\",\"wgULSisCompactLinksEnabled\":true,\"wgWikibaseItemId\":\"Q907311\",\"wgGENewcomerTasksGuidanceEnabled\":true,\"wgGEAskQuestionEnabled\":true,\"wgGELinkRecommendationsFrontendEnabled\":true};RLSTATE={\"ext.globalCssJs.user.styles\":\"ready\",\"site.styles\":\"ready\",\"user.styles\":\"ready\",\"ext.globalCssJs.user\":\"ready\",\"user\":\"ready\",\n",
            "\"user.options\":\"loading\",\"ext.flaggedRevs.icons\":\"ready\",\"oojs-ui-core.styles\":\"ready\",\"oojs-ui.styles.indicators\":\"ready\",\"mediawiki.widgets.styles\":\"ready\",\"oojs-ui-core.icons\":\"ready\",\"ext.cite.styles\":\"ready\",\"ext.kartographer.style\":\"ready\",\"mediawiki.page.gallery.styles\":\"ready\",\"skins.vector.styles.legacy\":\"ready\",\"jquery.tablesorter.styles\":\"ready\",\"ext.flaggedRevs.basic\":\"ready\",\"ext.visualEditor.desktopArticleTarget.noscript\":\"ready\",\"ext.wikimediaBadges\":\"ready\",\"ext.uls.interlanguage\":\"ready\",\"wikibase.client.init\":\"ready\"};RLPAGEMODULES=[\"ext.cite.ux-enhancements\",\"ext.kartographer.link\",\"mediawiki.page.gallery.slideshow\",\"ext.scribunto.logs\",\"site\",\"mediawiki.page.ready\",\"jquery.tablesorter\",\"mediawiki.toc\",\"skins.vector.legacy.js\",\"ext.flaggedRevs.advanced\",\"ext.gadget.collapserefs\",\"ext.gadget.directLinkToCommons\",\"ext.gadget.referenceTooltips\",\"ext.gadget.logo\",\"ext.gadget.edittop\",\"ext.gadget.blpEditNotice\",\"ext.gadget.wikibugs\",\"ext.gadget.sidebarRelated\",\n",
            "\"ext.gadget.navboxNavigation\",\"mmv.head\",\"mmv.bootstrap.autostart\",\"ext.visualEditor.desktopArticleTarget.init\",\"ext.visualEditor.targetLoader\",\"ext.eventLogging\",\"ext.wikimediaEvents\",\"ext.navigationTiming\",\"ext.cx.eventlogging.campaigns\",\"ext.quicksurveys.init\",\"ext.centralNotice.geoIP\",\"ext.centralNotice.startUp\",\"ext.centralauth.centralautologin\",\"ext.popups\",\"ext.uls.compactlinks\",\"ext.uls.interface\",\"ext.growthExperiments.SuggestedEditSession\"];</script>\n",
            "<script>(RLQ=window.RLQ||[]).push(function(){mw.loader.implement(\"user.options@1i9g4\",function($,jQuery,require,module){mw.user.tokens.set({\"patrolToken\":\"+\\\\\",\"watchToken\":\"+\\\\\",\"csrfToken\":\"+\\\\\"});});});</script>\n",
            "<link href=\"/w/load.php?lang=ru&amp;modules=ext.cite.styles%7Cext.flaggedRevs.basic%2Cicons%7Cext.kartographer.style%7Cext.uls.interlanguage%7Cext.visualEditor.desktopArticleTarget.noscript%7Cext.wikimediaBadges%7Cjquery.tablesorter.styles%7Cmediawiki.page.gallery.styles%7Cmediawiki.widgets.styles%7Coojs-ui-core.icons%2Cstyles%7Coojs-ui.styles.indicators%7Cskins.vector.styles.legacy%7Cwikibase.client.init&amp;only=styles&amp;skin=vector\" rel=\"stylesheet\"/>\n",
            "<script async=\"\" src=\"/w/load.php?lang=ru&amp;modules=startup&amp;only=scripts&amp;raw=1&amp;skin=vector\"></script>\n",
            "<meta content=\"\" name=\"ResourceLoaderDynamicStyles\"/>\n",
            "<link href=\"/w/load.php?lang=ru&amp;modules=site.styles&amp;only=styles&amp;skin=vector\" rel=\"stylesheet\"/>\n",
            "<noscript><link href=\"/w/load.php?lang=ru&amp;modules=noscript&amp;only=styles&amp;skin=vector\" rel=\"stylesheet\"/></noscript>\n",
            "<meta content=\"MediaWiki 1.38.0-wmf.25\" name=\"generator\"/>\n",
            "<meta content=\"origin\" name=\"referrer\"/>\n",
            "<meta content=\"origin-when-crossorigin\" name=\"referrer\"/>\n",
            "<meta content=\"origin-when-cross-origin\" name=\"referrer\"/>\n",
            "<meta content=\"telephone=no\" name=\"format-detection\"/>\n",
            "<meta content=\"https://upload.wikimedia.org/wikipedia/commons/thumb/9/9d/Netflix_headquarters.jpg/1200px-Netflix_headquarters.jpg\" property=\"og:image\"/>\n",
            "<meta content=\"1200\" property=\"og:image:width\"/>\n",
            "<meta content=\"901\" property=\"og:image:height\"/>\n",
            "<meta content=\"https://upload.wikimedia.org/wikipedia/commons/thumb/9/9d/Netflix_headquarters.jpg/800px-Netflix_headquarters.jpg\" property=\"og:image\"/>\n",
            "<meta content=\"800\" property=\"og:image:width\"/>\n",
            "<meta content=\"601\" property=\"og:image:height\"/>\n",
            "<meta content=\"https://upload.wikimedia.org/wikipedia/commons/thumb/9/9d/Netflix_headquarters.jpg/640px-Netflix_headquarters.jpg\" property=\"og:image\"/>\n",
            "<meta content=\"640\" property=\"og:image:width\"/>\n",
            "<meta content=\"481\" property=\"og:image:height\"/>\n",
            "<meta content=\"Netflix — Википедия\" property=\"og:title\"/>\n",
            "<meta content=\"website\" property=\"og:type\"/>\n",
            "<link href=\"//upload.wikimedia.org\" rel=\"preconnect\"/>\n",
            "<link href=\"//ru.m.wikipedia.org/wiki/Netflix\" media=\"only screen and (max-width: 720px)\" rel=\"alternate\"/>\n",
            "<link href=\"/w/index.php?title=Netflix&amp;action=edit\" rel=\"alternate\" title=\"Править\" type=\"application/x-wiki\"/>\n",
            "<link href=\"/static/apple-touch/wikipedia.png\" rel=\"apple-touch-icon\"/>\n",
            "<link href=\"/static/favicon/wikipedia.ico\" rel=\"shortcut icon\"/>\n",
            "<link href=\"/w/opensearch_desc.php\" rel=\"search\" title=\"Википедия (ru)\" type=\"application/opensearchdescription+xml\"/>\n",
            "<link href=\"//ru.wikipedia.org/w/api.php?action=rsd\" rel=\"EditURI\" type=\"application/rsd+xml\"/>\n",
            "<link href=\"https://creativecommons.org/licenses/by-sa/3.0/\" rel=\"license\"/>\n",
            "<link href=\"https://ru.wikipedia.org/wiki/Netflix\" rel=\"canonical\"/>\n",
            "<link href=\"//meta.wikimedia.org\" rel=\"dns-prefetch\"/>\n",
            "<link href=\"//login.wikimedia.org\" rel=\"dns-prefetch\"/>\n",
            "</head>\n",
            "<body class=\"mediawiki ltr sitedir-ltr mw-hide-empty-elt ns-0 ns-subject mw-editable page-Netflix rootpage-Netflix skin-vector action-view skin-vector-legacy\"><div class=\"noprint\" id=\"mw-page-base\"></div>\n",
            "<div class=\"noprint\" id=\"mw-head-base\"></div>\n",
            "<div class=\"mw-body\" id=\"content\" role=\"main\">\n",
            "\t<a id=\"top\"></a>\n",
            "\t<div id=\"siteNotice\"><!-- CentralNotice --></div>\n",
            "\t<div class=\"mw-indicators\">\n",
            "\t<div class=\"mw-indicator\" id=\"mw-indicator-0-coord\"><span class=\"coordinates plainlinks nourlexpansion\" data-param=\"37.2597_0_0_N_121.9627_0_0_W_type:edu_region:US_scale:2000\"><span title=\"Показать карту\"><a class=\"mw-kartographer-maplink\" data-lang=\"ru\" data-lat=\"37.2597\" data-lon=\"-121.9627\" data-mw=\"interface\" data-overlays='[\"_c3cc68eead1ec5e07294d05c8ac931b9beed4882\"]' data-style=\"osm-tegola\" data-zoom=\"17\" href=\"/wiki/%D0%A1%D0%BB%D1%83%D0%B6%D0%B5%D0%B1%D0%BD%D0%B0%D1%8F:Map/17/37.2597/-121.9627/ru\">37°15′35″ с. ш. 121°57′46″ з. д.</a></span><sup class=\"geo-services noprint\"><span class=\"geo-geohack\" title=\"Карты и инструменты на GeoHack\"><a class=\"external text\" href=\"//geohack.toolforge.org/geohack.php?language=ru&amp;pagename=Netflix&amp;params=37.2597_0_0_N_121.9627_0_0_W_type:edu_region:US_scale:2000\"><span>H</span></a></span><span class=\"geo-google\" title=\"Это место на «Картах Google»\"><a class=\"external text\" href=\"//maps.google.com/maps?ll=37.2597,-121.9627&amp;q=37.2597,-121.9627&amp;spn=0.002,0.002&amp;t=h&amp;hl=ru\" rel=\"nofollow\"><span>G</span></a></span><span class=\"geo-yandex\" title=\"Это место на «Яндекс.Картах»\"><a class=\"external text\" href=\"//yandex.ru/maps/?ll=-121.9627,37.2597&amp;pt=-121.9627,37.2597&amp;spn=0.002,0.002&amp;l=sat,skl\" rel=\"nofollow\"><span>Я</span></a></span><span class=\"geo-osm\" title=\"Это место на карте OpenStreetMap\"><a class=\"external text\" href=\"https://www.openstreetmap.org/?mlat=37.2597&amp;mlon=-121.9627&amp;zoom=17\" rel=\"nofollow\"><span>O</span></a></span></sup></span></div>\n",
            "\t</div>\n",
            "\t<h1 class=\"firstHeading mw-first-heading\" id=\"firstHeading\">Netflix</h1>\n",
            "\t<div class=\"vector-body\" id=\"bodyContent\">\n",
            "\t\t<div class=\"noprint\" id=\"siteSub\">Материал из Википедии — свободной энциклопедии</div>\n",
            "\t\t<div id=\"contentSub\"></div>\n",
            "\t\t<div id=\"contentSub2\"></div>\n",
            "\t\t\n",
            "\t\t<div id=\"jump-to-nav\"></div>\n",
            "\t\t<a class=\"mw-jump-link\" href=\"#mw-head\">Перейти к навигации</a>\n",
            "\t\t<a class=\"mw-jump-link\" href=\"#searchInput\">Перейти к поиску</a>\n",
            "\t\t<div class=\"mw-body-content mw-content-ltr\" dir=\"ltr\" id=\"mw-content-text\" lang=\"ru\"><div class=\"mw-parser-output\"><table class=\"infobox\" data-name=\"Компания\" style=\"\"><tbody><tr><th class=\"infobox-above\" colspan=\"2\" scope=\"colgroup\" style=\"\">Netflix Inc.</th></tr><tr><td class=\"infobox-image\" colspan=\"2\" style=\"padding:.75em 0;\"> <span class=\"no-wikidata\" data-wikidata-property-id=\"P154\"><a class=\"image\" href=\"/wiki/%D0%A4%D0%B0%D0%B9%D0%BB:Netflix_2015_logo.svg\"><img alt=\"Изображение логотипа\" data-file-height=\"277\" data-file-width=\"1024\" decoding=\"async\" height=\"54\" src=\"//upload.wikimedia.org/wikipedia/commons/thumb/0/08/Netflix_2015_logo.svg/200px-Netflix_2015_logo.svg.png\" srcset=\"//upload.wikimedia.org/wikipedia/commons/thumb/0/08/Netflix_2015_logo.svg/300px-Netflix_2015_logo.svg.png 1.5x, //upload.wikimedia.org/wikipedia/commons/thumb/0/08/Netflix_2015_logo.svg/400px-Netflix_2015_logo.svg.png 2x\" width=\"200\"/></a></span> </td></tr><tr><td class=\"infobox-image\" colspan=\"2\" style=\"\"> <span class=\"wikidata-claim\" data-wikidata-claim-id=\"Q907311$A5ECC899-8BD0-49AC-A7FF-3E39080DBCE4\" data-wikidata-property-id=\"P18\"><span class=\"wikidata-snak wikidata-main-snak\"><a class=\"image\" href=\"/wiki/%D0%A4%D0%B0%D0%B9%D0%BB:Netflix_headquarters.jpg\"><img alt=\"Netflix headquarters.jpg\" data-file-height=\"1561\" data-file-width=\"2079\" decoding=\"async\" height=\"206\" src=\"//upload.wikimedia.org/wikipedia/commons/thumb/9/9d/Netflix_headquarters.jpg/274px-Netflix_headquarters.jpg\" srcset=\"//upload.wikimedia.org/wikipedia/commons/thumb/9/9d/Netflix_headquarters.jpg/411px-Netflix_headquarters.jpg 1.5x, //upload.wikimedia.org/wikipedia/commons/thumb/9/9d/Netflix_headquarters.jpg/548px-Netflix_headquarters.jpg 2x\" width=\"274\"/></a></span></span> </td></tr>\n",
            "<tr>\n",
            "<th class=\"plainlist\" scope=\"row\">Тип</th>\n",
            "<td class=\"plainlist\">\n",
            "<span class=\"no-wikidata\" data-wikidata-property-id=\"P1454\">публичная компания</span></td>\n",
            "</tr>\n",
            "<tr>\n",
            "<th class=\"plainlist\" scope=\"row\"><a class=\"mw-redirect\" href=\"/wiki/%D0%9B%D0%B8%D1%81%D1%82%D0%B8%D0%BD%D0%B3_(%D1%8D%D0%BA%D0%BE%D0%BD%D0%BE%D0%BC%D0%B8%D0%BA%D0%B0)\" title=\"Листинг (экономика)\">Листинг</a> на бирже</th>\n",
            "<td class=\"plainlist\">\n",
            "<span class=\"no-wikidata\" data-wikidata-property-id=\"P414\"><a class=\"mw-redirect\" href=\"/wiki/Nasdaq\" title=\"Nasdaq\">NASDAQ</a>: <span data-wikidata-qualifier-id=\"P249\"><b><a class=\"external text\" href=\"http://www.nasdaq.com/symbol/NFLX\" rel=\"nofollow\">NFLX</a></b></span></span></td>\n",
            "</tr>\n",
            "<tr>\n",
            "<th class=\"plainlist\" scope=\"row\">Основание</th>\n",
            "<td class=\"plainlist\">\n",
            "<span class=\"no-wikidata\" data-wikidata-property-id=\"P571\">1997<span class=\"noprint\">; 25 лет назад</span><span style=\"display:none\"> (<span class=\"bday dtstart published updated\">1997</span>)</span></span></td>\n",
            "</tr>\n",
            "<tr>\n",
            "<th class=\"plainlist\" scope=\"row\">Основатели</th>\n",
            "<td class=\"plainlist\">\n",
            "<span class=\"no-wikidata\" data-wikidata-property-id=\"P112\"><a href=\"/wiki/%D0%A5%D0%B0%D1%81%D1%82%D0%B8%D0%BD%D0%B3%D1%81,_%D0%A0%D0%B8%D0%B4\" title=\"Хастингс, Рид\">Рид Хастингс</a>,<br/><a href=\"/wiki/%D0%A0%D1%8D%D0%BD%D0%B4%D0%BE%D0%BB%D1%8C%D1%84,_%D0%9C%D0%B0%D1%80%D0%BA\" title=\"Рэндольф, Марк\">Марк Рэндольф</a></span></td>\n",
            "</tr>\n",
            "<tr>\n",
            "<th class=\"plainlist\" scope=\"row\">Расположение</th>\n",
            "<td class=\"plainlist\">\n",
            "<span class=\"no-wikidata\" data-wikidata-property-id=\"P159\"><span class=\"nowrap\" data-sort-value=\"США\"><span class=\"flagicon\"><img alt=\"\" class=\"thumbborder\" data-file-height=\"650\" data-file-width=\"1235\" decoding=\"async\" height=\"12\" src=\"//upload.wikimedia.org/wikipedia/commons/thumb/a/a4/Flag_of_the_United_States.svg/22px-Flag_of_the_United_States.svg.png\" srcset=\"//upload.wikimedia.org/wikipedia/commons/thumb/a/a4/Flag_of_the_United_States.svg/33px-Flag_of_the_United_States.svg.png 1.5x, //upload.wikimedia.org/wikipedia/commons/thumb/a/a4/Flag_of_the_United_States.svg/44px-Flag_of_the_United_States.svg.png 2x\" width=\"22\"/></span> <a href=\"/wiki/%D0%A1%D0%BE%D0%B5%D0%B4%D0%B8%D0%BD%D1%91%D0%BD%D0%BD%D1%8B%D0%B5_%D0%A8%D1%82%D0%B0%D1%82%D1%8B_%D0%90%D0%BC%D0%B5%D1%80%D0%B8%D0%BA%D0%B8\" title=\"Соединённые Штаты Америки\"><span class=\"wrap\">США</span></a></span>: <a href=\"/wiki/%D0%9B%D0%BE%D1%81-%D0%93%D0%B0%D1%82%D0%BE%D1%81\" title=\"Лос-Гатос\">Лос-Гатос</a> (<a href=\"/wiki/%D0%9A%D0%B0%D0%BB%D0%B8%D1%84%D0%BE%D1%80%D0%BD%D0%B8%D1%8F\" title=\"Калифорния\">Калифорния</a>)</span></td>\n",
            "</tr>\n",
            "<tr>\n",
            "<th class=\"plainlist\" scope=\"row\">Ключевые фигуры</th>\n",
            "<td class=\"plainlist\">\n",
            "Рид Хастингс (председатель и <a href=\"/wiki/Chief_Executive_Officer\" title=\"Chief Executive Officer\">CEO</a>), <a href=\"/wiki/%D0%A1%D0%B0%D1%80%D0%B0%D0%BD%D0%B4%D0%BE%D1%81,_%D0%A2%D0%B5%D0%B4\" title=\"Сарандос, Тед\">Тед Сарандос</a> (<span data-interwiki-article=\"Chief content officer\" data-interwiki-lang=\"en\"><a class=\"new\" href=\"/w/index.php?title=Chief_content_officer&amp;action=edit&amp;redlink=1\" title=\"Chief content officer (страница отсутствует)\">CCO</a></span><span class=\"noprint\" style=\"font-style:normal; font-weight:normal;\"><sup><a class=\"extiw\" href=\"https://en.wikipedia.org/wiki/Chief_content_officer\" title=\"en:Chief content officer\"><span title=\"Chief content officer — версия статьи «Chief content officer» на английском языке\">[en]</span></a></sup></span>)</td>\n",
            "</tr>\n",
            "<tr>\n",
            "<th class=\"plainlist\" scope=\"row\">Отрасль</th>\n",
            "<td class=\"plainlist\">\n",
            "<span class=\"wikidata-claim\" data-wikidata-claim-id=\"Q907311$e7c5399f-48bb-75b0-06f4-c1125a532b02\" data-wikidata-property-id=\"P452\"><span class=\"wikidata-snak wikidata-main-snak\"><a href=\"/wiki/%D0%9F%D0%BE%D1%82%D0%BE%D0%BA%D0%BE%D0%B2%D0%BE%D0%B5_%D0%BC%D1%83%D0%BB%D1%8C%D1%82%D0%B8%D0%BC%D0%B5%D0%B4%D0%B8%D0%B0\" title=\"Потоковое мультимедиа\">стриминг</a></span></span> и <span class=\"wikidata-claim\" data-wikidata-claim-id=\"Q907311$c118a0ff-4799-9ade-6b57-15b9869ebf38\" data-wikidata-property-id=\"P452\"><span class=\"wikidata-snak wikidata-main-snak\"><span class=\"plainlinks\"><a class=\"external text\" href=\"https://ru.wikipedia.org/w/index.php?title=DVD-by-mail&amp;action=edit&amp;editintro=T:Нет_статьи/editintro&amp;preload=T:Нет_статьи/preload&amp;preloadparams%5B%5D=Q2024501&amp;preloadparams%5B%5D=DVD-by-mail&amp;preloadparams%5B%5D=Универсальная+карточка\"><span style=\"color: #ba0000; text-decoration: inherit; -moz-text-decoration-color: #ba0000; text-decoration-color: #ba0000;\">DVD-by-mail</span></a></span><sup><a class=\"extiw\" href=\"https://www.wikidata.org/wiki/Q2024501\" title=\"d:Q2024501\">[d]</a></sup></span></span></td>\n",
            "</tr>\n",
            "<tr>\n",
            "<th class=\"plainlist\" scope=\"row\"><a href=\"/wiki/%D0%9F%D1%80%D0%BE%D0%B4%D1%83%D0%BA%D1%82_(%D0%B1%D0%B8%D0%B7%D0%BD%D0%B5%D1%81)\" title=\"Продукт (бизнес)\">Продукция</a></th>\n",
            "<td class=\"plainlist\">\n",
            "<span class=\"no-wikidata\" data-wikidata-property-id=\"P1056\">Кинопроизводство, телепроизводство, потоковое видео, онлайн-прокат <a href=\"/wiki/Blu-ray_Disc\" title=\"Blu-ray Disc\">Blu-ray</a> и <a href=\"/wiki/DVD\" title=\"DVD\">DVD</a></span></td>\n",
            "</tr>\n",
            "<tr>\n",
            "<th class=\"plainlist\" scope=\"row\"><a href=\"/wiki/%D0%A1%D0%BE%D0%B1%D1%81%D1%82%D0%B2%D0%B5%D0%BD%D0%BD%D1%8B%D0%B9_%D0%BA%D0%B0%D0%BF%D0%B8%D1%82%D0%B0%D0%BB\" title=\"Собственный капитал\">Собственный капитал</a></th>\n",
            "<td class=\"plainlist\">\n",
            "<ul><li><span class=\"wikidata-snak wikidata-main-snak\">15,8 млрд $</span> (<span class=\"wikidata-snak\" data-wikidata-hash=\"4a6fe7f861358928efef462e361b21704446d129\"><span class=\"nowrap\"><a href=\"/wiki/2021_%D0%B3%D0%BE%D0%B4\" title=\"2021 год\">2021</a></span></span>)<sup class=\"reference\" id=\"cite_ref-_4bc244cc26bd3332_1-0\"><a href=\"#cite_note-_4bc244cc26bd3332-1\">[1]</a></sup></li></ul></td>\n",
            "</tr>\n",
            "<tr>\n",
            "<th class=\"plainlist\" scope=\"row\"><a href=\"/wiki/%D0%92%D1%8B%D1%80%D1%83%D1%87%D0%BA%D0%B0\" title=\"Выручка\">Оборот</a></th>\n",
            "<td class=\"plainlist\">\n",
            "<ul><li><span style=\"color: #0c0; font-size: larger;\">▲</span><span class=\"wikidata-snak wikidata-main-snak\">29,7 млрд $</span> (<span class=\"wikidata-snak\" data-wikidata-hash=\"4a6fe7f861358928efef462e361b21704446d129\"><span class=\"nowrap\"><a href=\"/wiki/2021_%D0%B3%D0%BE%D0%B4\" title=\"2021 год\">2021</a></span></span>)<sup class=\"reference\" id=\"cite_ref-_4bc244cc26bd3332_1-1\"><a href=\"#cite_note-_4bc244cc26bd3332-1\">[1]</a></sup></li></ul></td>\n",
            "</tr>\n",
            "<tr>\n",
            "<th class=\"plainlist\" scope=\"row\"><a href=\"/wiki/%D0%9E%D0%BF%D0%B5%D1%80%D0%B0%D1%86%D0%B8%D0%BE%D0%BD%D0%BD%D0%B0%D1%8F_%D0%BF%D1%80%D0%B8%D0%B1%D1%8B%D0%BB%D1%8C\" title=\"Операционная прибыль\">Операционная прибыль</a></th>\n",
            "<td class=\"plainlist\">\n",
            "<ul><li><span style=\"color: #0c0; font-size: larger;\">▲</span><span class=\"wikidata-snak wikidata-main-snak\">6,19 млрд $</span> (<span class=\"wikidata-snak\" data-wikidata-hash=\"4a6fe7f861358928efef462e361b21704446d129\"><span class=\"nowrap\"><a href=\"/wiki/2021_%D0%B3%D0%BE%D0%B4\" title=\"2021 год\">2021</a></span></span>)<sup class=\"reference\" id=\"cite_ref-_4bc244cc26bd3332_1-2\"><a href=\"#cite_note-_4bc244cc26bd3332-1\">[1]</a></sup></li></ul></td>\n",
            "</tr>\n",
            "<tr>\n",
            "<th class=\"plainlist\" scope=\"row\"><a href=\"/wiki/%D0%A7%D0%B8%D1%81%D1%82%D0%B0%D1%8F_%D0%BF%D1%80%D0%B8%D0%B1%D1%8B%D0%BB%D1%8C\" title=\"Чистая прибыль\">Чистая прибыль</a></th>\n",
            "<td class=\"plainlist\">\n",
            "<ul><li><span style=\"color: #0c0; font-size: larger;\">▲</span><span class=\"wikidata-snak wikidata-main-snak\">5,12 млрд $</span> (<span class=\"wikidata-snak\" data-wikidata-hash=\"4a6fe7f861358928efef462e361b21704446d129\"><span class=\"nowrap\"><a href=\"/wiki/2021_%D0%B3%D0%BE%D0%B4\" title=\"2021 год\">2021</a></span></span>)<sup class=\"reference\" id=\"cite_ref-_4bc244cc26bd3332_1-3\"><a href=\"#cite_note-_4bc244cc26bd3332-1\">[1]</a></sup></li></ul></td>\n",
            "</tr>\n",
            "<tr>\n",
            "<th class=\"plainlist\" scope=\"row\"><a class=\"mw-redirect\" href=\"/wiki/%D0%90%D0%BA%D1%82%D0%B8%D0%B2%D1%8B\" title=\"Активы\">Активы</a></th>\n",
            "<td class=\"plainlist\">\n",
            "<ul><li><span style=\"color: #0c0; font-size: larger;\">▲</span><span class=\"wikidata-snak wikidata-main-snak\">44,6 млрд $</span> (<span class=\"wikidata-snak\" data-wikidata-hash=\"4a6fe7f861358928efef462e361b21704446d129\"><span class=\"nowrap\"><a href=\"/wiki/2021_%D0%B3%D0%BE%D0%B4\" title=\"2021 год\">2021</a></span></span>)<sup class=\"reference\" id=\"cite_ref-_4bc244cc26bd3332_1-4\"><a href=\"#cite_note-_4bc244cc26bd3332-1\">[1]</a></sup></li></ul></td>\n",
            "</tr>\n",
            "<tr>\n",
            "<th class=\"plainlist\" scope=\"row\"><a href=\"/wiki/%D0%A0%D1%8B%D0%BD%D0%BE%D1%87%D0%BD%D0%B0%D1%8F_%D0%BA%D0%B0%D0%BF%D0%B8%D1%82%D0%B0%D0%BB%D0%B8%D0%B7%D0%B0%D1%86%D0%B8%D1%8F\" title=\"Рыночная капитализация\">Капитализация</a></th>\n",
            "<td class=\"plainlist\">\n",
            "<ul><li><span class=\"wikidata-snak wikidata-main-snak\">171 млрд $</span> (<span class=\"wikidata-snak\" data-wikidata-hash=\"b98d5b5075ca6c8584deee0a0e8e31602acac021\"><span class=\"nowrap\"><a href=\"/wiki/31_%D1%8F%D0%BD%D0%B2%D0%B0%D1%80%D1%8F\" title=\"31 января\">31 января</a> <a href=\"/wiki/2022_%D0%B3%D0%BE%D0%B4\" title=\"2022 год\">2022</a></span></span>)<sup class=\"reference\" id=\"cite_ref-_cb8d50eb205b746f_2-0\"><a href=\"#cite_note-_cb8d50eb205b746f-2\">[2]</a></sup></li></ul></td>\n",
            "</tr>\n",
            "<tr>\n",
            "<th class=\"plainlist\" scope=\"row\">Число сотрудников</th>\n",
            "<td class=\"plainlist\">\n",
            "<ul><li><span style=\"color: #0c0; font-size: larger;\">▲</span><span class=\"wikidata-snak wikidata-main-snak\">11 300 чел.</span> (<span class=\"wikidata-snak\" data-wikidata-hash=\"33bd9a339157ce7b3d74cb10d73bc23529c9a7f3\"><span class=\"nowrap\"><a href=\"/wiki/31_%D0%B4%D0%B5%D0%BA%D0%B0%D0%B1%D1%80%D1%8F\" title=\"31 декабря\">31 декабря</a> <a href=\"/wiki/2021_%D0%B3%D0%BE%D0%B4\" title=\"2021 год\">2021</a></span></span>)<sup class=\"reference\" id=\"cite_ref-_4bc244cc26bd3332_1-5\"><a href=\"#cite_note-_4bc244cc26bd3332-1\">[1]</a></sup></li></ul></td>\n",
            "</tr>\n",
            "<tr>\n",
            "<th class=\"plainlist\" scope=\"row\">Дочерние компании</th>\n",
            "<td class=\"plainlist\">\n",
            "<span class=\"no-wikidata\" data-wikidata-property-id=\"P355\"><a href=\"/wiki/Netflix_Animation\" title=\"Netflix Animation\">Netflix Animation</a></span></td>\n",
            "</tr>\n",
            "<tr>\n",
            "<th class=\"plainlist\" scope=\"row\">Сайт</th>\n",
            "<td class=\"plainlist\">\n",
            "<span class=\"wikidata-claim\" data-wikidata-claim-id=\"Q907311$8B61C3CE-A174-494C-A01C-25AE141D3D8A\" data-wikidata-property-id=\"P856\"><span class=\"wikidata-snak wikidata-main-snak\"><a class=\"external text\" href=\"https://www.netflix.com/\" rel=\"nofollow\">netflix.com</a></span></span></td>\n",
            "</tr><tr><td class=\"infobox-below\" colspan=\"2\" style=\";\"><span class=\"wikidata-claim\" data-wikidata-claim-id=\"q907311$3c33803e-4509-18b3-a9be-f769d12aa80d\" data-wikidata-property-id=\"P373\"><span class=\"wikidata-snak wikidata-main-snak\"><a href=\"https://commons.wikimedia.org/wiki/Category:Netflix\" title=\"commons:Category:Netflix\"><img alt=\"Логотип Викисклада\" data-file-height=\"1376\" data-file-width=\"1024\" decoding=\"async\" height=\"20\" src=\"//upload.wikimedia.org/wikipedia/commons/thumb/4/4a/Commons-logo.svg/15px-Commons-logo.svg.png\" srcset=\"//upload.wikimedia.org/wikipedia/commons/thumb/4/4a/Commons-logo.svg/23px-Commons-logo.svg.png 1.5x, //upload.wikimedia.org/wikipedia/commons/thumb/4/4a/Commons-logo.svg/30px-Commons-logo.svg.png 2x\" width=\"15\"/></a> <a class=\"extiw\" href=\"https://commons.wikimedia.org/wiki/Category:Netflix\" title=\"commons:Category:Netflix\">Медиафайлы на Викискладе</a></span></span></td></tr>\n",
            "</tbody></table>\n",
            "<p><b>Netflix</b> — <a href=\"/wiki/%D0%A1%D0%BE%D0%B5%D0%B4%D0%B8%D0%BD%D1%91%D0%BD%D0%BD%D1%8B%D0%B5_%D0%A8%D1%82%D0%B0%D1%82%D1%8B_%D0%90%D0%BC%D0%B5%D1%80%D0%B8%D0%BA%D0%B8\" title=\"Соединённые Штаты Америки\">американская</a> развлекательная компания, <a href=\"/wiki/%D0%9F%D0%BE%D1%82%D0%BE%D0%BA%D0%BE%D0%B2%D0%BE%D0%B5_%D0%BC%D1%83%D0%BB%D1%8C%D1%82%D0%B8%D0%BC%D0%B5%D0%B4%D0%B8%D0%B0#Стриминговые_сервисы\" title=\"Потоковое мультимедиа\">стриминговый сервис</a> <a class=\"mw-redirect\" href=\"/wiki/Video_on_Demand\" title=\"Video on Demand\">фильмов и сериалов</a>. Основана 29 августа 1997 года <a href=\"/wiki/%D0%A5%D0%B0%D1%81%D1%82%D0%B8%D0%BD%D0%B3%D1%81,_%D0%A0%D0%B8%D0%B4\" title=\"Хастингс, Рид\">Ридом Хастингсом</a> и <a href=\"/wiki/%D0%A0%D1%8D%D0%BD%D0%B4%D0%BE%D0%BB%D1%8C%D1%84,_%D0%9C%D0%B0%D1%80%D0%BA\" title=\"Рэндольф, Марк\">Марком Рэндольфом</a><sup class=\"reference\" id=\"cite_ref-3\"><a href=\"#cite_note-3\">[3]</a></sup>. Штаб-квартира находится в <a href=\"/wiki/%D0%9B%D0%BE%D1%81-%D0%93%D0%B0%D1%82%D0%BE%D1%81\" title=\"Лос-Гатос\">Лос-Гатосе</a>, <a href=\"/wiki/%D0%9A%D0%B0%D0%BB%D0%B8%D1%84%D0%BE%D1%80%D0%BD%D0%B8%D1%8F\" title=\"Калифорния\">Калифорния</a>.\n",
            "</p><p>С 2013 года Netflix производит собственные фильмы и сериалы, в том числе и анимационные, а также телепрограммы. В 2016 году компания выпустила 126 оригинальных сериалов и фильмов — больше, чем любой другой сетевой или кабельный канал<sup class=\"reference\" id=\"cite_ref-4\"><a href=\"#cite_note-4\">[4]</a></sup>. Их усилия по производству нового контента, обеспечению прав на дополнительный контент и диверсификации через 190 стран потребовали дополнительных капиталов, привлекаемых в том числе через займы. Суммарный долг в 2016 году составил 16,8 млрд долларов, по состоянию на сентябрь 2017 года он был уже 21,9 млрд долларов<sup class=\"reference\" id=\"cite_ref-5\"><a href=\"#cite_note-5\">[5]</a></sup>. При этом 6,5 миллиарда долларов — это долгосрочный долг, а остальная часть — долгосрочные обязательства<sup class=\"reference\" id=\"cite_ref-6\"><a href=\"#cite_note-6\">[6]</a></sup>. В октябре 2018 года Netflix объявила о привлечении ещё 2 миллиардов долларов для финансирования нового контента<sup class=\"reference\" id=\"cite_ref-7\"><a href=\"#cite_note-7\">[7]</a></sup>. По состоянию на январь 2021 года у компании насчитывается 203,7 млн подписчиков по всему миру, при этом компания потратила 11,8 млрд долларов на создание контента в 2020 году<sup class=\"reference\" id=\"cite_ref-8\"><a href=\"#cite_note-8\">[8]</a></sup>.\n",
            "</p>\n",
            "<div aria-labelledby=\"mw-toc-heading\" class=\"toc\" id=\"toc\" role=\"navigation\"><input class=\"toctogglecheckbox\" id=\"toctogglecheckbox\" role=\"button\" style=\"display:none\" type=\"checkbox\"/><div class=\"toctitle\" dir=\"ltr\" lang=\"ru\"><h2 id=\"mw-toc-heading\">Содержание</h2><span class=\"toctogglespan\"><label class=\"toctogglelabel\" for=\"toctogglecheckbox\"></label></span></div>\n",
            "<ul>\n",
            "<li class=\"toclevel-1 tocsection-1\"><a href=\"#История\"><span class=\"tocnumber\">1</span> <span class=\"toctext\">История</span></a>\n",
            "<ul>\n",
            "<li class=\"toclevel-2 tocsection-2\"><a href=\"#Основание\"><span class=\"tocnumber\">1.1</span> <span class=\"toctext\">Основание</span></a></li>\n",
            "<li class=\"toclevel-2 tocsection-3\"><a href=\"#Предложение_о_приобретении_Blockbuster,_начало_роста,_выпуск_акций\"><span class=\"tocnumber\">1.2</span> <span class=\"toctext\">Предложение о приобретении Blockbuster, начало роста, выпуск акций</span></a></li>\n",
            "<li class=\"toclevel-2 tocsection-4\"><a href=\"#Снижение_продаж_DVD,_внедрение_видео_по_запросу\"><span class=\"tocnumber\">1.3</span> <span class=\"toctext\">Снижение продаж DVD, внедрение видео по запросу</span></a></li>\n",
            "<li class=\"toclevel-2 tocsection-5\"><a href=\"#Международная_экспансия\"><span class=\"tocnumber\">1.4</span> <span class=\"toctext\">Международная экспансия</span></a></li>\n",
            "<li class=\"toclevel-2 tocsection-6\"><a href=\"#Бойкот_России\"><span class=\"tocnumber\">1.5</span> <span class=\"toctext\">Бойкот России</span></a></li>\n",
            "</ul>\n",
            "</li>\n",
            "<li class=\"toclevel-1 tocsection-7\"><a href=\"#Собственники\"><span class=\"tocnumber\">2</span> <span class=\"toctext\">Собственники</span></a></li>\n",
            "<li class=\"toclevel-1 tocsection-8\"><a href=\"#Технические_детали_и_тарифы\"><span class=\"tocnumber\">3</span> <span class=\"toctext\">Технические детали и тарифы</span></a></li>\n",
            "<li class=\"toclevel-1 tocsection-9\"><a href=\"#Материалы\"><span class=\"tocnumber\">4</span> <span class=\"toctext\">Материалы</span></a>\n",
            "<ul>\n",
            "<li class=\"toclevel-2 tocsection-10\"><a href=\"#Netflix_Original\"><span class=\"tocnumber\">4.1</span> <span class=\"toctext\">Netflix Original</span></a></li>\n",
            "<li class=\"toclevel-2 tocsection-11\"><a href=\"#Фильмы\"><span class=\"tocnumber\">4.2</span> <span class=\"toctext\">Фильмы</span></a></li>\n",
            "<li class=\"toclevel-2 tocsection-12\"><a href=\"#Видеоигры\"><span class=\"tocnumber\">4.3</span> <span class=\"toctext\">Видеоигры</span></a></li>\n",
            "</ul>\n",
            "</li>\n",
            "<li class=\"toclevel-1 tocsection-13\"><a href=\"#Галерея\"><span class=\"tocnumber\">5</span> <span class=\"toctext\">Галерея</span></a></li>\n",
            "<li class=\"toclevel-1 tocsection-14\"><a href=\"#См._также\"><span class=\"tocnumber\">6</span> <span class=\"toctext\">См. также</span></a></li>\n",
            "<li class=\"toclevel-1 tocsection-15\"><a href=\"#Примечания\"><span class=\"tocnumber\">7</span> <span class=\"toctext\">Примечания</span></a></li>\n",
            "<li class=\"toclevel-1 tocsection-16\"><a href=\"#Ссылки\"><span class=\"tocnumber\">8</span> <span class=\"toctext\">Ссылки</span></a></li>\n",
            "</ul>\n",
            "</div>\n",
            "\n",
            "<h2><span id=\".D0.98.D1.81.D1.82.D0.BE.D1.80.D0.B8.D1.8F\"></span><span class=\"mw-headline\" id=\"История\">История</span><span class=\"mw-editsection\"><span class=\"mw-editsection-bracket\">[</span><a class=\"mw-editsection-visualeditor\" href=\"/w/index.php?title=Netflix&amp;veaction=edit&amp;section=1\" title=\"Редактировать раздел «История»\">править</a><span class=\"mw-editsection-divider\"> | </span><a href=\"/w/index.php?title=Netflix&amp;action=edit&amp;section=1\" title=\"Редактировать раздел «История»\">править код</a><span class=\"mw-editsection-bracket\">]</span></span></h2>\n",
            "<h4><span id=\".D0.9E.D1.81.D0.BD.D0.BE.D0.B2.D0.B0.D0.BD.D0.B8.D0.B5\"></span><span class=\"mw-headline\" id=\"Основание\">Основание</span><span class=\"mw-editsection\"><span class=\"mw-editsection-bracket\">[</span><a class=\"mw-editsection-visualeditor\" href=\"/w/index.php?title=Netflix&amp;veaction=edit&amp;section=2\" title=\"Редактировать раздел «Основание»\">править</a><span class=\"mw-editsection-divider\"> | </span><a href=\"/w/index.php?title=Netflix&amp;action=edit&amp;section=2\" title=\"Редактировать раздел «Основание»\">править код</a><span class=\"mw-editsection-bracket\">]</span></span></h4>\n",
            "<p>Netflix была основана 29 августа 1997 года в <span data-interwiki-article=\"Scotts Valley, California\" data-interwiki-lang=\"en\"><a class=\"new\" href=\"/w/index.php?title=%D0%A1%D0%BA%D0%BE%D1%82%D1%82%D1%81-%D0%92%D1%8D%D0%BB%D0%BB%D0%B8_(%D0%9A%D0%B0%D0%BB%D0%B8%D1%84%D0%BE%D1%80%D0%BD%D0%B8%D1%8F)&amp;action=edit&amp;redlink=1\" title=\"Скоттс-Вэлли (Калифорния) (страница отсутствует)\">Скоттс-Вэлли, штат Калифорния</a></span><span class=\"noprint\" style=\"font-style:normal; font-weight:normal;\"><sup><a class=\"extiw\" href=\"https://en.wikipedia.org/wiki/Scotts_Valley,_California\" title=\"en:Scotts Valley, California\"><span title=\"Scotts Valley, California — версия статьи «Скоттс-Вэлли (Калифорния)» на английском языке\">[en]</span></a></sup></span>, <a href=\"/wiki/%D0%A0%D1%8D%D0%BD%D0%B4%D0%BE%D0%BB%D1%8C%D1%84,_%D0%9C%D0%B0%D1%80%D0%BA\" title=\"Рэндольф, Марк\">Марком Рэндольфом</a><sup class=\"reference\" id=\"cite_ref-9\"><a href=\"#cite_note-9\">[9]</a></sup> и <a href=\"/wiki/%D0%A5%D0%B0%D1%81%D1%82%D0%B8%D0%BD%D0%B3%D1%81,_%D0%A0%D0%B8%D0%B4\" title=\"Хастингс, Рид\">Ридом Хастингсом</a>. Рэндольф в то время работал директором по маркетингу в компании Хастингса «<span data-interwiki-article=\"Pure Software\" data-interwiki-lang=\"en\"><a class=\"new\" href=\"/w/index.php?title=Pure_Software&amp;action=edit&amp;redlink=1\" title=\"Pure Software (страница отсутствует)\">Pure Software</a></span><span class=\"noprint\" style=\"font-style:normal; font-weight:normal;\"><sup><a class=\"extiw\" href=\"https://en.wikipedia.org/wiki/Pure_Software\" title=\"en:Pure Software\"><span title=\"Pure Software — версия статьи «Pure Software» на английском языке\">[en]</span></a></sup></span>»<sup class=\"reference\" id=\"cite_ref-10\"><a href=\"#cite_note-10\">[10]</a></sup>. Рэндольф был одним из основателей компании MicroWarehouse, занимавшейся доставкой компьютеров по почте, а позже был принят на работу в <a href=\"/wiki/Borland\" title=\"Borland\">Borland International</a> в качестве вице-президента по маркетингу.\n",
            "</p><p>Хастингс, компьютерный учёный и математик, продал <span data-interwiki-article=\"Pure Software\" data-interwiki-lang=\"en\"><a class=\"new\" href=\"/w/index.php?title=Pure_Software&amp;action=edit&amp;redlink=1\" title=\"Pure Software (страница отсутствует)\">Pure Software</a></span><span class=\"noprint\" style=\"font-style:normal; font-weight:normal;\"><sup><a class=\"extiw\" href=\"https://en.wikipedia.org/wiki/Pure_Software\" title=\"en:Pure Software\"><span title=\"Pure Software — версия статьи «Pure Software» на английском языке\">[en]</span></a></sup></span> компании Rational Software Corporation в 1997 году за 700 миллионов долларов, что было на тот момент самым крупным приобретением в истории <a href=\"/wiki/%D0%9A%D1%80%D0%B5%D0%BC%D0%BD%D0%B8%D0%B5%D0%B2%D0%B0%D1%8F_%D0%B4%D0%BE%D0%BB%D0%B8%D0%BD%D0%B0\" title=\"Кремниевая долина\">Кремниевой долины</a>. Они придумали идею Netflix в поездках между своими домами в <a href=\"/wiki/%D0%A1%D0%B0%D0%BD%D1%82%D0%B0-%D0%9A%D1%80%D1%83%D0%B7_(%D0%9A%D0%B0%D0%BB%D0%B8%D1%84%D0%BE%D1%80%D0%BD%D0%B8%D1%8F)\" title=\"Санта-Круз (Калифорния)\">Санта-Крусе</a> и штаб-квартирой Pure Software в <a href=\"/wiki/%D0%A1%D0%B0%D0%BD%D0%BD%D0%B8%D0%B2%D0%B5%D0%B9%D0%BB_(%D0%9A%D0%B0%D0%BB%D0%B8%D1%84%D0%BE%D1%80%D0%BD%D0%B8%D1%8F)\" title=\"Саннивейл (Калифорния)\">Саннивейле</a>, ожидая одобрения слияния двух компаний государственными органами, хотя Хастингс позднее рассказывал различные истории появления этой идеи<sup class=\"reference\" id=\"cite_ref-11\"><a href=\"#cite_note-11\">[11]</a></sup>.\n",
            "</p><p>Хастингс вложил 2,5 миллиона долларов в <a href=\"/wiki/%D0%A1%D1%82%D0%B0%D1%80%D1%82%D0%B0%D0%BF\" title=\"Стартап\">стартап</a> для Netflix<sup class=\"reference\" id=\"cite_ref-автоссылка1_12-0\"><a href=\"#cite_note-автоссылка1-12\">[12]</a></sup>. Рэндольф восхищался тогда ещё молодой компанией <a href=\"/wiki/Amazon\" title=\"Amazon\">Amazon</a> и хотел найти большую категорию портативных товаров для продажи через Интернет, используя подобную им бизнес-модель. По их мнению, доставка фильмов на <a href=\"/wiki/VHS\" title=\"VHS\">видеокассетах VHS</a> была нерентабельна из-за их относительно крупного размера и, соответственно, неудобства хранения.\n",
            "</p><p>Когда основатели компании услышали о <a href=\"/wiki/DVD\" title=\"DVD\">DVD-дисках</a>, которые впервые появились в Соединённых Штатах 24 марта 1997 года, они протестировали концепцию продажи или аренды DVD-дисков по почте, отправив компакт-диск в дом Хастингса в Санта-Крусе. Когда диск прибыл в целости и сохранности, они решили войти в 16-миллиардную индустрию продаж и проката домашнего видео<sup class=\"reference\" id=\"cite_ref-:1_13-0\"><a href=\"#cite_note-:1-13\">[13]</a></sup>. Хастингса часто цитируют, говоря, что он решил основать Netflix после того, как его оштрафовали на 40 долларов в магазине <span data-interwiki-article=\"Blockbuster LLC\" data-interwiki-lang=\"en\"><a class=\"new\" href=\"/w/index.php?title=Blockbuster&amp;action=edit&amp;redlink=1\" title=\"Blockbuster (страница отсутствует)\">Blockbuster</a></span><span class=\"noprint\" style=\"font-style:normal; font-weight:normal;\"><sup><a class=\"extiw\" href=\"https://en.wikipedia.org/wiki/Blockbuster_LLC\" title=\"en:Blockbuster LLC\"><span title=\"Blockbuster LLC — версия статьи «Blockbuster» на английском языке\">[en]</span></a></sup></span> за опоздание вернуть копию фильма «<a href=\"/wiki/%D0%90%D0%BF%D0%BE%D0%BB%D0%BB%D0%BE%D0%BD-13_(%D1%84%D0%B8%D0%BB%D1%8C%D0%BC)\" title=\"Аполлон-13 (фильм)\">Аполлон-13</a>». Но это вымышленная история, которую он и Рэндольф придумали позже, чтобы объяснить бизнес-модель и поддержать мотивацию сотрудников компании<sup class=\"reference\" id=\"cite_ref-:1_13-1\"><a href=\"#cite_note-:1-13\">[13]</a></sup>.\n",
            "</p><p>Netflix начал свою деятельность как первый в мире интернет-магазин проката DVD, имея всего 30 сотрудников и 925 доступных фильмов, что было почти всем каталогом, выпущенным на DVD на тот момент<sup class=\"reference\" id=\"cite_ref-автоссылка1_12-1\"><a href=\"#cite_note-автоссылка1-12\">[12]</a></sup>, используя модель оплаты за аренду со ставками и сроками возврата, очень похожими на те же условия своего основного конкурента, Blockbuster<sup class=\"reference\" id=\"cite_ref-14\"><a href=\"#cite_note-14\">[14]</a></sup>.\n",
            "</p>\n",
            "<h4><span id=\".D0.9F.D1.80.D0.B5.D0.B4.D0.BB.D0.BE.D0.B6.D0.B5.D0.BD.D0.B8.D0.B5_.D0.BE_.D0.BF.D1.80.D0.B8.D0.BE.D0.B1.D1.80.D0.B5.D1.82.D0.B5.D0.BD.D0.B8.D0.B8_Blockbuster.2C_.D0.BD.D0.B0.D1.87.D0.B0.D0.BB.D0.BE_.D1.80.D0.BE.D1.81.D1.82.D0.B0.2C_.D0.B2.D1.8B.D0.BF.D1.83.D1.81.D0.BA_.D0.B0.D0.BA.D1.86.D0.B8.D0.B9\"></span><span class=\"mw-headline\" id=\"Предложение_о_приобретении_Blockbuster,_начало_роста,_выпуск_акций\">Предложение о приобретении Blockbuster, начало роста, выпуск акций</span><span class=\"mw-editsection\"><span class=\"mw-editsection-bracket\">[</span><a class=\"mw-editsection-visualeditor\" href=\"/w/index.php?title=Netflix&amp;veaction=edit&amp;section=3\" title=\"Редактировать раздел «Предложение о приобретении Blockbuster, начало роста, выпуск акций»\">править</a><span class=\"mw-editsection-divider\"> | </span><a href=\"/w/index.php?title=Netflix&amp;action=edit&amp;section=3\" title=\"Редактировать раздел «Предложение о приобретении Blockbuster, начало роста, выпуск акций»\">править код</a><span class=\"mw-editsection-bracket\">]</span></span></h4>\n",
            "<p>Netflix представила концепцию ежемесячной подписки в сентябре 1999 года<sup class=\"reference\" id=\"cite_ref-15\"><a href=\"#cite_note-15\">[15]</a></sup>, а затем отказалась от модели однократного проката в начале 2000 года. С тех пор компания построила свою репутацию на бизнес-модели безлимитной аренды с фиксированной ставкой, без сроков оплаты, просроченных платежей, сборов за доставку и обработку<sup class=\"reference\" id=\"cite_ref-16\"><a href=\"#cite_note-16\">[16]</a></sup>.\n",
            "</p><p>В 2000 году у Netflix было всего около 300 000 подписчиков, которые получали DVD-диски по почте. Компания терпела убытки, в связи с чем руководство предложило компании Blockbuster выкупить 49 % Netflix за 50 миллионов долларов. Согласно предложенным условиям, Netflix должен быть переименован в Blockbuster.com и заниматься онлайн-продажами, в то время как сам Blockbuster займётся приобретением, хранением и доставкой DVD-дисков, став менее зависимым от Почтовой службы США. Однако предложение было отклонено<sup class=\"reference\" id=\"cite_ref-17\"><a href=\"#cite_note-17\">[17]</a></sup><sup class=\"reference\" id=\"cite_ref-18\"><a href=\"#cite_note-18\">[18]</a></sup>.\n",
            "</p><p>В начале 2001 года компания переживала быстрый рост, но вскоре <a href=\"/wiki/%D0%9F%D1%83%D0%B7%D1%8B%D1%80%D1%8C_%D0%B4%D0%BE%D1%82%D0%BA%D0%BE%D0%BC%D0%BE%D0%B2\" title=\"Пузырь доткомов\">пузырь доткомов</a> лопнул, и позднее в том же году произошли <a href=\"/wiki/%D0%A2%D0%B5%D1%80%D1%80%D0%BE%D1%80%D0%B8%D1%81%D1%82%D0%B8%D1%87%D0%B5%D1%81%D0%BA%D0%B8%D0%B5_%D0%B0%D0%BA%D1%82%D1%8B_11_%D1%81%D0%B5%D0%BD%D1%82%D1%8F%D0%B1%D1%80%D1%8F_2001_%D0%B3%D0%BE%D0%B4%D0%B0\" title=\"Террористические акты 11 сентября 2001 года\">теракты 11 сентября</a>, что сильно повлияло на компанию и вынудило руководство сократить треть своих сотрудников. Однако продажи DVD-плееров в конце концов взлетели, поскольку они стали более доступными, продаваясь по цене примерно 200 долларов за штуку, став одним из самых популярных рождественских подарков в этом году. Это обстоятельство способствовало новому росту продаж подписки Netflix в начале 2002 года<sup class=\"reference\" id=\"cite_ref-19\"><a href=\"#cite_note-19\">[19]</a></sup><sup class=\"reference\" id=\"cite_ref-20\"><a href=\"#cite_note-20\">[20]</a></sup>.\n",
            "</p><p>Netflix инициировала первичное публичное размещение акций (<a href=\"/wiki/%D0%9F%D0%B5%D1%80%D0%B2%D0%B8%D1%87%D0%BD%D0%BE%D0%B5_%D0%BF%D1%83%D0%B1%D0%BB%D0%B8%D1%87%D0%BD%D0%BE%D0%B5_%D0%BF%D1%80%D0%B5%D0%B4%D0%BB%D0%BE%D0%B6%D0%B5%D0%BD%D0%B8%D0%B5\" title=\"Первичное публичное предложение\">IPO</a>) на бирже <a href=\"/wiki/NASDAQ\" title=\"NASDAQ\">NASDAQ</a> 29 мая 2002 года, продав 5,5 миллиона акций по цене 15 долларов США за акцию. 14 июня 2002 года компания продала дополнительно 825 000 акций по той же цене. После того как Netflix понесла значительные убытки в течение первых нескольких лет своей деятельности, впервые была опубликована финансовая отчётность: в 2003 году прибыль составила 6,5 млн долларов при выручке 272 млн долларов<sup class=\"reference\" id=\"cite_ref-:2_21-0\"><a href=\"#cite_note-:2-21\">[21]</a></sup>.\n",
            "</p><p>Рэндольф, основной продюсер и член совета директоров Netflix, ушёл из компании в 2004 году<sup class=\"reference\" id=\"cite_ref-22\"><a href=\"#cite_note-22\">[22]</a></sup>. В 2005 году было доступно для проката уже 35000 различных фильмов, и ежедневно Netflix поставляла 1 миллион DVD-дисков<sup class=\"reference\" id=\"cite_ref-:2_21-1\"><a href=\"#cite_note-:2-21\">[21]</a></sup>.\n",
            "</p>\n",
            "<h4><span id=\".D0.A1.D0.BD.D0.B8.D0.B6.D0.B5.D0.BD.D0.B8.D0.B5_.D0.BF.D1.80.D0.BE.D0.B4.D0.B0.D0.B6_DVD.2C_.D0.B2.D0.BD.D0.B5.D0.B4.D1.80.D0.B5.D0.BD.D0.B8.D0.B5_.D0.B2.D0.B8.D0.B4.D0.B5.D0.BE_.D0.BF.D0.BE_.D0.B7.D0.B0.D0.BF.D1.80.D0.BE.D1.81.D1.83\"></span><span class=\"mw-headline\" id=\"Снижение_продаж_DVD,_внедрение_видео_по_запросу\">Снижение продаж DVD, внедрение видео по запросу</span><span class=\"mw-editsection\"><span class=\"mw-editsection-bracket\">[</span><a class=\"mw-editsection-visualeditor\" href=\"/w/index.php?title=Netflix&amp;veaction=edit&amp;section=4\" title=\"Редактировать раздел «Снижение продаж DVD, внедрение видео по запросу»\">править</a><span class=\"mw-editsection-divider\"> | </span><a href=\"/w/index.php?title=Netflix&amp;action=edit&amp;section=4\" title=\"Редактировать раздел «Снижение продаж DVD, внедрение видео по запросу»\">править код</a><span class=\"mw-editsection-bracket\">]</span></span></h4>\n",
            "<p>В середине 2000-х годов скорость передачи данных значительно повысилась, и стоимость <a href=\"/wiki/%D0%A1%D0%B5%D1%82%D0%B5%D0%B2%D0%BE%D0%B9_%D1%82%D1%80%D0%B0%D1%84%D0%B8%D0%BA\" title=\"Сетевой трафик\">интернет-трафика</a> снизилась настолько, что позволило клиентам загружать фильмы из сети. Первоначальная идея заключалась в создании «коробки Netflix», которая могла бы скачивать фильмы за одну ночь для просмотра на следующий день. К 2005 году было разработано устройство и приобретены права на показ фильмов. Компания была готова к выпуску его на рынок. Однако после открытия <a href=\"/wiki/YouTube\" title=\"YouTube\">YouTube</a> и наблюдения за тем, насколько популярными становятся потоковые сервисы, несмотря на отсутствие контента высокой чёткости, концепция использования аппаратного устройства была отброшена и заменена концепцией <a href=\"/wiki/%D0%9F%D0%BE%D1%82%D0%BE%D0%BA%D0%BE%D0%B2%D0%BE%D0%B5_%D0%BC%D1%83%D0%BB%D1%8C%D1%82%D0%B8%D0%BC%D0%B5%D0%B4%D0%B8%D0%B0\" title=\"Потоковое мультимедиа\">потоковой передачи данных</a>, проект которой был завершён в 2007 году<sup class=\"reference\" id=\"cite_ref-23\"><a href=\"#cite_note-23\">[23]</a></sup>.\n",
            "</p><p>Netflix разработала и поддерживает обширную персонализированную систему видео-рекомендаций, основанную на рейтингах и отзывах своих клиентов. 1 октября 2006 года Netflix предложил <a href=\"/wiki/Netflix_Prize\" title=\"Netflix Prize\">премию в размере 1 000 000 долларов</a> первому разработчику алгоритма предсказания оценки, которую зритель поставит фильму, на основе предыдущих оценок этого и других зрителей который мог бы улучшить существующий алгоритм Cinematch более чем на 10 %<sup class=\"reference\" id=\"cite_ref-24\"><a href=\"#cite_note-24\">[24]</a></sup>. В феврале 2007 года компания осуществила доставку своего миллиардного DVD-диска<sup class=\"reference\" id=\"cite_ref-25\"><a href=\"#cite_note-25\">[25]</a></sup> и начала отходить от первоначальной основной <a href=\"/wiki/%D0%91%D0%B8%D0%B7%D0%BD%D0%B5%D1%81-%D0%BC%D0%BE%D0%B4%D0%B5%D0%BB%D1%8C\" title=\"Бизнес-модель\">бизнес-модели</a>, расширяя бизнес за счёт внедрения сервиса <a class=\"mw-redirect\" href=\"/wiki/%D0%9F%D0%BE%D1%82%D0%BE%D0%BA%D0%BE%D0%B2%D0%BE%D0%B5_%D0%B2%D0%B5%D1%89%D0%B0%D0%BD%D0%B8%D0%B5\" title=\"Потоковое вещание\">потокового вещания</a>, сохранив при этом службу проката DVD и <a href=\"/wiki/Blu-ray_Disc\" title=\"Blu-ray Disc\">Blu-ray</a>. Netflix рос по мере того, как продажи DVD падали с 2006 по 2011 год<sup class=\"reference\" id=\"cite_ref-26\"><a href=\"#cite_note-26\">[26]</a></sup><sup class=\"reference\" id=\"cite_ref-27\"><a href=\"#cite_note-27\">[27]</a></sup>.\n",
            "</p><p>Онлайн-прокат DVD Netflix мог предложить гораздо больший выбор фильмов, чем пункты проката Blockbuster. Но когда они впервые предложили своим подписчикам бесплатный потоковый контент в 2007 году, он содержал не более 1000 фильмов и телешоу, всего 1 % по сравнению с более чем 100 000 DVD-продуктов. Тем не менее, поскольку популярность нового типа контента продолжала расти, количество доступных для потоковой передачи вариантов также росло и достигло 12 000 фильмов и шоу в июне 2009 года. Система рекомендаций, известная как Cinematch, не только привязывала зрителей к использованию сервиса, но и выводила недооценённые фильмы, чтобы клиенты могли просматривать их исходя из своих рекомендаций. Этот атрибут приносил выгоду не только компании, но и зрителям и киностудиям, участвовавшим в их создании<sup class=\"reference\" id=\"cite_ref-28\"><a href=\"#cite_note-28\">[28]</a></sup>.\n",
            "</p>\n",
            "<h4><span id=\".D0.9C.D0.B5.D0.B6.D0.B4.D1.83.D0.BD.D0.B0.D1.80.D0.BE.D0.B4.D0.BD.D0.B0.D1.8F_.D1.8D.D0.BA.D1.81.D0.BF.D0.B0.D0.BD.D1.81.D0.B8.D1.8F\"></span><span class=\"mw-headline\" id=\"Международная_экспансия\">Международная экспансия</span><span class=\"mw-editsection\"><span class=\"mw-editsection-bracket\">[</span><a class=\"mw-editsection-visualeditor\" href=\"/w/index.php?title=Netflix&amp;veaction=edit&amp;section=5\" title=\"Редактировать раздел «Международная экспансия»\">править</a><span class=\"mw-editsection-divider\"> | </span><a href=\"/w/index.php?title=Netflix&amp;action=edit&amp;section=5\" title=\"Редактировать раздел «Международная экспансия»\">править код</a><span class=\"mw-editsection-bracket\">]</span></span></h4>\n",
            "<div class=\"hatnote navigation-not-searchable\">Основная статья: <b><a href=\"/wiki/%D0%9C%D0%B5%D0%B6%D0%B4%D1%83%D0%BD%D0%B0%D1%80%D0%BE%D0%B4%D0%BD%D0%B0%D1%8F_%D1%8D%D0%BA%D1%81%D0%BF%D0%B0%D0%BD%D1%81%D0%B8%D1%8F_Netflix\" title=\"Международная экспансия Netflix\">Международная экспансия Netflix</a></b></div>\n",
            "<p>Компания вышла на международный рынок в 2010, когда потоковое вещание стало доступно в <a href=\"/wiki/%D0%9A%D0%B0%D0%BD%D0%B0%D0%B4%D0%B0\" title=\"Канада\">Канаде</a>.\n",
            "</p><p>К январю 2013 года количество клиентов потокового сервиса Netflix достигло 27,1 миллиона в США и 29,4 миллиона в мире, с выручкой в 945 млн долларов<sup class=\"reference\" id=\"cite_ref-29\"><a href=\"#cite_note-29\">[29]</a></sup>. К апрелю число подписчиков увеличилось до 36,3 миллионов (29,2 миллиона в Соединённых Штатах)<sup class=\"reference\" id=\"cite_ref-30\"><a href=\"#cite_note-30\">[30]</a></sup>. По состоянию на сентябрь 2013 года Netflix сообщила об общем количестве абонентов потоковой передачи в 40,4 миллиона человек (31,2 миллиона в Соединённых Штатах)<sup class=\"reference\" id=\"cite_ref-31\"><a href=\"#cite_note-31\">[31]</a></sup><sup class=\"reference\" id=\"cite_ref-32\"><a href=\"#cite_note-32\">[32]</a></sup>. К сентябрю 2014 года у Netflix были подписчики более чем в 40 странах, к тому же, компания намеревалась расширить <a href=\"/wiki/%D0%9C%D0%B5%D0%B6%D0%B4%D1%83%D0%BD%D0%B0%D1%80%D0%BE%D0%B4%D0%BD%D0%B0%D1%8F_%D1%8D%D0%BA%D1%81%D0%BF%D0%B0%D0%BD%D1%81%D0%B8%D1%8F_Netflix\" title=\"Международная экспансия Netflix\">зону поставки своих услуг</a><sup class=\"reference\" id=\"cite_ref-33\"><a href=\"#cite_note-33\">[33]</a></sup>.\n",
            "</p><p>В марте 2015 года сервис стал доступен в <a href=\"/wiki/%D0%90%D0%B2%D1%81%D1%82%D1%80%D0%B0%D0%BB%D0%B8%D1%8F\" title=\"Австралия\">Австралии</a> и <a href=\"/wiki/%D0%9D%D0%BE%D0%B2%D0%B0%D1%8F_%D0%97%D0%B5%D0%BB%D0%B0%D0%BD%D0%B4%D0%B8%D1%8F\" title=\"Новая Зеландия\">Новой Зеландии</a>, а осенью — в <a href=\"/wiki/%D0%AF%D0%BF%D0%BE%D0%BD%D0%B8%D1%8F\" title=\"Япония\">Японии</a>.\n",
            "</p>\n",
            "<div class=\"thumb tright\"><div class=\"thumbinner\" style=\"width:402px;\"><a class=\"image\" href=\"/wiki/%D0%A4%D0%B0%D0%B9%D0%BB:Netflix_area.svg\"><img alt=\"\" class=\"thumbimage\" data-file-height=\"443\" data-file-width=\"863\" decoding=\"async\" height=\"205\" src=\"//upload.wikimedia.org/wikipedia/commons/thumb/0/09/Netflix_area.svg/400px-Netflix_area.svg.png\" srcset=\"//upload.wikimedia.org/wikipedia/commons/thumb/0/09/Netflix_area.svg/600px-Netflix_area.svg.png 1.5x, //upload.wikimedia.org/wikipedia/commons/thumb/0/09/Netflix_area.svg/800px-Netflix_area.svg.png 2x\" width=\"400\"/></a>  <div class=\"thumbcaption\"><div class=\"magnify\"><a class=\"internal\" href=\"/wiki/%D0%A4%D0%B0%D0%B9%D0%BB:Netflix_area.svg\" title=\"Увеличить\"></a></div>Доступность Netflix по странам на январь 2016 года<span style=\"font-size: 90%; margin: 0px 0px 1px 0px; display: block;\"><span style=\"vertical-align: top; border: 0px solid #B00000; background: #B00000; text-align: center;\" title=\"#B00000\">    </span> Доступен</span><span style=\"font-size: 90%; margin: 0px 0px 1px 0px; display: block;\"><span style=\"vertical-align: top; border: 0px solid #000000; background: #000000; text-align: center;\" title=\"#000000\">    </span> Недоступен</span></div></div></div>\n",
            "<p><a href=\"/wiki/6_%D1%8F%D0%BD%D0%B2%D0%B0%D1%80%D1%8F\" title=\"6 января\">6 января</a> <a href=\"/wiki/2016_%D0%B3%D0%BE%D0%B4\" title=\"2016 год\">2016 года</a>, во время пресс-релиза на мировой выставке электроники <a class=\"mw-redirect\" href=\"/wiki/CES\" title=\"CES\">CES</a>, Рид Хастингс неожиданно объявил, что сервис запустился и доступен для регистрации пользователей в 190 странах мира, среди которых такие большие аудитории, как <a href=\"/wiki/%D0%A0%D0%BE%D1%81%D1%81%D0%B8%D1%8F\" title=\"Россия\">Россия</a>, <a href=\"/wiki/%D0%98%D0%BD%D0%B4%D0%B8%D1%8F\" title=\"Индия\">Индия</a> и <a href=\"/wiki/%D0%A0%D0%B5%D1%81%D0%BF%D1%83%D0%B1%D0%BB%D0%B8%D0%BA%D0%B0_%D0%9A%D0%BE%D1%80%D0%B5%D1%8F\" title=\"Республика Корея\">Южная Корея</a><sup class=\"reference\" id=\"cite_ref-:0_34-0\"><a href=\"#cite_note-:0-34\">[34]</a></sup>. Сервис недоступен в <a class=\"mw-redirect\" href=\"/wiki/%D0%9A%D0%B8%D1%82%D0%B0%D0%B9%D1%81%D0%BA%D0%B0%D1%8F_%D0%9D%D0%B0%D1%80%D0%BE%D0%B4%D0%BD%D0%B0%D1%8F_%D0%A0%D0%B5%D1%81%D0%BF%D1%83%D0%B1%D0%BB%D0%B8%D0%BA%D0%B0\" title=\"Китайская Народная Республика\">Китае</a>, где правительство регулирует интернет, а также «на территории <a href=\"/wiki/%D0%9A%D1%80%D1%8B%D0%BC\" title=\"Крым\">Крыма</a>, <a href=\"/wiki/%D0%9A%D0%BE%D1%80%D0%B5%D0%B9%D1%81%D0%BA%D0%B0%D1%8F_%D0%9D%D0%B0%D1%80%D0%BE%D0%B4%D0%BD%D0%BE-%D0%94%D0%B5%D0%BC%D0%BE%D0%BA%D1%80%D0%B0%D1%82%D0%B8%D1%87%D0%B5%D1%81%D0%BA%D0%B0%D1%8F_%D0%A0%D0%B5%D1%81%D0%BF%D1%83%D0%B1%D0%BB%D0%B8%D0%BA%D0%B0\" title=\"Корейская Народно-Демократическая Республика\">КНДР</a> и <a href=\"/wiki/%D0%A1%D0%B8%D1%80%D0%B8%D1%8F\" title=\"Сирия\">Сирии</a> ввиду ограничений правительства США на деятельность американских компаний»<sup class=\"reference\" id=\"cite_ref-35\"><a href=\"#cite_note-35\">[35]</a></sup><sup class=\"reference\" id=\"cite_ref-36\"><a href=\"#cite_note-36\">[36]</a></sup>.\n",
            "</p><p>В июне 2016 года министр культуры России <a href=\"/wiki/%D0%9C%D0%B5%D0%B4%D0%B8%D0%BD%D1%81%D0%BA%D0%B8%D0%B9,_%D0%92%D0%BB%D0%B0%D0%B4%D0%B8%D0%BC%D0%B8%D1%80_%D0%A0%D0%BE%D1%81%D1%82%D0%B8%D1%81%D0%BB%D0%B0%D0%B2%D0%BE%D0%B2%D0%B8%D1%87\" title=\"Мединский, Владимир Ростиславович\">Владимир Мединский</a> заявил, что Netflix якобы является частью «плана» правительства <a href=\"/wiki/%D0%A1%D0%BE%D0%B5%D0%B4%D0%B8%D0%BD%D1%91%D0%BD%D0%BD%D1%8B%D0%B5_%D0%A8%D1%82%D0%B0%D1%82%D1%8B_%D0%90%D0%BC%D0%B5%D1%80%D0%B8%D0%BA%D0%B8\" title=\"Соединённые Штаты Америки\">США</a> по влиянию на мировую культуру: «войти в каждый дом, попасть в каждый телевизор и через этот телевизор в голову каждого человека на земле». Это было частью его аргумента в пользу увеличения финансирования российского кино.\n",
            "</p><p>Весной 2017 года Netflix запустил программу по найму <a href=\"/wiki/%D0%A4%D1%80%D0%B8%D0%BB%D0%B0%D0%BD%D1%81%D0%B5%D1%80\" title=\"Фрилансер\">фрилансеров</a> для перевода <a href=\"/wiki/%D0%A1%D1%83%D0%B1%D1%82%D0%B8%D1%82%D1%80%D1%8B\" title=\"Субтитры\">субтитров</a>, с её помощью <a class=\"mw-redirect\" href=\"/wiki/%D0%9E%D0%BD%D0%BB%D0%B0%D0%B9%D0%BD-%D0%BA%D0%B8%D0%BD%D0%BE%D1%82%D0%B5%D0%B0%D1%82%D1%80\" title=\"Онлайн-кинотеатр\">онлайн-кинотеатр</a> намерен перевести свои сериалы на более чем 20 иностранных языков, в том числе русский<sup class=\"reference\" id=\"cite_ref-37\"><a href=\"#cite_note-37\">[37]</a></sup>. Значительная часть библиотеки Netflix имеет <a href=\"/wiki/%D0%A1%D1%83%D0%B1%D1%82%D0%B8%D1%82%D1%80%D1%8B\" title=\"Субтитры\">субтитры</a> на русском языке, часть контента также имеет озвучку<sup class=\"reference\" id=\"cite_ref-38\"><a href=\"#cite_note-38\">[38]</a></sup>. К октябрю 2018 года клиентская база Netflix достигла 137 миллионов человек по всему миру, что подтверждает её статус крупнейшего в мире видеосервиса с онлайн-подпиской<sup class=\"reference\" id=\"cite_ref-39\"><a href=\"#cite_note-39\">[39]</a></sup>.\n",
            "</p><p>6 марта 2019 года компания Netflix приобрела права на экранизацию романа <a class=\"mw-redirect\" href=\"/wiki/%D0%9C%D0%B0%D1%80%D0%BA%D0%B5%D1%81,_%D0%93%D0%B0%D0%B1%D1%80%D0%B8%D1%8D%D0%BB%D1%8C_%D0%93%D0%B0%D1%80%D1%81%D0%B8%D0%B0\" title=\"Маркес, Габриэль Гарсиа\">Габриэля Гарсиа Маркеса</a> «<a href=\"/wiki/%D0%A1%D1%82%D0%BE_%D0%BB%D0%B5%D1%82_%D0%BE%D0%B4%D0%B8%D0%BD%D0%BE%D1%87%D0%B5%D1%81%D1%82%D0%B2%D0%B0\" title=\"Сто лет одиночества\">Сто лет одиночества</a>». Произведение будет перенесено на экран впервые<sup class=\"reference\" id=\"cite_ref-40\"><a href=\"#cite_note-40\">[40]</a></sup>.\n",
            "</p><p>Во время пандемии <a href=\"/wiki/COVID-19\" title=\"COVID-19\">COVID-19</a> в 2020 году, когда большинство кинотеатров по всему миру были закрыты, Netflix получил 16 миллионов новых подписчиков<sup class=\"reference\" id=\"cite_ref-41\"><a href=\"#cite_note-41\">[41]</a></sup>. С 15 октября 2020 года Netflix официально запущен в России и СНГ с русскоязычным оформлением. По итогам 2020 года Netflix вошёл в четвёрку самых популярных онлайн-кинотеатров в России после <a href=\"/wiki/Ivi.ru\" title=\"Ivi.ru\">ivi</a>, «<a class=\"mw-redirect\" href=\"/wiki/%D0%9A%D0%B8%D0%BD%D0%BE%D0%9F%D0%BE%D0%B8%D1%81%D0%BA\" title=\"КиноПоиск\">Кинопоиск HD</a>» и <a href=\"/wiki/Okko_(%D0%BE%D0%BD%D0%BB%D0%B0%D0%B9%D0%BD-%D0%BA%D0%B8%D0%BD%D0%BE%D1%82%D0%B5%D0%B0%D1%82%D1%80)\" title=\"Okko (онлайн-кинотеатр)\">Okko</a><sup class=\"reference\" id=\"cite_ref-42\"><a href=\"#cite_note-42\">[42]</a></sup>.\n",
            "</p>\n",
            "<h3><span id=\".D0.91.D0.BE.D0.B9.D0.BA.D0.BE.D1.82_.D0.A0.D0.BE.D1.81.D1.81.D0.B8.D0.B8\"></span><span class=\"mw-headline\" id=\"Бойкот_России\">Бойкот России</span><span class=\"mw-editsection\"><span class=\"mw-editsection-bracket\">[</span><a class=\"mw-editsection-visualeditor\" href=\"/w/index.php?title=Netflix&amp;veaction=edit&amp;section=6\" title=\"Редактировать раздел «Бойкот России»\">править</a><span class=\"mw-editsection-divider\"> | </span><a href=\"/w/index.php?title=Netflix&amp;action=edit&amp;section=6\" title=\"Редактировать раздел «Бойкот России»\">править код</a><span class=\"mw-editsection-bracket\">]</span></span></h3>\n",
            "<p>3 марта 2022 года компания объявила о приостановке всех проектов в России в знак протеста против <a href=\"/wiki/%D0%92%D1%82%D0%BE%D1%80%D0%B6%D0%B5%D0%BD%D0%B8%D0%B5_%D0%A0%D0%BE%D1%81%D1%81%D0%B8%D0%B8_%D0%BD%D0%B0_%D0%A3%D0%BA%D1%80%D0%B0%D0%B8%D0%BD%D1%83_(2022)\" title=\"Вторжение России на Украину (2022)\">вторжения России на Украину</a><sup class=\"reference\" id=\"cite_ref-43\"><a href=\"#cite_note-43\">[43]</a></sup>.\n",
            "</p><p>6 марта 2022 года Netflix объявила, что приостанавливает работу в России<sup class=\"reference\" id=\"cite_ref-Russia_suspension_44-0\"><a href=\"#cite_note-Russia_suspension-44\">[44]</a></sup>.\n",
            "</p>\n",
            "<h2><span id=\".D0.A1.D0.BE.D0.B1.D1.81.D1.82.D0.B2.D0.B5.D0.BD.D0.BD.D0.B8.D0.BA.D0.B8\"></span><span class=\"mw-headline\" id=\"Собственники\">Собственники</span><span class=\"mw-editsection\"><span class=\"mw-editsection-bracket\">[</span><a class=\"mw-editsection-visualeditor\" href=\"/w/index.php?title=Netflix&amp;veaction=edit&amp;section=7\" title=\"Редактировать раздел «Собственники»\">править</a><span class=\"mw-editsection-divider\"> | </span><a href=\"/w/index.php?title=Netflix&amp;action=edit&amp;section=7\" title=\"Редактировать раздел «Собственники»\">править код</a><span class=\"mw-editsection-bracket\">]</span></span></h2>\n",
            "<p>По состоянию на декабрь 2021 82 % акций Netflix находились у <a href=\"/wiki/%D0%98%D0%BD%D1%81%D1%82%D0%B8%D1%82%D1%83%D1%86%D0%B8%D0%BE%D0%BD%D0%B0%D0%BB%D1%8C%D0%BD%D1%8B%D0%B9_%D0%B8%D0%BD%D0%B2%D0%B5%D1%81%D1%82%D0%BE%D1%80\" title=\"Институциональный инвестор\">институциональных инвесторов</a>. Самые крупные из них, в числе которых <a href=\"/wiki/Capital_Group_Companies\" title=\"Capital Group Companies\">Capital Group Companies</a>, <a href=\"/wiki/The_Vanguard_Group\" title=\"The Vanguard Group\">The Vanguard Group</a> и <a href=\"/wiki/BlackRock\" title=\"BlackRock\">BlackRock</a>, владели не более чем по 8 % акций. Крупнейшие частные держатели владели не более чем 0,02 % акций<sup class=\"reference\" id=\"cite_ref-investopedia_45-0\"><a href=\"#cite_note-investopedia-45\">[45]</a></sup>.\n",
            "</p>\n",
            "<h2><span id=\".D0.A2.D0.B5.D1.85.D0.BD.D0.B8.D1.87.D0.B5.D1.81.D0.BA.D0.B8.D0.B5_.D0.B4.D0.B5.D1.82.D0.B0.D0.BB.D0.B8_.D0.B8_.D1.82.D0.B0.D1.80.D0.B8.D1.84.D1.8B\"></span><span class=\"mw-headline\" id=\"Технические_детали_и_тарифы\">Технические детали и тарифы</span><span class=\"mw-editsection\"><span class=\"mw-editsection-bracket\">[</span><a class=\"mw-editsection-visualeditor\" href=\"/w/index.php?title=Netflix&amp;veaction=edit&amp;section=8\" title=\"Редактировать раздел «Технические детали и тарифы»\">править</a><span class=\"mw-editsection-divider\"> | </span><a href=\"/w/index.php?title=Netflix&amp;action=edit&amp;section=8\" title=\"Редактировать раздел «Технические детали и тарифы»\">править код</a><span class=\"mw-editsection-bracket\">]</span></span></h2>\n",
            "<table class=\"plainlinks metadata ambox ambox-content\" role=\"presentation\"><tbody><tr><td class=\"mbox-image\"><div style=\"width:52px\"><a class=\"image\" href=\"/wiki/%D0%A4%D0%B0%D0%B9%D0%BB:Ambox_globe_content.svg\" title=\"Глобализировать\"><img alt=\"(!)\" data-file-height=\"290\" data-file-width=\"350\" decoding=\"async\" height=\"40\" src=\"//upload.wikimedia.org/wikipedia/commons/thumb/b/bd/Ambox_globe_content.svg/48px-Ambox_globe_content.svg.png\" srcset=\"//upload.wikimedia.org/wikipedia/commons/thumb/b/bd/Ambox_globe_content.svg/73px-Ambox_globe_content.svg.png 1.5x, //upload.wikimedia.org/wikipedia/commons/thumb/b/bd/Ambox_globe_content.svg/97px-Ambox_globe_content.svg.png 2x\" width=\"48\"/></a></div></td><td class=\"mbox-text\"><div class=\"mbox-text-div\"><b>Эта статья или раздел описывает ситуацию применительно лишь к одному региону</b>, возможно, нарушая при этом <a href=\"/wiki/%D0%92%D0%B8%D0%BA%D0%B8%D0%BF%D0%B5%D0%B4%D0%B8%D1%8F:%D0%92%D0%B7%D0%B2%D0%B5%D1%88%D0%B5%D0%BD%D0%BD%D0%BE%D1%81%D1%82%D1%8C_%D0%B8%D0%B7%D0%BB%D0%BE%D0%B6%D0%B5%D0%BD%D0%B8%D1%8F\" title=\"Википедия:Взвешенность изложения\">правило о взвешенности изложения</a>.</div><div class=\"mbox-textsmall-div hide-when-compact\" style=\"font-size:85%\">Вы можете помочь Википедии, добавив информацию для других стран и регионов.</div></td></tr></tbody></table>\n",
            "<p>Библиотека Netflix доступна для просмотра из большинства современных интернет-браузеров, также существуют приложения для мобильных платформ <a href=\"/wiki/Android\" title=\"Android\">Android</a>, <a href=\"/wiki/IOS\" title=\"IOS\">iOS</a>; приставок на базе <a href=\"/wiki/Android_TV\" title=\"Android TV\">Android TV</a> и <a href=\"/wiki/Apple_TV\" title=\"Apple TV\">Apple TV</a>, игровых консолей <a href=\"/wiki/PlayStation_(%D1%81%D0%B5%D1%80%D0%B8%D1%8F_%D0%B8%D0%B3%D1%80%D0%BE%D0%B2%D1%8B%D1%85_%D0%BA%D0%BE%D0%BD%D1%81%D0%BE%D0%BB%D0%B5%D0%B9)\" title=\"PlayStation (серия игровых консолей)\">PlayStation</a> и <a href=\"/wiki/Xbox_(%D1%81%D0%B5%D1%80%D0%B8%D1%8F_%D0%B8%D0%B3%D1%80%D0%BE%D0%B2%D1%8B%D1%85_%D0%BA%D0%BE%D0%BD%D1%81%D0%BE%D0%BB%D0%B5%D0%B9)\" title=\"Xbox (серия игровых консолей)\">Xbox</a>; и для многих моделей телевизоров с функцией <a href=\"/wiki/Smart_TV\" title=\"Smart TV\">Smart TV</a>. С января 2016 года фильмы и сериалы от Netflix доступны клиентам в качестве до <a href=\"/wiki/%D0%A2%D0%B5%D0%BB%D0%B5%D0%B2%D0%B8%D0%B4%D0%B5%D0%BD%D0%B8%D0%B5_%D1%81%D0%B2%D0%B5%D1%80%D1%85%D0%B2%D1%8B%D1%81%D0%BE%D0%BA%D0%BE%D0%B9_%D1%87%D1%91%D1%82%D0%BA%D0%BE%D1%81%D1%82%D0%B8\" title=\"Телевидение сверхвысокой чёткости\">Ultra HD 4K</a> (на территории США также в <a href=\"/wiki/%D0%A1%D1%82%D0%B5%D1%80%D0%B5%D0%BE%D0%B8%D0%B7%D0%BE%D0%B1%D1%80%D0%B0%D0%B6%D0%B5%D0%BD%D0%B8%D0%B5\" title=\"Стереоизображение\">3D-формате</a>).\n",
            "</p><p>На октябрь 2021 года существуют три тарифа, каждый из которых открывает всю библиотеку сервиса<sup class=\"reference\" id=\"cite_ref-46\"><a href=\"#cite_note-46\">[46]</a></sup>.\n",
            "</p>\n",
            "<ul><li>«Базовый» — 599 ₽ в месяц — позволяет смотреть видео на одном экране с качеством <a href=\"/wiki/%D0%A2%D0%B5%D0%BB%D0%B5%D0%B2%D0%B8%D0%B4%D0%B5%D0%BD%D0%B8%D0%B5_%D1%81%D1%82%D0%B0%D0%BD%D0%B4%D0%B0%D1%80%D1%82%D0%BD%D0%BE%D0%B9_%D1%87%D1%91%D1%82%D0%BA%D0%BE%D1%81%D1%82%D0%B8\" title=\"Телевидение стандартной чёткости\">SD</a>,</li>\n",
            "<li>«Стандартный» — 799 ₽ в месяц — на двух в <a href=\"/wiki/%D0%A2%D0%B5%D0%BB%D0%B5%D0%B2%D0%B8%D0%B4%D0%B5%D0%BD%D0%B8%D0%B5_%D0%B2%D1%8B%D1%81%D0%BE%D0%BA%D0%BE%D0%B9_%D1%87%D1%91%D1%82%D0%BA%D0%BE%D1%81%D1%82%D0%B8\" title=\"Телевидение высокой чёткости\">HD</a>,</li>\n",
            "<li>«Премиум» — 999 ₽ в месяц — на четырёх в <a href=\"/wiki/%D0%A2%D0%B5%D0%BB%D0%B5%D0%B2%D0%B8%D0%B4%D0%B5%D0%BD%D0%B8%D0%B5_%D0%B2%D1%8B%D1%81%D0%BE%D0%BA%D0%BE%D0%B9_%D1%87%D1%91%D1%82%D0%BA%D0%BE%D1%81%D1%82%D0%B8\" title=\"Телевидение высокой чёткости\">HD</a> или <a href=\"/wiki/%D0%A2%D0%B5%D0%BB%D0%B5%D0%B2%D0%B8%D0%B4%D0%B5%D0%BD%D0%B8%D0%B5_%D1%81%D0%B2%D0%B5%D1%80%D1%85%D0%B2%D1%8B%D1%81%D0%BE%D0%BA%D0%BE%D0%B9_%D1%87%D1%91%D1%82%D0%BA%D0%BE%D1%81%D1%82%D0%B8\" title=\"Телевидение сверхвысокой чёткости\">Ultra HD</a>, когда это доступно. Доступен просмотр <a href=\"/wiki/HDR-%D0%B2%D0%B8%D0%B4%D0%B5%D0%BE\" title=\"HDR-видео\">HDR-видео</a>, сервис поддерживает 2 формата трансляций в HDR: <a href=\"/wiki/Dolby_Vision\" title=\"Dolby Vision\">Dolby Vision</a> и HDR10.</li></ul>\n",
            "<p><b>Рекомендованные параметры от Netflix:</b>\n",
            "</p>\n",
            "<table class=\"wikitable sortable\">\n",
            "\n",
            "<tbody><tr>\n",
            "<th>Качество</th>\n",
            "<th>Рекомендованная<br/>потоковая скорость</th>\n",
            "<th>Справка\n",
            "</th></tr>\n",
            "<tr>\n",
            "<td>Мин. требуемое</td>\n",
            "<td>0,5 Мбит/с</td>\n",
            "<td><sup class=\"reference\" id=\"cite_ref-Speeds_47-0\"><a href=\"#cite_note-Speeds-47\">[47]</a></sup>\n",
            "</td></tr>\n",
            "<tr>\n",
            "<td>Рекомендованное</td>\n",
            "<td>1,5 Мбит/с</td>\n",
            "<td><sup class=\"reference\" id=\"cite_ref-Speeds_47-1\"><a href=\"#cite_note-Speeds-47\">[47]</a></sup>\n",
            "</td></tr>\n",
            "<tr>\n",
            "<td><a href=\"/wiki/%D0%A2%D0%B5%D0%BB%D0%B5%D0%B2%D0%B8%D0%B4%D0%B5%D0%BD%D0%B8%D0%B5_%D1%81%D1%82%D0%B0%D0%BD%D0%B4%D0%B0%D1%80%D1%82%D0%BD%D0%BE%D0%B9_%D1%87%D1%91%D1%82%D0%BA%D0%BE%D1%81%D1%82%D0%B8\" title=\"Телевидение стандартной чёткости\">SD</a></td>\n",
            "<td>3,0 Мбит/с</td>\n",
            "<td><sup class=\"reference\" id=\"cite_ref-Speeds_47-2\"><a href=\"#cite_note-Speeds-47\">[47]</a></sup>\n",
            "</td></tr>\n",
            "<tr>\n",
            "<td>HD (<a href=\"/wiki/720p\" title=\"720p\">720p</a> и <a class=\"mw-redirect\" href=\"/wiki/1080p\" title=\"1080p\">1080p</a>)</td>\n",
            "<td>5,0 Мбит/с</td>\n",
            "<td><sup class=\"reference\" id=\"cite_ref-Speeds_47-3\"><a href=\"#cite_note-Speeds-47\">[47]</a></sup>\n",
            "</td></tr>\n",
            "<tr>\n",
            "<td>Ultra HD (<a class=\"mw-redirect\" href=\"/wiki/2160p\" title=\"2160p\">2160p</a>)</td>\n",
            "<td>25 Мбит/с</td>\n",
            "<td><sup class=\"reference\" id=\"cite_ref-48\"><a href=\"#cite_note-48\">[48]</a></sup>\n",
            "</td></tr></tbody></table>\n",
            "<h2><span id=\".D0.9C.D0.B0.D1.82.D0.B5.D1.80.D0.B8.D0.B0.D0.BB.D1.8B\"></span><span class=\"mw-headline\" id=\"Материалы\">Материалы</span><span class=\"mw-editsection\"><span class=\"mw-editsection-bracket\">[</span><a class=\"mw-editsection-visualeditor\" href=\"/w/index.php?title=Netflix&amp;veaction=edit&amp;section=9\" title=\"Редактировать раздел «Материалы»\">править</a><span class=\"mw-editsection-divider\"> | </span><a href=\"/w/index.php?title=Netflix&amp;action=edit&amp;section=9\" title=\"Редактировать раздел «Материалы»\">править код</a><span class=\"mw-editsection-bracket\">]</span></span></h2>\n",
            "<div class=\"thumb tright\" style=\"max-width: 100%; width: 426px;\">\n",
            "<div class=\"thumbinner\">\n",
            "<div style=\"float: left; margin: 1px; width: 201px\">\n",
            "<div class=\"thumbimage\"><a class=\"image\" href=\"/wiki/%D0%A4%D0%B0%D0%B9%D0%BB:100_Winchester_Circle.jpg\"><img alt=\"\" data-file-height=\"3456\" data-file-width=\"5184\" decoding=\"async\" height=\"133\" src=\"//upload.wikimedia.org/wikipedia/commons/thumb/1/18/100_Winchester_Circle.jpg/200px-100_Winchester_Circle.jpg\" srcset=\"//upload.wikimedia.org/wikipedia/commons/thumb/1/18/100_Winchester_Circle.jpg/300px-100_Winchester_Circle.jpg 1.5x, //upload.wikimedia.org/wikipedia/commons/thumb/1/18/100_Winchester_Circle.jpg/400px-100_Winchester_Circle.jpg 2x\" width=\"200\"/></a>\n",
            "</div>\n",
            "<div class=\"thumbcaption\" style=\"clear:left\"><small>Долгое время штаб-квартира Netflix в Лос-Гатосе и текущий юридический адрес по адресу 100 Винчестер Сёркл (строение A)</small>\n",
            "</div>\n",
            "</div><div style=\"float: left; margin: 1px; width: 212px\">\n",
            "<div class=\"thumbimage\"><a class=\"image\" href=\"/wiki/%D0%A4%D0%B0%D0%B9%D0%BB:101_Albright_Way.jpg\"><img alt=\"\" data-file-height=\"3188\" data-file-width=\"5024\" decoding=\"async\" height=\"133\" src=\"//upload.wikimedia.org/wikipedia/commons/thumb/2/2e/101_Albright_Way.jpg/210px-101_Albright_Way.jpg\" srcset=\"//upload.wikimedia.org/wikipedia/commons/thumb/2/2e/101_Albright_Way.jpg/315px-101_Albright_Way.jpg 1.5x, //upload.wikimedia.org/wikipedia/commons/thumb/2/2e/101_Albright_Way.jpg/420px-101_Albright_Way.jpg 2x\" width=\"210\"/></a>\n",
            "</div><div class=\"thumbcaption\" style=\"clear:left\"><small>Расширение кампуса Netflix Лос-Гатос в 90-160 Олбрайт Вэй (корпус G, Олбрайт Вэй 101)<sup class=\"reference\" id=\"cite_ref-49\"><a href=\"#cite_note-49\">[49]</a></sup><sup class=\"reference\" id=\"cite_ref-50\"><a href=\"#cite_note-50\">[50]</a></sup></small>.\n",
            "</div>\n",
            "</div>\n",
            "<div style=\"clear:both\"></div>\n",
            "</div>\n",
            "<div style=\"clear:both\"></div>\n",
            "</div>\n",
            "<div class=\"thumb tright\" style=\"max-width: 100%; width: 197px;\">\n",
            "<div class=\"thumbinner\">\n",
            "<div style=\"margin: 1px; width: 186px\">\n",
            "<div class=\"thumbimage\"><a class=\"image\" href=\"/wiki/%D0%A4%D0%B0%D0%B9%D0%BB:NFOrg.png\"><img alt=\"\" data-file-height=\"138\" data-file-width=\"319\" decoding=\"async\" height=\"80\" src=\"//upload.wikimedia.org/wikipedia/commons/thumb/2/27/NFOrg.png/185px-NFOrg.png\" srcset=\"//upload.wikimedia.org/wikipedia/commons/thumb/2/27/NFOrg.png/278px-NFOrg.png 1.5x, //upload.wikimedia.org/wikipedia/commons/2/27/NFOrg.png 2x\" width=\"185\"/></a>\n",
            "</div>\n",
            "<div class=\"thumbcaption\" style=\"clear:left\">Первый логотип, использовавшийся с 1997 по 2000 год\n",
            "</div>\n",
            "</div><div style=\"margin: 1px; width: 187px\">\n",
            "<div class=\"thumbimage\"><a class=\"image\" href=\"/wiki/%D0%A4%D0%B0%D0%B9%D0%BB:Netflix_logo.svg\"><img alt=\"\" data-file-height=\"464\" data-file-width=\"1000\" decoding=\"async\" height=\"86\" src=\"//upload.wikimedia.org/wikipedia/commons/thumb/6/69/Netflix_logo.svg/185px-Netflix_logo.svg.png\" srcset=\"//upload.wikimedia.org/wikipedia/commons/thumb/6/69/Netflix_logo.svg/278px-Netflix_logo.svg.png 1.5x, //upload.wikimedia.org/wikipedia/commons/thumb/6/69/Netflix_logo.svg/370px-Netflix_logo.svg.png 2x\" width=\"185\"/></a>\n",
            "</div><div class=\"thumbcaption\" style=\"clear:left\">Логотип Netflix, использовавшийся с 2000 по 2014 год\n",
            "</div>\n",
            "</div>\n",
            "<div style=\"clear:both\"></div>\n",
            "</div>\n",
            "<div style=\"clear:both\"></div>\n",
            "</div>\n",
            "<div class=\"thumb tright\"><div class=\"thumbinner\" style=\"width:172px;\"><a class=\"image\" href=\"/wiki/%D0%A4%D0%B0%D0%B9%D0%BB:Netflixenvelope.jpg\"><img alt=\"\" class=\"thumbimage\" data-file-height=\"300\" data-file-width=\"490\" decoding=\"async\" height=\"104\" src=\"//upload.wikimedia.org/wikipedia/commons/thumb/1/1a/Netflixenvelope.jpg/170px-Netflixenvelope.jpg\" srcset=\"//upload.wikimedia.org/wikipedia/commons/thumb/1/1a/Netflixenvelope.jpg/255px-Netflixenvelope.jpg 1.5x, //upload.wikimedia.org/wikipedia/commons/thumb/1/1a/Netflixenvelope.jpg/340px-Netflixenvelope.jpg 2x\" width=\"170\"/></a>  <div class=\"thumbcaption\"><div class=\"magnify\"><a class=\"internal\" href=\"/wiki/%D0%A4%D0%B0%D0%B9%D0%BB:Netflixenvelope.jpg\" title=\"Увеличить\"></a></div>Открыт прокатный конверт Netflix, содержащий DVD <i><a href=\"/wiki/%D0%A2%D1%80%D0%B5%D0%BD%D0%B5%D1%80_%D0%9A%D0%B0%D1%80%D1%82%D0%B5%D1%80\" title=\"Тренер Картер\">Тренер Картер</a></i></div></div></div>\n",
            "<h3><span class=\"mw-headline\" id=\"Netflix_Original\">Netflix Original</span><span class=\"mw-editsection\"><span class=\"mw-editsection-bracket\">[</span><a class=\"mw-editsection-visualeditor\" href=\"/w/index.php?title=Netflix&amp;veaction=edit&amp;section=10\" title=\"Редактировать раздел «Netflix Original»\">править</a><span class=\"mw-editsection-divider\"> | </span><a href=\"/w/index.php?title=Netflix&amp;action=edit&amp;section=10\" title=\"Редактировать раздел «Netflix Original»\">править код</a><span class=\"mw-editsection-bracket\">]</span></span></h3>\n",
            "<p>Netflix Original — это материалы, которые производятся, выпускаются и распространяются самостоятельно компанией Netflix. В марте 2011 года Netflix начала производить оригинальные материалы для своей библиотеки, начав с политической драмы «<a href=\"/wiki/%D0%9A%D0%B0%D1%80%D1%82%D0%BE%D1%87%D0%BD%D1%8B%D0%B9_%D0%B4%D0%BE%D0%BC%D0%B8%D0%BA_(%D1%82%D0%B5%D0%BB%D0%B5%D1%81%D0%B5%D1%80%D0%B8%D0%B0%D0%BB)\" title=\"Карточный домик (телесериал)\">Карточный домик</a>», которая дебютировала в феврале 2013 года. Сериал <a class=\"mw-redirect\" href=\"/wiki/%D0%9F%D1%80%D0%BE%D0%B4%D1%8E%D1%81%D0%B5%D1%80\" title=\"Продюсер\">спродюсирован</a> <a href=\"/wiki/%D0%A4%D0%B8%D0%BD%D1%87%D0%B5%D1%80,_%D0%94%D1%8D%D0%B2%D0%B8%D0%B4\" title=\"Финчер, Дэвид\">Дэвидом Финчером</a>, в главной роли <a href=\"/wiki/%D0%A1%D0%BF%D0%B5%D0%B9%D1%81%D0%B8,_%D0%9A%D0%B5%D0%B2%D0%B8%D0%BD\" title=\"Спейси, Кевин\">Кевин Спейси</a>.\n",
            "</p><p>Комедийно-драматический телесериал о жизни в женской тюрьме — «<a href=\"/wiki/%D0%9E%D1%80%D0%B0%D0%BD%D0%B6%D0%B5%D0%B2%D1%8B%D0%B9_%E2%80%94_%D1%85%D0%B8%D1%82_%D1%81%D0%B5%D0%B7%D0%BE%D0%BD%D0%B0\" title=\"Оранжевый — хит сезона\">Оранжевый — хит сезона</a>» — дебютировал в потоковом сервисе в июле 2013 года. Руководители Netflix сообщили, что этот сериал является самым популярным оригинальным сериалом Netflix<sup class=\"reference\" id=\"cite_ref-51\"><a href=\"#cite_note-51\">[51]</a></sup>. В феврале 2016 сериал был продлён на пятый, шестой и седьмой сезоны.\n",
            "</p><p>В ноябре 2013 года Netflix и <a href=\"/wiki/Marvel_Comics\" title=\"Marvel Comics\">Marvel</a> Television объявили о заключении контракта на производство 5 сезонов сериалов, посвящённых супергероям Marvel — <a href=\"/wiki/%D0%A1%D0%BE%D1%80%D0%B2%D0%B8%D0%B3%D0%BE%D0%BB%D0%BE%D0%B2%D0%B0_(%D1%82%D0%B5%D0%BB%D0%B5%D1%81%D0%B5%D1%80%D0%B8%D0%B0%D0%BB)\" title=\"Сорвиголова (телесериал)\">Сорвиголове</a>, <a href=\"/wiki/%D0%94%D0%B6%D0%B5%D1%81%D1%81%D0%B8%D0%BA%D0%B0_%D0%94%D0%B6%D0%BE%D0%BD%D1%81_(%D1%82%D0%B5%D0%BB%D0%B5%D1%81%D0%B5%D1%80%D0%B8%D0%B0%D0%BB)\" title=\"Джессика Джонс (телесериал)\">Джессике Джонс</a>, <a href=\"/wiki/%D0%96%D0%B5%D0%BB%D0%B5%D0%B7%D0%BD%D1%8B%D0%B9_%D0%9A%D1%83%D0%BB%D0%B0%D0%BA\" title=\"Железный Кулак\">Железному Кулаку</a> и <a href=\"/wiki/%D0%9B%D1%8E%D0%BA_%D0%9A%D0%B5%D0%B9%D0%B4%D0%B6_(%D1%82%D0%B5%D0%BB%D0%B5%D1%81%D0%B5%D1%80%D0%B8%D0%B0%D0%BB)\" title=\"Люк Кейдж (телесериал)\">Люку Кейджу</a>, а также мини-сериала «<a href=\"/wiki/%D0%97%D0%B0%D1%89%D0%B8%D1%82%D0%BD%D0%B8%D0%BA%D0%B8_(%D1%82%D0%B5%D0%BB%D0%B5%D1%81%D0%B5%D1%80%D0%B8%D0%B0%D0%BB,_2017)\" title=\"Защитники (телесериал, 2017)\">Защитники</a>», объединяющего всех этих героев. В начале 2019 компания заявила о закрытии всех сериалов о героях Marvel<sup class=\"reference\" id=\"cite_ref-52\"><a href=\"#cite_note-52\">[52]</a></sup>.\n",
            "</p><p>В июле 2013 Netflix был первым кандидатом из поставщиков интернет-видео на премию «<a href=\"/wiki/%D0%AD%D0%BC%D0%BC%D0%B8\" title=\"Эмми\">Эмми</a>». Компания получила 14 номинаций, из которых сериал «<a href=\"/wiki/%D0%9A%D0%B0%D1%80%D1%82%D0%BE%D1%87%D0%BD%D1%8B%D0%B9_%D0%B4%D0%BE%D0%BC%D0%B8%D0%BA_(%D1%82%D0%B5%D0%BB%D0%B5%D1%81%D0%B5%D1%80%D0%B8%D0%B0%D0%BB)\" title=\"Карточный домик (телесериал)\">Карточный домик</a>» выиграл 9.\n",
            "</p><p>В мае 2016 года Netflix выпускает собственное Late Night Show — «Челси», которое ведёт американская комедиантка <a href=\"/wiki/%D0%A5%D1%8D%D0%BD%D0%B4%D0%BB%D0%B5%D1%80,_%D0%A7%D0%B5%D0%BB%D1%81%D0%B8\" title=\"Хэндлер, Челси\">Челси Хэдлер</a>. 30-минутное шоу выходит каждую среду, четверг и пятницу. В июле 2016 года шоу было продлено на второй сезон.\n",
            "</p><p>15 июля 2016 года состоялась премьера первого сезона <a class=\"mw-redirect\" href=\"/wiki/%D0%A1%D0%A8%D0%90\" title=\"США\">американского</a> <a class=\"mw-redirect\" href=\"/wiki/%D0%9D%D0%B0%D1%83%D1%87%D0%BD%D0%B0%D1%8F_%D1%84%D0%B0%D0%BD%D1%82%D0%B0%D1%81%D1%82%D0%B8%D0%BA%D0%B0_%D0%B2_%D0%BA%D0%B8%D0%BD%D0%BE\" title=\"Научная фантастика в кино\">научно-фантастического</a> сериала «<a href=\"/wiki/%D0%9E%D1%87%D0%B5%D0%BD%D1%8C_%D1%81%D1%82%D1%80%D0%B0%D0%BD%D0%BD%D1%8B%D0%B5_%D0%B4%D0%B5%D0%BB%D0%B0\" title=\"Очень странные дела\">Очень странные дела</a>», созданного <a href=\"/wiki/%D0%91%D1%80%D0%B0%D1%82%D1%8C%D1%8F_%D0%94%D0%B0%D1%84%D1%84%D0%B5%D1%80\" title=\"Братья Даффер\">братьями Дафферами</a>. Он получил высокие оценки критиков, которые отметили атмосферность, актёрскую игру, режиссуру, музыкальное сопровождение и отсылки к жанровым фильмам 1980-х годов. Второй сезон, состоящий из девяти серий, был выпущен 27 октября 2017 года. В декабре 2017 года Netflix заказал третий сезон (8 эпизодов), премьера которого состоялась 4 июля 2019 года. 30 сентября 2019 на официальном канале сериала на YouTube подтвердилось, что сериал получит продолжение. Зимой 2020 года планируется начало съёмок. В свет четвёртый сезон выйдет в 2022 году. Братья Даффер заявили, что всего запланировано четыре или пять сезонов. Сериал получил 6 премий «<a href=\"/wiki/%D0%9F%D1%80%D0%B0%D0%B9%D0%BC-%D1%82%D0%B0%D0%B9%D0%BC%D0%BE%D0%B2%D0%B0%D1%8F_%D0%BF%D1%80%D0%B5%D0%BC%D0%B8%D1%8F_%C2%AB%D0%AD%D0%BC%D0%BC%D0%B8%C2%BB\" title=\"Прайм-таймовая премия «Эмми»\">Эмми</a>» и 30 номинаций, в том числе в категории «<a href=\"/wiki/%D0%9F%D1%80%D0%B5%D0%BC%D0%B8%D1%8F_%C2%AB%D0%AD%D0%BC%D0%BC%D0%B8%C2%BB_%D0%B7%D0%B0_%D0%BB%D1%83%D1%87%D1%88%D0%B8%D0%B9_%D0%B4%D1%80%D0%B0%D0%BC%D0%B0%D1%82%D0%B8%D1%87%D0%B5%D1%81%D0%BA%D0%B8%D0%B9_%D1%81%D0%B5%D1%80%D0%B8%D0%B0%D0%BB\" title=\"Премия «Эмми» за лучший драматический сериал\">Лучший драматический сериал</a>», четыре номинации на премию «<a href=\"/wiki/%D0%97%D0%BE%D0%BB%D0%BE%D1%82%D0%BE%D0%B9_%D0%B3%D0%BB%D0%BE%D0%B1%D1%83%D1%81\" title=\"Золотой глобус\">Золотой глобус</a>» и завоевал <a href=\"/wiki/%D0%9F%D1%80%D0%B5%D0%BC%D0%B8%D1%8F_%D0%93%D0%B8%D0%BB%D1%8C%D0%B4%D0%B8%D0%B8_%D0%BA%D0%B8%D0%BD%D0%BE%D0%B0%D0%BA%D1%82%D1%91%D1%80%D0%BE%D0%B2_%D0%A1%D0%A8%D0%90_%D0%B7%D0%B0_%D0%BB%D1%83%D1%87%D1%88%D0%B8%D0%B9_%D0%B0%D0%BA%D1%82%D1%91%D1%80%D1%81%D0%BA%D0%B8%D0%B9_%D1%81%D0%BE%D1%81%D1%82%D0%B0%D0%B2_%D0%B2_%D0%B4%D1%80%D0%B0%D0%BC%D0%B0%D1%82%D0%B8%D1%87%D0%B5%D1%81%D0%BA%D0%BE%D0%BC_%D1%81%D0%B5%D1%80%D0%B8%D0%B0%D0%BB%D0%B5\" title=\"Премия Гильдии киноактёров США за лучший актёрский состав в драматическом сериале\">премию Гильдии киноактёров США за лучший актёрский состав в драматическом сериале</a> в 2016 году.\n",
            "</p><p>31 марта 2017 года вышел новый сериал «<a href=\"/wiki/13_%D0%BF%D1%80%D0%B8%D1%87%D0%B8%D0%BD_%D0%BF%D0%BE%D1%87%D0%B5%D0%BC%D1%83\" title=\"13 причин почему\">13 причин почему</a>».\n",
            "</p><p>Netflix заказывает и эксклюзивно транслирует на собственном онлайн-сервисе <a href=\"/wiki/%D0%A1%D1%82%D0%B5%D0%BD%D0%B4%D0%B0%D0%BF_(%D0%B6%D0%B0%D0%BD%D1%80)\" title=\"Стендап (жанр)\">стендапы</a> многих популярных комиков, таких как <a href=\"/wiki/%D0%9B%D1%83%D0%B8_%D0%A1%D0%B8_%D0%9A%D0%B5%D0%B9\" title=\"Луи Си Кей\">Луи Си Кей</a><sup class=\"reference\" id=\"cite_ref-53\"><a href=\"#cite_note-53\">[53]</a></sup>, <a href=\"/wiki/%D0%94%D0%B6%D0%B5%D1%84%D1%84%D1%80%D0%B8%D1%81,_%D0%94%D0%B6%D0%B8%D0%BC\" title=\"Джеффрис, Джим\">Джим Джеффрис</a>, <a href=\"/wiki/%D0%9E%D1%84%D1%84%D0%B5%D1%80%D0%BC%D0%B0%D0%BD,_%D0%9D%D0%B8%D0%BA\" title=\"Офферман, Ник\">Ник Офферман</a>, <a href=\"/wiki/%D0%9A%D0%B0%D1%80%D1%80,_%D0%94%D0%B6%D0%B8%D0%BC%D0%BC%D0%B8\" title=\"Карр, Джимми\">Джимми Карр</a>, <a href=\"/wiki/%D0%A8%D1%83%D0%BC%D0%B5%D1%80,_%D0%AD%D0%BC%D0%B8\" title=\"Шумер, Эми\">Эми Шумер</a> и другие. В октябре 2016 года стало известно, что Netflix заплатит <a href=\"/wiki/%D0%A0%D0%BE%D0%BA,_%D0%9A%D1%80%D0%B8%D1%81\" title=\"Рок, Крис\">Крису Року</a> 40 миллионов долларов США за права на показ двух его выступлений<sup class=\"reference\" id=\"cite_ref-54\"><a href=\"#cite_note-54\">[54]</a></sup>.\n",
            "</p><p>28 декабря 2018 года на Netflix вышел <a href=\"/wiki/%D0%98%D0%BD%D1%82%D0%B5%D1%80%D0%B0%D0%BA%D1%82%D0%B8%D0%B2%D0%BD%D0%BE%D1%81%D1%82%D1%8C\" title=\"Интерактивность\">интерактивный</a> эпизод сериала «<a href=\"/wiki/%D0%A7%D1%91%D1%80%D0%BD%D0%BE%D0%B5_%D0%B7%D0%B5%D1%80%D0%BA%D0%B0%D0%BB%D0%BE_(%D1%82%D0%B5%D0%BB%D0%B5%D1%81%D0%B5%D1%80%D0%B8%D0%B0%D0%BB)\" title=\"Чёрное зеркало (телесериал)\">Чёрное зеркало</a>», где зрители могли рассматривать различные варианты поворота сценария, смешивая воедино элементы игры и традиционного видео. В 2019 году вышло интерактивное шоу «Ты против дикой природы», в котором зрители могут управлять действиями ведущего — <a href=\"/wiki/%D0%93%D1%80%D0%B8%D0%BB%D0%BB%D1%81,_%D0%91%D0%B5%D0%B0%D1%80\" title=\"Гриллс, Беар\">Беара Гриллса</a><sup class=\"reference\" id=\"cite_ref-55\"><a href=\"#cite_note-55\">[55]</a></sup>.\n",
            "</p>\n",
            "<h3><span id=\".D0.A4.D0.B8.D0.BB.D1.8C.D0.BC.D1.8B\"></span><span class=\"mw-headline\" id=\"Фильмы\">Фильмы</span><span class=\"mw-editsection\"><span class=\"mw-editsection-bracket\">[</span><a class=\"mw-editsection-visualeditor\" href=\"/w/index.php?title=Netflix&amp;veaction=edit&amp;section=11\" title=\"Редактировать раздел «Фильмы»\">править</a><span class=\"mw-editsection-divider\"> | </span><a href=\"/w/index.php?title=Netflix&amp;action=edit&amp;section=11\" title=\"Редактировать раздел «Фильмы»\">править код</a><span class=\"mw-editsection-bracket\">]</span></span></h3>\n",
            "<p>Начиная с 2017 года Netflix начала приобретать права на распространение сторонних фильмов. Одним из первых приобретений стал фильм «<a href=\"/wiki/%D0%9F%D0%B0%D1%80%D0%B0%D0%B4%D0%BE%D0%BA%D1%81_%D0%9A%D0%BB%D0%BE%D0%B2%D0%B5%D1%80%D1%84%D0%B8%D0%BB%D0%B4%D0%B0\" title=\"Парадокс Кловерфилда\">Парадокс Кловерфилда</a>», который Netflix приобрела у <a href=\"/wiki/Paramount_Pictures\" title=\"Paramount Pictures\">Paramount Pictures</a> в начале 2018 года и запустила в трансляцию с 4 февраля 2018 года. Также компания купила права на дистрибуцию картин «<a href=\"/wiki/%D0%90%D0%BD%D0%BD%D0%B8%D0%B3%D0%B8%D0%BB%D1%8F%D1%86%D0%B8%D1%8F_(%D1%84%D0%B8%D0%BB%D1%8C%D0%BC)\" title=\"Аннигиляция (фильм)\">Аннигиляция</a>», «<a href=\"/wiki/%D0%97%D0%B0%D0%BA%D0%B0%D1%82_%D1%86%D0%B8%D0%B2%D0%B8%D0%BB%D0%B8%D0%B7%D0%B0%D1%86%D0%B8%D0%B8\" title=\"Закат цивилизации\">Закат цивилизации</a>», «<a href=\"/wiki/%D0%9C%D0%B0%D1%83%D0%B3%D0%BB%D0%B8_(%D1%84%D0%B8%D0%BB%D1%8C%D0%BC)\" title=\"Маугли (фильм)\">Маугли</a>».\n",
            "</p><p>22 января 2019 года фильмы Netflix получили 15 номинаций на <a href=\"/wiki/%D0%9E%D1%81%D0%BA%D0%B0%D1%80_(%D0%BA%D0%B8%D0%BD%D0%BE%D0%BF%D1%80%D0%B5%D0%BC%D0%B8%D1%8F,_2019)\" title=\"Оскар (кинопремия, 2019)\">кинопремию «Оскар»</a> и смогли одержать победу в 4 категориях, включая <a href=\"/wiki/%D0%9F%D1%80%D0%B5%D0%BC%D0%B8%D1%8F_%C2%AB%D0%9E%D1%81%D0%BA%D0%B0%D1%80%C2%BB_%D0%B7%D0%B0_%D0%BB%D1%83%D1%87%D1%88%D0%B8%D0%B9_%D1%84%D0%B8%D0%BB%D1%8C%D0%BC_%D0%BD%D0%B0_%D0%B8%D0%BD%D0%BE%D1%81%D1%82%D1%80%D0%B0%D0%BD%D0%BD%D0%BE%D0%BC_%D1%8F%D0%B7%D1%8B%D0%BA%D0%B5\" title=\"Премия «Оскар» за лучший фильм на иностранном языке\">«Оскар» за лучший фильм на иностранном языке</a> («<a href=\"/wiki/%D0%A0%D0%BE%D0%BC%D0%B0_(%D1%84%D0%B8%D0%BB%D1%8C%D0%BC)\" title=\"Рома (фильм)\">Рома</a>» <a href=\"/wiki/%D0%9A%D1%83%D0%B0%D1%80%D0%BE%D0%BD,_%D0%90%D0%BB%D1%8C%D1%84%D0%BE%D0%BD%D1%81%D0%BE\" title=\"Куарон, Альфонсо\">Альфонсо Куарона</a>)<sup class=\"reference\" id=\"cite_ref-56\"><a href=\"#cite_note-56\">[56]</a></sup>.\n",
            "</p><p>13 января 2020 года фильмы Netflix получили 24 номинации на <a href=\"/wiki/%D0%9E%D1%81%D0%BA%D0%B0%D1%80_(%D0%BA%D0%B8%D0%BD%D0%BE%D0%BF%D1%80%D0%B5%D0%BC%D0%B8%D1%8F,_2020)\" title=\"Оскар (кинопремия, 2020)\">кинопремию «Оскар»</a>, однако выиграны были лишь 2 статуэтки.\n",
            "</p><p>15 марта 2021 года фильмы Netflix получили 35 номинаций на <a href=\"/wiki/%D0%9E%D1%81%D0%BA%D0%B0%D1%80_(%D0%BA%D0%B8%D0%BD%D0%BE%D0%BF%D1%80%D0%B5%D0%BC%D0%B8%D1%8F,_2021)\" title=\"Оскар (кинопремия, 2021)\">кинопремию «Оскар»</a> и выиграли 7 статуэток, в том числе за фильмы «<a href=\"/wiki/%D0%9C%D0%B0%D0%BD%D0%BA_(%D1%84%D0%B8%D0%BB%D1%8C%D0%BC)\" title=\"Манк (фильм)\">Манк</a>» и «<a href=\"/wiki/%D0%9C%D0%B0_%D0%A0%D0%B5%D0%B9%D0%BD%D0%B8:_%D0%9C%D0%B0%D1%82%D1%8C_%D0%B1%D0%BB%D1%8E%D0%B7%D0%B0\" title=\"Ма Рейни: Мать блюза\">Ма Рейни: Мать блюза</a>».\n",
            "</p>\n",
            "<h3><span id=\".D0.92.D0.B8.D0.B4.D0.B5.D0.BE.D0.B8.D0.B3.D1.80.D1.8B\"></span><span class=\"mw-headline\" id=\"Видеоигры\">Видеоигры</span><span class=\"mw-editsection\"><span class=\"mw-editsection-bracket\">[</span><a class=\"mw-editsection-visualeditor\" href=\"/w/index.php?title=Netflix&amp;veaction=edit&amp;section=12\" title=\"Редактировать раздел «Видеоигры»\">править</a><span class=\"mw-editsection-divider\"> | </span><a href=\"/w/index.php?title=Netflix&amp;action=edit&amp;section=12\" title=\"Редактировать раздел «Видеоигры»\">править код</a><span class=\"mw-editsection-bracket\">]</span></span></h3>\n",
            "<p>В июле 2021 года компания объявила о планах расширить свою подписку доступом к видеоиграм, в том числе основанным на сериалах и фильмах стримингового сервиса. На начальном этапе Netflix будет ориентироваться в первую очередь на игры для мобильных устройств, однако в дальнейшем на платформе также появятся игры для консолей и ПК. Видеоигры будут доступны подписчикам Netflix бесплатно, в них также не будет рекламы и внутриигровых покупок<sup class=\"reference\" id=\"cite_ref-57\"><a href=\"#cite_note-57\">[57]</a></sup>.\n",
            "</p><p>В ноябре 2021 года компания открыла подписчикам доступ к пяти мобильным играм, доступным через приложение Netflix на устройствах Android. В дальнейшем планируется запустить видеоигры и для других операционных систем<sup class=\"reference\" id=\"cite_ref-58\"><a href=\"#cite_note-58\">[58]</a></sup>.\n",
            "</p>\n",
            "<h2><span id=\".D0.93.D0.B0.D0.BB.D0.B5.D1.80.D0.B5.D1.8F\"></span><span class=\"mw-headline\" id=\"Галерея\">Галерея</span><span class=\"mw-editsection\"><span class=\"mw-editsection-bracket\">[</span><a class=\"mw-editsection-visualeditor\" href=\"/w/index.php?title=Netflix&amp;veaction=edit&amp;section=13\" title=\"Редактировать раздел «Галерея»\">править</a><span class=\"mw-editsection-divider\"> | </span><a href=\"/w/index.php?title=Netflix&amp;action=edit&amp;section=13\" title=\"Редактировать раздел «Галерея»\">править код</a><span class=\"mw-editsection-bracket\">]</span></span></h2>\n",
            "<ul class=\"gallery mw-gallery-slideshow center\" data-showthumbnails=\"\">\n",
            "\t\t<li class=\"gallerybox\" style=\"width: 155px\"><div style=\"width: 155px\">\n",
            "\t\t\t<div class=\"thumb\" style=\"width: 150px;\"><div style=\"margin:23.5px auto;\"><a class=\"image\" href=\"/wiki/%D0%A4%D0%B0%D0%B9%D0%BB:Marc_Randolph_by_Gage_Skidmore.jpg\"><img alt=\"\" data-file-height=\"3700\" data-file-width=\"4296\" decoding=\"async\" height=\"103\" src=\"//upload.wikimedia.org/wikipedia/commons/thumb/a/a5/Marc_Randolph_by_Gage_Skidmore.jpg/120px-Marc_Randolph_by_Gage_Skidmore.jpg\" srcset=\"//upload.wikimedia.org/wikipedia/commons/thumb/a/a5/Marc_Randolph_by_Gage_Skidmore.jpg/180px-Marc_Randolph_by_Gage_Skidmore.jpg 1.5x, //upload.wikimedia.org/wikipedia/commons/thumb/a/a5/Marc_Randolph_by_Gage_Skidmore.jpg/240px-Marc_Randolph_by_Gage_Skidmore.jpg 2x\" width=\"120\"/></a></div></div>\n",
            "\t\t\t<div class=\"gallerytext\">\n",
            "<p><small>Марк Рэндольф, соучредитель Netflix и первый генеральный директор компании</small>\n",
            "</p>\n",
            "\t\t\t</div>\n",
            "\t\t</div></li>\n",
            "\t\t<li class=\"gallerybox\" style=\"width: 155px\"><div style=\"width: 155px\">\n",
            "\t\t\t<div class=\"thumb\" style=\"width: 150px;\"><div style=\"margin:15px auto;\"><a class=\"image\" href=\"/wiki/%D0%A4%D0%B0%D0%B9%D0%BB:Reed_Hastings,_Web_2.0_Conference.jpg\"><img alt=\"\" data-file-height=\"1000\" data-file-width=\"690\" decoding=\"async\" height=\"120\" src=\"//upload.wikimedia.org/wikipedia/commons/thumb/9/91/Reed_Hastings%2C_Web_2.0_Conference.jpg/83px-Reed_Hastings%2C_Web_2.0_Conference.jpg\" srcset=\"//upload.wikimedia.org/wikipedia/commons/thumb/9/91/Reed_Hastings%2C_Web_2.0_Conference.jpg/124px-Reed_Hastings%2C_Web_2.0_Conference.jpg 1.5x, //upload.wikimedia.org/wikipedia/commons/thumb/9/91/Reed_Hastings%2C_Web_2.0_Conference.jpg/165px-Reed_Hastings%2C_Web_2.0_Conference.jpg 2x\" width=\"83\"/></a></div></div>\n",
            "\t\t\t<div class=\"gallerytext\">\n",
            "<p><small>Рид Хастингс, соучредитель и действующий председатель и генеральный директор</small>\n",
            "</p>\n",
            "\t\t\t</div>\n",
            "\t\t</div></li>\n",
            "\t\t<li class=\"gallerybox\" style=\"width: 155px\"><div style=\"width: 155px\">\n",
            "\t\t\t<div class=\"thumb\" style=\"width: 150px;\"><div style=\"margin:15px auto;\"><a class=\"image\" href=\"/wiki/%D0%A4%D0%B0%D0%B9%D0%BB:Netflix_button_on_Sharp_Aquos_remote_20131106.jpg\"><img alt=\"\" data-file-height=\"2448\" data-file-width=\"2448\" decoding=\"async\" height=\"120\" src=\"//upload.wikimedia.org/wikipedia/commons/thumb/f/f2/Netflix_button_on_Sharp_Aquos_remote_20131106.jpg/120px-Netflix_button_on_Sharp_Aquos_remote_20131106.jpg\" srcset=\"//upload.wikimedia.org/wikipedia/commons/thumb/f/f2/Netflix_button_on_Sharp_Aquos_remote_20131106.jpg/180px-Netflix_button_on_Sharp_Aquos_remote_20131106.jpg 1.5x, //upload.wikimedia.org/wikipedia/commons/thumb/f/f2/Netflix_button_on_Sharp_Aquos_remote_20131106.jpg/240px-Netflix_button_on_Sharp_Aquos_remote_20131106.jpg 2x\" width=\"120\"/></a></div></div>\n",
            "\t\t\t<div class=\"gallerytext\">\n",
            "<p><a href=\"/wiki/%D0%9F%D1%83%D0%BB%D1%8C%D1%82_%D0%B4%D0%B8%D1%81%D1%82%D0%B0%D0%BD%D1%86%D0%B8%D0%BE%D0%BD%D0%BD%D0%BE%D0%B3%D0%BE_%D1%83%D0%BF%D1%80%D0%B0%D0%B2%D0%BB%D0%B5%D0%BD%D0%B8%D1%8F\" title=\"Пульт дистанционного управления\">Пульт дистанционного управления</a> <span data-interwiki-article=\"Aquos\" data-interwiki-lang=\"en\"><a class=\"new\" href=\"/w/index.php?title=Aquos&amp;action=edit&amp;redlink=1\" title=\"Aquos (страница отсутствует)\">Aquos</a></span><span class=\"noprint\" style=\"font-style:normal; font-weight:normal;\"><sup><a class=\"extiw\" href=\"https://en.wikipedia.org/wiki/Aquos\" title=\"en:Aquos\"><span title=\"Aquos — версия статьи «Aquos» на английском языке\">[en]</span></a></sup></span> с кнопкой Netflix\n",
            "</p>\n",
            "\t\t\t</div>\n",
            "\t\t</div></li>\n",
            "\t\t<li class=\"gallerybox\" style=\"width: 155px\"><div style=\"width: 155px\">\n",
            "\t\t\t<div class=\"thumb\" style=\"width: 150px;\"><div style=\"margin:35px auto;\"><a class=\"image\" href=\"/wiki/%D0%A4%D0%B0%D0%B9%D0%BB:Netflix_booth_(36079051696).jpg\"><img alt=\"\" data-file-height=\"3840\" data-file-width=\"5760\" decoding=\"async\" height=\"80\" src=\"//upload.wikimedia.org/wikipedia/commons/thumb/3/3d/Netflix_booth_%2836079051696%29.jpg/120px-Netflix_booth_%2836079051696%29.jpg\" srcset=\"//upload.wikimedia.org/wikipedia/commons/thumb/3/3d/Netflix_booth_%2836079051696%29.jpg/180px-Netflix_booth_%2836079051696%29.jpg 1.5x, //upload.wikimedia.org/wikipedia/commons/thumb/3/3d/Netflix_booth_%2836079051696%29.jpg/240px-Netflix_booth_%2836079051696%29.jpg 2x\" width=\"120\"/></a></div></div>\n",
            "\t\t\t<div class=\"gallerytext\">\n",
            "<p>Стенд Netflix на <a href=\"/wiki/San_Diego_Comic-Con_International\" title=\"San Diego Comic-Con International\">San Diego Comic-Con</a> 2017\n",
            "</p>\n",
            "\t\t\t</div>\n",
            "\t\t</div></li>\n",
            "\t\t<li class=\"gallerybox\" style=\"width: 155px\"><div style=\"width: 155px\">\n",
            "\t\t\t<div class=\"thumb\" style=\"width: 150px;\"><div style=\"margin:15px auto;\"><a class=\"image\" href=\"/wiki/%D0%A4%D0%B0%D0%B9%D0%BB:Netflix_at_Thong_Lor.jpg\"><img alt=\"\" data-file-height=\"3968\" data-file-width=\"2976\" decoding=\"async\" height=\"120\" src=\"//upload.wikimedia.org/wikipedia/commons/thumb/1/18/Netflix_at_Thong_Lor.jpg/90px-Netflix_at_Thong_Lor.jpg\" srcset=\"//upload.wikimedia.org/wikipedia/commons/thumb/1/18/Netflix_at_Thong_Lor.jpg/135px-Netflix_at_Thong_Lor.jpg 1.5x, //upload.wikimedia.org/wikipedia/commons/thumb/1/18/Netflix_at_Thong_Lor.jpg/180px-Netflix_at_Thong_Lor.jpg 2x\" width=\"90\"/></a></div></div>\n",
            "\t\t\t<div class=\"gallerytext\">\n",
            "<p>Реклама Netflix на <span data-interwiki-article=\"Thong Lo BTS station\" data-interwiki-lang=\"en\"><a class=\"new\" href=\"/w/index.php?title=%D0%A2%D0%BE%D0%BD%D0%B3_%D0%9B%D0%BE_%D0%91%D0%A2%D0%A1&amp;action=edit&amp;redlink=1\" title=\"Тонг Ло БТС (страница отсутствует)\">станции Тонг Ло БТС</a></span><span class=\"noprint\" style=\"font-style:normal; font-weight:normal;\"><sup><a class=\"extiw\" href=\"https://en.wikipedia.org/wiki/Thong_Lo_BTS_station\" title=\"en:Thong Lo BTS station\"><span title=\"Thong Lo BTS station — версия статьи «Тонг Ло БТС» на английском языке\">[en]</span></a></sup></span>, Бангкок\n",
            "</p>\n",
            "\t\t\t</div>\n",
            "\t\t</div></li>\n",
            "</ul>\n",
            "<h2><span id=\".D0.A1.D0.BC._.D1.82.D0.B0.D0.BA.D0.B6.D0.B5\"></span><span class=\"mw-headline\" id=\"См._также\">См. также</span><span class=\"mw-editsection\"><span class=\"mw-editsection-bracket\">[</span><a class=\"mw-editsection-visualeditor\" href=\"/w/index.php?title=Netflix&amp;veaction=edit&amp;section=14\" title=\"Редактировать раздел «См. также»\">править</a><span class=\"mw-editsection-divider\"> | </span><a href=\"/w/index.php?title=Netflix&amp;action=edit&amp;section=14\" title=\"Редактировать раздел «См. также»\">править код</a><span class=\"mw-editsection-bracket\">]</span></span></h2>\n",
            "<ul><li><a href=\"/wiki/Netflix_Prize\" title=\"Netflix Prize\">Netflix Prize</a></li>\n",
            "<li><a href=\"/wiki/Popcorn_Time\" title=\"Popcorn Time\">Popcorn Time</a></li>\n",
            "<li><a href=\"/wiki/%D0%9C%D0%B0%D0%BD%D0%B1%D0%B0%D0%BD\" title=\"Манбан\">Манбан</a> — система IPTV в КНДР, основанная на интерфейсе Netflix.</li></ul>\n",
            "<h2><span id=\".D0.9F.D1.80.D0.B8.D0.BC.D0.B5.D1.87.D0.B0.D0.BD.D0.B8.D1.8F\"></span><span class=\"mw-headline\" id=\"Примечания\">Примечания</span><span class=\"mw-editsection\"><span class=\"mw-editsection-bracket\">[</span><a class=\"mw-editsection-visualeditor\" href=\"/w/index.php?title=Netflix&amp;veaction=edit&amp;section=15\" title=\"Редактировать раздел «Примечания»\">править</a><span class=\"mw-editsection-divider\"> | </span><a href=\"/w/index.php?title=Netflix&amp;action=edit&amp;section=15\" title=\"Редактировать раздел «Примечания»\">править код</a><span class=\"mw-editsection-bracket\">]</span></span></h2>\n",
            "<div class=\"reflist columns\" style=\"list-style-type: decimal;\">\n",
            "<div class=\"mw-references-wrap mw-references-columns\"><ol class=\"references\">\n",
            "<li id=\"cite_note-_4bc244cc26bd3332-1\"><span class=\"mw-cite-backlink\">↑ <a href=\"#cite_ref-_4bc244cc26bd3332_1-0\"><sup><i><b>1</b></i></sup></a> <a href=\"#cite_ref-_4bc244cc26bd3332_1-1\"><sup><i><b>2</b></i></sup></a> <a href=\"#cite_ref-_4bc244cc26bd3332_1-2\"><sup><i><b>3</b></i></sup></a> <a href=\"#cite_ref-_4bc244cc26bd3332_1-3\"><sup><i><b>4</b></i></sup></a> <a href=\"#cite_ref-_4bc244cc26bd3332_1-4\"><sup><i><b>5</b></i></sup></a> <a href=\"#cite_ref-_4bc244cc26bd3332_1-5\"><sup><i><b>6</b></i></sup></a></span> <span class=\"reference-text\"><a class=\"external text\" href=\"https://s22.q4cdn.com/959853165/files/doc_financials/2021/q4/da27d24b-9358-4b5c-a424-6da061d91836.pdf\" rel=\"nofollow\">Netflix Annual Report 2021 SEC 10-K</a><span class=\"wef_low_priority_links\"></span></span>\n",
            "</li>\n",
            "<li id=\"cite_note-_cb8d50eb205b746f-2\"><span class=\"mw-cite-backlink\"><a href=\"#cite_ref-_cb8d50eb205b746f_2-0\">↑</a></span> <span class=\"reference-text\"><a class=\"external text\" href=\"https://www.forbes.com/companies/netflix\" rel=\"nofollow\">Forbes Netflix (NFLX) Stock Key Data</a><span class=\"wef_low_priority_links\"></span></span>\n",
            "</li>\n",
            "<li id=\"cite_note-3\"><span class=\"mw-cite-backlink\"><a href=\"#cite_ref-3\">↑</a></span> <span class=\"reference-text\"><span class=\"citation\"><i>Pogue, David</i>. <a class=\"external text\" href=\"https://www.nytimes.com/2007/01/25/technology/25pogue.html\" rel=\"nofollow\">A Stream of Movies, Sort of Free</a>, <i>The New York Times</i> (25 января 2007). <small>Дата обращения 21 апреля 2017.</small></span></span>\n",
            "</li>\n",
            "<li id=\"cite_note-4\"><span class=\"mw-cite-backlink\"><a href=\"#cite_ref-4\">↑</a></span> <span class=\"reference-text\"><span class=\"citation\"><a class=\"external text\" href=\"http://www.hollywoodreporter.com/features/netflix-backlash-why-hollywood-fears-928428\" rel=\"nofollow\">The Netflix Backlash: Why Hollywood Fears a Content Monopoly</a> <small class=\"ref-info\" style=\"cursor:help;\" title=\"на английском языке\">(англ.)</small>, <i>The Hollywood Reporter</i>. <small>Дата обращения 29 мая 2017.</small></span></span>\n",
            "</li>\n",
            "<li id=\"cite_note-5\"><span class=\"mw-cite-backlink\"><a href=\"#cite_ref-5\">↑</a></span> <span class=\"reference-text\"><span class=\"citation\"><span class=\"citation\"><span lang=\"en\"><a class=\"external text\" href=\"https://www.thestar.com/business/2017/10/16/anticipation-builds-pushing-stock-up-ahead-of-netflixs-earnings-report.html\" rel=\"nofollow\">Netflix sinking deeper into debt to fuel subscriber growth</a></span> <small class=\"ref-info\" style=\"cursor:help;\" title=\"на английском языке\">(англ.)</small>.  thestar.com (16 октября 2017). <small>Дата обращения: 4 мая 2020.</small></span></span></span>\n",
            "</li>\n",
            "<li id=\"cite_note-6\"><span class=\"mw-cite-backlink\"><a href=\"#cite_ref-6\">↑</a></span> <span class=\"reference-text\"><span class=\"citation\"><span class=\"citation\"><span lang=\"und\"><a class=\"external text\" href=\"https://www.bloomberg.com/tosv2.html?vid=&amp;uuid=75a26870-8de0-11ea-8625-99785f423aed&amp;url=L25ld3MvYXJ0aWNsZXMvMjAxOC0wMS0yMy9uZXRmbGl4LXNlZWtzLXRvLXdvby1kZWJ0LWJ1eWVycy13aXRoLTEwMC1iaWxsaW9uLXN0b2NrLWN1c2hpb24=\" rel=\"nofollow\">Bloomberg - As Netflix Trumpets Stock Value, Debt Investors Want Cash Flow</a></span><span class=\"hidden-ref\" style=\"display:none\"><b> <small class=\"ref-info\" style=\"cursor:help;\" title=\"на неопределённом языке\">(неопр.)</small></b></span>.  www.bloomberg.com. <small>Дата обращения: 4 мая 2020.</small></span></span></span>\n",
            "</li>\n",
            "<li id=\"cite_note-7\"><span class=\"mw-cite-backlink\"><a href=\"#cite_ref-7\">↑</a></span> <span class=\"reference-text\"><span class=\"citation\"><span class=\"citation\"><span lang=\"en\"><a class=\"external text\" href=\"https://social.techcrunch.com/2018/10/22/netflix-to-raise-2-billion-in-debt-to-fund-more-original-content/\" rel=\"nofollow\">Netflix to raise $2 billion in debt to fund more original content</a></span> <small class=\"ref-info\" style=\"cursor:help;\" title=\"на английском языке\">(англ.)</small>.  TechCrunch. <small>Дата обращения: 4 мая 2020.</small></span></span></span>\n",
            "</li>\n",
            "<li id=\"cite_note-8\"><span class=\"mw-cite-backlink\"><a href=\"#cite_ref-8\">↑</a></span> <span class=\"reference-text\"><span class=\"citation\"><span class=\"citation\"><span lang=\"und\"><a class=\"external text\" href=\"https://www.igromania.ru/news/101612/Chislo_podpischikov_Netflix_prevysilo_200_mln_chelovek.html\" rel=\"nofollow\">Число подписчиков Netflix превысило 200 млн человек</a></span><span class=\"hidden-ref\" style=\"display:none\"><b> <small class=\"ref-info\" style=\"cursor:help;\" title=\"на неопределённом языке\">(неопр.)</small></b></span>.  <a href=\"/wiki/%D0%98%D0%B3%D1%80%D0%BE%D0%BC%D0%B0%D0%BD%D0%B8%D1%8F_(%D0%B6%D1%83%D1%80%D0%BD%D0%B0%D0%BB)\" title=\"Игромания (журнал)\">Игромания (журнал)</a> (20 января 2021). <small>Дата обращения: 27 января 2021.</small></span></span></span>\n",
            "</li>\n",
            "<li id=\"cite_note-9\"><span class=\"mw-cite-backlink\"><a href=\"#cite_ref-9\">↑</a></span> <span class=\"reference-text\"><span class=\"citation\"><span class=\"citation\"><span lang=\"en\"><a class=\"external text\" href=\"https://social.techcrunch.com/2010/05/07/marc-randolph-bookrenter/\" rel=\"nofollow\">BookRenter Adds Netflix Co-Founder Marc Randolph To Its Board Of Directors</a></span> <small class=\"ref-info\" style=\"cursor:help;\" title=\"на английском языке\">(англ.)</small>.  TechCrunch. <small>Дата обращения: 4 мая 2020.</small></span></span></span>\n",
            "</li>\n",
            "<li id=\"cite_note-10\"><span class=\"mw-cite-backlink\"><a href=\"#cite_ref-10\">↑</a></span> <span class=\"reference-text\"><span class=\"citation\"><span class=\"citation\"><span lang=\"und\"><a class=\"external text\" href=\"https://web.archive.org/web/20170225140214/http://www.prnewswire.com/news-releases/rational-software-announces-agreement-to-acquire-pure-atria-75078807.html\" rel=\"nofollow\">Rational Software Announces Agreement to Acquire Pure Atria</a></span><span class=\"hidden-ref\" style=\"display:none\"><b> <small class=\"ref-info\" style=\"cursor:help;\" title=\"на неопределённом языке\">(неопр.)</small></b></span>.  web.archive.org (25 февраля 2017). <small>Дата обращения: 4 мая 2020.</small></span></span></span>\n",
            "</li>\n",
            "<li id=\"cite_note-11\"><span class=\"mw-cite-backlink\"><a href=\"#cite_ref-11\">↑</a></span> <span class=\"reference-text\"><span class=\"citation\"><span class=\"citation\"><i>Michelle Castillo.</i> <span lang=\"en\"><a class=\"external text\" href=\"https://www.cnbc.com/2017/05/23/netflix-ceo-reed-hastings-on-how-the-company-was-born.html\" rel=\"nofollow\">Reed Hastings' story about the founding of Netflix has changed several times</a></span> <small class=\"ref-info\" style=\"cursor:help;\" title=\"на английском языке\">(англ.)</small>.  CNBC (23 мая 2017). <small>Дата обращения: 4 мая 2020.</small></span></span></span>\n",
            "</li>\n",
            "<li id=\"cite_note-автоссылка1-12\"><span class=\"mw-cite-backlink\">↑ <a href=\"#cite_ref-автоссылка1_12-0\"><sup><i><b>1</b></i></sup></a> <a href=\"#cite_ref-автоссылка1_12-1\"><sup><i><b>2</b></i></sup></a></span> <span class=\"reference-text\"><span class=\"citation\"><span class=\"citation\"><span lang=\"und\"><a class=\"external text\" href=\"http://www.fundinguniverse.com/company-histories/netflix-inc-history/\" rel=\"nofollow\">History of Netflix, Inc. – FundingUniverse</a></span><span class=\"hidden-ref\" style=\"display:none\"><b> <small class=\"ref-info\" style=\"cursor:help;\" title=\"на неопределённом языке\">(неопр.)</small></b></span>.  www.fundinguniverse.com. <small>Дата обращения: 4 мая 2020.</small></span></span></span>\n",
            "</li>\n",
            "<li id=\"cite_note-:1-13\"><span class=\"mw-cite-backlink\">↑ <a href=\"#cite_ref-:1_13-0\"><sup><i><b>1</b></i></sup></a> <a href=\"#cite_ref-:1_13-1\"><sup><i><b>2</b></i></sup></a></span> <span class=\"reference-text\">Keating, Gina (2012). <i>Netflixed: The Epic Battle for America’s Eyeballs</i>. Portfolio/ Penguin.</span>\n",
            "</li>\n",
            "<li id=\"cite_note-14\"><span class=\"mw-cite-backlink\"><a href=\"#cite_ref-14\">↑</a></span> <span class=\"reference-text\"><span class=\"citation\"><span class=\"citation\"><span lang=\"und\"><a class=\"external text\" href=\"https://web.archive.org/web/20060319083437/http://www.dvdfile.com/news/special_report/features/timeline/timeline.htm\" rel=\"nofollow\">DVDFILE.COM: Special Report - DVD Historical Timeline</a></span><span class=\"hidden-ref\" style=\"display:none\"><b> <small class=\"ref-info\" style=\"cursor:help;\" title=\"на неопределённом языке\">(неопр.)</small></b></span>.  web.archive.org (19 марта 2006). <small>Дата обращения: 4 мая 2020.</small></span></span></span>\n",
            "</li>\n",
            "<li id=\"cite_note-15\"><span class=\"mw-cite-backlink\"><a href=\"#cite_ref-15\">↑</a></span> <span class=\"reference-text\"><span class=\"citation\"><i>Jeffrey M. O'Brien.</i> <a class=\"external text\" href=\"https://www.wired.com/2002/12/netflix-6/\" rel=\"nofollow\">The Netflix Effect</a> <small class=\"ref-info\" style=\"cursor:help;\" title=\"на английском языке\">(англ.)</small> // <a href=\"/wiki/Wired\" title=\"Wired\">Wired</a> : magazine. — 2002-12-01. — <a class=\"mw-redirect\" href=\"/wiki/%D0%9C%D0%B5%D0%B6%D0%B4%D1%83%D0%BD%D0%B0%D1%80%D0%BE%D0%B4%D0%BD%D1%8B%D0%B9_%D1%81%D1%82%D0%B0%D0%BD%D0%B4%D0%B0%D1%80%D1%82%D0%BD%D1%8B%D0%B9_%D1%81%D0%B5%D1%80%D0%B8%D0%B9%D0%BD%D1%8B%D0%B9_%D0%BD%D0%BE%D0%BC%D0%B5%D1%80\" title=\"Международный стандартный серийный номер\">ISSN</a> <a class=\"external text\" href=\"//www.worldcat.org/search?fq=x0:jrnl&amp;q=n2:1059-1028\" rel=\"nofollow\">1059-1028</a>.</span></span>\n",
            "</li>\n",
            "<li id=\"cite_note-16\"><span class=\"mw-cite-backlink\"><a href=\"#cite_ref-16\">↑</a></span> <span class=\"reference-text\"><span class=\"citation\"><span class=\"citation\"><i>Facebook, Twitter, LinkedIn.</i> <span lang=\"en\"><a class=\"external text\" href=\"https://www.lifewire.com/netflix-dvd-rental-4778663\" rel=\"nofollow\">How to Use the Netflix DVD Rental Program</a></span> <small class=\"ref-info\" style=\"cursor:help;\" title=\"на английском языке\">(англ.)</small>.  Lifewire. <small>Дата обращения: 4 мая 2020.</small></span></span></span>\n",
            "</li>\n",
            "<li id=\"cite_note-17\"><span class=\"mw-cite-backlink\"><a href=\"#cite_ref-17\">↑</a></span> <span class=\"reference-text\"><span class=\"citation\"><span class=\"citation\"><i>Ken Auletta.</i> <span lang=\"en\"><a class=\"external text\" href=\"https://www.newyorker.com/magazine/2014/02/03/outside-the-box-2\" rel=\"nofollow\">The Red-Envelope Revolution</a></span> <small class=\"ref-info\" style=\"cursor:help;\" title=\"на английском языке\">(англ.)</small>.  The New Yorker. <small>Дата обращения: 4 мая 2020.</small></span></span></span>\n",
            "</li>\n",
            "<li id=\"cite_note-18\"><span class=\"mw-cite-backlink\"><a href=\"#cite_ref-18\">↑</a></span> <span class=\"reference-text\"><span class=\"citation\"><i>Spector, Mike</i>. <a class=\"external text\" href=\"https://www.wsj.com/articles/SB10001424052748703384204575509331302481448\" rel=\"nofollow\">Blockbuster to Remake Itself Under Creditors</a>, <i>Wall Street Journal</i> (24 сентября 2010). <small>Дата обращения 4 мая 2020.</small></span></span>\n",
            "</li>\n",
            "<li id=\"cite_note-19\"><span class=\"mw-cite-backlink\"><a href=\"#cite_ref-19\">↑</a></span> <span class=\"reference-text\"><span class=\"citation\"><i>Patty McCord.</i> <a class=\"external text\" href=\"https://hbr.org/2014/01/how-netflix-reinvented-hr\" rel=\"nofollow\">How Netflix Reinvented HR</a> // Harvard Business Review. — 2014-01-01. — <span class=\"nowrap\">Вып. January–February 2014</span>. — <a class=\"mw-redirect\" href=\"/wiki/%D0%9C%D0%B5%D0%B6%D0%B4%D1%83%D0%BD%D0%B0%D1%80%D0%BE%D0%B4%D0%BD%D1%8B%D0%B9_%D1%81%D1%82%D0%B0%D0%BD%D0%B4%D0%B0%D1%80%D1%82%D0%BD%D1%8B%D0%B9_%D1%81%D0%B5%D1%80%D0%B8%D0%B9%D0%BD%D1%8B%D0%B9_%D0%BD%D0%BE%D0%BC%D0%B5%D1%80\" title=\"Международный стандартный серийный номер\">ISSN</a> <a class=\"external text\" href=\"//www.worldcat.org/search?fq=x0:jrnl&amp;q=n2:0017-8012\" rel=\"nofollow\">0017-8012</a>.</span></span>\n",
            "</li>\n",
            "<li id=\"cite_note-20\"><span class=\"mw-cite-backlink\"><a href=\"#cite_ref-20\">↑</a></span> <span class=\"reference-text\"><span class=\"citation no-wikidata\" data-wikidata-property-id=\"P1343\"><i>Nielsen Business Media Inc.</i> <a class=\"external text\" href=\"https://books.google.com/books?id=CRQEAAAAMBAJ&amp;pg=PA79&amp;dq=Best+Buy+DVD/CD/CD-R/MP3+%24199+Thanksgiving+Oritron&amp;hl=en\" rel=\"nofollow\">Billboard</a> <small class=\"ref-info\" style=\"cursor:help;\" title=\"на английском языке\">(англ.)</small>. — Nielsen Business Media, Inc., 2001-06-16. — 116 p.</span></span>\n",
            "</li>\n",
            "<li id=\"cite_note-:2-21\"><span class=\"mw-cite-backlink\">↑ <a href=\"#cite_ref-:2_21-0\"><sup><i><b>1</b></i></sup></a> <a href=\"#cite_ref-:2_21-1\"><sup><i><b>2</b></i></sup></a></span> <span class=\"reference-text\"><span class=\"citation\"><a class=\"external text\" href=\"https://www.economist.com/business/2005/07/07/movies-to-go\" rel=\"nofollow\">Movies to go</a> // The Economist. — <a class=\"mw-redirect\" href=\"/wiki/%D0%9C%D0%B5%D0%B6%D0%B4%D1%83%D0%BD%D0%B0%D1%80%D0%BE%D0%B4%D0%BD%D1%8B%D0%B9_%D1%81%D1%82%D0%B0%D0%BD%D0%B4%D0%B0%D1%80%D1%82%D0%BD%D1%8B%D0%B9_%D1%81%D0%B5%D1%80%D0%B8%D0%B9%D0%BD%D1%8B%D0%B9_%D0%BD%D0%BE%D0%BC%D0%B5%D1%80\" title=\"Международный стандартный серийный номер\">ISSN</a> <a class=\"external text\" href=\"//www.worldcat.org/search?fq=x0:jrnl&amp;q=n2:0013-0613\" rel=\"nofollow\">0013-0613</a>.</span></span>\n",
            "</li>\n",
            "<li id=\"cite_note-22\"><span class=\"mw-cite-backlink\"><a href=\"#cite_ref-22\">↑</a></span> <span class=\"reference-text\"><span class=\"citation\"><span class=\"citation\"><span lang=\"en\"><a class=\"external text\" href=\"https://www.apbspeakers.com/speaker/marc-randolph/\" rel=\"nofollow\">Marc Randolph</a></span> <small class=\"ref-info\" style=\"cursor:help;\" title=\"на английском языке\">(англ.)</small>.  APB Speakers. <small>Дата обращения: 7 мая 2020.</small></span></span></span>\n",
            "</li>\n",
            "<li id=\"cite_note-23\"><span class=\"mw-cite-backlink\"><a href=\"#cite_ref-23\">↑</a></span> <span class=\"reference-text\"><span class=\"citation\"><span class=\"citation\"><i>Robert Kyncl.</i> <span lang=\"en\"><a class=\"external text\" href=\"https://www.vox.com/2017/9/13/16288364/streampunks-book-excerpt-youtube-netflix-pivot-video\" rel=\"nofollow\">The inside story of how Netflix transitioned to digital video after seeing the power of YouTube</a></span> <small class=\"ref-info\" style=\"cursor:help;\" title=\"на английском языке\">(англ.)</small>.  Vox (13 сентября 2017). <small>Дата обращения: 7 мая 2020.</small></span></span></span>\n",
            "</li>\n",
            "<li id=\"cite_note-24\"><span class=\"mw-cite-backlink\"><a href=\"#cite_ref-24\">↑</a></span> <span class=\"reference-text\"><span class=\"citation\"><span class=\"citation\"><span lang=\"und\"><a class=\"external text\" href=\"https://www.netflixprize.com/\" rel=\"nofollow\">Netflix Prize: Home</a></span><span class=\"hidden-ref\" style=\"display:none\"><b> <small class=\"ref-info\" style=\"cursor:help;\" title=\"на неопределённом языке\">(неопр.)</small></b></span> <small class=\"ref-info\">(недоступная ссылка)</small>.  www.netflixprize.com. <small>Дата обращения: 7 мая 2020.</small> <small><a class=\"external text\" href=\"https://web.archive.org/web/20061210022309/http://netflixprize.com/\" rel=\"nofollow\">Архивировано</a> 10 декабря 2006 года.</small></span></span></span>\n",
            "</li>\n",
            "<li id=\"cite_note-25\"><span class=\"mw-cite-backlink\"><a href=\"#cite_ref-25\">↑</a></span> <span class=\"reference-text\"><span class=\"citation\"><span class=\"citation\"><span lang=\"und\"><a class=\"external text\" href=\"https://news.google.com/newspapers?id=Qqc_AAAAIBAJ&amp;sjid=p1YMAAAAIBAJ&amp;pg=2709,435491&amp;dq=netflix+1+billionth+dvd&amp;hl=en\" rel=\"nofollow\">The Victoria Advocate - Google News Archive Search</a></span><span class=\"hidden-ref\" style=\"display:none\"><b> <small class=\"ref-info\" style=\"cursor:help;\" title=\"на неопределённом языке\">(неопр.)</small></b></span>.  news.google.com. <small>Дата обращения: 7 мая 2020.</small></span></span></span>\n",
            "</li>\n",
            "<li id=\"cite_note-26\"><span class=\"mw-cite-backlink\"><a href=\"#cite_ref-26\">↑</a></span> <span class=\"reference-text\"><span class=\"citation\"><i>Matt Peckham.</i> <a class=\"external text\" href=\"https://techland.time.com/2011/05/04/dvd-sales-plunge-in-u-s-digital-sales-on-the-rise/\" rel=\"nofollow\">DVD Sales Plunge in U.S., Digital Sales On the Rise</a> <small class=\"ref-info\" style=\"cursor:help;\" title=\"на английском языке\">(англ.)</small> // <a href=\"/wiki/Time\" title=\"Time\">Time</a> : magazine. — 2011-05-04. — <a class=\"mw-redirect\" href=\"/wiki/%D0%9C%D0%B5%D0%B6%D0%B4%D1%83%D0%BD%D0%B0%D1%80%D0%BE%D0%B4%D0%BD%D1%8B%D0%B9_%D1%81%D1%82%D0%B0%D0%BD%D0%B4%D0%B0%D1%80%D1%82%D0%BD%D1%8B%D0%B9_%D1%81%D0%B5%D1%80%D0%B8%D0%B9%D0%BD%D1%8B%D0%B9_%D0%BD%D0%BE%D0%BC%D0%B5%D1%80\" title=\"Международный стандартный серийный номер\">ISSN</a> <a class=\"external text\" href=\"//www.worldcat.org/search?fq=x0:jrnl&amp;q=n2:0040-781X\" rel=\"nofollow\">0040-781X</a>.</span></span>\n",
            "</li>\n",
            "<li id=\"cite_note-27\"><span class=\"mw-cite-backlink\"><a href=\"#cite_ref-27\">↑</a></span> <span class=\"reference-text\"><span class=\"citation\"><span class=\"citation\"><i>Nate Anderson.</i> <span lang=\"en\"><a class=\"external text\" href=\"https://arstechnica.com/uncategorized/2007/01/8627/\" rel=\"nofollow\">Netflix offers streaming movies to subscribers</a></span> <small class=\"ref-info\" style=\"cursor:help;\" title=\"на английском языке\">(англ.)</small>.  Ars Technica (16 января 2007). <small>Дата обращения: 7 мая 2020.</small></span></span></span>\n",
            "</li>\n",
            "<li id=\"cite_note-28\"><span class=\"mw-cite-backlink\"><a href=\"#cite_ref-28\">↑</a></span> <span class=\"reference-text\"><span class=\"citation\"><span class=\"citation\"><span lang=\"en\"><a class=\"external text\" href=\"https://profkenhoma.wordpress.com/2009/06/23/netflix-managing-a-still-hot-business-as-its-time-runs-out/\" rel=\"nofollow\">Netflix – Managing a still-hot business as its time runs out.</a></span> <small class=\"ref-info\" style=\"cursor:help;\" title=\"на английском языке\">(англ.)</small>.  profkenhoma (23 июня 2009). <small>Дата обращения: 7 мая 2020.</small></span></span></span>\n",
            "</li>\n",
            "<li id=\"cite_note-29\"><span class=\"mw-cite-backlink\"><a href=\"#cite_ref-29\">↑</a></span> <span class=\"reference-text\"><span class=\"citation\"><span class=\"citation\"><span lang=\"en\"><a class=\"external text\" href=\"https://www.huffpost.com/\" rel=\"nofollow\">HuffPost - Breaking News, U.S. and World News</a></span> <small class=\"ref-info\" style=\"cursor:help;\" title=\"на английском языке\">(англ.)</small>.  HuffPost. <small>Дата обращения: 7 мая 2020.</small></span></span></span>\n",
            "</li>\n",
            "<li id=\"cite_note-30\"><span class=\"mw-cite-backlink\"><a href=\"#cite_ref-30\">↑</a></span> <span class=\"reference-text\"><span class=\"citation\"><span class=\"citation\"><span lang=\"en\"><a class=\"external text\" href=\"https://news.yahoo.com/numbers-netflix-subscribers-205626746.html\" rel=\"nofollow\">By The Numbers: Netflix subscribers</a></span> <small class=\"ref-info\" style=\"cursor:help;\" title=\"на английском языке\">(англ.)</small>.  news.yahoo.com. <small>Дата обращения: 7 мая 2020.</small></span></span></span>\n",
            "</li>\n",
            "<li id=\"cite_note-31\"><span class=\"mw-cite-backlink\"><a href=\"#cite_ref-31\">↑</a></span> <span class=\"reference-text\"><span class=\"citation\"><i>Stelter, Brian</i>. <a class=\"external text\" href=\"https://www.nytimes.com/2013/10/22/business/media/netflix-hits-subscriber-milestone-as-shares-soar.html\" rel=\"nofollow\">Netflix Hits Milestone and Raises Its Sights</a>, <i>The New York Times</i> (21 октября 2013). <small>Дата обращения 7 мая 2020.</small></span></span>\n",
            "</li>\n",
            "<li id=\"cite_note-32\"><span class=\"mw-cite-backlink\"><a href=\"#cite_ref-32\">↑</a></span> <span class=\"reference-text\"><span class=\"citation\"><span class=\"citation\"><i>Cliff Edwards.</i> <span lang=\"und\"><a class=\"external text\" href=\"https://www.newsmax.com/SciTech/netflix-reporting-web-grown/2014/01/22/id/548377/\" rel=\"nofollow\">Netflix Seen Reporting Web Users Grew to 33.1 Million</a></span><span class=\"hidden-ref\" style=\"display:none\"><b> <small class=\"ref-info\" style=\"cursor:help;\" title=\"на неопределённом языке\">(неопр.)</small></b></span>.  Newsmax (22 января 2014). <small>Дата обращения: 7 мая 2020.</small></span></span></span>\n",
            "</li>\n",
            "<li id=\"cite_note-33\"><span class=\"mw-cite-backlink\"><a href=\"#cite_ref-33\">↑</a></span> <span class=\"reference-text\"><span class=\"citation\"><span class=\"citation\"><span lang=\"und\"><a class=\"external text\" href=\"https://web.archive.org/web/20141018021316/http://expandedramblings.com/index.php/netflix_statistics-facts/#.VBBfkrHD-70\" rel=\"nofollow\">40 Amazing Netflix Statistics and Facts</a></span><span class=\"hidden-ref\" style=\"display:none\"><b> <small class=\"ref-info\" style=\"cursor:help;\" title=\"на неопределённом языке\">(неопр.)</small></b></span>.  web.archive.org (18 октября 2014). <small>Дата обращения: 7 мая 2020.</small></span></span></span>\n",
            "</li>\n",
            "<li id=\"cite_note-:0-34\"><span class=\"mw-cite-backlink\"><a href=\"#cite_ref-:0_34-0\">↑</a></span> <span class=\"reference-text\"><span class=\"citation\"><span class=\"citation\"><span lang=\"und\"><a class=\"external text\" href=\"https://www.theverge.com/2016/1/6/10724112/netflix-global-expansion-russia-india\" rel=\"nofollow\">Netflix announces it's now live in 130 new countries including India and Russia</a></span><span class=\"hidden-ref\" style=\"display:none\"><b> <small class=\"ref-info\" style=\"cursor:help;\" title=\"на неопределённом языке\">(неопр.)</small></b></span>.  The Verge (6 января 2016). <small>Дата обращения: 13 мая 2017.</small></span></span></span>\n",
            "</li>\n",
            "<li id=\"cite_note-35\"><span class=\"mw-cite-backlink\"><a href=\"#cite_ref-35\">↑</a></span> <span class=\"reference-text\"><span class=\"citation\"><span class=\"citation\"><span lang=\"und\"><a class=\"external text\" href=\"https://media.netflix.com/en/press-releases/netflix-is-now-available-around-the-world\" rel=\"nofollow\">Netflix Is Now Available Around the World</a></span><span class=\"hidden-ref\" style=\"display:none\"><b> <small class=\"ref-info\" style=\"cursor:help;\" title=\"на неопределённом языке\">(неопр.)</small></b></span>.  media.netflix.com. — «Netflix will not yet be available in China, though the company continues to explore options for providing the service. It also won’t be available in Crimea, North Korea and Syria due to U.S. government restrictions on American companies.». <small><a class=\"external text\" href=\"https://web.archive.org/web/20160106193540/https://media.netflix.com/en/press-releases/netflix-is-now-available-around-the-world\" rel=\"nofollow\">Архивировано</a> 6 января 2016 года.</small></span></span></span>\n",
            "</li>\n",
            "<li id=\"cite_note-36\"><span class=\"mw-cite-backlink\"><a href=\"#cite_ref-36\">↑</a></span> <span class=\"reference-text\"><span class=\"citation\"><a class=\"external text\" href=\"https://vc.ru/n/netflix-global\" rel=\"nofollow\">Netflix открыл доступ для россиян</a> <small class=\"ref-info\" style=\"cursor:help;\" title=\"на русском языке\">(рус.)</small>, <i>vc.ru</i> (6 января 2016). <small>Дата обращения 21 апреля 2017.</small></span></span>\n",
            "</li>\n",
            "<li id=\"cite_note-37\"><span class=\"mw-cite-backlink\"><a href=\"#cite_ref-37\">↑</a></span> <span class=\"reference-text\"><span class=\"citation\"><i>Елистратов, Вадим</i>. <a class=\"external text\" href=\"https://dtf.ru/5560-netflix-zapustil-programmu-po-naymu-frilanserov-dlya-perevoda-subtitrov\" rel=\"nofollow\">Netflix запустил программу по найму фрилансеров для перевода субтитров</a> <small class=\"ref-info\" style=\"cursor:help;\" title=\"на русском языке\">(рус.)</small>, <i>DTF</i>. <small>Дата обращения 21 апреля 2017.</small></span></span>\n",
            "</li>\n",
            "<li id=\"cite_note-38\"><span class=\"mw-cite-backlink\"><a href=\"#cite_ref-38\">↑</a></span> <span class=\"reference-text\"><span class=\"citation\"><span class=\"citation\"><i>Amiko.</i> <span lang=\"und\"><a class=\"external text\" href=\"https://dtf.ru/cinema/36280-filmy-i-serialy-v-netflix-na-russkom-yazyke\" rel=\"nofollow\">Фильмы и сериалы в Netflix на русском языке — Кино и сериалы на DTF</a></span><span class=\"hidden-ref\" style=\"display:none\"><b> <small class=\"ref-info\" style=\"cursor:help;\" title=\"на неопределённом языке\">(неопр.)</small></b></span>.  DTF (13 января 2019). <small>Дата обращения: 20 марта 2019.</small></span></span></span>\n",
            "</li>\n",
            "<li id=\"cite_note-39\"><span class=\"mw-cite-backlink\"><a href=\"#cite_ref-39\">↑</a></span> <span class=\"reference-text\"><span class=\"citation\"><i>Sharma, Lisa Richwine, Vibhuti</i>. <a class=\"external text\" href=\"https://www.reuters.com/article/us-netflix-results-idUSKCN1MQ2R5\" rel=\"nofollow\">Netflix record subscriber growth dispels Wall Street worries</a>, <i>Reuters</i> (17 октября 2018). <small>Дата обращения 21 марта 2021.</small></span></span>\n",
            "</li>\n",
            "<li id=\"cite_note-40\"><span class=\"mw-cite-backlink\"><a href=\"#cite_ref-40\">↑</a></span> <span class=\"reference-text\"><span class=\"citation\"><span class=\"citation\"><span lang=\"und\"><a class=\"external text\" href=\"https://www.vedomosti.ru/lifestyle/news/2019/03/06/795824-sto-let-odinochestva\" rel=\"nofollow\">Netflix первый в истории получил права на экранизацию книги «Сто лет одиночества»</a></span><span class=\"hidden-ref\" style=\"display:none\"><b> <small class=\"ref-info\" style=\"cursor:help;\" title=\"на неопределённом языке\">(неопр.)</small></b></span>.</span></span></span>\n",
            "</li>\n",
            "<li id=\"cite_note-41\"><span class=\"mw-cite-backlink\"><a href=\"#cite_ref-41\">↑</a></span> <span class=\"reference-text\"><span class=\"citation\"><a class=\"external text\" href=\"https://www.bbc.com/news/business-52376022\" rel=\"nofollow\">Netflix gets 16 million new sign-ups thanks to lockdown</a>, <i>BBC News</i> (21 апреля 2020). <small>Дата обращения 21 марта 2021.</small></span></span>\n",
            "</li>\n",
            "<li id=\"cite_note-42\"><span class=\"mw-cite-backlink\"><a href=\"#cite_ref-42\">↑</a></span> <span class=\"reference-text\"><span class=\"citation\"><span class=\"citation\"><i>Евгения Евсеева.</i> <span lang=\"und\"><a class=\"external text\" href=\"https://vc.ru/media/222436-netflix-voshel-v-chetverku-samyh-populyarnyh-u-rossiyan-videoservisov-posle-ivi-kinopoisk-hd-i-okko-telecom-daily\" rel=\"nofollow\">Netflix вошёл в четвёрку самых популярных у россиян видеосервисов после ivi, «Кинопоиск HD» и Okko — Telecom Daily — Медиа на vc.ru</a></span><span class=\"hidden-ref\" style=\"display:none\"><b> <small class=\"ref-info\" style=\"cursor:help;\" title=\"на неопределённом языке\">(неопр.)</small></b></span>. <i>vc.ru</i> (19 марта 2021). <small>Дата обращения: 21 марта 2021.</small></span></span></span>\n",
            "</li>\n",
            "<li id=\"cite_note-43\"><span class=\"mw-cite-backlink\"><a href=\"#cite_ref-43\">↑</a></span> <span class=\"reference-text\"><a class=\"external text\" href=\"https://www.bbc.com/news/technology-60596699\" rel=\"nofollow\">Netflix pauses future projects in Russia</a>, BBC, 3.03.2022</span>\n",
            "</li>\n",
            "<li id=\"cite_note-Russia_suspension-44\"><span class=\"mw-cite-backlink\"><a href=\"#cite_ref-Russia_suspension_44-0\">↑</a></span> <span class=\"reference-text\"><span class=\"citation\"><i>Lang, Brent</i>. <a class=\"external text\" href=\"https://variety.com/2022/digital/news/netflix-suspends-service-russia-ukraine-invasion-1235197390/\" rel=\"nofollow\">Netflix Suspends Service in Russia Amid Invasion of Ukraine</a>, <i>Variety</i>, Penske Media Corporation (March 6, 2022).</span></span>\n",
            "</li>\n",
            "<li id=\"cite_note-investopedia-45\"><span class=\"mw-cite-backlink\"><a href=\"#cite_ref-investopedia_45-0\">↑</a></span> <span class=\"reference-text\"><span class=\"citation\"><span class=\"citation\"><span lang=\"und\"><a class=\"external text\" href=\"https://www.investopedia.com/articles/insights/060716/top-3-netflix-shareholders-nflx.asp\" rel=\"nofollow\">Top Netflix Shareholders</a></span><span class=\"hidden-ref\" style=\"display:none\"><b> <small class=\"ref-info\" style=\"cursor:help;\" title=\"на неопределённом языке\">(неопр.)</small></b></span>. <i>Investopedia</i> (10 июля 2020). <small>Дата обращения: 12 декабря 2021.</small></span></span></span>\n",
            "</li>\n",
            "<li id=\"cite_note-46\"><span class=\"mw-cite-backlink\"><a href=\"#cite_ref-46\">↑</a></span> <span class=\"reference-text\"><span class=\"citation\"><span class=\"citation\"><span lang=\"ru\"><a class=\"external text\" href=\"https://help.netflix.com/ru/node/24926\" rel=\"nofollow\">Plans and Pricing</a></span><span class=\"hidden-ref\" style=\"display:none\"> <small class=\"ref-info\" style=\"cursor:help;\" title=\"на русском языке\">(рус.)</small></span>. <i>Центр поддержки</i>. <small>Дата обращения: 6 октября 2021.</small></span></span></span>\n",
            "</li>\n",
            "<li id=\"cite_note-Speeds-47\"><span class=\"mw-cite-backlink\">↑ <a href=\"#cite_ref-Speeds_47-0\"><sup><i><b>1</b></i></sup></a> <a href=\"#cite_ref-Speeds_47-1\"><sup><i><b>2</b></i></sup></a> <a href=\"#cite_ref-Speeds_47-2\"><sup><i><b>3</b></i></sup></a> <a href=\"#cite_ref-Speeds_47-3\"><sup><i><b>4</b></i></sup></a></span> <span class=\"reference-text\"><span class=\"citation\"><span class=\"citation\"><span lang=\"und\"><a class=\"external text\" href=\"https://help.netflix.com/en/node/306\" rel=\"nofollow\">Internet Connection Speed Recommendations</a></span><span class=\"hidden-ref\" style=\"display:none\"><b> <small class=\"ref-info\" style=\"cursor:help;\" title=\"на неопределённом языке\">(неопр.)</small></b></span>.  Netflix. <small>Дата обращения: 16 апреля 2015.</small></span></span></span>\n",
            "</li>\n",
            "<li id=\"cite_note-48\"><span class=\"mw-cite-backlink\"><a href=\"#cite_ref-48\">↑</a></span> <span class=\"reference-text\"><span class=\"citation\"><span class=\"citation\"><span lang=\"und\"><a class=\"external text\" href=\"https://help.netflix.com/en/node/13444\" rel=\"nofollow\">Can I stream Netflix in Ultra HD 4K?</a></span><span class=\"hidden-ref\" style=\"display:none\"><b> <small class=\"ref-info\" style=\"cursor:help;\" title=\"на неопределённом языке\">(неопр.)</small></b></span>.  Netflix. <small>Дата обращения: 9 июня 2014.</small></span></span></span>\n",
            "</li>\n",
            "<li id=\"cite_note-49\"><span class=\"mw-cite-backlink\"><a href=\"#cite_ref-49\">↑</a></span> <span class=\"reference-text\"><span class=\"citation\"><a class=\"external text\" href=\"https://www.bizjournals.com/sanjose/blog/2012/12/netflix-officially-signs-on-to-new-los.html\" rel=\"nofollow\">Netflix официально подписывает на новый кампус Лос-Гатос</a>, <i>Деловой журнал Силиконовой долины</i>, Американские Городские Деловые Журналы (11 декабря 2012). <small>Дата обращения 2 апреля 2019.</small></span></span>\n",
            "</li>\n",
            "<li id=\"cite_note-50\"><span class=\"mw-cite-backlink\"><a href=\"#cite_ref-50\">↑</a></span> <span class=\"reference-text\"><span class=\"citation\"><a class=\"external text\" href=\"https://www.bizjournals.com/sanjose/news/2015/09/04/netflix-seals-big-los-gatos-expansion.html\" rel=\"nofollow\">Netflix пломбирует большое расширение Лос-Гатос</a>, <i>Деловой журнал Силиконовой долины</i>, Американские Городские Деловые Журналы (4 сентября 2015). <small>Дата обращения 2 апреля 2019.</small></span></span>\n",
            "</li>\n",
            "<li id=\"cite_note-51\"><span class=\"mw-cite-backlink\"><a href=\"#cite_ref-51\">↑</a></span> <span class=\"reference-text\"><span class=\"citation\"><span class=\"citation\"><i>Anthony Ha.</i> <span lang=\"und\"><a class=\"external text\" href=\"http://social.techcrunch.com/2013/10/21/netflix-orange-is-the-new-black-most-watched/\" rel=\"nofollow\">Netflix: ‘Orange Is The New Black’ Is Our Most-Watched Original, But Our TV Exclusives Are Even Bigger</a></span><span class=\"hidden-ref\" style=\"display:none\"><b> <small class=\"ref-info\" style=\"cursor:help;\" title=\"на неопределённом языке\">(неопр.)</small></b></span>.  TechCrunch. <small>Дата обращения: 21 апреля 2017.</small></span></span></span>\n",
            "</li>\n",
            "<li id=\"cite_note-52\"><span class=\"mw-cite-backlink\"><a href=\"#cite_ref-52\">↑</a></span> <span class=\"reference-text\"><span class=\"citation\"><span class=\"citation\"><i>Алиса Говорова.</i> <span lang=\"ru\"><a class=\"external text\" href=\"https://iz.ru/847383/2019-02-19/netflix-zakryl-serialy-po-marvel-karatel-i-dzhessika-dzhons\" rel=\"nofollow\">Netflix закрыл сериалы по Marvel «Каратель» и «Джессика Джонс»</a></span><span class=\"hidden-ref\" style=\"display:none\"> <small class=\"ref-info\" style=\"cursor:help;\" title=\"на русском языке\">(рус.)</small></span>.  Известия (19 февраля 2019). <small>Дата обращения: 20 марта 2019.</small></span></span></span>\n",
            "</li>\n",
            "<li id=\"cite_note-53\"><span class=\"mw-cite-backlink\"><a href=\"#cite_ref-53\">↑</a></span> <span class=\"reference-text\"><span class=\"citation\"><a class=\"external text\" href=\"http://www.rosbalt.ru/style/2017/03/29/1603053.html\" rel=\"nofollow\">Вышел трейлер спецпроекта Netflix с участием стендап-комика (видео)</a>, <i>Росбалт</i>. <small>Дата обращения 21 апреля 2017.</small></span></span>\n",
            "</li>\n",
            "<li id=\"cite_note-54\"><span class=\"mw-cite-backlink\"><a href=\"#cite_ref-54\">↑</a></span> <span class=\"reference-text\"><span class=\"citation\"><a class=\"external text\" href=\"https://www.kinopoisk.ru/news/2825165/\" rel=\"nofollow\">Netflix заплатит Крису Року 40 млн долларов за два выступления</a> <small class=\"ref-info\" style=\"cursor:help;\" title=\"на русском языке\">(рус.)</small>, <i>КиноПоиск.ru</i>. <small>Дата обращения 21 апреля 2017.</small></span></span>\n",
            "</li>\n",
            "<li id=\"cite_note-55\"><span class=\"mw-cite-backlink\"><a href=\"#cite_ref-55\">↑</a></span> <span class=\"reference-text\"><span class=\"citation\"><span class=\"citation\"><i>Галина СЕРОВА | Сайт «Комсомольской правды».</i> <span lang=\"ru\"><a class=\"external text\" href=\"https://www.kp.ru/daily/26956.4/4009050/\" rel=\"nofollow\">На Netflix выйдет интерактивное шоу \"Ты против дикой природы\" с Беаром Гриллсом</a></span><span class=\"hidden-ref\" style=\"display:none\"> <small class=\"ref-info\" style=\"cursor:help;\" title=\"на русском языке\">(рус.)</small></span>.  KP.RU - сайт «Комсомольской правды» (20 марта 2019). <small>Дата обращения: 20 марта 2019.</small></span></span></span>\n",
            "</li>\n",
            "<li id=\"cite_note-56\"><span class=\"mw-cite-backlink\"><a href=\"#cite_ref-56\">↑</a></span> <span class=\"reference-text\"><span class=\"citation\"><span class=\"citation\"><span lang=\"ru\"><a class=\"external text\" href=\"https://ria.ru/20190225/1551319556.html\" rel=\"nofollow\">«Рома» получила «Оскар» в категории «Лучший фильм на иностранном языке»</a></span><span class=\"hidden-ref\" style=\"display:none\"> <small class=\"ref-info\" style=\"cursor:help;\" title=\"на русском языке\">(рус.)</small></span>.  <a href=\"/wiki/%D0%A0%D0%98%D0%90_%D0%9D%D0%BE%D0%B2%D0%BE%D1%81%D1%82%D0%B8\" title=\"РИА Новости\">РИА Новости</a> (20190225T0516+0300Z). <small>Дата обращения: 20 марта 2019.</small></span></span></span>\n",
            "</li>\n",
            "<li id=\"cite_note-57\"><span class=\"mw-cite-backlink\"><a href=\"#cite_ref-57\">↑</a></span> <span class=\"reference-text\"><span class=\"citation\"><span class=\"citation\"><span lang=\"ru\"><a class=\"external text\" href=\"https://www.forbes.ru/newsroom/tehnologii/435485-netflix-dobavit-mobilnye-igry-v-svoyu-podpisku\" rel=\"nofollow\">Netflix добавит мобильные игры в свою подписку</a></span><span class=\"hidden-ref\" style=\"display:none\"> <small class=\"ref-info\" style=\"cursor:help;\" title=\"на русском языке\">(рус.)</small></span>. <i>Forbes.ru</i>. <small>Дата обращения: 3 ноября 2021.</small></span></span></span>\n",
            "</li>\n",
            "<li id=\"cite_note-58\"><span class=\"mw-cite-backlink\"><a href=\"#cite_ref-58\">↑</a></span> <span class=\"reference-text\"><span class=\"citation\"><span class=\"citation\"><span lang=\"ru\"><a class=\"external text\" href=\"https://www.forbes.ru/tekhnologii/444945-netflix-zapustil-mobil-nye-videoigry-po-podpiske-v-svoem-prilozenii\" rel=\"nofollow\">Netflix запустил мобильные видеоигры по подписке в своем приложении</a></span><span class=\"hidden-ref\" style=\"display:none\"> <small class=\"ref-info\" style=\"cursor:help;\" title=\"на русском языке\">(рус.)</small></span>. <i>Forbes.ru</i>. <small>Дата обращения: 3 ноября 2021.</small></span></span></span>\n",
            "</li>\n",
            "</ol></div></div>\n",
            "<h2><span id=\".D0.A1.D1.81.D1.8B.D0.BB.D0.BA.D0.B8\"></span><span class=\"mw-headline\" id=\"Ссылки\">Ссылки</span><span class=\"mw-editsection\"><span class=\"mw-editsection-bracket\">[</span><a class=\"mw-editsection-visualeditor\" href=\"/w/index.php?title=Netflix&amp;veaction=edit&amp;section=16\" title=\"Редактировать раздел «Ссылки»\">править</a><span class=\"mw-editsection-divider\"> | </span><a href=\"/w/index.php?title=Netflix&amp;action=edit&amp;section=16\" title=\"Редактировать раздел «Ссылки»\">править код</a><span class=\"mw-editsection-bracket\">]</span></span></h2>\n",
            "<style data-mw-deduplicate=\"TemplateStyles:r113275216\">.mw-parser-output .ts-Родственные_проекты{width:19em;box-sizing:border-box;margin:0 0 .5em 1em;padding:.4em;background:#f8f9fa;border:1px solid #a2a9b1;font-size:90%}.mw-parser-output .ts-Родственные_проекты-header{margin-bottom:.2em;padding:.2em .6em;font-size:110%}.mw-parser-output .ts-Родственные_проекты-item{display:flex;padding:.2em .6em}.mw-parser-output .ts-Родственные_проекты-image{min-width:24px;display:inline-block;margin-right:.4em;flex:none;vertical-align:top;text-align:center}.mw-parser-output .ts-Родственные_проекты-image img{vertical-align:middle}.mw-parser-output .ts-Родственные_проекты-label{align-self:center}@media(max-width:719px){.mw-parser-output .ts-Родственные_проекты{width:auto;margin-left:0;margin-right:0}}</style><div aria-label=\"В родственных проектах\" class=\"ts-Родственные_проекты ruwikiWikimediaNavigation tright metadata plainlinks plainlist noprint\" role=\"navigation\"><ul><li class=\"ts-Родственные_проекты-item\"><span class=\"ts-Родственные_проекты-image\"><img alt=\"\" data-file-height=\"30\" data-file-width=\"30\" decoding=\"async\" height=\"24\" src=\"//upload.wikimedia.org/wikipedia/commons/thumb/7/76/Notification-icon-Commons-logo.svg/24px-Notification-icon-Commons-logo.svg.png\" srcset=\"//upload.wikimedia.org/wikipedia/commons/thumb/7/76/Notification-icon-Commons-logo.svg/36px-Notification-icon-Commons-logo.svg.png 1.5x, //upload.wikimedia.org/wikipedia/commons/thumb/7/76/Notification-icon-Commons-logo.svg/48px-Notification-icon-Commons-logo.svg.png 2x\" width=\"24\"/></span><span class=\"ts-Родственные_проекты-label commons-ref\"><a class=\"extiw\" href=\"https://commons.wikimedia.org/wiki/Category:Netflix\" title=\"commons:Category:Netflix\">Медиафайлы на Викискладе</a></span></li></ul></div>\n",
            "<ul><li><a class=\"external text\" href=\"http://www.netflix.com\" rel=\"nofollow\">netflix.com</a> — официальный сайт Netflix</li>\n",
            "<li><a class=\"external text\" href=\"https://youtube.com/channel/UC4oS97TlLV-nArv0JnKr8ZQ\" rel=\"nofollow\">Видеоканал Netflix Russia</a> на <a href=\"/wiki/YouTube\" title=\"YouTube\">YouTube</a></li>\n",
            "<li><a class=\"external text\" href=\"https://geektimes.ru/post/297147/\" rel=\"nofollow\">Netflix: что происходит, когда вы нажимаете «воспроизвести»?</a> на <i>geektimes.ru</i></li>\n",
            "<li><a class=\"external text\" href=\"https://www.gazeta.ru/culture/2018/10/17/a_12024865.shtml\" rel=\"nofollow\">Ещё 7 миллионов: почему взлетели акции Netflix</a> // <a class=\"mw-redirect\" href=\"/wiki/%D0%93%D0%B0%D0%B7%D0%B5%D1%82%D0%B0.Ru\" title=\"Газета.Ru\">Газета.Ru</a>, 17.10.2018</li></ul>\n",
            "<table class=\"plainlinks metadata ambox ambox-style\" role=\"presentation\"><tbody><tr><td class=\"mbox-image\"><div style=\"width:52px\"><a class=\"image\" href=\"/wiki/%D0%A4%D0%B0%D0%B9%D0%BB:No_iwiki_template.svg\" title=\"Есть более полная статья\"><img alt=\"Есть более полная статья\" data-file-height=\"48\" data-file-width=\"48\" decoding=\"async\" height=\"48\" src=\"//upload.wikimedia.org/wikipedia/commons/thumb/4/45/No_iwiki_template.svg/48px-No_iwiki_template.svg.png\" srcset=\"//upload.wikimedia.org/wikipedia/commons/thumb/4/45/No_iwiki_template.svg/72px-No_iwiki_template.svg.png 1.5x, //upload.wikimedia.org/wikipedia/commons/thumb/4/45/No_iwiki_template.svg/96px-No_iwiki_template.svg.png 2x\" width=\"48\"/></a></div></td><td class=\"mbox-text\"><div class=\"mbox-text-div\"><b>В другом языковом разделе есть более полная статья <a class=\"extiw\" href=\"https://en.wikipedia.org/wiki/Netflix\" title=\"en:Netflix\">Netflix</a> <small class=\"ref-info\" style=\"cursor:help;\" title=\"на английском языке\">(англ.)</small>.</b></div><div class=\"mbox-textsmall-div hide-when-compact\" style=\"font-size:85%\">Вы можете помочь проекту, расширив текущую статью с помощью перевода.</div></td></tr></tbody></table>\n",
            "<div aria-label=\"Навигационный шаблон\" class=\"navbox\" data-name=\"External links\" role=\"navigation\"><table class=\"nowraplinks hlist navbox-inner\" style=\"border-spacing:0;background:transparent;color:inherit\"><tbody><tr><th class=\"navbox-group\" scope=\"row\" style=\"width:1px\"><div style=\"padding: 0 35px 0 0; width: 100%;\"><div style=\"float: left;\"><a href=\"/wiki/%D0%A8%D0%B0%D0%B1%D0%BB%D0%BE%D0%BD:%D0%92%D0%BD%D0%B5%D1%88%D0%BD%D0%B8%D0%B5_%D1%81%D1%81%D1%8B%D0%BB%D0%BA%D0%B8\" title=\"Перейти к шаблону «Внешние ссылки»\"><img alt=\"Перейти к шаблону «Внешние ссылки»\" class=\"noprint\" data-file-height=\"14\" data-file-width=\"14\" decoding=\"async\" height=\"14\" src=\"//upload.wikimedia.org/wikipedia/commons/thumb/c/c9/Wikipedia_interwiki_section_gear_icon.svg/14px-Wikipedia_interwiki_section_gear_icon.svg.png\" srcset=\"//upload.wikimedia.org/wikipedia/commons/thumb/c/c9/Wikipedia_interwiki_section_gear_icon.svg/21px-Wikipedia_interwiki_section_gear_icon.svg.png 1.5x, //upload.wikimedia.org/wikipedia/commons/thumb/c/c9/Wikipedia_interwiki_section_gear_icon.svg/28px-Wikipedia_interwiki_section_gear_icon.svg.png 2x\" width=\"14\"/></a>  <a href=\"https://www.wikidata.org/wiki/Q907311#identifiers\" title=\"Перейти к элементу Викиданных\"><img alt=\"Перейти к элементу Викиданных\" data-file-height=\"20\" data-file-width=\"20\" decoding=\"async\" height=\"14\" src=\"//upload.wikimedia.org/wikipedia/commons/thumb/8/8a/OOjs_UI_icon_edit-ltr-progressive.svg/14px-OOjs_UI_icon_edit-ltr-progressive.svg.png\" srcset=\"//upload.wikimedia.org/wikipedia/commons/thumb/8/8a/OOjs_UI_icon_edit-ltr-progressive.svg/21px-OOjs_UI_icon_edit-ltr-progressive.svg.png 1.5x, //upload.wikimedia.org/wikipedia/commons/thumb/8/8a/OOjs_UI_icon_edit-ltr-progressive.svg/28px-OOjs_UI_icon_edit-ltr-progressive.svg.png 2x\" width=\"14\"/></a></div>  В социальных сетях</div></th><td class=\"navbox-list navbox-odd\" style=\"text-align:left;border-left-width:2px;border-left-style:solid;width:100%;padding:0px\"><div style=\"padding:0em 0.25em\">\n",
            "<ul><li><a class=\"external text\" href=\"https://twitter.com/netflix\" rel=\"nofollow\">Твиттер</a></li>\n",
            "<li><a class=\"external text\" href=\"https://www.facebook.com/netflix\" rel=\"nofollow\">Facebook</a></li>\n",
            "<li><a class=\"external text\" href=\"https://www.linkedin.com/company/netflix/\" rel=\"nofollow\">LinkedIn</a></li></ul>\n",
            "</div></td></tr><tr><th class=\"navbox-group\" scope=\"row\" style=\"width:1px\">Фото, видео и аудио</th><td class=\"navbox-list navbox-even\" style=\"text-align:left;border-left-width:2px;border-left-style:solid;width:100%;padding:0px\"><div style=\"padding:0em 0.25em\">\n",
            "<ul><li><a class=\"external text\" href=\"https://www.instagram.com/netflix/\" rel=\"nofollow\">Instagram</a></li>\n",
            "<li><a class=\"external text\" href=\"https://www.instagram.com/netflixnordic/\" rel=\"nofollow\">Instagram</a></li>\n",
            "<li><a class=\"external text\" href=\"https://www.instagram.com/netflixhu/\" rel=\"nofollow\">Instagram</a></li>\n",
            "<li><a class=\"external text\" href=\"https://www.last.fm/ru/music/Netflix\" rel=\"nofollow\">Last.fm</a></li>\n",
            "<li><a class=\"external text\" href=\"https://www.tiktok.com/@netflix\" rel=\"nofollow\">TikTok</a></li>\n",
            "<li><a class=\"external text\" href=\"https://www.youtube.com/channel/UCWOA1ZGywLbqmigxE4Qlvuw\" rel=\"nofollow\">YouTube</a></li></ul>\n",
            "</div></td></tr><tr><th class=\"navbox-group\" scope=\"row\" style=\"width:1px\">Тематические сайты</th><td class=\"navbox-list navbox-odd\" style=\"text-align:left;border-left-width:2px;border-left-style:solid;width:100%;padding:0px\"><div style=\"padding:0em 0.25em\">\n",
            "<ul><li><a class=\"external text\" href=\"https://github.com/Netflix\" rel=\"nofollow\">GitHub</a></li></ul>\n",
            "</div></td></tr><tr><th class=\"navbox-group\" scope=\"row\" style=\"width:1px\">Словари и энциклопедии</th><td class=\"navbox-list navbox-even\" style=\"text-align:left;border-left-width:2px;border-left-style:solid;width:100%;padding:0px\"><div style=\"padding:0em 0.25em\">\n",
            "<ul><li><a class=\"external text\" href=\"https://snl.no/Netflix\" rel=\"nofollow\">Большая норвежская</a></li>\n",
            "<li><a class=\"external text\" href=\"https://www.britannica.com/topic/Netflix-Inc\" rel=\"nofollow\">Britannica (онлайн)</a></li>\n",
            "<li><a class=\"external text\" href=\"https://brockhaus.de/ecs/enzy/article/netflix-inc\" rel=\"nofollow\">Brockhaus</a></li></ul>\n",
            "</div></td></tr><tr><td class=\"navbox-list navbox-odd\" colspan=\"2\" style=\"width:100%;padding:0px\"><div style=\"padding:0em 0.25em\"><style data-mw-deduplicate=\"TemplateStyles:r113287755\">.mw-parser-output .ts-navbox-plaintitle{font-size:100%!important;margin:0 6em!important}</style></div><table class=\"nowraplinks authoritycontrol collapsible collapsed navbox-subgroup\" style=\"border-spacing:0;text-align: left;\"><tbody><tr><th class=\"navbox-title\" colspan=\"2\" scope=\"colgroup\"><div class=\"ts-navbox-plaintitle\" id=\"В_библиографических_каталогах\" style=\"font-size:114%;margin:0 5em\">В библиографических каталогах</div></th></tr><tr><td class=\"navbox-list navbox-even\" style=\"width:100%;padding:0px\"><div style=\"padding:0em 0.25em\">\n",
            "<ul><li><a href=\"/wiki/%D0%9D%D0%B0%D1%86%D0%B8%D0%BE%D0%BD%D0%B0%D0%BB%D1%8C%D0%BD%D0%B0%D1%8F_%D0%B1%D0%B8%D0%B1%D0%BB%D0%B8%D0%BE%D1%82%D0%B5%D0%BA%D0%B0_%D0%A4%D1%80%D0%B0%D0%BD%D1%86%D0%B8%D0%B8\" title=\"Национальная библиотека Франции\">BNF</a>: <a class=\"external text\" href=\"https://catalogue.bnf.fr/ark:/12148/cb16905232x\" rel=\"nofollow\">16905232x</a></li>\n",
            "<li><a href=\"/wiki/Gemeinsame_Normdatei\" title=\"Gemeinsame Normdatei\">GND</a>: <a class=\"external text\" href=\"https://d-nb.info/gnd/1036416135\" rel=\"nofollow\">1036416135</a></li>\n",
            "<li><a href=\"/wiki/%D0%9C%D0%B5%D0%B6%D0%B4%D1%83%D0%BD%D0%B0%D1%80%D0%BE%D0%B4%D0%BD%D1%8B%D0%B9_%D0%B8%D0%B4%D0%B5%D0%BD%D1%82%D0%B8%D1%84%D0%B8%D0%BA%D0%B0%D1%82%D0%BE%D1%80_%D1%81%D1%82%D0%B0%D0%BD%D0%B4%D0%B0%D1%80%D1%82%D0%BD%D1%8B%D1%85_%D0%BD%D0%B0%D0%B8%D0%BC%D0%B5%D0%BD%D0%BE%D0%B2%D0%B0%D0%BD%D0%B8%D0%B9\" title=\"Международный идентификатор стандартных наименований\">ISNI</a>: <a class=\"external text\" href=\"http://isni-url.oclc.nl/isni/0000000463589334\" rel=\"nofollow\">0000 0004 6358 9334</a></li>\n",
            "<li><a href=\"/wiki/%D0%9A%D0%BE%D0%BD%D1%82%D1%80%D0%BE%D0%BB%D1%8C%D0%BD%D1%8B%D0%B9_%D0%BD%D0%BE%D0%BC%D0%B5%D1%80_%D0%91%D0%B8%D0%B1%D0%BB%D0%B8%D0%BE%D1%82%D0%B5%D0%BA%D0%B8_%D0%9A%D0%BE%D0%BD%D0%B3%D1%80%D0%B5%D1%81%D1%81%D0%B0\" title=\"Контрольный номер Библиотеки Конгресса\">LCCN</a>: <a class=\"external text\" href=\"https://id.loc.gov/authorities/nr2007013388\" rel=\"nofollow\">nr2007013388</a></li>\n",
            "<li><a href=\"/wiki/%D0%9D%D0%B0%D1%86%D0%B8%D0%BE%D0%BD%D0%B0%D0%BB%D1%8C%D0%BD%D0%B0%D1%8F_%D0%B1%D0%B8%D0%B1%D0%BB%D0%B8%D0%BE%D1%82%D0%B5%D0%BA%D0%B0_%D0%A7%D0%B5%D1%88%D1%81%D0%BA%D0%BE%D0%B9_%D0%A0%D0%B5%D1%81%D0%BF%D1%83%D0%B1%D0%BB%D0%B8%D0%BA%D0%B8\" title=\"Национальная библиотека Чешской Республики\">NKC</a>: <a class=\"external text\" href=\"http://aut.nkp.cz/xx0226167\" rel=\"nofollow\">xx0226167</a></li>\n",
            "<li><a href=\"/wiki/VIAF\" title=\"VIAF\">VIAF</a>: <a class=\"external text\" href=\"https://viaf.org/viaf/110144647635343459670\" rel=\"nofollow\">110144647635343459670</a></li>\n",
            "<li><a href=\"/wiki/WorldCat\" title=\"WorldCat\">WorldCat VIAF</a>: <a class=\"external text\" href=\"https://www.worldcat.org/identities/containsVIAFID/110144647635343459670\" rel=\"nofollow\">110144647635343459670</a></li></ul>\n",
            "</div></td></tr></tbody></table><div></div></td></tr></tbody></table></div>\n",
            "<div aria-labelledby=\"Ссылки_на_связанные_темы\" class=\"navbox\" role=\"navigation\"><table class=\"nowraplinks collapsible collapsed navbox-inner\" style=\"border-spacing:0;background:transparent;color:inherit\"><tbody><tr><th class=\"navbox-title\" colspan=\"2\" scope=\"colgroup\"><div id=\"Ссылки_на_связанные_темы\" style=\"font-size:114%;margin:0 5em\">Ссылки на связанные темы</div></th></tr><tr><td class=\"navbox-list navbox-odd\" style=\"width:100%;padding:0px;font-size:114%;\"><div style=\"padding:0px;\"><div aria-labelledby=\"Netflix\" class=\"navbox\" data-name=\"Netflix\" role=\"navigation\"><table class=\"nowraplinks collapsible autocollapse navbox-inner\" style=\"border-spacing:0;background:transparent;color:inherit\"><tbody><tr><th class=\"navbox-title\" colspan=\"2\" scope=\"colgroup\"><span class=\"navbox-gear\" style=\"float:left;text-align:left;width:5em;margin-right:0.5em\"><a href=\"/wiki/%D0%A8%D0%B0%D0%B1%D0%BB%D0%BE%D0%BD:Netflix\" title=\"Перейти к шаблону «Netflix»\"><img alt=\"Перейти к шаблону «Netflix»\" class=\"noprint\" data-file-height=\"14\" data-file-width=\"14\" decoding=\"async\" height=\"14\" src=\"//upload.wikimedia.org/wikipedia/commons/thumb/c/c9/Wikipedia_interwiki_section_gear_icon.svg/14px-Wikipedia_interwiki_section_gear_icon.svg.png\" srcset=\"//upload.wikimedia.org/wikipedia/commons/thumb/c/c9/Wikipedia_interwiki_section_gear_icon.svg/21px-Wikipedia_interwiki_section_gear_icon.svg.png 1.5x, //upload.wikimedia.org/wikipedia/commons/thumb/c/c9/Wikipedia_interwiki_section_gear_icon.svg/28px-Wikipedia_interwiki_section_gear_icon.svg.png 2x\" width=\"14\"/></a> </span><div id=\"Netflix\" style=\"font-size:114%;margin:0 5em\"><a class=\"mw-selflink selflink\">Netflix</a></div></th></tr><tr><td class=\"navbox-list navbox-odd hlist\" style=\"width:100%;padding:0px\"><div style=\"padding:0em 0.25em\"><div class=\"NavContent\">\n",
            "<ul><li><a class=\"mw-selflink selflink\">Netflix</a></li>\n",
            "<li><a href=\"/wiki/Netflix_Prize\" title=\"Netflix Prize\">Netflix Prize</a></li>\n",
            "<li><a class=\"image\" href=\"/wiki/%D0%A4%D0%B0%D0%B9%D0%BB:Symbol_template_class.svg\" title=\"Шаблон\"><img alt=\"Шаблон\" data-file-height=\"185\" data-file-width=\"180\" decoding=\"async\" height=\"16\" src=\"//upload.wikimedia.org/wikipedia/commons/thumb/5/5c/Symbol_template_class.svg/16px-Symbol_template_class.svg.png\" srcset=\"//upload.wikimedia.org/wikipedia/commons/thumb/5/5c/Symbol_template_class.svg/24px-Symbol_template_class.svg.png 1.5x, //upload.wikimedia.org/wikipedia/commons/thumb/5/5c/Symbol_template_class.svg/32px-Symbol_template_class.svg.png 2x\" width=\"16\"/></a> <a href=\"/wiki/%D0%A8%D0%B0%D0%B1%D0%BB%D0%BE%D0%BD:NetflixFilms\" title=\"Шаблон:NetflixFilms\">Фильмы</a></li>\n",
            "<li>Сериалы\n",
            "<ul><li><a href=\"/wiki/%D0%A8%D0%B0%D0%B1%D0%BB%D0%BE%D0%BD:%D0%A2%D0%B5%D0%BA%D1%83%D1%89%D0%B8%D0%B5_%D1%81%D0%B5%D1%80%D0%B8%D0%B0%D0%BB%D1%8B_Netflix\" title=\"Шаблон:Текущие сериалы Netflix\">текущие</a></li>\n",
            "<li><a href=\"/wiki/%D0%A8%D0%B0%D0%B1%D0%BB%D0%BE%D0%BD:%D0%92%D0%BE%D0%B7%D1%80%D0%BE%D0%B6%D0%B4%D1%91%D0%BD%D0%BD%D1%8B%D0%B5_%D1%81%D0%B5%D1%80%D0%B8%D0%B0%D0%BB%D1%8B_Netflix\" title=\"Шаблон:Возрождённые сериалы Netflix\">возрождённые</a></li>\n",
            "<li><a class=\"mw-redirect\" href=\"/wiki/%D0%A8%D0%B0%D0%B1%D0%BB%D0%BE%D0%BD:%D0%97%D0%B0%D0%B2%D0%B5%D1%80%D1%88%D1%91%D0%BD%D0%BD%D1%8B%D0%B5_%D1%81%D0%B5%D1%80%D0%B8%D0%B0%D0%BB%D1%8B_Netflix\" title=\"Шаблон:Завершённые сериалы Netflix\">завершённые</a></li>\n",
            "<li><a href=\"/wiki/%D0%A8%D0%B0%D0%B1%D0%BB%D0%BE%D0%BD:%D0%9F%D1%80%D0%B5%D0%B4%D1%81%D1%82%D0%BE%D1%8F%D1%89%D0%B8%D0%B5_%D1%81%D0%B5%D1%80%D0%B8%D0%B0%D0%BB%D1%8B_Netflix\" title=\"Шаблон:Предстоящие сериалы Netflix\">предстоящие</a></li></ul></li></ul>\n",
            "</div></div></td></tr></tbody></table></div>\n",
            "<div aria-labelledby=\"Завершённые_оригинальные_сериалы_Netflix_(с_2012_по_2018_год)\" class=\"navbox\" data-name=\"Завершённые сериалы Netflix (2012—2018)\" role=\"navigation\"><table class=\"nowraplinks hlist hlist-items-nowrap collapsible collapsed navbox-inner\" style=\"border-spacing:0;background:transparent;color:inherit\"><tbody><tr><th class=\"navbox-title\" colspan=\"2\" scope=\"colgroup\"><span class=\"navbox-gear\" style=\"float:left;text-align:left;width:5em;margin-right:0.5em\"><a href=\"/wiki/%D0%A8%D0%B0%D0%B1%D0%BB%D0%BE%D0%BD:%D0%97%D0%B0%D0%B2%D0%B5%D1%80%D1%88%D1%91%D0%BD%D0%BD%D1%8B%D0%B5_%D1%81%D0%B5%D1%80%D0%B8%D0%B0%D0%BB%D1%8B_Netflix_(2012%E2%80%942018)\" title=\"Перейти к шаблону «Завершённые сериалы Netflix (2012—2018)»\"><img alt=\"Перейти к шаблону «Завершённые сериалы Netflix (2012—2018)»\" class=\"noprint\" data-file-height=\"14\" data-file-width=\"14\" decoding=\"async\" height=\"14\" src=\"//upload.wikimedia.org/wikipedia/commons/thumb/c/c9/Wikipedia_interwiki_section_gear_icon.svg/14px-Wikipedia_interwiki_section_gear_icon.svg.png\" srcset=\"//upload.wikimedia.org/wikipedia/commons/thumb/c/c9/Wikipedia_interwiki_section_gear_icon.svg/21px-Wikipedia_interwiki_section_gear_icon.svg.png 1.5x, //upload.wikimedia.org/wikipedia/commons/thumb/c/c9/Wikipedia_interwiki_section_gear_icon.svg/28px-Wikipedia_interwiki_section_gear_icon.svg.png 2x\" width=\"14\"/></a> </span><div id=\"Завершённые_оригинальные_сериалы_Netflix_(с_2012_по_2018_год)\" style=\"font-size:114%;margin:0 5em\">Завершённые оригинальные сериалы <a class=\"mw-selflink selflink\">Netflix</a> (с 2012 по 2018 год)</div></th></tr><tr><th class=\"navbox-group\" scope=\"row\" style=\"width:1px\">Запущенные<br/>до 2015 года</th><td class=\"navbox-list navbox-odd\" style=\"text-align:left;border-left-width:2px;border-left-style:solid;width:100%;padding:0px\"><div style=\"padding:0em 0.25em\">\n",
            "<ul><li><a href=\"/wiki/%D0%94%D0%B0_%D0%B7%D0%B4%D1%80%D0%B0%D0%B2%D1%81%D1%82%D0%B2%D1%83%D0%B5%D1%82_%D0%BA%D0%BE%D1%80%D0%BE%D0%BB%D1%8C_%D0%94%D0%B6%D1%83%D0%BB%D0%B8%D0%B0%D0%BD\" title=\"Да здравствует король Джулиан\">Да здравствует король Джулиан</a> (2014—2017)</li>\n",
            "<li><a href=\"/wiki/%D0%9A%D0%B0%D1%80%D1%82%D0%BE%D1%87%D0%BD%D1%8B%D0%B9_%D0%B4%D0%BE%D0%BC%D0%B8%D0%BA_(%D1%82%D0%B5%D0%BB%D0%B5%D1%81%D0%B5%D1%80%D0%B8%D0%B0%D0%BB)\" title=\"Карточный домик (телесериал)\">Карточный домик</a> (2013—2018)</li>\n",
            "<li><a href=\"/wiki/%D0%9A%D0%BE%D0%BD%D1%8C_%D0%91%D0%BE%D0%94%D0%B6%D0%B5%D0%BA\" title=\"Конь БоДжек\">Конь БоДжек</a> (2014—2020)</li>\n",
            "<li><a href=\"/wiki/%D0%9B%D0%B8%D0%BB%D0%BB%D0%B5%D1%85%D0%B0%D0%BC%D0%BC%D0%B5%D1%80_(%D1%82%D0%B5%D0%BB%D0%B5%D1%81%D0%B5%D1%80%D0%B8%D0%B0%D0%BB)\" title=\"Лиллехаммер (телесериал)\">Лиллехаммер</a> (2012—2014)</li>\n",
            "<li><a href=\"/wiki/%D0%9C%D0%B0%D1%80%D0%BA%D0%BE_%D0%9F%D0%BE%D0%BB%D0%BE_(%D1%82%D0%B5%D0%BB%D0%B5%D1%81%D0%B5%D1%80%D0%B8%D0%B0%D0%BB)\" title=\"Марко Поло (телесериал)\">Марко Поло</a> (2014—2016)</li>\n",
            "<li><a href=\"/wiki/%D0%9E%D0%B2%D0%BE%D1%89%D0%BD%D1%8B%D0%B5_%D0%B8%D1%81%D1%82%D0%BE%D1%80%D0%B8%D0%B8\" title=\"Овощные истории\">Овощные истории в доме</a> (2014—2016)</li>\n",
            "<li><a href=\"/wiki/%D0%9E%D1%80%D0%B0%D0%BD%D0%B6%D0%B5%D0%B2%D1%8B%D0%B9_%E2%80%94_%D1%85%D0%B8%D1%82_%D1%81%D0%B5%D0%B7%D0%BE%D0%BD%D0%B0\" title=\"Оранжевый — хит сезона\">Оранжевый — хит сезона</a> (2013—2019)</li>\n",
            "<li><a href=\"/wiki/%D0%A0%D1%8B%D1%86%D0%B0%D1%80%D0%B8_%C2%AB%D0%A1%D0%B8%D0%B4%D0%BE%D0%BD%D0%B8%D0%B8%C2%BB\" title=\"Рыцари «Сидонии»\">Рыцари «Сидонии»</a> (2014—2015)</li>\n",
            "<li><a href=\"/wiki/%D0%A2%D1%83%D1%80%D0%B1%D0%BE:_%D0%9C%D0%BE%D0%BB%D0%BD%D0%B8%D0%B5%D0%BD%D0%BE%D1%81%D0%BD%D0%B0%D1%8F_%D0%BA%D0%BE%D0%BC%D0%B0%D0%BD%D0%B4%D0%B0\" title=\"Турбо: Молниеносная команда\">Турбо: Молниеносная команда</a> (2013—2016)</li>\n",
            "<li><a href=\"/wiki/%D0%A5%D0%B5%D0%BC%D0%BB%D0%BE%D0%BA_%D0%93%D1%80%D0%BE%D1%83%D0%B2\" title=\"Хемлок Гроув\">Хемлок Гроув</a> (2013—2015)</li></ul>\n",
            "</div></td></tr><tr><th class=\"navbox-group\" scope=\"row\" style=\"width:1px\">Запущенные<br/>в 2015 году</th><td class=\"navbox-list navbox-even\" style=\"text-align:left;border-left-width:2px;border-left-style:solid;width:100%;padding:0px\"><div style=\"padding:0em 0.25em\">\n",
            "<ul><li><a href=\"/wiki/%D0%92%D0%BE%D1%81%D1%8C%D0%BC%D0%BE%D0%B5_%D1%87%D1%83%D0%B2%D1%81%D1%82%D0%B2%D0%BE\" title=\"Восьмое чувство\">Восьмое чувство</a> (2015—2018)</li>\n",
            "<li><a href=\"/wiki/%D0%94%D0%B6%D0%B5%D1%81%D1%81%D0%B8%D0%BA%D0%B0_%D0%94%D0%B6%D0%BE%D0%BD%D1%81_(%D1%82%D0%B5%D0%BB%D0%B5%D1%81%D0%B5%D1%80%D0%B8%D0%B0%D0%BB)\" title=\"Джессика Джонс (телесериал)\">Джессика Джонс</a> (2015—2019)</li>\n",
            "<li><a href=\"/wiki/%D0%94%D1%80%D0%B0%D0%BA%D0%BE%D0%BD%D1%8B_(%D0%BC%D1%83%D0%BB%D1%8C%D1%82%D1%81%D0%B5%D1%80%D0%B8%D0%B0%D0%BB)\" title=\"Драконы (мультсериал)\">Драконы</a> (2015—2018)</li>\n",
            "<li><a href=\"/wiki/%D0%96%D0%B0%D1%80%D0%BA%D0%BE%D0%B5_%D0%B0%D0%BC%D0%B5%D1%80%D0%B8%D0%BA%D0%B0%D0%BD%D1%81%D0%BA%D0%BE%D0%B5_%D0%BB%D0%B5%D1%82%D0%BE:_%D0%9F%D0%B5%D1%80%D0%B2%D1%8B%D0%B9_%D0%B4%D0%B5%D0%BD%D1%8C_%D0%BB%D0%B0%D0%B3%D0%B5%D1%80%D1%8F\" title=\"Жаркое американское лето: Первый день лагеря\">Жаркое американское лето: Первый день лагеря</a> (2015)</li>\n",
            "<li><a href=\"/wiki/%D0%9A%D0%BB%D1%83%D0%B1_%D0%92%D0%BE%D1%80%D0%BE%D0%BD\" title=\"Клуб Ворон\">Клуб Ворон</a> (2015—2019)</li>\n",
            "<li><a href=\"/wiki/%D0%9C%D0%B5%D0%B6%D0%B4%D1%83_(%D1%82%D0%B5%D0%BB%D0%B5%D1%81%D0%B5%D1%80%D0%B8%D0%B0%D0%BB)\" title=\"Между (телесериал)\">Между</a> (2015—2016)</li>\n",
            "<li><a href=\"/wiki/%D0%9D%D0%B0%D1%80%D0%BA%D0%BE_(%D1%82%D0%B5%D0%BB%D0%B5%D1%81%D0%B5%D1%80%D0%B8%D0%B0%D0%BB)\" title=\"Нарко (телесериал)\">Нарко</a> (2015—2017)</li>\n",
            "<li><a href=\"/wiki/%D0%9D%D0%B5%D1%81%D0%B3%D0%B8%D0%B1%D0%B0%D0%B5%D0%BC%D0%B0%D1%8F_%D0%9A%D0%B8%D0%BC%D0%BC%D0%B8_%D0%A8%D0%BC%D0%B8%D0%B4%D1%82\" title=\"Несгибаемая Кимми Шмидт\">Несгибаемая Кимми Шмидт</a> (2015—2019)</li>\n",
            "<li><a href=\"/wiki/%D0%9F%D1%80%D0%B8%D0%BA%D0%BB%D1%8E%D1%87%D0%B5%D0%BD%D0%B8%D1%8F_%D0%9A%D0%BE%D1%82%D0%B0_%D0%B2_%D1%81%D0%B0%D0%BF%D0%BE%D0%B3%D0%B0%D1%85\" title=\"Приключения Кота в сапогах\">Приключения Кота в сапогах</a> (2015—2018)</li>\n",
            "<li><a href=\"/wiki/%D0%A0%D0%BE%D0%B4%D0%BE%D1%81%D0%BB%D0%BE%D0%B2%D0%BD%D0%B0%D1%8F_(%D1%82%D0%B5%D0%BB%D0%B5%D1%81%D0%B5%D1%80%D0%B8%D0%B0%D0%BB)\" title=\"Родословная (телесериал)\">Родословная</a> (2015—2017)</li>\n",
            "<li><a href=\"/wiki/%D0%A1%D0%B5%D0%BC%D0%B5%D0%B9%D0%BA%D0%B0_%D0%9A%D1%80%D1%83%D0%B4%D1%81._%D0%9D%D0%B0%D1%87%D0%B0%D0%BB%D0%BE\" title=\"Семейка Крудс. Начало\">Семейка Крудс. Начало</a> (2015—2017)</li>\n",
            "<li><a href=\"/wiki/%D0%A1%D0%BE%D0%B7%D0%B4%D0%B0%D0%B2%D0%B0%D1%8F_%D1%83%D0%B1%D0%B8%D0%B9%D1%86%D1%83\" title=\"Создавая убийцу\">Создавая убийцу</a> (2015—2018)</li>\n",
            "<li><a href=\"/wiki/%D0%A1%D0%BE%D1%80%D0%B2%D0%B8%D0%B3%D0%BE%D0%BB%D0%BE%D0%B2%D0%B0_(%D1%82%D0%B5%D0%BB%D0%B5%D1%81%D0%B5%D1%80%D0%B8%D0%B0%D0%BB)\" title=\"Сорвиголова (телесериал)\">Сорвиголова</a> (2015—2018)</li></ul>\n",
            "</div></td></tr><tr><th class=\"navbox-group\" scope=\"row\" style=\"width:1px\">Запущенные<br/>в 2016 году</th><td class=\"navbox-list navbox-odd\" style=\"text-align:left;border-left-width:2px;border-left-style:solid;width:100%;padding:0px\"><div style=\"padding:0em 0.25em\">\n",
            "<ul><li><a href=\"/wiki/3%25\" title=\"3%\">3%</a> (2016—2020)</li>\n",
            "<li><a href=\"/wiki/%D0%91%D0%B5%D0%B7%D0%B1%D0%B0%D1%88%D0%B5%D0%BD%D0%BD%D1%8B%D0%B5\" title=\"Безбашенные\">Безбашенные</a> (2016)</li>\n",
            "<li><a href=\"/wiki/%D0%91%D0%BE%D0%BB%D0%B5%D0%B5_%D0%BF%D0%BE%D0%BB%D0%BD%D1%8B%D0%B9_%D0%B4%D0%BE%D0%BC\" title=\"Более полный дом\">Более полный дом</a> (2016—2020)</li>\n",
            "<li><a href=\"/wiki/%D0%92%D0%BE%D0%BB%D1%8C%D1%82%D1%80%D0%BE%D0%BD:_%D0%9B%D0%B5%D0%B3%D0%B5%D0%BD%D0%B4%D0%B0%D1%80%D0%BD%D1%8B%D0%B9_%D0%B7%D0%B0%D1%89%D0%B8%D1%82%D0%BD%D0%B8%D0%BA\" title=\"Вольтрон: Легендарный защитник\">Вольтрон: Легендарный защитник</a> (2016—2018)</li>\n",
            "<li><a href=\"/wiki/%D0%94%D0%B5%D0%B3%D1%80%D0%B0%D1%81%D1%81%D0%B8:_%D0%9D%D0%BE%D0%B2%D1%8B%D0%B9_%D0%BA%D0%BB%D0%B0%D1%81%D1%81\" title=\"Деграсси: Новый класс\">Деграсси: Новый класс</a> (2016—2017)</li>\n",
            "<li><a href=\"/wiki/%D0%9B%D1%8E%D0%B1%D0%BE%D0%B2%D1%8C_(%D1%82%D0%B5%D0%BB%D0%B5%D1%81%D0%B5%D1%80%D0%B8%D0%B0%D0%BB)\" title=\"Любовь (телесериал)\">Любовь</a> (2016—2018)</li>\n",
            "<li><a href=\"/wiki/%D0%9B%D1%8E%D0%BA_%D0%9A%D0%B5%D0%B9%D0%B4%D0%B6_(%D1%82%D0%B5%D0%BB%D0%B5%D1%81%D0%B5%D1%80%D0%B8%D0%B0%D0%BB)\" title=\"Люк Кейдж (телесериал)\">Люк Кейдж</a> (2016—2018)</li>\n",
            "<li><a href=\"/wiki/%D0%9C%D0%B0%D1%80%D1%81%D0%B5%D0%BB%D1%8C_(%D1%82%D0%B5%D0%BB%D0%B5%D1%81%D0%B5%D1%80%D0%B8%D0%B0%D0%BB)\" title=\"Марсель (телесериал)\">Марсель</a> (2016—2018)</li>\n",
            "<li><a href=\"/wiki/%D0%9C%D0%B8%D1%80_%D0%92%D0%B8%D0%BD%D0%BA%D1%81\" title=\"Мир Винкс\">Мир Винкс</a> (2016—2017)</li>\n",
            "<li><a href=\"/wiki/%D0%9E%D0%90_(%D1%82%D0%B5%D0%BB%D0%B5%D1%81%D0%B5%D1%80%D0%B8%D0%B0%D0%BB)\" title=\"ОА (телесериал)\">ОА</a> (2016—2019)</li>\n",
            "<li><a href=\"/wiki/%D0%9E%D1%82%D0%B6%D0%B8%D0%B3_(%D1%82%D0%B5%D0%BB%D0%B5%D1%81%D0%B5%D1%80%D0%B8%D0%B0%D0%BB)\" title=\"Отжиг (телесериал)\">Отжиг</a> (2016—2017)</li>\n",
            "<li><a href=\"/wiki/%D0%9E%D1%85%D0%BE%D1%82%D0%BD%D0%B8%D0%BA%D0%B8_%D0%BD%D0%B0_%D1%82%D1%80%D0%BE%D0%BB%D0%BB%D0%B5%D0%B9:_%D0%98%D1%81%D1%82%D0%BE%D1%80%D0%B8%D0%B8_%D0%90%D1%80%D0%BA%D0%B0%D0%B4%D0%B8%D0%B8\" title=\"Охотники на троллей: Истории Аркадии\">Охотники на троллей: Истории Аркадии</a> (2016—2018)</li>\n",
            "<li><a href=\"/wiki/%D0%9F%D0%B0%D1%80%D0%B0%D0%BD%D0%BE%D0%B8%D0%BA_(%D1%82%D0%B5%D0%BB%D0%B5%D1%81%D0%B5%D1%80%D0%B8%D0%B0%D0%BB)\" title=\"Параноик (телесериал)\">Параноик</a> (2016)</li>\n",
            "<li><a href=\"/wiki/%D0%9F%D1%80%D0%BE%D1%89%D0%B5_%D0%BF%D1%80%D0%BE%D1%81%D1%82%D0%BE%D0%B3%D0%BE\" title=\"Проще простого\">Проще простого</a> (2016—2019)</li>\n",
            "<li><a href=\"/wiki/%D0%9F%D1%83%D1%82%D0%B5%D1%88%D0%B5%D1%81%D1%82%D0%B2%D0%B5%D0%BD%D0%BD%D0%B8%D0%BA%D0%B8\" title=\"Путешественники\">Путешественники</a> (2016—2018)</li>\n",
            "<li><a href=\"/wiki/%D0%A0%D0%B0%D0%BD%D1%87%D0%BE_(%D1%82%D0%B5%D0%BB%D0%B5%D1%81%D0%B5%D1%80%D0%B8%D0%B0%D0%BB)\" title=\"Ранчо (телесериал)\">Ранчо</a> (2016—2020)</li>\n",
            "<li><a href=\"/wiki/%D0%A1_%D1%87%D0%B8%D1%81%D1%82%D0%BE%D0%B3%D0%BE_%D0%BB%D0%B8%D1%81%D1%82%D0%B0_(%D1%82%D0%B5%D0%BB%D0%B5%D1%81%D0%B5%D1%80%D0%B8%D0%B0%D0%BB)\" title=\"С чистого листа (телесериал)\">С чистого листа</a> (2016—2017)</li>\n",
            "<li><a href=\"/wiki/%D0%A5%D0%BE%D0%BB%D0%B8%D1%81%D1%82%D0%B8%D1%87%D0%B5%D1%81%D0%BA%D0%BE%D0%B5_%D0%B4%D0%B5%D1%82%D0%B5%D0%BA%D1%82%D0%B8%D0%B2%D0%BD%D0%BE%D0%B5_%D0%B0%D0%B3%D0%B5%D0%BD%D1%82%D1%81%D1%82%D0%B2%D0%BE_%D0%94%D0%B8%D1%80%D0%BA%D0%B0_%D0%94%D0%B6%D0%B5%D0%BD%D1%82%D0%BB%D0%B8_(%D1%82%D0%B5%D0%BB%D0%B5%D1%81%D0%B5%D1%80%D0%B8%D0%B0%D0%BB)\" title=\"Холистическое детективное агентство Дирка Джентли (телесериал)\">Холистическое детективное агентство Дирка Джентли</a> (2016—2017)</li></ul>\n",
            "</div></td></tr><tr><th class=\"navbox-group\" scope=\"row\" style=\"width:1px\">Запущенные<br/>в 2017 году</th><td class=\"navbox-list navbox-even\" style=\"text-align:left;border-left-width:2px;border-left-style:solid;width:100%;padding:0px\"><div style=\"padding:0em 0.25em\">\n",
            "<ul><li><a href=\"/wiki/13_%D0%BF%D1%80%D0%B8%D1%87%D0%B8%D0%BD_%D0%BF%D0%BE%D1%87%D0%B5%D0%BC%D1%83\" title=\"13 причин почему\">13 причин почему</a> (2017—2020)</li>\n",
            "<li><a href=\"/wiki/%D0%90%D0%B1%D1%81%D1%82%D1%80%D0%B0%D0%BA%D1%86%D0%B8%D1%8F:_%D0%98%D1%81%D0%BA%D1%83%D1%81%D1%81%D1%82%D0%B2%D0%BE_%D0%B4%D0%B8%D0%B7%D0%B0%D0%B9%D0%BD%D0%B0\" title=\"Абстракция: Искусство дизайна\">Абстракция: Искусство дизайна</a> (2017)</li>\n",
            "<li><a href=\"/wiki/%D0%90%D0%BC%D0%B5%D1%80%D0%B8%D0%BA%D0%B0%D0%BD%D1%81%D0%BA%D0%B8%D0%B9_%D0%B2%D0%B0%D0%BD%D0%B4%D0%B0%D0%BB\" title=\"Американский вандал\">Американский вандал</a> (2017—2018)</li>\n",
            "<li><a href=\"/wiki/%D0%91%D0%BB%D0%B5%D1%81%D0%BA_(%D1%82%D0%B5%D0%BB%D0%B5%D1%81%D0%B5%D1%80%D0%B8%D0%B0%D0%BB)\" title=\"Блеск (телесериал)\">Блеск</a> (2017—2019)</li>\n",
            "<li><a href=\"/wiki/%D0%94%D0%B8%D0%B5%D1%82%D0%B0_%D0%B8%D0%B7_%D0%A1%D0%B0%D0%BD%D1%82%D0%B0-%D0%9A%D0%BB%D0%B0%D1%80%D0%B8%D1%82%D1%8B\" title=\"Диета из Санта-Клариты\">Диета из Санта-Клариты</a> (2017—2019)</li>\n",
            "<li><a href=\"/wiki/%D0%94%D1%80%D1%83%D0%B7%D1%8C%D1%8F_%D1%81_%D0%BA%D0%BE%D0%BB%D0%BB%D0%B5%D0%B4%D0%B6%D0%B0\" title=\"Друзья с колледжа\">Друзья с колледжа</a> (2017—2019)</li>\n",
            "<li><a href=\"/wiki/%D0%95%D0%B9_%D1%8D%D1%82%D0%BE_%D0%BD%D1%83%D0%B6%D0%BD%D0%BE_%D0%BF%D0%BE%D0%B7%D0%B0%D1%80%D0%B5%D0%B7_(%D1%82%D0%B5%D0%BB%D0%B5%D1%81%D0%B5%D1%80%D0%B8%D0%B0%D0%BB)\" title=\"Ей это нужно позарез (телесериал)\">Ей это нужно позарез</a> (2017—2019)</li>\n",
            "<li><a href=\"/wiki/%D0%96%D0%B0%D1%80%D0%BA%D0%BE%D0%B5_%D0%B0%D0%BC%D0%B5%D1%80%D0%B8%D0%BA%D0%B0%D0%BD%D1%81%D0%BA%D0%BE%D0%B5_%D0%BB%D0%B5%D1%82%D0%BE:_10_%D0%BB%D0%B5%D1%82_%D1%81%D0%BF%D1%83%D1%81%D1%82%D1%8F\" title=\"Жаркое американское лето: 10 лет спустя\">Жаркое американское лето: 10 лет спустя</a> (2017)</li>\n",
            "<li><a href=\"/wiki/%D0%96%D0%B5%D0%BB%D0%B5%D0%B7%D0%BD%D1%8B%D0%B9_%D0%BA%D1%83%D0%BB%D0%B0%D0%BA_(%D1%82%D0%B5%D0%BB%D0%B5%D1%81%D0%B5%D1%80%D0%B8%D0%B0%D0%BB)\" title=\"Железный кулак (телесериал)\">Железный кулак</a> (2017—2018)</li>\n",
            "<li><a href=\"/wiki/%D0%97%D0%B0%D0%B1%D1%8B%D1%82%D1%8B%D0%B5_%D0%91%D0%BE%D0%B3%D0%BE%D0%BC\" title=\"Забытые Богом\">Забытые Богом</a> (2017)</li>\n",
            "<li><a href=\"/wiki/%D0%97%D0%B0%D1%89%D0%B8%D1%82%D0%BD%D0%B8%D0%BA%D0%B8_(%D1%82%D0%B5%D0%BB%D0%B5%D1%81%D0%B5%D1%80%D0%B8%D0%B0%D0%BB,_2017)\" title=\"Защитники (телесериал, 2017)\">Защитники</a> (2017)</li>\n",
            "<li><a href=\"/wiki/%D0%9A%D0%B0%D1%80%D0%B0%D1%82%D0%B5%D0%BB%D1%8C_(%D1%82%D0%B5%D0%BB%D0%B5%D1%81%D0%B5%D1%80%D0%B8%D0%B0%D0%BB)\" title=\"Каратель (телесериал)\">Каратель</a> (2017—2019)</li>\n",
            "<li><a href=\"/wiki/%D0%9A%D0%B0%D1%81%D1%82%D0%BB%D0%B2%D0%B0%D0%BD%D0%B8%D1%8F\" title=\"Кастлвания\">Кастлвания</a> (2017—2021)</li>\n",
            "<li><a href=\"/wiki/%D0%9A%D0%BE%D0%BD%D0%B5%D1%86_***%D0%B3%D0%BE_%D0%BC%D0%B8%D1%80%D0%B0\" title=\"Конец ***го мира\">Конец ***го мира</a> (2017—2019)</li>\n",
            "<li><a href=\"/wiki/%D0%9B%D0%B5%D0%BC%D0%BE%D0%BD%D0%B8_%D0%A1%D0%BD%D0%B8%D0%BA%D0%B5%D1%82:_33_%D0%BD%D0%B5%D1%81%D1%87%D0%B0%D1%81%D1%82%D1%8C%D1%8F_(%D1%82%D0%B5%D0%BB%D0%B5%D1%81%D0%B5%D1%80%D0%B8%D0%B0%D0%BB)\" title=\"Лемони Сникет: 33 несчастья (телесериал)\">Лемони Сникет: 33 несчастья</a> (2017—2019)</li>\n",
            "<li><a href=\"/wiki/%D0%9D%D0%B0%D1%87%D0%B0%D0%BB%D1%8C%D0%BD%D0%B8%D1%86%D0%B0\" title=\"Начальница\">Начальница</a> (2017)</li>\n",
            "<li><a href=\"/wiki/%D0%9D%D0%B5%D0%BE_%D0%99%D0%BE%D0%BA%D0%B8%D0%BE\" title=\"Нео Йокио\">Нео Йокио</a> (2017)</li>\n",
            "<li><a href=\"/wiki/%D0%9D%D0%B5%D1%82%D0%B8%D0%BF%D0%B8%D1%87%D0%BD%D1%8B%D0%B9\" title=\"Нетипичный\">Нетипичный</a> (2017—2021)</li>\n",
            "<li><a href=\"/wiki/%D0%9D%D0%B5%D1%83%D0%BF%D1%80%D0%B0%D0%B2%D0%BB%D1%8F%D0%B5%D0%BC%D0%B0%D1%8F\" title=\"Неуправляемая\">Неуправляемая</a> (2017—2018)</li>\n",
            "<li><a href=\"/wiki/%D0%9E%D0%B4%D0%BD%D0%B0%D0%B6%D0%B4%D1%8B_%D0%B7%D0%B0_%D0%BE%D0%B4%D0%B8%D0%BD_%D1%80%D0%B0%D0%B7_(%D1%82%D0%B5%D0%BB%D0%B5%D1%81%D0%B5%D1%80%D0%B8%D0%B0%D0%BB,_2017)\" title=\"Однажды за один раз (телесериал, 2017)\">Однажды за один раз</a> (2017—2019)</li>\n",
            "<li><a href=\"/wiki/%D0%9E%D0%B2%D0%BE%D1%89%D0%BD%D1%8B%D0%B5_%D0%B8%D1%81%D1%82%D0%BE%D1%80%D0%B8%D0%B8\" title=\"Овощные истории\">Овощные истории в городе</a> (2017)</li>\n",
            "<li><a href=\"/wiki/%D0%9E%D0%BD%D0%B0_%D0%B6%D0%B5_%D0%93%D1%80%D1%8D%D0%B9%D1%81\" title=\"Она же Грэйс\">Она же Грэйс</a> (2017)</li>\n",
            "<li><a href=\"/wiki/%D0%9E%D1%85%D0%BE%D1%82%D0%BD%D0%B8%D0%BA_%D0%B7%D0%B0_%D1%80%D0%B0%D0%B7%D1%83%D0%BC%D0%BE%D0%BC\" title=\"Охотник за разумом\">Охотник за разумом</a> (2017—2019)</li>\n",
            "<li><a href=\"/wiki/%D0%9F%D1%80%D0%BE%D0%BA%D0%BB%D1%8F%D1%82%D0%B8%D0%B5_(%D1%82%D0%B5%D0%BB%D0%B5%D1%81%D0%B5%D1%80%D0%B8%D0%B0%D0%BB,_2017)\" title=\"Проклятие (телесериал, 2017)\">Проклятие</a> (2017—2018)</li>\n",
            "<li><a href=\"/wiki/%D0%A0%D0%B0%D1%81%D0%BA%D0%BE%D1%81%D1%8F%D1%87%D0%B5%D0%BD%D0%BD%D1%8B%D0%B5\" title=\"Раскосяченные\">Раскосяченные</a> (2017—2018)</li>\n",
            "<li><a href=\"/wiki/%D0%A1%D0%B0%D0%BC%D0%B0%D1%8F_%D0%BF%D0%BB%D0%BE%D1%85%D0%B0%D1%8F_%D0%B2%D0%B5%D0%B4%D1%8C%D0%BC%D0%B0_(%D1%82%D0%B5%D0%BB%D0%B5%D1%81%D0%B5%D1%80%D0%B8%D0%B0%D0%BB,_2017)\" title=\"Самая плохая ведьма (телесериал, 2017)\">Самая плохая ведьма</a> (2017—2020)</li>\n",
            "<li><a href=\"/wiki/%D0%A1%D0%BF%D0%B8%D1%80%D0%B8%D1%82:_%D0%94%D1%83%D1%85_%D1%81%D0%B2%D0%BE%D0%B1%D0%BE%D0%B4%D1%8B\" title=\"Спирит: Дух свободы\">Спирит: Дух свободы</a> (2017—2019)</li>\n",
            "<li><a href=\"/wiki/%D0%A1%D1%83%D0%B1%D1%83%D1%80%D0%B0_(%D1%82%D0%B5%D0%BB%D0%B5%D1%81%D0%B5%D1%80%D0%B8%D0%B0%D0%BB)\" title=\"Субура (телесериал)\">Субура</a> (2017—2020)</li>\n",
            "<li><a href=\"/wiki/%D0%A2%D0%B5%D0%BB%D0%B5%D1%84%D0%BE%D0%BD%D0%B8%D1%81%D1%82%D0%BA%D0%B8\" title=\"Телефонистки\">Телефонистки</a> (2017—2020)</li>\n",
            "<li><a href=\"/wiki/%D0%A2%D1%8C%D0%BC%D0%B0_(%D1%82%D0%B5%D0%BB%D0%B5%D1%81%D0%B5%D1%80%D0%B8%D0%B0%D0%BB)\" title=\"Тьма (телесериал)\">Тьма</a> (2017—2020)</li>\n",
            "<li><a href=\"/wiki/%D0%A3%D0%BE%D1%80%D0%BC%D0%B2%D1%83%D0%B4\" title=\"Уормвуд\">Уормвуд</a> (2017)</li>\n",
            "<li><a href=\"/wiki/%D0%A6%D1%8B%D0%B3%D0%B0%D0%BD%D0%BA%D0%B0_(%D1%82%D0%B5%D0%BB%D0%B5%D1%81%D0%B5%D1%80%D0%B8%D0%B0%D0%BB)\" title=\"Цыганка (телесериал)\">Цыганка</a> (2017)</li>\n",
            "<li><a href=\"/wiki/%D0%AD%D0%BB%D1%8C_%D0%A7%D0%B0%D0%BF%D0%BE_(%D1%82%D0%B5%D0%BB%D0%B5%D1%81%D0%B5%D1%80%D0%B8%D0%B0%D0%BB)\" title=\"Эль Чапо (телесериал)\">Эль Чапо</a> (2017—2018)</li>\n",
            "<li><a href=\"/wiki/%D0%AD%D0%BD%D0%BD_(%D1%82%D0%B5%D0%BB%D0%B5%D1%81%D0%B5%D1%80%D0%B8%D0%B0%D0%BB)\" title=\"Энн (телесериал)\">Энн</a> (2017—2020)</li></ul>\n",
            "</div></td></tr><tr><th class=\"navbox-group\" scope=\"row\" style=\"width:1px\">Запущенные<br/>в 2018 году</th><td class=\"navbox-list navbox-odd\" style=\"text-align:left;border-left-width:2px;border-left-style:solid;width:100%;padding:0px\"><div style=\"padding:0em 0.25em\">\n",
            "<ul><li><a href=\"/wiki/1983_(%D1%82%D0%B5%D0%BB%D0%B5%D1%81%D0%B5%D1%80%D0%B8%D0%B0%D0%BB)\" title=\"1983 (телесериал)\">1983</a> (2018)</li>\n",
            "<li><a href=\"/wiki/%D0%91%D0%B5%D0%B7%D0%BE%D0%BF%D0%B0%D1%81%D0%BD%D0%BE%D1%81%D1%82%D1%8C_(%D1%82%D0%B5%D0%BB%D0%B5%D1%81%D0%B5%D1%80%D0%B8%D0%B0%D0%BB,_%D0%92%D0%B5%D0%BB%D0%B8%D0%BA%D0%BE%D0%B1%D1%80%D0%B8%D1%82%D0%B0%D0%BD%D0%B8%D1%8F)\" title=\"Безопасность (телесериал, Великобритания)\">Безопасность</a> (2018)</li>\n",
            "<li><a href=\"/wiki/%D0%91%D0%B5%D1%80%D0%BB%D0%B8%D0%BD%D1%81%D0%BA%D0%B8%D0%B5_%D0%BB%D0%B5%D0%B3%D0%B0%D0%B2%D1%8B%D0%B5\" title=\"Берлинские легавые\">Берлинские легавые</a> (2018)</li>\n",
            "<li><a href=\"/wiki/%D0%92%D0%B8%D0%B4%D0%BE%D0%B8%D0%B7%D0%BC%D0%B5%D0%BD%D1%91%D0%BD%D0%BD%D1%8B%D0%B9_%D1%83%D0%B3%D0%BB%D0%B5%D1%80%D0%BE%D0%B4\" title=\"Видоизменённый углерод\">Видоизменённый углерод</a> (2018—2020)</li>\n",
            "<li><a href=\"/wiki/%D0%93%D0%BE%D1%80%D0%BE%D0%B4_%D0%BF%D1%80%D0%B8%D0%BB%D0%B8%D0%B2%D0%BE%D0%B2\" title=\"Город приливов\">Город приливов</a> (2018)</li>\n",
            "<li><a href=\"/wiki/%D0%94%D0%B5%D0%B2%D0%B8%D1%87%D1%8C%D0%B8_%D1%81%D0%B5%D0%BA%D1%80%D0%B5%D1%82%D1%8B_(%D1%82%D0%B5%D0%BB%D0%B5%D1%81%D0%B5%D1%80%D0%B8%D0%B0%D0%BB)\" title=\"Девичьи секреты (телесериал)\">Девичьи секреты</a> (2018—2020)</li>\n",
            "<li><a href=\"/wiki/%D0%94%D0%BE%D0%B6%D0%B4%D1%8C_(%D1%82%D0%B5%D0%BB%D0%B5%D1%81%D0%B5%D1%80%D0%B8%D0%B0%D0%BB)\" title=\"Дождь (телесериал)\">Дождь</a> (2018—2020)</li>\n",
            "<li><a href=\"/wiki/%D0%9B%D0%B5%D0%B4%D0%B5%D0%BD%D1%8F%D1%89%D0%B8%D0%B5_%D0%B4%D1%83%D1%88%D1%83_%D0%BF%D1%80%D0%B8%D0%BA%D0%BB%D1%8E%D1%87%D0%B5%D0%BD%D0%B8%D1%8F_%D0%A1%D0%B0%D0%B1%D1%80%D0%B8%D0%BD%D1%8B\" title=\"Леденящие душу приключения Сабрины\">Леденящие душу приключения Сабрины</a> (2018—2020)</li>\n",
            "<li><a href=\"/wiki/%D0%9B%D0%BE%D1%89%D0%B8%D0%BD%D0%B0_(%D0%BC%D1%83%D0%BB%D1%8C%D1%82%D1%81%D0%B5%D1%80%D0%B8%D0%B0%D0%BB)\" title=\"Лощина (мультсериал)\">Лощина</a> (2018—2020)</li>\n",
            "<li><a href=\"/wiki/%D0%9C%D0%B0%D0%BD%D1%8C%D1%8F%D0%BA_(%D1%82%D0%B5%D0%BB%D0%B5%D1%81%D0%B5%D1%80%D0%B8%D0%B0%D0%BB)\" title=\"Маньяк (телесериал)\">Маньяк</a> (2018)</li>\n",
            "<li><a href=\"/wiki/%D0%9C%D0%B5%D1%82%D0%BE%D0%B4_%D0%9A%D0%BE%D0%BC%D0%B8%D0%BD%D1%81%D0%BA%D0%B8\" title=\"Метод Комински\">Метод Комински</a> (2018—2021)</li>\n",
            "<li><a href=\"/wiki/%D0%9D%D0%B0%D1%80%D0%BA%D0%BE:_%D0%9C%D0%B5%D0%BA%D1%81%D0%B8%D0%BA%D0%B0\" title=\"Нарко: Мексика\">Нарко: Мексика</a> (2018—2021)</li>\n",
            "<li><a href=\"/wiki/%D0%9D%D0%B5%D0%BD%D0%B0%D1%81%D1%8B%D1%82%D0%BD%D0%B0%D1%8F_(%D1%82%D0%B5%D0%BB%D0%B5%D1%81%D0%B5%D1%80%D0%B8%D0%B0%D0%BB)\" title=\"Ненасытная (телесериал)\">Ненасытная</a> (2018—2019)</li>\n",
            "<li><a href=\"/wiki/%D0%9D%D0%B5%D1%87%D0%B8%D1%81%D1%82%D1%8B%D0%B5_%D0%B4%D0%B5%D0%BD%D1%8C%D0%B3%D0%B8\" title=\"Нечистые деньги\">Нечистые деньги</a> (2018—2020)</li>\n",
            "<li><a href=\"/wiki/%D0%9E%D0%B1%D0%B8%D1%82%D0%B0%D1%82%D0%B5%D0%BB%D0%B8_%D1%85%D0%BE%D0%BB%D0%BC%D0%BE%D0%B2_(%D0%BC%D0%B8%D0%BD%D0%B8-%D1%81%D0%B5%D1%80%D0%B8%D0%B0%D0%BB)\" title=\"Обитатели холмов (мини-сериал)\">Обитатели холмов</a> (2018)</li>\n",
            "<li><a href=\"/wiki/%D0%9F%D0%B0%D0%B4%D0%B5%D0%BD%D0%B8%D0%B5_%D0%A2%D1%80%D0%BE%D0%B8_(%D0%BC%D0%B8%D0%BD%D0%B8-%D1%81%D0%B5%D1%80%D0%B8%D0%B0%D0%BB)\" title=\"Падение Трои (мини-сериал)\">Падение Трои</a> (2018)</li>\n",
            "<li><a href=\"/wiki/%D0%9F%D1%80%D0%B8%D0%B7%D1%80%D0%B0%D0%BA_%D0%B4%D0%BE%D0%BC%D0%B0_%D0%BD%D0%B0_%D1%85%D0%BE%D0%BB%D0%BC%D0%B5_(%D1%82%D0%B5%D0%BB%D0%B5%D1%81%D0%B5%D1%80%D0%B8%D0%B0%D0%BB)\" title=\"Призрак дома на холме (телесериал)\">Призрак дома на холме</a> (2018)</li>\n",
            "<li><a href=\"/wiki/%D0%A1%D0%B0%D0%BA%D1%80%D0%B0%D0%BB%D1%8C%D0%BD%D1%8B%D0%B5_%D0%B8%D0%B3%D1%80%D1%8B_(%D1%82%D0%B5%D0%BB%D0%B5%D1%81%D0%B5%D1%80%D0%B8%D0%B0%D0%BB)\" title=\"Сакральные игры (телесериал)\">Сакральные игры</a> (2018—2019)</li>\n",
            "<li><a href=\"/wiki/%D0%A1%D0%B5%D0%BC%D1%8C_%D1%81%D0%B5%D0%BA%D1%83%D0%BD%D0%B4_(%D1%82%D0%B5%D0%BB%D0%B5%D1%81%D0%B5%D1%80%D0%B8%D0%B0%D0%BB)\" title=\"Семь секунд (телесериал)\">Семь секунд</a> (2018)</li>\n",
            "<li><a href=\"/wiki/%D0%A1%D1%83%D0%BF%D0%B5%D1%80%D0%B3%D0%B5%D1%80%D0%BE%D0%B8_%D0%BD%D0%B0_%D1%88%D0%BF%D0%B8%D0%BB%D1%8C%D0%BA%D0%B0%D1%85\" title=\"Супергерои на шпильках\">Супергерои на шпильках</a> (2018)</li>\n",
            "<li><a href=\"/wiki/%D0%A2%D1%80%D0%BE%D0%B5_%D1%81_%D0%BD%D0%B5%D0%B1%D0%B5%D1%81:_%D0%98%D1%81%D1%82%D0%BE%D1%80%D0%B8%D0%B8_%D0%90%D1%80%D0%BA%D0%B0%D0%B4%D0%B8%D0%B8\" title=\"Трое с небес: Истории Аркадии\">Трое с небес: Истории Аркадии</a> (2018—2019)</li>\n",
            "<li><a href=\"/wiki/%D0%A2%D1%80%D0%BE%D0%BB%D0%BB%D0%B8_(%D0%BC%D1%83%D0%BB%D1%8C%D1%82%D1%81%D0%B5%D1%80%D0%B8%D0%B0%D0%BB)\" title=\"Тролли (мультсериал)\">Тролли</a> (2018—2019)</li>\n",
            "<li><a href=\"/wiki/%D0%A8%D0%B8-%D0%A0%D0%B0_%D0%B8_%D0%BD%D0%B5%D0%BF%D0%BE%D0%B1%D0%B5%D0%B4%D0%B8%D0%BC%D1%8B%D0%B5_%D0%BF%D1%80%D0%B8%D0%BD%D1%86%D0%B5%D1%81%D1%81%D1%8B\" title=\"Ши-Ра и непобедимые принцессы\">Ши-Ра и непобедимые принцессы</a> (2018—2020)</li>\n",
            "<li><a href=\"/wiki/Devilman:_Crybaby\" title=\"Devilman: Crybaby\">Devilman: Crybaby</a> (2018)</li>\n",
            "<li><a href=\"/wiki/Lost_Song\" title=\"Lost Song\">Lost Song</a> (2018)</li>\n",
            "<li><a href=\"/wiki/Sword_Gai\" title=\"Sword Gai\">Sword Gai</a> (2018)</li></ul>\n",
            "</div></td></tr><tr><td class=\"navbox-abovebelow\" colspan=\"2\"><div>\n",
            "<ul><li><a class=\"image\" href=\"/wiki/%D0%A4%D0%B0%D0%B9%D0%BB:Symbol_template_class.svg\" title=\"Шаблон\"><img alt=\"Шаблон\" data-file-height=\"185\" data-file-width=\"180\" decoding=\"async\" height=\"16\" src=\"//upload.wikimedia.org/wikipedia/commons/thumb/5/5c/Symbol_template_class.svg/16px-Symbol_template_class.svg.png\" srcset=\"//upload.wikimedia.org/wikipedia/commons/thumb/5/5c/Symbol_template_class.svg/24px-Symbol_template_class.svg.png 1.5x, //upload.wikimedia.org/wikipedia/commons/thumb/5/5c/Symbol_template_class.svg/32px-Symbol_template_class.svg.png 2x\" width=\"16\"/></a> <b><a href=\"/wiki/%D0%A8%D0%B0%D0%B1%D0%BB%D0%BE%D0%BD:Netflix\" title=\"Шаблон:Netflix\">Netflix</a></b></li>\n",
            "<li><b><a href=\"/wiki/%D0%A8%D0%B0%D0%B1%D0%BB%D0%BE%D0%BD:NetflixFilms\" title=\"Шаблон:NetflixFilms\">Фильмы</a></b></li>\n",
            "<li><b><a href=\"/wiki/%D0%A8%D0%B0%D0%B1%D0%BB%D0%BE%D0%BD:%D0%A2%D0%B5%D0%BA%D1%83%D1%89%D0%B8%D0%B5_%D1%81%D0%B5%D1%80%D0%B8%D0%B0%D0%BB%D1%8B_Netflix\" title=\"Шаблон:Текущие сериалы Netflix\">Текущие сериалы</a></b></li>\n",
            "<li><b><a href=\"/wiki/%D0%A8%D0%B0%D0%B1%D0%BB%D0%BE%D0%BD:%D0%97%D0%B0%D0%B2%D0%B5%D1%80%D1%88%D1%91%D0%BD%D0%BD%D1%8B%D0%B5_%D1%81%D0%B5%D1%80%D0%B8%D0%B0%D0%BB%D1%8B_Netflix_(%D1%81_2019_%D0%B3%D0%BE%D0%B4%D0%B0)\" title=\"Шаблон:Завершённые сериалы Netflix (с 2019 года)\">Завершённые сериалы (с 2019 года)</a></b></li>\n",
            "<li><b><a href=\"/wiki/%D0%A8%D0%B0%D0%B1%D0%BB%D0%BE%D0%BD:%D0%92%D0%BE%D0%B7%D1%80%D0%BE%D0%B6%D0%B4%D1%91%D0%BD%D0%BD%D1%8B%D0%B5_%D1%81%D0%B5%D1%80%D0%B8%D0%B0%D0%BB%D1%8B_Netflix\" title=\"Шаблон:Возрождённые сериалы Netflix\">Возрождённые сериалы</a></b></li>\n",
            "<li><b><a href=\"/wiki/%D0%A8%D0%B0%D0%B1%D0%BB%D0%BE%D0%BD:%D0%9F%D1%80%D0%B5%D0%B4%D1%81%D1%82%D0%BE%D1%8F%D1%89%D0%B8%D0%B5_%D1%81%D0%B5%D1%80%D0%B8%D0%B0%D0%BB%D1%8B_Netflix\" title=\"Шаблон:Предстоящие сериалы Netflix\">Предстоящие сериалы</a></b></li></ul>\n",
            "</div></td></tr></tbody></table></div>\n",
            "<div aria-labelledby=\"Оригинальные_фильмы_Netflix\" class=\"navbox\" data-name=\"NetflixFilms\" role=\"navigation\"><table class=\"nowraplinks collapsible collapsed navbox-inner\" style=\"border-spacing:0;background:transparent;color:inherit\"><tbody><tr><th class=\"navbox-title\" colspan=\"2\" scope=\"colgroup\"><span class=\"navbox-gear\" style=\"float:left;text-align:left;width:5em;margin-right:0.5em\"><a href=\"/wiki/%D0%A8%D0%B0%D0%B1%D0%BB%D0%BE%D0%BD:NetflixFilms\" title=\"Перейти к шаблону «NetflixFilms»\"><img alt=\"Перейти к шаблону «NetflixFilms»\" class=\"noprint\" data-file-height=\"14\" data-file-width=\"14\" decoding=\"async\" height=\"14\" src=\"//upload.wikimedia.org/wikipedia/commons/thumb/c/c9/Wikipedia_interwiki_section_gear_icon.svg/14px-Wikipedia_interwiki_section_gear_icon.svg.png\" srcset=\"//upload.wikimedia.org/wikipedia/commons/thumb/c/c9/Wikipedia_interwiki_section_gear_icon.svg/21px-Wikipedia_interwiki_section_gear_icon.svg.png 1.5x, //upload.wikimedia.org/wikipedia/commons/thumb/c/c9/Wikipedia_interwiki_section_gear_icon.svg/28px-Wikipedia_interwiki_section_gear_icon.svg.png 2x\" width=\"14\"/></a> </span><div id=\"Оригинальные_фильмы_Netflix\" style=\"font-size:114%;margin:0 5em\">Оригинальные фильмы <a class=\"mw-selflink selflink\">Netflix</a></div></th></tr><tr><th class=\"navbox-group\" scope=\"row\" style=\"width:1px\">Документальные</th><td class=\"navbox-list navbox-odd hlist\" style=\"text-align:left;border-left-width:2px;border-left-style:solid;width:100%;padding:0px\"><div style=\"padding:0em 0.25em\">\n",
            "<ul><li><i><span data-interwiki-article=\"The Zen of Bennett\" data-interwiki-lang=\"en\"><a class=\"new\" href=\"/w/index.php?title=The_Zen_of_Bennett&amp;action=edit&amp;redlink=1\" title=\"The Zen of Bennett (страница отсутствует)\">The Zen of Bennett</a></span><span class=\"noprint\" style=\"font-style:normal; font-weight:normal;\"><sup><a class=\"extiw\" href=\"https://en.wikipedia.org/wiki/The_Zen_of_Bennett\" title=\"en:The Zen of Bennett\"><span title=\"The Zen of Bennett — версия статьи «The Zen of Bennett» на английском языке\">[en]</span></a></sup></span></i></li>\n",
            "<li><span data-interwiki-article=\"The Square (2013 film)\" data-interwiki-lang=\"en\"><a class=\"new\" href=\"/w/index.php?title=%D0%9F%D0%BB%D0%BE%D1%89%D0%B0%D0%B4%D1%8C_(%D1%84%D0%B8%D0%BB%D1%8C%D0%BC)&amp;action=edit&amp;redlink=1\" title=\"Площадь (фильм) (страница отсутствует)\">Площадь</a></span><span class=\"noprint\" style=\"font-style:normal; font-weight:normal;\"><sup><a class=\"extiw\" href=\"https://en.wikipedia.org/wiki/The_Square_(2013_film)\" title=\"en:The Square (2013 film)\"><span title=\"The Square (2013 film) — версия статьи «Площадь (фильм)» на английском языке\">[en]</span></a></sup></span></li>\n",
            "<li><span data-interwiki-article=\"Mitt (film)\" data-interwiki-lang=\"en\"><a class=\"new\" href=\"/w/index.php?title=%D0%9C%D0%B8%D1%82%D1%82_(%D1%84%D0%B8%D0%BB%D1%8C%D0%BC)&amp;action=edit&amp;redlink=1\" title=\"Митт (фильм) (страница отсутствует)\">Митт</a></span><span class=\"noprint\" style=\"font-style:normal; font-weight:normal;\"><sup><a class=\"extiw\" href=\"https://en.wikipedia.org/wiki/Mitt_(film)\" title=\"en:Mitt (film)\"><span title=\"Mitt (film) — версия статьи «Митт (фильм)» на английском языке\">[en]</span></a></sup></span></li>\n",
            "<li><i><span data-interwiki-article=\"The Battered Bastards of Baseball\" data-interwiki-lang=\"en\"><a class=\"new\" href=\"/w/index.php?title=The_Battered_Bastards_of_Baseball&amp;action=edit&amp;redlink=1\" title=\"The Battered Bastards of Baseball (страница отсутствует)\">The Battered Bastards of Baseball</a></span><span class=\"noprint\" style=\"font-style:normal; font-weight:normal;\"><sup><a class=\"extiw\" href=\"https://en.wikipedia.org/wiki/The_Battered_Bastards_of_Baseball\" title=\"en:The Battered Bastards of Baseball\"><span title=\"The Battered Bastards of Baseball — версия статьи «The Battered Bastards of Baseball» на английском языке\">[en]</span></a></sup></span></i></li>\n",
            "<li><span data-interwiki-article=\"Print the Legend\" data-interwiki-lang=\"en\"><a class=\"new\" href=\"/w/index.php?title=%D0%9F%D1%80%D0%B8%D0%BD%D1%82%D0%B5%D1%80_%D0%B1%D1%83%D0%B4%D1%83%D1%89%D0%B5%D0%B3%D0%BE&amp;action=edit&amp;redlink=1\" title=\"Принтер будущего (страница отсутствует)\">Принтер будущего</a></span><span class=\"noprint\" style=\"font-style:normal; font-weight:normal;\"><sup><a class=\"extiw\" href=\"https://en.wikipedia.org/wiki/Print_the_Legend\" title=\"en:Print the Legend\"><span title=\"Print the Legend — версия статьи «Принтер будущего» на английском языке\">[en]</span></a></sup></span></li>\n",
            "<li><i><span data-interwiki-article=\"E-Team\" data-interwiki-lang=\"en\"><a class=\"new\" href=\"/w/index.php?title=E-Team&amp;action=edit&amp;redlink=1\" title=\"E-Team (страница отсутствует)\">E-Team</a></span><span class=\"noprint\" style=\"font-style:normal; font-weight:normal;\"><sup><a class=\"extiw\" href=\"https://en.wikipedia.org/wiki/E-Team\" title=\"en:E-Team\"><span title=\"E-Team — версия статьи «E-Team» на английском языке\">[en]</span></a></sup></span></i></li>\n",
            "<li><a href=\"/wiki/%D0%92%D0%B8%D1%80%D1%83%D0%BD%D0%B3%D0%B0_(%D1%84%D0%B8%D0%BB%D1%8C%D0%BC)\" title=\"Вирунга (фильм)\">Вирунга</a></li>\n",
            "<li><span data-interwiki-article=\"Hot Girls Wanted\" data-interwiki-lang=\"en\"><a class=\"new\" href=\"/w/index.php?title=%D0%A0%D0%B0%D0%B7%D1%8B%D1%81%D0%BA%D0%B8%D0%B2%D0%B0%D1%8E%D1%82%D1%81%D1%8F_%D0%B3%D0%BE%D1%80%D1%8F%D1%87%D0%B8%D0%B5_%D0%B4%D0%B5%D0%B2%D1%83%D1%88%D0%BA%D0%B8&amp;action=edit&amp;redlink=1\" title=\"Разыскиваются горячие девушки (страница отсутствует)\">Разыскиваются горячие девушки</a></span><span class=\"noprint\" style=\"font-style:normal; font-weight:normal;\"><sup><a class=\"extiw\" href=\"https://en.wikipedia.org/wiki/Hot_Girls_Wanted\" title=\"en:Hot Girls Wanted\"><span title=\"Hot Girls Wanted — версия статьи «Разыскиваются горячие девушки» на английском языке\">[en]</span></a></sup></span></li>\n",
            "<li><span data-interwiki-article=\"What Happened, Miss Simone?\" data-interwiki-lang=\"en\"><a class=\"new\" href=\"/w/index.php?title=%D0%A7%D1%82%D0%BE_%D1%81%D0%BB%D1%83%D1%87%D0%B8%D0%BB%D0%BE%D1%81%D1%8C,_%D0%BC%D0%B8%D1%81%D1%81_%D0%A1%D0%B8%D0%BC%D0%BE%D0%BD%3F&amp;action=edit&amp;redlink=1\" title=\"Что случилось, мисс Симон? (страница отсутствует)\">Что случилось, мисс Симон?</a></span><span class=\"noprint\" style=\"font-style:normal; font-weight:normal;\"><sup><a class=\"extiw\" href=\"https://en.wikipedia.org/wiki/What_Happened,_Miss_Simone%3F\" title=\"en:What Happened, Miss Simone?\"><span title=\"What Happened, Miss Simone? — версия статьи «Что случилось, мисс Симон?» на английском языке\">[en]</span></a></sup></span></li>\n",
            "<li><span data-interwiki-article=\"Tig (film)\" data-interwiki-lang=\"en\"><a class=\"new\" href=\"/w/index.php?title=%D0%A2%D0%B8%D0%B3_(%D1%84%D0%B8%D0%BB%D1%8C%D0%BC)&amp;action=edit&amp;redlink=1\" title=\"Тиг (фильм) (страница отсутствует)\">Тиг</a></span><span class=\"noprint\" style=\"font-style:normal; font-weight:normal;\"><sup><a class=\"extiw\" href=\"https://en.wikipedia.org/wiki/Tig_(film)\" title=\"en:Tig (film)\"><span title=\"Tig (film) — версия статьи «Тиг (фильм)» на английском языке\">[en]</span></a></sup></span></li>\n",
            "<li><a href=\"/wiki/%D0%97%D0%B8%D0%BC%D0%B0_%D0%B2_%D0%BE%D0%B3%D0%BD%D0%B5\" title=\"Зима в огне\">Зима в огне</a></li>\n",
            "<li><i><span data-interwiki-article=\"My Beautiful Broken Brain\" data-interwiki-lang=\"en\"><a class=\"new\" href=\"/w/index.php?title=My_Beautiful_Broken_Brain&amp;action=edit&amp;redlink=1\" title=\"My Beautiful Broken Brain (страница отсутствует)\">My Beautiful Broken Brain</a></span><span class=\"noprint\" style=\"font-style:normal; font-weight:normal;\"><sup><a class=\"extiw\" href=\"https://en.wikipedia.org/wiki/My_Beautiful_Broken_Brain\" title=\"en:My Beautiful Broken Brain\"><span title=\"My Beautiful Broken Brain — версия статьи «My Beautiful Broken Brain» на английском языке\">[en]</span></a></sup></span></i></li>\n",
            "<li><span data-interwiki-article=\"Audrie &amp; Daisy\" data-interwiki-lang=\"en\"><a class=\"new\" href=\"/w/index.php?title=%D0%9E%D0%B4%D1%80%D0%B8_%D0%B8_%D0%94%D0%B5%D0%B9%D0%B7%D0%B8&amp;action=edit&amp;redlink=1\" title=\"Одри и Дейзи (страница отсутствует)\">Одри и Дейзи</a></span><span class=\"noprint\" style=\"font-style:normal; font-weight:normal;\"><sup><a class=\"extiw\" href=\"https://en.wikipedia.org/wiki/Audrie_%26_Daisy\" title=\"en:Audrie &amp; Daisy\"><span title=\"Audrie &amp; Daisy — версия статьи «Одри и Дейзи» на английском языке\">[en]</span></a></sup></span></li>\n",
            "<li><span data-interwiki-article=\"13th (film)\" data-interwiki-lang=\"en\"><a class=\"new\" href=\"/w/index.php?title=%D0%A2%D1%80%D0%B8%D0%BD%D0%B0%D0%B4%D1%86%D0%B0%D1%82%D1%8B%D0%B9&amp;action=edit&amp;redlink=1\" title=\"Тринадцатый (страница отсутствует)\">Тринадцатый</a></span><span class=\"noprint\" style=\"font-style:normal; font-weight:normal;\"><sup><a class=\"extiw\" href=\"https://en.wikipedia.org/wiki/13th_(film)\" title=\"en:13th (film)\"><span title=\"13th (film) — версия статьи «Тринадцатый» на английском языке\">[en]</span></a></sup></span></li>\n",
            "<li><a href=\"/wiki/%D0%92_%D1%81%D0%B0%D0%BC%D0%BE%D0%B5_%D0%BF%D0%B5%D0%BA%D0%BB%D0%BE_(%D1%84%D0%B8%D0%BB%D1%8C%D0%BC)\" title=\"В самое пекло (фильм)\">В самое пекло</a></li>\n",
            "<li><span data-interwiki-article=\"The Ivory Game\" data-interwiki-lang=\"en\"><a class=\"new\" href=\"/w/index.php?title=%D0%98%D0%B3%D1%80%D0%B0_%D1%86%D0%B2%D0%B5%D1%82%D0%B0_%D1%81%D0%BB%D0%BE%D0%BD%D0%BE%D0%B2%D0%BE%D0%B9_%D0%BA%D0%BE%D1%81%D1%82%D0%B8&amp;action=edit&amp;redlink=1\" title=\"Игра цвета слоновой кости (страница отсутствует)\">Игра цвета слоновой кости</a></span><span class=\"noprint\" style=\"font-style:normal; font-weight:normal;\"><sup><a class=\"extiw\" href=\"https://en.wikipedia.org/wiki/The_Ivory_Game\" title=\"en:The Ivory Game\"><span title=\"The Ivory Game — версия статьи «Игра цвета слоновой кости» на английском языке\">[en]</span></a></sup></span></li>\n",
            "<li><a href=\"/wiki/%D0%98%D0%BA%D0%B0%D1%80_(%D1%84%D0%B8%D0%BB%D1%8C%D0%BC)\" title=\"Икар (фильм)\">Икар</a></li>\n",
            "<li><span data-interwiki-article=\"Casting JonBenet\" data-interwiki-lang=\"en\"><a class=\"new\" href=\"/w/index.php?title=%D0%9F%D1%80%D0%BE%D1%81%D0%BB%D1%83%D1%88%D0%B8%D0%B2%D0%B0%D0%BD%D0%B8%D0%B5_%D0%BD%D0%B0_%D1%80%D0%BE%D0%BB%D1%8C_%D0%94%D0%B6%D0%BE%D0%BD%D0%91%D0%B5%D0%BD%D0%B5&amp;action=edit&amp;redlink=1\" title=\"Прослушивание на роль ДжонБене (страница отсутствует)\">Прослушивание на роль ДжонБене</a></span><span class=\"noprint\" style=\"font-style:normal; font-weight:normal;\"><sup><a class=\"extiw\" href=\"https://en.wikipedia.org/wiki/Casting_JonBenet\" title=\"en:Casting JonBenet\"><span title=\"Casting JonBenet — версия статьи «Прослушивание на роль ДжонБене» на английском языке\">[en]</span></a></sup></span></li>\n",
            "<li><i><span data-interwiki-article=\"Get Me Roger Stone\" data-interwiki-lang=\"en\"><a class=\"new\" href=\"/w/index.php?title=Get_Me_Roger_Stone&amp;action=edit&amp;redlink=1\" title=\"Get Me Roger Stone (страница отсутствует)\">Get Me Roger Stone</a></span><span class=\"noprint\" style=\"font-style:normal; font-weight:normal;\"><sup><a class=\"extiw\" href=\"https://en.wikipedia.org/wiki/Get_Me_Roger_Stone\" title=\"en:Get Me Roger Stone\"><span title=\"Get Me Roger Stone — версия статьи «Get Me Roger Stone» на английском языке\">[en]</span></a></sup></span></i></li>\n",
            "<li><span data-interwiki-article=\"Joshua: Teenager vs. Superpower\" data-interwiki-lang=\"en\"><a class=\"new\" href=\"/w/index.php?title=%D0%94%D0%B6%D0%BE%D1%88%D1%83%D0%B0:_%D0%9F%D0%BE%D0%B4%D1%80%D0%BE%D1%81%D1%82%D0%BE%D0%BA_%D0%BF%D1%80%D0%BE%D1%82%D0%B8%D0%B2_%D1%81%D1%83%D0%BF%D0%B5%D1%80%D1%81%D0%B8%D0%BB%D1%8B&amp;action=edit&amp;redlink=1\" title=\"Джошуа: Подросток против суперсилы (страница отсутствует)\">Джошуа: Подросток против суперсилы</a></span><span class=\"noprint\" style=\"font-style:normal; font-weight:normal;\"><sup><a class=\"extiw\" href=\"https://en.wikipedia.org/wiki/Joshua:_Teenager_vs._Superpower\" title=\"en:Joshua: Teenager vs. Superpower\"><span title=\"Joshua: Teenager vs. Superpower — версия статьи «Джошуа: Подросток против суперсилы» на английском языке\">[en]</span></a></sup></span></li>\n",
            "<li><a href=\"/wiki/%D0%90%D1%84%D0%B5%D1%80%D0%B8%D1%81%D1%82_%D0%B8%D0%B7_Tinder\" title=\"Аферист из Tinder\">Аферист из Tinder</a></li></ul>\n",
            "</div></td></tr><tr><th class=\"navbox-group\" scope=\"row\" style=\"width:1px\">Художественные</th><td class=\"navbox-list navbox-even hlist\" style=\"text-align:left;border-left-width:2px;border-left-style:solid;width:100%;padding:0px\"><div style=\"padding:0em 0.25em\">\n",
            "<ul><li><a href=\"/wiki/%D0%91%D0%B5%D0%B7%D1%80%D0%BE%D0%B4%D0%BD%D1%8B%D0%B5_%D0%B7%D0%B2%D0%B5%D1%80%D0%B8\" title=\"Безродные звери\">Безродные звери</a></li>\n",
            "<li><a href=\"/wiki/%D0%9E%D1%87%D0%B5%D0%BD%D1%8C_%D0%BC%D1%8E%D1%80%D1%80%D0%B5%D0%B5%D0%B2%D1%81%D0%BA%D0%BE%D0%B5_%D0%A0%D0%BE%D0%B6%D0%B4%D0%B5%D1%81%D1%82%D0%B2%D0%BE\" title=\"Очень мюрреевское Рождество\">Очень мюрреевское Рождество</a></li>\n",
            "<li><a href=\"/wiki/%D0%9D%D0%B5%D0%BB%D0%B5%D0%BF%D0%B0%D1%8F_%D1%88%D0%B5%D1%81%D1%82%D1%91%D1%80%D0%BA%D0%B0\" title=\"Нелепая шестёрка\">Нелепая шестёрка</a></li>\n",
            "<li><a href=\"/wiki/%D0%9A%D1%80%D0%B0%D0%B4%D1%83%D1%89%D0%B8%D0%B9%D1%81%D1%8F_%D1%82%D0%B8%D0%B3%D1%80,_%D0%B7%D0%B0%D1%82%D0%B0%D0%B8%D0%B2%D1%88%D0%B8%D0%B9%D1%81%D1%8F_%D0%B4%D1%80%D0%B0%D0%BA%D0%BE%D0%BD:_%D0%9C%D0%B5%D1%87_%D1%81%D1%83%D0%B4%D1%8C%D0%B1%D1%8B\" title=\"Крадущийся тигр, затаившийся дракон: Меч судьбы\">Крадущийся тигр, затаившийся дракон: Меч судьбы</a></li>\n",
            "<li><span data-interwiki-article=\"Pee-wee's Big Holiday\" data-interwiki-lang=\"en\"><a class=\"new\" href=\"/w/index.php?title=%D0%94%D0%BE%D0%BC_%D0%B8%D0%B3%D1%80%D1%83%D1%88%D0%B5%D0%BA_%D0%9F%D0%B8-%D0%B2%D0%B8&amp;action=edit&amp;redlink=1\" title=\"Дом игрушек Пи-ви (страница отсутствует)\">Дом игрушек Пи-ви</a></span><span class=\"noprint\" style=\"font-style:normal; font-weight:normal;\"><sup><a class=\"extiw\" href=\"https://en.wikipedia.org/wiki/Pee-wee%27s_Big_Holiday\" title=\"en:Pee-wee's Big Holiday\"><span title=\"Pee-wee's Big Holiday — версия статьи «Дом игрушек Пи-ви» на английском языке\">[en]</span></a></sup></span></li>\n",
            "<li><span data-interwiki-article=\"Special Correspondents\" data-interwiki-lang=\"en\"><a class=\"new\" href=\"/w/index.php?title=%D0%A1%D0%BF%D0%B5%D1%86%D0%B8%D0%B0%D0%BB%D1%8C%D0%BD%D1%8B%D0%B5_%D0%BA%D0%BE%D1%80%D1%80%D0%B5%D1%81%D0%BF%D0%BE%D0%BD%D0%B4%D0%B5%D0%BD%D1%82%D1%8B&amp;action=edit&amp;redlink=1\" title=\"Специальные корреспонденты (страница отсутствует)\">Специальные корреспонденты</a></span><span class=\"noprint\" style=\"font-style:normal; font-weight:normal;\"><sup><a class=\"extiw\" href=\"https://en.wikipedia.org/wiki/Special_Correspondents\" title=\"en:Special Correspondents\"><span title=\"Special Correspondents — версия статьи «Специальные корреспонденты» на английском языке\">[en]</span></a></sup></span></li>\n",
            "<li><a href=\"/wiki/%D0%92%D1%81%D1%91_%D0%BF%D0%BE_%D0%BD%D0%BE%D0%B2%D0%BE%D0%B9\" title=\"Всё по новой\">Всё по новой</a></li>\n",
            "<li><a href=\"/wiki/%D0%9E%D1%81%D0%BD%D0%BE%D0%B2%D0%BD%D1%8B%D0%B5_%D0%BF%D1%80%D0%B8%D0%BD%D1%86%D0%B8%D0%BF%D1%8B_%D0%B4%D0%BE%D0%B1%D1%80%D0%B0\" title=\"Основные принципы добра\">Основные принципы добра</a></li>\n",
            "<li><i><span data-interwiki-article=\"Brahman Naman\" data-interwiki-lang=\"en\"><a class=\"new\" href=\"/w/index.php?title=Brahman_Naman&amp;action=edit&amp;redlink=1\" title=\"Brahman Naman (страница отсутствует)\">Brahman Naman</a></span><span class=\"noprint\" style=\"font-style:normal; font-weight:normal;\"><sup><a class=\"extiw\" href=\"https://en.wikipedia.org/wiki/Brahman_Naman\" title=\"en:Brahman Naman\"><span title=\"Brahman Naman — версия статьи «Brahman Naman» на английском языке\">[en]</span></a></sup></span></i></li>\n",
            "<li><span data-interwiki-article=\"Rebirth (2016 film)\" data-interwiki-lang=\"en\"><a class=\"new\" href=\"/w/index.php?title=%D0%9F%D0%B5%D1%80%D0%B5%D1%80%D0%BE%D0%B6%D0%B4%D0%B5%D0%BD%D0%B8%D0%B5_(%D1%84%D0%B8%D0%BB%D1%8C%D0%BC)&amp;action=edit&amp;redlink=1\" title=\"Перерождение (фильм) (страница отсутствует)\">Перерождение</a></span><span class=\"noprint\" style=\"font-style:normal; font-weight:normal;\"><sup><a class=\"extiw\" href=\"https://en.wikipedia.org/wiki/Rebirth_(2016_film)\" title=\"en:Rebirth (2016 film)\"><span title=\"Rebirth (2016 film) — версия статьи «Перерождение (фильм)» на английском языке\">[en]</span></a></sup></span></li>\n",
            "<li><span data-interwiki-article=\"Tallulah (film)\" data-interwiki-lang=\"en\"><a class=\"new\" href=\"/w/index.php?title=%D0%A2%D0%B0%D0%BB%D0%BB%D1%83%D0%BB%D0%B0_(%D1%84%D0%B8%D0%BB%D1%8C%D0%BC)&amp;action=edit&amp;redlink=1\" title=\"Таллула (фильм) (страница отсутствует)\">Таллула</a></span><span class=\"noprint\" style=\"font-style:normal; font-weight:normal;\"><sup><a class=\"extiw\" href=\"https://en.wikipedia.org/wiki/Tallulah_(film)\" title=\"en:Tallulah (film)\"><span title=\"Tallulah (film) — версия статьи «Таллула (фильм)» на английском языке\">[en]</span></a></sup></span></li>\n",
            "<li><span data-interwiki-article=\"XOXO (2016 film)\" data-interwiki-lang=\"en\"><a class=\"new\" href=\"/w/index.php?title=%D0%9F%D0%BE%D1%86%D0%B5%D0%BB%D1%83%D0%B9_(%D1%84%D0%B8%D0%BB%D1%8C%D0%BC,_2016)&amp;action=edit&amp;redlink=1\" title=\"Поцелуй (фильм, 2016) (страница отсутствует)\">Поцелуй</a></span><span class=\"noprint\" style=\"font-style:normal; font-weight:normal;\"><sup><a class=\"extiw\" href=\"https://en.wikipedia.org/wiki/XOXO_(2016_film)\" title=\"en:XOXO (2016 film)\"><span title=\"XOXO (2016 film) — версия статьи «Поцелуй (фильм, 2016)» на английском языке\">[en]</span></a></sup></span></li>\n",
            "<li><a href=\"/wiki/%D0%90%D1%80%D0%BA%D0%B0_(%D1%84%D0%B8%D0%BB%D1%8C%D0%BC,_2016)\" title=\"Арка (фильм, 2016)\">Арка</a></li>\n",
            "<li><a href=\"/wiki/%D0%9E%D1%81%D0%B0%D0%B4%D0%B0_%D0%96%D0%B0%D0%B4%D0%BE%D0%B2%D0%B8%D0%BB%D1%8F_(%D1%84%D0%B8%D0%BB%D1%8C%D0%BC)\" title=\"Осада Жадовиля (фильм)\">Осада Жадовиля</a></li>\n",
            "<li><span data-interwiki-article=\"Mascots (2016 film)\" data-interwiki-lang=\"en\"><a class=\"new\" href=\"/w/index.php?title=%D0%A2%D0%B0%D0%BB%D0%B8%D1%81%D0%BC%D0%B0%D0%BD%D1%8B&amp;action=edit&amp;redlink=1\" title=\"Талисманы (страница отсутствует)\">Талисманы</a></span><span class=\"noprint\" style=\"font-style:normal; font-weight:normal;\"><sup><a class=\"extiw\" href=\"https://en.wikipedia.org/wiki/Mascots_(2016_film)\" title=\"en:Mascots (2016 film)\"><span title=\"Mascots (2016 film) — версия статьи «Талисманы» на английском языке\">[en]</span></a></sup></span></li>\n",
            "<li><span data-interwiki-article=\"I Am the Pretty Thing That Lives in the House\" data-interwiki-lang=\"en\"><a class=\"new\" href=\"/w/index.php?title=%D0%AF_%D0%BF%D1%80%D0%B5%D0%BB%D0%B5%D1%81%D1%82%D1%8C,_%D0%B6%D0%B8%D0%B2%D1%83%D1%89%D0%B0%D1%8F_%D0%B2_%D0%B4%D0%BE%D0%BC%D0%B5&amp;action=edit&amp;redlink=1\" title=\"Я прелесть, живущая в доме (страница отсутствует)\">Я прелесть, живущая в доме</a></span><span class=\"noprint\" style=\"font-style:normal; font-weight:normal;\"><sup><a class=\"extiw\" href=\"https://en.wikipedia.org/wiki/I_Am_the_Pretty_Thing_That_Lives_in_the_House\" title=\"en:I Am the Pretty Thing That Lives in the House\"><span title=\"I Am the Pretty Thing That Lives in the House — версия статьи «Я прелесть, живущая в доме» на английском языке\">[en]</span></a></sup></span></li>\n",
            "<li><a href=\"/wiki/%D0%A0%D0%B5%D0%B0%D0%BB%D1%8C%D0%BD%D1%8B%D0%B5_%D0%B2%D0%BE%D1%81%D0%BF%D0%BE%D0%BC%D0%B8%D0%BD%D0%B0%D0%BD%D0%B8%D1%8F_%D0%BC%D0%B5%D0%B6%D0%B4%D1%83%D0%BD%D0%B0%D1%80%D0%BE%D0%B4%D0%BD%D0%BE%D0%B3%D0%BE_%D1%83%D0%B1%D0%B8%D0%B9%D1%86%D1%8B\" title=\"Реальные воспоминания международного убийцы\">Реальные воспоминания международного убийцы</a></li>\n",
            "<li><span data-interwiki-article=\"Mercy (2016 film)\" data-interwiki-lang=\"en\"><a class=\"new\" href=\"/w/index.php?title=%D0%91%D0%BB%D0%B0%D0%B3%D0%BE%D0%B4%D0%B0%D1%82%D1%8C_(%D1%84%D0%B8%D0%BB%D1%8C%D0%BC,_2016)&amp;action=edit&amp;redlink=1\" title=\"Благодать (фильм, 2016) (страница отсутствует)\">Благодать</a></span><span class=\"noprint\" style=\"font-style:normal; font-weight:normal;\"><sup><a class=\"extiw\" href=\"https://en.wikipedia.org/wiki/Mercy_(2016_film)\" title=\"en:Mercy (2016 film)\"><span title=\"Mercy (2016 film) — версия статьи «Благодать (фильм, 2016)» на английском языке\">[en]</span></a></sup></span></li>\n",
            "<li><i><span data-interwiki-article=\"Blue Jay (film)\" data-interwiki-lang=\"en\"><a class=\"new\" href=\"/w/index.php?title=Blue_Jay_(film)&amp;action=edit&amp;redlink=1\" title=\"Blue Jay (film) (страница отсутствует)\">Blue Jay</a></span><span class=\"noprint\" style=\"font-style:normal; font-weight:normal;\"><sup><a class=\"extiw\" href=\"https://en.wikipedia.org/wiki/Blue_Jay_(film)\" title=\"en:Blue Jay (film)\"><span title=\"Blue Jay (film) — версия статьи «Blue Jay (film)» на английском языке\">[en]</span></a></sup></span></i></li>\n",
            "<li><a href=\"/wiki/%D0%A1%D0%BF%D0%B5%D0%BA%D1%82%D1%80%D0%B0%D0%BB%D1%8C%D0%BD%D1%8B%D0%B9_%D0%B0%D0%BD%D0%B0%D0%BB%D0%B8%D0%B7_(%D1%84%D0%B8%D0%BB%D1%8C%D0%BC)\" title=\"Спектральный анализ (фильм)\">Спектральный анализ</a></li>\n",
            "<li><a href=\"/wiki/%D0%A0%D0%B0%D0%B7%D1%83%D0%BC_%D0%B2_%D0%BE%D0%B3%D0%BD%D0%B5\" title=\"Разум в огне\">Разум в огне</a></li>\n",
            "<li><a href=\"/wiki/%D0%91%D0%B0%D1%80%D1%80%D0%B8_(%D1%84%D0%B8%D0%BB%D1%8C%D0%BC,_2016)\" title=\"Барри (фильм, 2016)\">Барри</a></li>\n",
            "<li><span data-interwiki-article=\"Coin Heist\" data-interwiki-lang=\"en\"><a class=\"new\" href=\"/w/index.php?title=%D0%9F%D0%BE%D1%85%D0%B8%D1%89%D0%B5%D0%BD%D0%B8%D0%B5_%D0%BC%D0%BE%D0%BD%D0%B5%D1%82&amp;action=edit&amp;redlink=1\" title=\"Похищение монет (страница отсутствует)\">Похищение монет</a></span><span class=\"noprint\" style=\"font-style:normal; font-weight:normal;\"><sup><a class=\"extiw\" href=\"https://en.wikipedia.org/wiki/Coin_Heist\" title=\"en:Coin Heist\"><span title=\"Coin Heist — версия статьи «Похищение монет» на английском языке\">[en]</span></a></sup></span></li>\n",
            "<li><span data-interwiki-article=\"iBoy\" data-interwiki-lang=\"en\"><a class=\"new\" href=\"/w/index.php?title=I%D0%91%D0%BE%D0%B9&amp;action=edit&amp;redlink=1\" title=\"IБой (страница отсутствует)\">iБой</a></span><span class=\"noprint\" style=\"font-style:normal; font-weight:normal;\"><sup><a class=\"extiw\" href=\"https://en.wikipedia.org/wiki/iBoy\" title=\"en:iBoy\"><span title=\"iBoy — версия статьи «IБой» на английском языке\">[en]</span></a></sup></span></li>\n",
            "<li><i><span data-interwiki-article=\"Imperial Dreams\" data-interwiki-lang=\"en\"><a class=\"new\" href=\"/w/index.php?title=Imperial_Dreams&amp;action=edit&amp;redlink=1\" title=\"Imperial Dreams (страница отсутствует)\">Imperial Dreams</a></span><span class=\"noprint\" style=\"font-style:normal; font-weight:normal;\"><sup><a class=\"extiw\" href=\"https://en.wikipedia.org/wiki/Imperial_Dreams\" title=\"en:Imperial Dreams\"><span title=\"Imperial Dreams — версия статьи «Imperial Dreams» на английском языке\">[en]</span></a></sup></span></i></li>\n",
            "<li><span data-interwiki-article=\"Girlfriend's Day\" data-interwiki-lang=\"en\"><a class=\"new\" href=\"/w/index.php?title=%D0%94%D0%B5%D0%BD%D1%8C_%D0%BB%D1%8E%D0%B1%D0%B8%D0%BC%D0%BE%D0%B9&amp;action=edit&amp;redlink=1\" title=\"День любимой (страница отсутствует)\">День любимой</a></span><span class=\"noprint\" style=\"font-style:normal; font-weight:normal;\"><sup><a class=\"extiw\" href=\"https://en.wikipedia.org/wiki/Girlfriend%27s_Day\" title=\"en:Girlfriend's Day\"><span title=\"Girlfriend's Day — версия статьи «День любимой» на английском языке\">[en]</span></a></sup></span></li>\n",
            "<li><a href=\"/wiki/%D0%92_%D1%8D%D1%82%D0%BE%D0%BC_%D0%BC%D0%B8%D1%80%D0%B5_%D1%8F_%D0%B1%D0%BE%D0%BB%D1%8C%D1%88%D0%B5_%D0%BD%D0%B5_%D1%87%D1%83%D0%B2%D1%81%D1%82%D0%B2%D1%83%D1%8E_%D1%81%D0%B5%D0%B1%D1%8F_%D0%BA%D0%B0%D0%BA_%D0%B4%D0%BE%D0%BC%D0%B0\" title=\"В этом мире я больше не чувствую себя как дома\">В этом мире я больше не чувствую себя как дома</a></li>\n",
            "<li><span data-interwiki-article=\"Burning Sands (2017 film)\" data-interwiki-lang=\"en\"><a class=\"new\" href=\"/w/index.php?title=%D0%A0%D0%B0%D1%81%D0%BA%D0%B0%D0%BB%D1%91%D0%BD%D0%BD%D1%8B%D0%B5_%D0%BF%D0%B5%D1%81%D0%BA%D0%B8&amp;action=edit&amp;redlink=1\" title=\"Раскалённые пески (страница отсутствует)\">Раскалённые пески</a></span><span class=\"noprint\" style=\"font-style:normal; font-weight:normal;\"><sup><a class=\"extiw\" href=\"https://en.wikipedia.org/wiki/Burning_Sands_(2017_film)\" title=\"en:Burning Sands (2017 film)\"><span title=\"Burning Sands (2017 film) — версия статьи «Раскалённые пески» на английском языке\">[en]</span></a></sup></span></li>\n",
            "<li><span data-interwiki-article=\"Deidra &amp; Laney Rob a Train\" data-interwiki-lang=\"en\"><a class=\"new\" href=\"/w/index.php?title=%D0%94%D0%B5%D0%B9%D0%B4%D1%80%D0%B0_%D0%B8_%D0%9B%D0%B0%D0%BD%D0%B8_%D0%B3%D1%80%D0%B0%D0%B1%D1%8F%D1%82_%D0%BF%D0%BE%D0%B5%D0%B7%D0%B4&amp;action=edit&amp;redlink=1\" title=\"Дейдра и Лани грабят поезд (страница отсутствует)\">Дейдра и Лани грабят поезд</a></span><span class=\"noprint\" style=\"font-style:normal; font-weight:normal;\"><sup><a class=\"extiw\" href=\"https://en.wikipedia.org/wiki/Deidra_%26_Laney_Rob_a_Train\" title=\"en:Deidra &amp; Laney Rob a Train\"><span title=\"Deidra &amp; Laney Rob a Train — версия статьи «Дейдра и Лани грабят поезд» на английском языке\">[en]</span></a></sup></span></li>\n",
            "<li><span data-interwiki-article=\"Most Hated Woman in America\" data-interwiki-lang=\"en\"><a class=\"new\" href=\"/w/index.php?title=%D0%A1%D0%B0%D0%BC%D0%B0%D1%8F_%D0%BD%D0%B5%D0%BD%D0%B0%D0%B2%D0%B8%D1%81%D1%82%D0%BD%D0%B0%D1%8F_%D0%B6%D0%B5%D0%BD%D1%89%D0%B8%D0%BD%D0%B0_%D0%90%D0%BC%D0%B5%D1%80%D0%B8%D0%BA%D0%B8&amp;action=edit&amp;redlink=1\" title=\"Самая ненавистная женщина Америки (страница отсутствует)\">Самая ненавистная женщина Америки</a></span><span class=\"noprint\" style=\"font-style:normal; font-weight:normal;\"><sup><a class=\"extiw\" href=\"https://en.wikipedia.org/wiki/Most_Hated_Woman_in_America\" title=\"en:Most Hated Woman in America\"><span title=\"Most Hated Woman in America — версия статьи «Самая ненавистная женщина Америки» на английском языке\">[en]</span></a></sup></span></li>\n",
            "<li><a href=\"/wiki/%D0%9E%D1%82%D0%BA%D1%80%D1%8B%D1%82%D0%B8%D0%B5_(%D1%84%D0%B8%D0%BB%D1%8C%D0%BC,_2017)\" title=\"Открытие (фильм, 2017)\">Открытие</a></li>\n",
            "<li><span data-interwiki-article=\"Win It All\" data-interwiki-lang=\"en\"><a class=\"new\" href=\"/w/index.php?title=%D0%9E%D1%82%D1%8B%D0%B3%D1%80%D0%B0%D0%B9%D1%81%D1%8F&amp;action=edit&amp;redlink=1\" title=\"Отыграйся (страница отсутствует)\">Отыграйся</a></span><span class=\"noprint\" style=\"font-style:normal; font-weight:normal;\"><sup><a class=\"extiw\" href=\"https://en.wikipedia.org/wiki/Win_It_All\" title=\"en:Win It All\"><span title=\"Win It All — версия статьи «Отыграйся» на английском языке\">[en]</span></a></sup></span></li>\n",
            "<li><a href=\"/wiki/%D0%A1%D1%8D%D0%BD%D0%B4%D0%B8_%D0%A3%D1%8D%D0%BA%D1%81%D0%BB%D0%B5%D1%80\" title=\"Сэнди Уэкслер\">Сэнди Уэкслер</a></li>\n",
            "<li><span data-interwiki-article=\"Sand Castle (film)\" data-interwiki-lang=\"en\"><a class=\"new\" href=\"/w/index.php?title=%D0%9F%D0%B5%D1%81%D0%BE%D1%87%D0%BD%D1%8B%D0%B9_%D0%B7%D0%B0%D0%BC%D0%BE%D0%BA&amp;action=edit&amp;redlink=1\" title=\"Песочный замок (страница отсутствует)\">Песочный замок</a></span><span class=\"noprint\" style=\"font-style:normal; font-weight:normal;\"><sup><a class=\"extiw\" href=\"https://en.wikipedia.org/wiki/Sand_Castle_(film)\" title=\"en:Sand Castle (film)\"><span title=\"Sand Castle (film) — версия статьи «Песочный замок» на английском языке\">[en]</span></a></sup></span></li>\n",
            "<li><span data-interwiki-article=\"Tramps (2017 film)\" data-interwiki-lang=\"en\"><a class=\"new\" href=\"/w/index.php?title=%D0%91%D1%80%D0%BE%D0%B4%D1%8F%D0%B3%D0%B8_(%D1%84%D0%B8%D0%BB%D1%8C%D0%BC,_2017)&amp;action=edit&amp;redlink=1\" title=\"Бродяги (фильм, 2017) (страница отсутствует)\">Бродяги</a></span><span class=\"noprint\" style=\"font-style:normal; font-weight:normal;\"><sup><a class=\"extiw\" href=\"https://en.wikipedia.org/wiki/Tramps_(2017_film)\" title=\"en:Tramps (2017 film)\"><span title=\"Tramps (2017 film) — версия статьи «Бродяги (фильм, 2017)» на английском языке\">[en]</span></a></sup></span></li>\n",
            "<li><span data-interwiki-article=\"Small Crimes\" data-interwiki-lang=\"en\"><a class=\"new\" href=\"/w/index.php?title=%D0%9C%D0%B5%D0%BB%D0%BA%D0%B8%D0%B5_%D0%BF%D1%80%D0%B5%D1%81%D1%82%D1%83%D0%BF%D0%BB%D0%B5%D0%BD%D0%B8%D1%8F&amp;action=edit&amp;redlink=1\" title=\"Мелкие преступления (страница отсутствует)\">Мелкие преступления</a></span><span class=\"noprint\" style=\"font-style:normal; font-weight:normal;\"><sup><a class=\"extiw\" href=\"https://en.wikipedia.org/wiki/Small_Crimes\" title=\"en:Small Crimes\"><span title=\"Small Crimes — версия статьи «Мелкие преступления» на английском языке\">[en]</span></a></sup></span></li>\n",
            "<li><span data-interwiki-article=\"Handsome: A Netflix Mystery Movie\" data-interwiki-lang=\"en\"><a class=\"new\" href=\"/w/index.php?title=%D0%9A%D1%80%D0%B0%D1%81%D0%B0%D0%B2%D1%87%D0%B8%D0%BA_(%D1%84%D0%B8%D0%BB%D1%8C%D0%BC)&amp;action=edit&amp;redlink=1\" title=\"Красавчик (фильм) (страница отсутствует)\">Красавчик</a></span><span class=\"noprint\" style=\"font-style:normal; font-weight:normal;\"><sup><a class=\"extiw\" href=\"https://en.wikipedia.org/wiki/Handsome:_A_Netflix_Mystery_Movie\" title=\"en:Handsome: A Netflix Mystery Movie\"><span title=\"Handsome: A Netflix Mystery Movie — версия статьи «Красавчик (фильм)» на английском языке\">[en]</span></a></sup></span></li>\n",
            "<li><i><a href=\"/wiki/Blame!\" title=\"Blame!\">Blame!</a></i></li>\n",
            "<li><a href=\"/wiki/%D0%9C%D0%B0%D1%88%D0%B8%D0%BD%D0%B0_%D0%B2%D0%BE%D0%B9%D0%BD%D1%8B\" title=\"Машина войны\">Машина войны</a></li>\n",
            "<li><span data-interwiki-article=\"Shimmer Lake\" data-interwiki-lang=\"en\"><a class=\"new\" href=\"/w/index.php?title=%D0%9E%D0%B7%D0%B5%D1%80%D0%BE_%D0%A8%D0%B8%D0%BC%D0%BC%D0%B5%D1%80&amp;action=edit&amp;redlink=1\" title=\"Озеро Шиммер (страница отсутствует)\">Озеро Шиммер</a></span><span class=\"noprint\" style=\"font-style:normal; font-weight:normal;\"><sup><a class=\"extiw\" href=\"https://en.wikipedia.org/wiki/Shimmer_Lake\" title=\"en:Shimmer Lake\"><span title=\"Shimmer Lake — версия статьи «Озеро Шиммер» на английском языке\">[en]</span></a></sup></span></li>\n",
            "<li><a href=\"/wiki/%D0%9D%D0%B0_%D0%BE%D0%B4%D0%BD%D0%BE%D0%B9_%D0%B2%D0%BE%D0%BB%D0%BD%D0%B5\" title=\"На одной волне\">На одной волне</a></li>\n",
            "<li><a href=\"/wiki/%D0%9E%D0%BA%D1%87%D0%B0\" title=\"Окча\">Окча</a></li>\n",
            "<li><a href=\"/wiki/%D0%94%D0%BE_%D0%BA%D0%BE%D1%81%D1%82%D0%B5%D0%B9\" title=\"До костей\">До костей</a></li>\n",
            "<li><span data-interwiki-article=\"The Incredible Jessica James\" data-interwiki-lang=\"en\"><a class=\"new\" href=\"/w/index.php?title=%D0%9D%D0%B5%D0%B2%D0%B5%D1%80%D0%BE%D1%8F%D1%82%D0%BD%D0%B0%D1%8F_%D0%94%D0%B6%D0%B5%D1%81%D1%81%D0%B8%D0%BA%D0%B0_%D0%94%D0%B6%D0%B5%D0%B9%D0%BC%D1%81&amp;action=edit&amp;redlink=1\" title=\"Невероятная Джессика Джеймс (страница отсутствует)\">Невероятная Джессика Джеймс</a></span><span class=\"noprint\" style=\"font-style:normal; font-weight:normal;\"><sup><a class=\"extiw\" href=\"https://en.wikipedia.org/wiki/The_Incredible_Jessica_James\" title=\"en:The Incredible Jessica James\"><span title=\"The Incredible Jessica James — версия статьи «Невероятная Джессика Джеймс» на английском языке\">[en]</span></a></sup></span></li>\n",
            "<li><a class=\"new\" href=\"/w/index.php?title=%D0%93%D0%BE%D0%BB%D1%8B%D1%88%D0%BE%D0%BC&amp;action=edit&amp;redlink=1\" title=\"Голышом (страница отсутствует)\">Голышом</a></li>\n",
            "<li><a href=\"/wiki/%D0%A2%D0%B0%D0%B9%D0%BD%D0%B0_7_%D1%81%D0%B5%D1%81%D1%82%D1%91%D1%80\" title=\"Тайна 7 сестёр\">Тайна 7 сестёр</a></li>\n",
            "<li><a href=\"/wiki/%D0%A2%D0%B5%D1%82%D1%80%D0%B0%D0%B4%D1%8C_%D1%81%D0%BC%D0%B5%D1%80%D1%82%D0%B8_(%D1%84%D0%B8%D0%BB%D1%8C%D0%BC,_2017)\" title=\"Тетрадь смерти (фильм, 2017)\">Тетрадь смерти</a></li>\n",
            "<li><span data-interwiki-article=\"Little Evil\" data-interwiki-lang=\"en\"><a class=\"new\" href=\"/w/index.php?title=%D0%9C%D0%B0%D0%BB%D0%B5%D0%BD%D1%8C%D0%BA%D0%BE%D0%B5_%D0%B7%D0%BB%D0%BE&amp;action=edit&amp;redlink=1\" title=\"Маленькое зло (страница отсутствует)\">Маленькое зло</a></span><span class=\"noprint\" style=\"font-style:normal; font-weight:normal;\"><sup><a class=\"extiw\" href=\"https://en.wikipedia.org/wiki/Little_Evil\" title=\"en:Little Evil\"><span title=\"Little Evil — версия статьи «Маленькое зло» на английском языке\">[en]</span></a></sup></span></li>\n",
            "<li><a href=\"/wiki/%D0%A1%D0%BD%D0%B0%D1%87%D0%B0%D0%BB%D0%B0_%D0%BE%D0%BD%D0%B8_%D1%83%D0%B1%D0%B8%D0%BB%D0%B8_%D0%BC%D0%BE%D0%B5%D0%B3%D0%BE_%D0%BE%D1%82%D1%86%D0%B0_(%D1%84%D0%B8%D0%BB%D1%8C%D0%BC)\" title=\"Сначала они убили моего отца (фильм)\">Сначала они убили моего отца</a></li>\n",
            "<li><a href=\"/wiki/%D0%98%D0%B3%D1%80%D0%B0_%D0%94%D0%B6%D0%B5%D1%80%D0%B0%D0%BB%D1%8C%D0%B4%D0%B0_(%D1%84%D0%B8%D0%BB%D1%8C%D0%BC)\" title=\"Игра Джеральда (фильм)\">Игра Джеральда</a></li>\n",
            "<li><span data-interwiki-article=\"Our Souls at Night\" data-interwiki-lang=\"en\"><a class=\"new\" href=\"/w/index.php?title=%D0%9D%D0%B0%D1%88%D0%B8_%D0%B4%D1%83%D1%88%D0%B8_%D0%BF%D0%BE_%D0%BD%D0%BE%D1%87%D0%B0%D0%BC&amp;action=edit&amp;redlink=1\" title=\"Наши души по ночам (страница отсутствует)\">Наши души по ночам</a></span><span class=\"noprint\" style=\"font-style:normal; font-weight:normal;\"><sup><a class=\"extiw\" href=\"https://en.wikipedia.org/wiki/Our_Souls_at_Night\" title=\"en:Our Souls at Night\"><span title=\"Our Souls at Night — версия статьи «Наши души по ночам» на английском языке\">[en]</span></a></sup></span></li>\n",
            "<li><a href=\"/wiki/%D0%98%D1%81%D1%82%D0%BE%D1%80%D0%B8%D0%B8_%D1%81%D0%B5%D0%BC%D1%8C%D0%B8_%D0%9C%D0%B0%D0%B9%D1%80%D0%BE%D0%B2%D0%B8%D1%86\" title=\"Истории семьи Майровиц\">Истории семьи Майровиц</a></li>\n",
            "<li><a href=\"/wiki/%D0%9D%D1%8F%D0%BD%D1%8F_(%D1%84%D0%B8%D0%BB%D1%8C%D0%BC,_2017)\" title=\"Няня (фильм, 2017)\">Няня</a></li>\n",
            "<li><a href=\"/wiki/1922_(%D1%84%D0%B8%D0%BB%D1%8C%D0%BC)\" title=\"1922 (фильм)\">1922</a></li>\n",
            "<li><span data-interwiki-article=\"Wheelman (film)\" data-interwiki-lang=\"en\"><a class=\"new\" href=\"/w/index.php?title=%D0%92%D0%BE%D0%B4%D0%B8%D0%BB%D0%B0&amp;action=edit&amp;redlink=1\" title=\"Водила (страница отсутствует)\">Водила</a></span><span class=\"noprint\" style=\"font-style:normal; font-weight:normal;\"><sup><a class=\"extiw\" href=\"https://en.wikipedia.org/wiki/Wheelman_(film)\" title=\"en:Wheelman (film)\"><span title=\"Wheelman (film) — версия статьи «Водила» на английском языке\">[en]</span></a></sup></span></li>\n",
            "<li><span data-interwiki-article=\"The Killer (2017 film)\" data-interwiki-lang=\"en\"><a class=\"new\" href=\"/w/index.php?title=%D0%A3%D0%B1%D0%B8%D0%B9%D1%86%D0%B0_(%D1%84%D0%B8%D0%BB%D1%8C%D0%BC,_2017)&amp;action=edit&amp;redlink=1\" title=\"Убийца (фильм, 2017) (страница отсутствует)\">Убийца</a></span><span class=\"noprint\" style=\"font-style:normal; font-weight:normal;\"><sup><a class=\"extiw\" href=\"https://en.wikipedia.org/wiki/The_Killer_(2017_film)\" title=\"en:The Killer (2017 film)\"><span title=\"The Killer (2017 film) — версия статьи «Убийца (фильм, 2017)» на английском языке\">[en]</span></a></sup></span></li>\n",
            "<li><span data-interwiki-article=\"A Christmas Prince\" data-interwiki-lang=\"en\"><a class=\"new\" href=\"/w/index.php?title=%D0%9F%D1%80%D0%B8%D0%BD%D1%86_%D0%BD%D0%B0_%D0%A0%D0%BE%D0%B6%D0%B4%D0%B5%D1%81%D1%82%D0%B2%D0%BE&amp;action=edit&amp;redlink=1\" title=\"Принц на Рождество (страница отсутствует)\">Принц на Рождество</a></span><span class=\"noprint\" style=\"font-style:normal; font-weight:normal;\"><sup><a class=\"extiw\" href=\"https://en.wikipedia.org/wiki/A_Christmas_Prince\" title=\"en:A Christmas Prince\"><span title=\"A Christmas Prince — версия статьи «Принц на Рождество» на английском языке\">[en]</span></a></sup></span></li>\n",
            "<li><a href=\"/wiki/%D0%A4%D0%B5%D1%80%D0%BC%D0%B0_%C2%AB%D0%9C%D0%B0%D0%B4%D0%B1%D0%B0%D1%83%D0%BD%D0%B4%C2%BB\" title=\"Ферма «Мадбаунд»\">Ферма «Мадбаунд»</a></li>\n",
            "<li><span data-interwiki-article=\"El Camino Christmas\" data-interwiki-lang=\"en\"><a class=\"new\" href=\"/w/index.php?title=%D0%A0%D0%BE%D0%B6%D0%B4%D0%B5%D1%81%D1%82%D0%B2%D0%BE_%D0%B2_%D0%AD%D0%BB%D1%8C-%D0%9A%D0%B0%D0%BC%D0%B8%D0%BD%D0%BE&amp;action=edit&amp;redlink=1\" title=\"Рождество в Эль-Камино (страница отсутствует)\">Рождество в Эль-Камино</a></span><span class=\"noprint\" style=\"font-style:normal; font-weight:normal;\"><sup><a class=\"extiw\" href=\"https://en.wikipedia.org/wiki/El_Camino_Christmas\" title=\"en:El Camino Christmas\"><span title=\"El Camino Christmas — версия статьи «Рождество в Эль-Камино» на английском языке\">[en]</span></a></sup></span></li>\n",
            "<li><span data-interwiki-article=\"Christmas Inheritance\" data-interwiki-lang=\"en\"><a class=\"new\" href=\"/w/index.php?title=%D0%A0%D0%BE%D0%B6%D0%B4%D0%B5%D1%81%D1%82%D0%B2%D0%B5%D0%BD%D1%81%D0%BA%D0%BE%D0%B5_%D0%BD%D0%B0%D1%81%D0%BB%D0%B5%D0%B4%D0%B8%D0%B5&amp;action=edit&amp;redlink=1\" title=\"Рождественское наследие (страница отсутствует)\">Рождественское наследие</a></span><span class=\"noprint\" style=\"font-style:normal; font-weight:normal;\"><sup><a class=\"extiw\" href=\"https://en.wikipedia.org/wiki/Christmas_Inheritance\" title=\"en:Christmas Inheritance\"><span title=\"Christmas Inheritance — версия статьи «Рождественское наследие» на английском языке\">[en]</span></a></sup></span></li>\n",
            "<li><a href=\"/wiki/%D0%AF%D1%80%D0%BA%D0%BE%D1%81%D1%82%D1%8C_(%D1%84%D0%B8%D0%BB%D1%8C%D0%BC)\" title=\"Яркость (фильм)\">Яркость</a></li>\n",
            "<li><span data-interwiki-article=\"The Polka King\" data-interwiki-lang=\"en\"><a class=\"new\" href=\"/w/index.php?title=%D0%9A%D0%BE%D1%80%D0%BE%D0%BB%D1%8C_%D0%BF%D0%BE%D0%BB%D1%8C%D0%BA%D0%B8&amp;action=edit&amp;redlink=1\" title=\"Король польки (страница отсутствует)\">Король польки</a></span><span class=\"noprint\" style=\"font-style:normal; font-weight:normal;\"><sup><a class=\"extiw\" href=\"https://en.wikipedia.org/wiki/The_Polka_King\" title=\"en:The Polka King\"><span title=\"The Polka King — версия статьи «Король польки» на английском языке\">[en]</span></a></sup></span></li>\n",
            "<li><span data-interwiki-article=\"Godzilla: Planet of the Monsters\" data-interwiki-lang=\"en\"><a class=\"new\" href=\"/w/index.php?title=%D0%93%D0%BE%D0%B4%D0%B7%D0%B8%D0%BB%D0%BB%D0%B0:_%D0%9F%D0%BB%D0%B0%D0%BD%D0%B5%D1%82%D0%B0_%D1%87%D1%83%D0%B4%D0%BE%D0%B2%D0%B8%D1%89&amp;action=edit&amp;redlink=1\" title=\"Годзилла: Планета чудовищ (страница отсутствует)\">Годзилла: Планета чудовищ</a></span><span class=\"noprint\" style=\"font-style:normal; font-weight:normal;\"><sup><a class=\"extiw\" href=\"https://en.wikipedia.org/wiki/Godzilla:_Planet_of_the_Monsters\" title=\"en:Godzilla: Planet of the Monsters\"><span title=\"Godzilla: Planet of the Monsters — версия статьи «Годзилла: Планета чудовищ» на английском языке\">[en]</span></a></sup></span></li>\n",
            "<li><a href=\"/wiki/%D0%94%D0%BE%D0%BC_%D0%BD%D0%B0_%D0%BF%D1%80%D0%BE%D0%B4%D0%B0%D0%B6%D1%83_(%D1%84%D0%B8%D0%BB%D1%8C%D0%BC)\" title=\"Дом на продажу (фильм)\">Дом на продажу</a></li>\n",
            "<li><a href=\"/wiki/%D0%A1%D1%91%D1%81%D1%82%D1%80%D1%8B_%D0%BF%D0%BE_%D1%81%D1%82%D0%B5%D0%BF%D1%83\" title=\"Сёстры по степу\">Сёстры по степу</a></li>\n",
            "<li><a href=\"/wiki/%D0%9F%D0%B0%D1%80%D0%B0%D0%B4%D0%BE%D0%BA%D1%81_%D0%9A%D0%BB%D0%BE%D0%B2%D0%B5%D1%80%D1%84%D0%B8%D0%BB%D0%B4%D0%B0\" title=\"Парадокс Кловерфилда\">Парадокс Кловерфилда</a></li>\n",
            "<li><a href=\"/wiki/%D0%91%D1%80%D0%B5%D0%BC%D1%8F_(%D1%84%D0%B8%D0%BB%D1%8C%D0%BC)\" title=\"Бремя (фильм)\">Бремя</a></li>\n",
            "<li><a href=\"/wiki/%D0%A0%D0%BE%D0%BA%D1%81%D0%B0%D0%BD%D0%B0_%D0%A0%D0%BE%D0%BA%D1%81%D0%B0%D0%BD%D0%B0\" title=\"Роксана Роксана\">Роксана Роксана</a></li>\n",
            "<li><a href=\"/wiki/%D0%9D%D0%B5%D0%BC%D0%BE%D0%B9_(%D1%84%D0%B8%D0%BB%D1%8C%D0%BC,_2018)\" title=\"Немой (фильм, 2018)\">Немой</a></li>\n",
            "<li><a href=\"/wiki/%D0%9F%D0%BE%D0%B4%D1%81%D1%82%D0%B0%D0%B2%D0%B0_(%D1%84%D0%B8%D0%BB%D1%8C%D0%BC,_2018)\" title=\"Подстава (фильм, 2018)\">Подстава</a></li>\n",
            "<li><i><span data-interwiki-article=\"6 Balloons\" data-interwiki-lang=\"en\"><a class=\"new\" href=\"/w/index.php?title=6_Balloons&amp;action=edit&amp;redlink=1\" title=\"6 Balloons (страница отсутствует)\">6 Balloons</a></span><span class=\"noprint\" style=\"font-style:normal; font-weight:normal;\"><sup><a class=\"extiw\" href=\"https://en.wikipedia.org/wiki/6_Balloons\" title=\"en:6 Balloons\"><span title=\"6 Balloons — версия статьи «6 Balloons» на английском языке\">[en]</span></a></sup></span></i></li>\n",
            "<li><a href=\"/wiki/%D0%9D%D0%B5%D0%B4%D0%B5%D0%BB%D1%8F_%D0%B4%D0%BE%E2%80%A6\" title=\"Неделя до…\">Неделя до…</a></li>\n",
            "<li><a href=\"/wiki/%D0%97%D0%B0%D0%BA%D0%B0%D1%82_%D1%86%D0%B8%D0%B2%D0%B8%D0%BB%D0%B8%D0%B7%D0%B0%D1%86%D0%B8%D0%B8\" title=\"Закат цивилизации\">Закат цивилизации</a></li>\n",
            "<li><a href=\"/wiki/%D0%92_%D0%B2%D1%8B%D1%81%D0%BE%D0%BA%D0%BE%D0%B9_%D1%82%D1%80%D0%B0%D0%B2%D0%B5\" title=\"В высокой траве\">В высокой траве</a></li>\n",
            "<li><a href=\"/wiki/%D0%A7%D1%83%D0%B2%D0%B0%D0%BA_(%D1%84%D0%B8%D0%BB%D1%8C%D0%BC)\" title=\"Чувак (фильм)\">Чувак</a></li>\n",
            "<li><a href=\"/wiki/%D0%91%D1%83%D0%B4%D0%BA%D0%B0_%D0%BF%D0%BE%D1%86%D0%B5%D0%BB%D1%83%D0%B5%D0%B2\" title=\"Будка поцелуев\">Будка поцелуев</a></li>\n",
            "<li><a href=\"/wiki/%D0%A2%D0%B0%D1%83_(%D1%84%D0%B8%D0%BB%D1%8C%D0%BC)\" title=\"Тау (фильм)\">Тау</a></li>\n",
            "<li><a href=\"/wiki/%D0%92%D1%81%D0%B5%D0%BC_%D0%BF%D0%B0%D1%80%D0%BD%D1%8F%D0%BC,_%D0%BA%D0%BE%D1%82%D0%BE%D1%80%D1%8B%D1%85_%D1%8F_%D0%BB%D1%8E%D0%B1%D0%B8%D0%BB%D0%B0_%D1%80%D0%B0%D0%BD%D1%8C%D1%88%D0%B5\" title=\"Всем парням, которых я любила раньше\">Всем парням, которых я любила раньше</a></li>\n",
            "<li><span data-interwiki-article=\"Hold the Dark\" data-interwiki-lang=\"en\"><a class=\"new\" href=\"/w/index.php?title=%D0%9F%D1%80%D0%B8%D0%B4%D0%B5%D1%80%D0%B6%D0%B8_%D1%82%D1%8C%D0%BC%D1%83&amp;action=edit&amp;redlink=1\" title=\"Придержи тьму (страница отсутствует)\">Придержи тьму</a></span><span class=\"noprint\" style=\"font-style:normal; font-weight:normal;\"><sup><a class=\"extiw\" href=\"https://en.wikipedia.org/wiki/Hold_the_Dark\" title=\"en:Hold the Dark\"><span title=\"Hold the Dark — версия статьи «Придержи тьму» на английском языке\">[en]</span></a></sup></span></li>\n",
            "<li><a href=\"/wiki/%D0%A7%D0%B0%D1%81%D1%82%D0%BD%D0%B0%D1%8F_%D0%B6%D0%B8%D0%B7%D0%BD%D1%8C_(%D1%84%D0%B8%D0%BB%D1%8C%D0%BC,_2018)\" title=\"Частная жизнь (фильм, 2018)\">Частная жизнь</a></li>\n",
            "<li><i><span data-interwiki-article=\"Come Sunday (film)\" data-interwiki-lang=\"en\"><a class=\"new\" href=\"/w/index.php?title=Come_Sunday_(film)&amp;action=edit&amp;redlink=1\" title=\"Come Sunday (film) (страница отсутствует)\">Come Sunday</a></span><span class=\"noprint\" style=\"font-style:normal; font-weight:normal;\"><sup><a class=\"extiw\" href=\"https://en.wikipedia.org/wiki/Come_Sunday_(film)\" title=\"en:Come Sunday (film)\"><span title=\"Come Sunday (film) — версия статьи «Come Sunday (film)» на английском языке\">[en]</span></a></sup></span></i></li>\n",
            "<li><a href=\"/wiki/22_%D0%B8%D1%8E%D0%BB%D1%8F_(%D1%84%D0%B8%D0%BB%D1%8C%D0%BC)\" title=\"22 июля (фильм)\">22 июля </a></li>\n",
            "<li><i><span data-interwiki-article=\"A Futile and Stupid Gesture (film)\" data-interwiki-lang=\"en\"><a class=\"new\" href=\"/w/index.php?title=A_Futile_and_Stupid_Gesture_(film)&amp;action=edit&amp;redlink=1\" title=\"A Futile and Stupid Gesture (film) (страница отсутствует)\">A Futile and Stupid Gesture</a></span><span class=\"noprint\" style=\"font-style:normal; font-weight:normal;\"><sup><a class=\"extiw\" href=\"https://en.wikipedia.org/wiki/A_Futile_and_Stupid_Gesture_(film)\" title=\"en:A Futile and Stupid Gesture (film)\"><span title=\"A Futile and Stupid Gesture (film) — версия статьи «A Futile and Stupid Gesture (film)» на английском языке\">[en]</span></a></sup></span></i></li>\n",
            "<li><a href=\"/wiki/%D0%90%D0%BF%D0%BE%D1%81%D1%82%D0%BE%D0%BB_(%D1%84%D0%B8%D0%BB%D1%8C%D0%BC,_2018)\" title=\"Апостол (фильм, 2018)\">Апостол</a></li>\n",
            "<li><a href=\"/wiki/%D0%9A%D0%BE%D1%80%D0%BE%D0%BB%D1%8C_%D0%B2%D0%BD%D0%B5_%D0%B7%D0%B0%D0%BA%D0%BE%D0%BD%D0%B0\" title=\"Король вне закона\">Король вне закона</a></li>\n",
            "<li><a href=\"/wiki/%D0%92%D0%B5%D0%B1-%D0%BA%D0%B0%D0%BC%D0%B5%D1%80%D0%B0_(%D1%84%D0%B8%D0%BB%D1%8C%D0%BC)\" title=\"Веб-камера (фильм)\">Веб-камера</a></li>\n",
            "<li><a href=\"/wiki/%D0%91%D0%B0%D0%BB%D0%BB%D0%B0%D0%B4%D0%B0_%D0%91%D0%B0%D1%81%D1%82%D0%B5%D1%80%D0%B0_%D0%A1%D0%BA%D1%80%D0%B0%D0%B3%D0%B3%D1%81%D0%B0\" title=\"Баллада Бастера Скраггса\">Баллада Бастера Скраггса</a></li>\n",
            "<li><a href=\"/wiki/%D0%A0%D0%BE%D0%B6%D0%B4%D0%B5%D1%81%D1%82%D0%B2%D0%B5%D0%BD%D1%81%D0%BA%D0%B8%D0%B5_%D1%85%D1%80%D0%BE%D0%BD%D0%B8%D0%BA%D0%B8\" title=\"Рождественские хроники\">Рождественские хроники</a></li>\n",
            "<li><a href=\"/wiki/%D0%9C%D0%B0%D1%83%D0%B3%D0%BB%D0%B8_(%D1%84%D0%B8%D0%BB%D1%8C%D0%BC)\" title=\"Маугли (фильм)\">Маугли</a></li>\n",
            "<li><a href=\"/wiki/%D0%A0%D0%BE%D0%BC%D0%B0_(%D1%84%D0%B8%D0%BB%D1%8C%D0%BC)\" title=\"Рома (фильм)\">Рома</a></li>\n",
            "<li><a href=\"/wiki/%D0%9F%D1%82%D0%B8%D1%87%D0%B8%D0%B9_%D0%BA%D0%BE%D1%80%D0%BE%D0%B1\" title=\"Птичий короб\">Птичий короб</a></li>\n",
            "<li><a href=\"/wiki/%D0%98%D1%80%D0%BB%D0%B0%D0%BD%D0%B4%D0%B5%D1%86_(%D1%84%D0%B8%D0%BB%D1%8C%D0%BC,_2019)\" title=\"Ирландец (фильм, 2019)\">Ирландец</a></li>\n",
            "<li><a class=\"mw-redirect\" href=\"/wiki/%D0%9C%D1%8E%D0%BD%D1%85%D0%B5%D0%BD_(%D1%84%D0%B8%D0%BB%D1%8C%D0%BC,_2021)\" title=\"Мюнхен (фильм, 2021)\">Мюнхен</a></li></ul>\n",
            "</div></td></tr><tr><th class=\"navbox-group\" scope=\"row\" style=\"width:1px\">Ожидаемые</th><td class=\"navbox-list navbox-odd hlist\" style=\"text-align:left;border-left-width:2px;border-left-style:solid;width:100%;padding:0px\"><div style=\"padding:0em 0.25em\">\n",
            "<ul><li><a href=\"/wiki/%D0%9F%D0%BE%D0%B1%D0%B5%D0%B3_%D0%B8%D0%B7_%D0%A1%D0%BF%D0%B0%D0%B9%D0%B4%D0%B5%D1%80%D1%85%D1%8D%D0%B4\" title=\"Побег из Спайдерхэд\">Побег из Спайдерхэд</a></li>\n",
            "<li><a href=\"/wiki/%D0%91%D0%BE%D1%80%D1%8C%D0%B1%D0%B0_%D1%81%D0%BE_%D0%BB%D1%8C%D0%B4%D0%BE%D0%BC\" title=\"Борьба со льдом\">Борьба со льдом</a></li>\n",
            "<li><a class=\"mw-redirect\" href=\"/wiki/%D0%98%D0%BC%D1%8F_%D0%BD%D0%B0%D1%88%D0%B5_%E2%80%94_%D0%90%D0%B4%D0%B0%D0%BC\" title=\"Имя наше — Адам\">Имя наше — Адам</a></li>\n",
            "<li><a href=\"/wiki/%D0%A2%D0%B5%D1%85%D0%B0%D1%81%D1%81%D0%BA%D0%B0%D1%8F_%D1%80%D0%B5%D0%B7%D0%BD%D1%8F_%D0%B1%D0%B5%D0%BD%D0%B7%D0%BE%D0%BF%D0%B8%D0%BB%D0%BE%D0%B9_(%D1%84%D0%B8%D0%BB%D1%8C%D0%BC,_2022)\" title=\"Техасская резня бензопилой (фильм, 2022)\">Техасская резня бензопилой</a></li>\n",
            "<li><a href=\"/wiki/%D0%9D%D0%B0_%D0%97%D0%B0%D0%BF%D0%B0%D0%B4%D0%BD%D0%BE%D0%BC_%D1%84%D1%80%D0%BE%D0%BD%D1%82%D0%B5_%D0%B1%D0%B5%D0%B7_%D0%BF%D0%B5%D1%80%D0%B5%D0%BC%D0%B5%D0%BD_(%D1%84%D0%B8%D0%BB%D1%8C%D0%BC,_2022)\" title=\"На Западном фронте без перемен (фильм, 2022)\">На Западном фронте без перемен</a></li>\n",
            "<li><a href=\"/wiki/%D0%91%D0%BB%D0%BE%D0%BD%D0%B4%D0%B8%D0%BD%D0%BA%D0%B0_(%D1%84%D0%B8%D0%BB%D1%8C%D0%BC)\" title=\"Блондинка (фильм)\">Блондинка</a></li>\n",
            "<li><a href=\"/wiki/%D0%A0%D0%B0%D0%B7%D1%80%D1%83%D1%88%D0%B5%D0%BD%D0%B8%D0%B5_(%D0%BF%D1%80%D0%B5%D0%B4%D1%81%D1%82%D0%BE%D1%8F%D1%89%D0%B8%D0%B9_%D1%84%D0%B8%D0%BB%D1%8C%D0%BC)\" title=\"Разрушение (предстоящий фильм)\">Разрушение</a></li>\n",
            "<li><a href=\"/wiki/%D0%94%D0%BE%D1%81%D1%82%D0%B0%D1%82%D1%8C_%D0%BD%D0%BE%D0%B6%D0%B8_2\" title=\"Достать ножи 2\">Достать ножи 2</a></li>\n",
            "<li><a href=\"/wiki/%D0%94%D0%BE%D0%B2%D0%BE%D0%B4%D1%8B_%D1%80%D0%B0%D1%81%D1%81%D1%83%D0%B4%D0%BA%D0%B0_(%D1%84%D0%B8%D0%BB%D1%8C%D0%BC,_2022)\" title=\"Доводы рассудка (фильм, 2022)\">Доводы рассудка</a></li>\n",
            "<li><a href=\"/wiki/%D0%9F%D0%B8%D0%BD%D0%BE%D0%BA%D0%BA%D0%B8%D0%BE_(%D0%BC%D1%83%D0%BB%D1%8C%D1%82%D1%84%D0%B8%D0%BB%D1%8C%D0%BC,_2022)\" title=\"Пиноккио (мультфильм, 2022)\">Пиноккио</a></li>\n",
            "<li><a href=\"/wiki/%D0%90%D1%81%D1%82%D1%80%D0%BE%D0%BD%D0%B0%D0%B2%D1%82_(%D1%84%D0%B8%D0%BB%D1%8C%D0%BC)\" title=\"Астронавт (фильм)\">Астронавт</a></li>\n",
            "<li><a href=\"/wiki/%D0%94%D0%BE%D0%B1%D1%80%D1%8B%D0%B9_%D0%BC%D0%B5%D0%B4%D0%B1%D1%80%D0%B0%D1%82\" title=\"Добрый медбрат\">Добрый медбрат</a></li>\n",
            "<li><a href=\"/wiki/%D0%A1%D0%B5%D1%80%D1%8B%D0%B9_%D1%87%D0%B5%D0%BB%D0%BE%D0%B2%D0%B5%D0%BA_(%D1%84%D0%B8%D0%BB%D1%8C%D0%BC)\" title=\"Серый человек (фильм)\">Серый человек</a></li>\n",
            "<li><a href=\"/wiki/%D0%91%D0%B5%D0%BB%D1%8B%D0%B9_%D1%88%D1%83%D0%BC_(%D1%84%D0%B8%D0%BB%D1%8C%D0%BC,_2022)\" title=\"Белый шум (фильм, 2022)\">Белый шум</a></li></ul>\n",
            "</div></td></tr><tr><td class=\"navbox-abovebelow hlist\" colspan=\"2\"><div>\n",
            "<ul><li><a class=\"image\" href=\"/wiki/%D0%A4%D0%B0%D0%B9%D0%BB:Symbol_template_class.svg\" title=\"Шаблон\"><img alt=\"Шаблон\" data-file-height=\"185\" data-file-width=\"180\" decoding=\"async\" height=\"16\" src=\"//upload.wikimedia.org/wikipedia/commons/thumb/5/5c/Symbol_template_class.svg/16px-Symbol_template_class.svg.png\" srcset=\"//upload.wikimedia.org/wikipedia/commons/thumb/5/5c/Symbol_template_class.svg/24px-Symbol_template_class.svg.png 1.5x, //upload.wikimedia.org/wikipedia/commons/thumb/5/5c/Symbol_template_class.svg/32px-Symbol_template_class.svg.png 2x\" width=\"16\"/></a> <b><a href=\"/wiki/%D0%A8%D0%B0%D0%B1%D0%BB%D0%BE%D0%BD:Netflix\" title=\"Шаблон:Netflix\">Netflix</a></b></li>\n",
            "<li><b>Сериалы:</b> <a class=\"mw-redirect\" href=\"/wiki/%D0%A8%D0%B0%D0%B1%D0%BB%D0%BE%D0%BD:%D0%97%D0%B0%D0%B2%D0%B5%D1%80%D1%88%D1%91%D0%BD%D0%BD%D1%8B%D0%B5_%D1%81%D0%B5%D1%80%D0%B8%D0%B0%D0%BB%D1%8B_Netflix\" title=\"Шаблон:Завершённые сериалы Netflix\">Завершённые</a></li>\n",
            "<li><a href=\"/wiki/%D0%A8%D0%B0%D0%B1%D0%BB%D0%BE%D0%BD:%D0%92%D0%BE%D0%B7%D1%80%D0%BE%D0%B6%D0%B4%D1%91%D0%BD%D0%BD%D1%8B%D0%B5_%D1%81%D0%B5%D1%80%D0%B8%D0%B0%D0%BB%D1%8B_Netflix\" title=\"Шаблон:Возрождённые сериалы Netflix\">Возрождённые</a></li>\n",
            "<li><a href=\"/wiki/%D0%A8%D0%B0%D0%B1%D0%BB%D0%BE%D0%BD:%D0%A2%D0%B5%D0%BA%D1%83%D1%89%D0%B8%D0%B5_%D1%81%D0%B5%D1%80%D0%B8%D0%B0%D0%BB%D1%8B_Netflix\" title=\"Шаблон:Текущие сериалы Netflix\">Текущие</a></li>\n",
            "<li><a href=\"/wiki/%D0%A8%D0%B0%D0%B1%D0%BB%D0%BE%D0%BD:%D0%9F%D1%80%D0%B5%D0%B4%D1%81%D1%82%D0%BE%D1%8F%D1%89%D0%B8%D0%B5_%D1%81%D0%B5%D1%80%D0%B8%D0%B0%D0%BB%D1%8B_Netflix\" title=\"Шаблон:Предстоящие сериалы Netflix\">Предстоящие</a></li></ul>\n",
            "</div></td></tr></tbody></table></div>\n",
            "<div aria-labelledby=\"Стриминговые_сервисы\" class=\"navbox\" data-name=\"Стриминговые сервисы\" role=\"navigation\"><table class=\"nowraplinks collapsible autocollapse navbox-inner\" style=\"border-spacing:0;background:transparent;color:inherit\"><tbody><tr><th class=\"navbox-title\" colspan=\"2\" scope=\"colgroup\"><span class=\"navbox-gear\" style=\"float:left;text-align:left;width:5em;margin-right:0.5em\"><a href=\"/wiki/%D0%A8%D0%B0%D0%B1%D0%BB%D0%BE%D0%BD:%D0%A1%D1%82%D1%80%D0%B8%D0%BC%D0%B8%D0%BD%D0%B3%D0%BE%D0%B2%D1%8B%D0%B5_%D1%81%D0%B5%D1%80%D0%B2%D0%B8%D1%81%D1%8B\" title=\"Перейти к шаблону «Стриминговые сервисы»\"><img alt=\"Перейти к шаблону «Стриминговые сервисы»\" class=\"noprint\" data-file-height=\"14\" data-file-width=\"14\" decoding=\"async\" height=\"14\" src=\"//upload.wikimedia.org/wikipedia/commons/thumb/c/c9/Wikipedia_interwiki_section_gear_icon.svg/14px-Wikipedia_interwiki_section_gear_icon.svg.png\" srcset=\"//upload.wikimedia.org/wikipedia/commons/thumb/c/c9/Wikipedia_interwiki_section_gear_icon.svg/21px-Wikipedia_interwiki_section_gear_icon.svg.png 1.5x, //upload.wikimedia.org/wikipedia/commons/thumb/c/c9/Wikipedia_interwiki_section_gear_icon.svg/28px-Wikipedia_interwiki_section_gear_icon.svg.png 2x\" width=\"14\"/></a> </span><div id=\"Стриминговые_сервисы\" style=\"font-size:114%;margin:0 5em\"><a href=\"/wiki/%D0%9F%D0%BE%D1%82%D0%BE%D0%BA%D0%BE%D0%B2%D0%BE%D0%B5_%D0%BC%D1%83%D0%BB%D1%8C%D1%82%D0%B8%D0%BC%D0%B5%D0%B4%D0%B8%D0%B0#Стриминговые_сервисы\" title=\"Потоковое мультимедиа\">Стриминговые сервисы</a></div></th></tr><tr><th class=\"navbox-group\" scope=\"row\" style=\"width:1px\"><a href=\"/wiki/%D0%9C%D1%83%D0%B7%D1%8B%D0%BA%D0%B0\" title=\"Музыка\">Музыка</a></th><td class=\"navbox-list navbox-odd hlist\" style=\"text-align:left;border-left-width:2px;border-left-style:solid;width:100%;padding:0px\"><div style=\"padding:0em 0.25em\">\n",
            "<ul><li><a class=\"new\" href=\"/w/index.php?title=Amazon_Music&amp;action=edit&amp;redlink=1\" title=\"Amazon Music (страница отсутствует)\">Amazon Music</a></li>\n",
            "<li><a href=\"/wiki/Apple_Music\" title=\"Apple Music\">Apple Music</a></li>\n",
            "<li><a href=\"/wiki/VK_%D0%9C%D1%83%D0%B7%D1%8B%D0%BA%D0%B0\" title=\"VK Музыка\">VK Музыка</a></li>\n",
            "<li><a href=\"/wiki/Deezer\" title=\"Deezer\">Deezer</a></li>\n",
            "<li><a href=\"/wiki/Last.fm\" title=\"Last.fm\">Last.fm</a></li>\n",
            "<li><a href=\"/wiki/Mixcloud\" title=\"Mixcloud\">Mixcloud</a></li>\n",
            "<li><a href=\"/wiki/Pandora_(%D1%80%D0%B0%D0%B4%D0%B8%D0%BE)\" title=\"Pandora (радио)\">Pandora</a></li>\n",
            "<li><a href=\"/wiki/Spotify\" title=\"Spotify\">Spotify</a></li>\n",
            "<li><a href=\"/wiki/SoundCloud\" title=\"SoundCloud\">SoundCloud</a></li>\n",
            "<li><a href=\"/wiki/Tidal_(%D1%81%D0%B5%D1%80%D0%B2%D0%B8%D1%81)\" title=\"Tidal (сервис)\">Tidal</a></li>\n",
            "<li><a href=\"/wiki/YouTube_Music\" title=\"YouTube Music\">YouTube Music</a></li>\n",
            "<li><a href=\"/wiki/%D0%A1%D0%B1%D0%B5%D1%80%D0%97%D0%B2%D1%83%D0%BA\" title=\"СберЗвук\">СберЗвук</a></li>\n",
            "<li><a href=\"/wiki/%D0%AF%D0%BD%D0%B4%D0%B5%D0%BA%D1%81.%D0%9C%D1%83%D0%B7%D1%8B%D0%BA%D0%B0\" title=\"Яндекс.Музыка\">Яндекс.Музыка</a></li></ul>\n",
            "</div></td></tr><tr><th class=\"navbox-group\" scope=\"row\" style=\"width:1px\"><a href=\"/wiki/%D0%92%D0%B8%D0%B4%D0%B5%D0%BE_%D0%BF%D0%BE_%D0%B7%D0%B0%D0%BF%D1%80%D0%BE%D1%81%D1%83\" title=\"Видео по запросу\">Видео</a></th><td class=\"navbox-list navbox-even hlist\" style=\"text-align:left;border-left-width:2px;border-left-style:solid;width:100%;padding:0px\"><div style=\"padding:0em 0.25em\">\n",
            "<ul><li><a class=\"new\" href=\"/w/index.php?title=56.com&amp;action=edit&amp;redlink=1\" title=\"56.com (страница отсутствует)\">56.com</a></li>\n",
            "<li><a href=\"/wiki/Prime_Video\" title=\"Prime Video\">Amazon Prime Video</a></li>\n",
            "<li><a href=\"/wiki/AOL\" title=\"AOL\">AOL Video</a></li>\n",
            "<li><a href=\"/wiki/Apple_TV%2B\" title=\"Apple TV+\">Apple TV+</a></li>\n",
            "<li><a class=\"new\" href=\"/w/index.php?title=BBC_iPlayer&amp;action=edit&amp;redlink=1\" title=\"BBC iPlayer (страница отсутствует)\">BBC iPlayer</a></li>\n",
            "<li><a class=\"new\" href=\"/w/index.php?title=Blockbuster_LLC&amp;action=edit&amp;redlink=1\" title=\"Blockbuster LLC (страница отсутствует)\">Blockbuster</a></li>\n",
            "<li><a href=\"/wiki/Canal%2B\" title=\"Canal+\">Canalplay</a></li>\n",
            "<li><a href=\"/wiki/Crunchyroll\" title=\"Crunchyroll\">Crunchyroll</a></li>\n",
            "<li><a href=\"/wiki/Dailymotion\" title=\"Dailymotion\">Dailymotion</a></li>\n",
            "<li><a href=\"/wiki/DAZN\" title=\"DAZN\">DAZN</a></li>\n",
            "<li><a href=\"/wiki/Disney%2B\" title=\"Disney+\">Disney+</a></li>\n",
            "<li><a href=\"/wiki/HBO_Max\" title=\"HBO Max\">HBO Max</a></li>\n",
            "<li><a href=\"/wiki/Hulu\" title=\"Hulu\">Hulu</a></li>\n",
            "<li><a href=\"/wiki/Google_Play\" title=\"Google Play\">Google Play</a></li>\n",
            "<li><a href=\"/wiki/ITunes_Store\" title=\"ITunes Store\">iTunes Store</a></li>\n",
            "<li><a href=\"/wiki/Ivi.ru\" title=\"Ivi.ru\">ivi</a></li>\n",
            "<li><a href=\"/wiki/Kion\" title=\"Kion\">Kion</a></li>\n",
            "<li><a href=\"/wiki/MEGOGO\" title=\"MEGOGO\">MEGOGO</a></li>\n",
            "<li><a class=\"new\" href=\"/w/index.php?title=More.TV&amp;action=edit&amp;redlink=1\" title=\"More.TV (страница отсутствует)\">More.TV</a></li>\n",
            "<li><a href=\"/wiki/MUBI\" title=\"MUBI\">MUBI</a></li>\n",
            "<li><a class=\"mw-selflink selflink\">Netflix</a></li>\n",
            "<li><a href=\"/wiki/Okko_(%D0%BE%D0%BD%D0%BB%D0%B0%D0%B9%D0%BD-%D0%BA%D0%B8%D0%BD%D0%BE%D1%82%D0%B5%D0%B0%D1%82%D1%80)\" title=\"Okko (онлайн-кинотеатр)\">Okko</a></li>\n",
            "<li><a href=\"/wiki/Paramount%2B\" title=\"Paramount+\">Paramount+</a></li>\n",
            "<li><a href=\"/wiki/Peacock_(%D1%81%D1%82%D1%80%D0%B8%D0%BC%D0%B8%D0%BD%D0%B3%D0%BE%D0%B2%D1%8B%D0%B9_%D1%81%D0%B5%D1%80%D0%B2%D0%B8%D1%81)\" title=\"Peacock (стриминговый сервис)\">Peacock</a></li>\n",
            "<li><a href=\"/wiki/Premier_(%D0%BA%D0%BE%D0%BC%D0%BF%D0%B0%D0%BD%D0%B8%D1%8F)\" title=\"Premier (компания)\">Premier</a></li>\n",
            "<li><a href=\"/wiki/Rutube\" title=\"Rutube\">Rutube</a></li>\n",
            "<li><a href=\"/wiki/Shudder\" title=\"Shudder\">Shudder</a></li>\n",
            "<li><a href=\"/wiki/Start_(%D0%BE%D0%BD%D0%BB%D0%B0%D0%B9%D0%BD-%D0%BA%D0%B8%D0%BD%D0%BE%D1%82%D0%B5%D0%B0%D1%82%D1%80)\" title=\"Start (онлайн-кинотеатр)\">Start</a></li>\n",
            "<li><a href=\"/wiki/Tvigle\" title=\"Tvigle\">Tvigle</a></li>\n",
            "<li><a href=\"/wiki/Vimeo\" title=\"Vimeo\">Vimeo</a></li>\n",
            "<li><a href=\"/wiki/VOKA\" title=\"VOKA\">VOKA</a></li>\n",
            "<li><a class=\"new\" href=\"/w/index.php?title=WatchESPN&amp;action=edit&amp;redlink=1\" title=\"WatchESPN (страница отсутствует)\">WatchESPN</a></li>\n",
            "<li><a class=\"new\" href=\"/w/index.php?title=Wink&amp;action=edit&amp;redlink=1\" title=\"Wink (страница отсутствует)\">Wink</a></li>\n",
            "<li><a href=\"/wiki/WWE_Network\" title=\"WWE Network\">WWE Network</a></li>\n",
            "<li><a href=\"/wiki/Youku\" title=\"Youku\">Youku</a></li>\n",
            "<li><a href=\"/wiki/YouTube\" title=\"YouTube\">YouTube</a></li>\n",
            "<li><a href=\"/wiki/%D0%90%D0%BC%D0%B5%D0%B4%D0%B8%D0%B0%D1%82%D0%B5%D0%BA%D0%B0\" title=\"Амедиатека\">Амедиатека</a></li>\n",
            "<li><a href=\"/wiki/%D0%9A%D0%B8%D0%BD%D0%BE%D0%BF%D0%BE%D0%B8%D1%81%D0%BA\" title=\"Кинопоиск\">Кинопоиск</a></li>\n",
            "<li><a href=\"/wiki/%D0%A1%D0%BC%D0%BE%D1%82%D1%80%D0%B8%D0%BC\" title=\"Смотрим\">Смотрим</a></li></ul>\n",
            "</div></td></tr></tbody></table></div>\n",
            "<div aria-labelledby=\"База_расчёта_индекса_Nasdaq-100_фондовой_биржи_NASDAQ\" class=\"navbox\" data-name=\"NASDAQ-100\" role=\"navigation\"><table class=\"nowraplinks collapsible collapsed navbox-inner\" style=\"border-spacing:0;background:transparent;color:inherit\"><tbody><tr><th class=\"navbox-title\" colspan=\"2\" scope=\"colgroup\"><span class=\"navbox-gear\" style=\"float:left;text-align:left;width:5em;margin-right:0.5em\"><a href=\"/wiki/%D0%A8%D0%B0%D0%B1%D0%BB%D0%BE%D0%BD:NASDAQ-100\" title=\"Перейти к шаблону «NASDAQ-100»\"><img alt=\"Перейти к шаблону «NASDAQ-100»\" class=\"noprint\" data-file-height=\"14\" data-file-width=\"14\" decoding=\"async\" height=\"14\" src=\"//upload.wikimedia.org/wikipedia/commons/thumb/c/c9/Wikipedia_interwiki_section_gear_icon.svg/14px-Wikipedia_interwiki_section_gear_icon.svg.png\" srcset=\"//upload.wikimedia.org/wikipedia/commons/thumb/c/c9/Wikipedia_interwiki_section_gear_icon.svg/21px-Wikipedia_interwiki_section_gear_icon.svg.png 1.5x, //upload.wikimedia.org/wikipedia/commons/thumb/c/c9/Wikipedia_interwiki_section_gear_icon.svg/28px-Wikipedia_interwiki_section_gear_icon.svg.png 2x\" width=\"14\"/></a> </span><div id=\"База_расчёта_индекса_Nasdaq-100_фондовой_биржи_NASDAQ\" style=\"font-size:114%;margin:0 5em\">База расчёта индекса <a href=\"/wiki/Nasdaq-100\" title=\"Nasdaq-100\">Nasdaq-100</a> фондовой биржи <a href=\"/wiki/NASDAQ\" title=\"NASDAQ\">NASDAQ</a></div></th></tr><tr><td class=\"navbox-list navbox-odd hlist\" style=\"width:100%;padding:0px\"><div style=\"padding:0em 0.25em\"><div class=\"NavContent\">\n",
            "<div>\n",
            "<ul><li><a href=\"/wiki/Activision_Blizzard\" title=\"Activision Blizzard\">Activision Blizzard</a></li>\n",
            "<li><a href=\"/wiki/Adobe\" title=\"Adobe\">Adobe</a></li>\n",
            "<li><a href=\"/wiki/AMD\" title=\"AMD\">AMD</a></li>\n",
            "<li><a class=\"new\" href=\"/w/index.php?title=Alexion_Pharmaceuticals&amp;action=edit&amp;redlink=1\" title=\"Alexion Pharmaceuticals (страница отсутствует)\">Alexion Pharmaceuticals</a></li>\n",
            "<li><a class=\"new\" href=\"/w/index.php?title=Align_Technology&amp;action=edit&amp;redlink=1\" title=\"Align Technology (страница отсутствует)\">Align Technology</a></li>\n",
            "<li><a href=\"/wiki/Alphabet\" title=\"Alphabet\">Alphabet</a></li>\n",
            "<li><a href=\"/wiki/Amazon\" title=\"Amazon\">Amazon</a></li>\n",
            "<li><a href=\"/wiki/American_Airlines\" title=\"American Airlines\">American Airlines Group</a></li>\n",
            "<li><a href=\"/wiki/Amgen\" title=\"Amgen\">Amgen</a></li>\n",
            "<li><a href=\"/wiki/Analog_Devices\" title=\"Analog Devices\">Analog Devices</a></li>\n",
            "<li><a class=\"new\" href=\"/w/index.php?title=Ansys&amp;action=edit&amp;redlink=1\" title=\"Ansys (страница отсутствует)\">Ansys</a></li>\n",
            "<li><a href=\"/wiki/Apple\" title=\"Apple\">Apple</a></li>\n",
            "<li><a href=\"/wiki/Applied_Materials\" title=\"Applied Materials\">Applied Materials</a></li>\n",
            "<li><a href=\"/wiki/ASML\" title=\"ASML\">ASML</a></li>\n",
            "<li><a href=\"/wiki/Autodesk\" title=\"Autodesk\">Autodesk</a></li>\n",
            "<li><a href=\"/wiki/Automatic_Data_Processing\" title=\"Automatic Data Processing\">Automatic Data Processing</a></li>\n",
            "<li><a href=\"/wiki/Baidu\" title=\"Baidu\">Baidu</a></li>\n",
            "<li><a class=\"new\" href=\"/w/index.php?title=Biogen&amp;action=edit&amp;redlink=1\" title=\"Biogen (страница отсутствует)\">Biogen</a></li>\n",
            "<li><a class=\"new\" href=\"/w/index.php?title=BioMarin_Pharmaceutical&amp;action=edit&amp;redlink=1\" title=\"BioMarin Pharmaceutical (страница отсутствует)\">BioMarin Pharmaceutical</a></li>\n",
            "<li><a href=\"/wiki/Booking.com\" title=\"Booking.com\">Booking Holdings</a></li>\n",
            "<li><a href=\"/wiki/Broadcom_Inc.\" title=\"Broadcom Inc.\">Broadcom Inc.</a></li>\n",
            "<li><a href=\"/wiki/Cadence_Design_Systems\" title=\"Cadence Design Systems\">Cadence Design Systems</a></li>\n",
            "<li><a class=\"new\" href=\"/w/index.php?title=CDW&amp;action=edit&amp;redlink=1\" title=\"CDW (страница отсутствует)\">CDW</a></li>\n",
            "<li><a class=\"new\" href=\"/w/index.php?title=Cerner&amp;action=edit&amp;redlink=1\" title=\"Cerner (страница отсутствует)\">Cerner</a></li>\n",
            "<li><a class=\"new\" href=\"/w/index.php?title=Charter_Communications&amp;action=edit&amp;redlink=1\" title=\"Charter Communications (страница отсутствует)\">Charter Communications</a></li>\n",
            "<li><a href=\"/wiki/Check_Point\" title=\"Check Point\">Check Point</a></li>\n",
            "<li><a class=\"new\" href=\"/w/index.php?title=Cintas&amp;action=edit&amp;redlink=1\" title=\"Cintas (страница отсутствует)\">Cintas</a></li>\n",
            "<li><a href=\"/wiki/Cisco\" title=\"Cisco\">Cisco Systems</a></li>\n",
            "<li><a href=\"/wiki/Citrix\" title=\"Citrix\">Citrix Systems</a></li>\n",
            "<li><a class=\"new\" href=\"/w/index.php?title=Cognizant&amp;action=edit&amp;redlink=1\" title=\"Cognizant (страница отсутствует)\">Cognizant</a></li>\n",
            "<li><a href=\"/wiki/Comcast\" title=\"Comcast\">Comcast</a></li>\n",
            "<li><a class=\"new\" href=\"/w/index.php?title=Copart&amp;action=edit&amp;redlink=1\" title=\"Copart (страница отсутствует)\">Copart</a></li>\n",
            "<li><a class=\"new\" href=\"/w/index.php?title=CoStar_Group&amp;action=edit&amp;redlink=1\" title=\"CoStar Group (страница отсутствует)\">CoStar Group</a></li>\n",
            "<li><a href=\"/wiki/Costco\" title=\"Costco\">Costco</a></li>\n",
            "<li><a class=\"new\" href=\"/w/index.php?title=CSX_Corporation&amp;action=edit&amp;redlink=1\" title=\"CSX Corporation (страница отсутствует)\">CSX</a></li>\n",
            "<li><a class=\"new\" href=\"/w/index.php?title=Dexcom&amp;action=edit&amp;redlink=1\" title=\"Dexcom (страница отсутствует)\">Dexcom</a></li>\n",
            "<li><a href=\"/wiki/Dollar_Tree\" title=\"Dollar Tree\">Dollar Tree</a></li>\n",
            "<li><a href=\"/wiki/EBay\" title=\"EBay\">eBay</a></li>\n",
            "<li><a href=\"/wiki/Electronic_Arts\" title=\"Electronic Arts\">Electronic Arts</a></li>\n",
            "<li><a class=\"new\" href=\"/w/index.php?title=Exelon&amp;action=edit&amp;redlink=1\" title=\"Exelon (страница отсутствует)\">Exelon</a></li>\n",
            "<li><a href=\"/wiki/Expedia_Group\" title=\"Expedia Group\">Expedia Group</a></li>\n",
            "<li><a class=\"new\" href=\"/w/index.php?title=Fastenal&amp;action=edit&amp;redlink=1\" title=\"Fastenal (страница отсутствует)\">Fastenal</a></li>\n",
            "<li><a class=\"new\" href=\"/w/index.php?title=Fiserv&amp;action=edit&amp;redlink=1\" title=\"Fiserv (страница отсутствует)\">Fiserv</a></li>\n",
            "<li><a class=\"new\" href=\"/w/index.php?title=Fox_Corporation&amp;action=edit&amp;redlink=1\" title=\"Fox Corporation (страница отсутствует)\">Fox Corporation</a></li>\n",
            "<li><a class=\"new\" href=\"/w/index.php?title=Gilead_Sciences&amp;action=edit&amp;redlink=1\" title=\"Gilead Sciences (страница отсутствует)\">Gilead Sciences</a></li>\n",
            "<li><a href=\"/wiki/Idexx_Laboratories\" title=\"Idexx Laboratories\">Idexx Laboratories</a></li>\n",
            "<li><a href=\"/wiki/Illumina\" title=\"Illumina\">Illumina</a></li>\n",
            "<li><a class=\"new\" href=\"/w/index.php?title=Incyte&amp;action=edit&amp;redlink=1\" title=\"Incyte (страница отсутствует)\">Incyte</a></li>\n",
            "<li><a href=\"/wiki/Intel\" title=\"Intel\">Intel</a></li>\n",
            "<li><a class=\"new\" href=\"/w/index.php?title=Intuit&amp;action=edit&amp;redlink=1\" title=\"Intuit (страница отсутствует)\">Intuit</a></li>\n",
            "<li><a class=\"new\" href=\"/w/index.php?title=Intuitive_Surgical&amp;action=edit&amp;redlink=1\" title=\"Intuitive Surgical (страница отсутствует)\">Intuitive Surgical</a></li>\n",
            "<li><a href=\"/wiki/JD.com\" title=\"JD.com\">JD.com</a></li>\n",
            "<li><a class=\"new\" href=\"/w/index.php?title=KLA_Corporation&amp;action=edit&amp;redlink=1\" title=\"KLA Corporation (страница отсутствует)\">KLA Corporation</a></li>\n",
            "<li><a href=\"/wiki/Kraft_Heinz_Company\" title=\"Kraft Heinz Company\">Kraft Heinz</a></li>\n",
            "<li><a class=\"new\" href=\"/w/index.php?title=Lam_Research&amp;action=edit&amp;redlink=1\" title=\"Lam Research (страница отсутствует)\">Lam Research</a></li>\n",
            "<li><a class=\"new\" href=\"/w/index.php?title=Liberty_Global&amp;action=edit&amp;redlink=1\" title=\"Liberty Global (страница отсутствует)\">Liberty Global</a></li>\n",
            "<li><a class=\"new\" href=\"/w/index.php?title=Lululemon_Athletica&amp;action=edit&amp;redlink=1\" title=\"Lululemon Athletica (страница отсутствует)\">Lululemon Athletica</a></li>\n",
            "<li><a href=\"/wiki/Marriott_International\" title=\"Marriott International\">Marriott International</a></li>\n",
            "<li><a class=\"new\" href=\"/w/index.php?title=Maxim_Integrated&amp;action=edit&amp;redlink=1\" title=\"Maxim Integrated (страница отсутствует)\">Maxim Integrated</a></li>\n",
            "<li><a class=\"new\" href=\"/w/index.php?title=MercadoLibre&amp;action=edit&amp;redlink=1\" title=\"MercadoLibre (страница отсутствует)\">MercadoLibre</a></li>\n",
            "<li><a href=\"/wiki/Meta_Platforms\" title=\"Meta Platforms\">Meta</a></li>\n",
            "<li><a href=\"/wiki/Microchip_Technology\" title=\"Microchip Technology\">Microchip Technology</a></li>\n",
            "<li><a href=\"/wiki/Micron_Technology\" title=\"Micron Technology\">Micron Technology</a></li>\n",
            "<li><a href=\"/wiki/Microsoft\" title=\"Microsoft\">Microsoft</a></li>\n",
            "<li><a href=\"/wiki/Mondel%C4%93z_International\" title=\"Mondelēz International\">Mondelēz International</a></li>\n",
            "<li><a class=\"new\" href=\"/w/index.php?title=Monster_Beverage&amp;action=edit&amp;redlink=1\" title=\"Monster Beverage (страница отсутствует)\">Monster Beverage</a></li>\n",
            "<li><a href=\"/wiki/NetApp\" title=\"NetApp\">NetApp</a></li>\n",
            "<li><a href=\"/wiki/NetEase\" title=\"NetEase\">NetEase</a></li>\n",
            "<li><a class=\"mw-selflink selflink\">Netflix</a></li>\n",
            "<li><a href=\"/wiki/Nvidia\" title=\"Nvidia\">Nvidia</a></li>\n",
            "<li><a href=\"/wiki/NXP_Semiconductors\" title=\"NXP Semiconductors\">NXP Semiconductors</a></li>\n",
            "<li><a class=\"new\" href=\"/w/index.php?title=O%27Reilly_Auto_Parts&amp;action=edit&amp;redlink=1\" title=\"O'Reilly Auto Parts (страница отсутствует)\">O'Reilly Auto Parts</a></li>\n",
            "<li><a href=\"/wiki/Paccar\" title=\"Paccar\">Paccar</a></li>\n",
            "<li><a class=\"new\" href=\"/w/index.php?title=Paychex&amp;action=edit&amp;redlink=1\" title=\"Paychex (страница отсутствует)\">Paychex</a></li>\n",
            "<li><a href=\"/wiki/PayPal\" title=\"PayPal\">PayPal</a></li>\n",
            "<li><a href=\"/wiki/PepsiCo\" title=\"PepsiCo\">PepsiCo</a></li>\n",
            "<li><a href=\"/wiki/Qualcomm\" title=\"Qualcomm\">Qualcomm</a></li>\n",
            "<li><a class=\"new\" href=\"/w/index.php?title=Regeneron_Pharmaceuticals&amp;action=edit&amp;redlink=1\" title=\"Regeneron Pharmaceuticals (страница отсутствует)\">Regeneron Pharmaceuticals</a></li>\n",
            "<li><a href=\"/wiki/Ross_Stores\" title=\"Ross Stores\">Ross Stores</a></li>\n",
            "<li><a class=\"new\" href=\"/w/index.php?title=Seagen&amp;action=edit&amp;redlink=1\" title=\"Seagen (страница отсутствует)\">Seagen</a></li>\n",
            "<li><a class=\"new\" href=\"/w/index.php?title=Sirius_XM&amp;action=edit&amp;redlink=1\" title=\"Sirius XM (страница отсутствует)\">Sirius XM</a></li>\n",
            "<li><a class=\"new\" href=\"/w/index.php?title=Skyworks_Solutions&amp;action=edit&amp;redlink=1\" title=\"Skyworks Solutions (страница отсутствует)\">Skyworks Solutions</a></li>\n",
            "<li><a href=\"/wiki/Splunk\" title=\"Splunk\">Splunk</a></li>\n",
            "<li><a href=\"/wiki/Starbucks\" title=\"Starbucks\">Starbucks</a></li>\n",
            "<li><a href=\"/wiki/Synopsys\" title=\"Synopsys\">Synopsys</a></li>\n",
            "<li><a href=\"/wiki/T-Mobile_US\" title=\"T-Mobile US\">T-Mobile US</a></li>\n",
            "<li><a href=\"/wiki/Take-Two_Interactive\" title=\"Take-Two Interactive\">Take-Two Interactive</a></li>\n",
            "<li><a href=\"/wiki/Tesla\" title=\"Tesla\">Tesla</a></li>\n",
            "<li><a href=\"/wiki/Texas_Instruments\" title=\"Texas Instruments\">Texas Instruments</a></li>\n",
            "<li><a class=\"new\" href=\"/w/index.php?title=Trip.com_Group&amp;action=edit&amp;redlink=1\" title=\"Trip.com Group (страница отсутствует)\">Trip.com Group</a></li>\n",
            "<li><a class=\"new\" href=\"/w/index.php?title=Ulta_Beauty&amp;action=edit&amp;redlink=1\" title=\"Ulta Beauty (страница отсутствует)\">Ulta Beauty</a></li>\n",
            "<li><a class=\"new\" href=\"/w/index.php?title=United_Airlines_Holdings&amp;action=edit&amp;redlink=1\" title=\"United Airlines Holdings (страница отсутствует)\">United Airlines Holdings</a></li>\n",
            "<li><a href=\"/wiki/Verisign\" title=\"Verisign\">Verisign</a></li>\n",
            "<li><a class=\"new\" href=\"/w/index.php?title=Verisk_Analytics&amp;action=edit&amp;redlink=1\" title=\"Verisk Analytics (страница отсутствует)\">Verisk Analytics</a></li>\n",
            "<li><a class=\"new\" href=\"/w/index.php?title=Vertex_Pharmaceuticals&amp;action=edit&amp;redlink=1\" title=\"Vertex Pharmaceuticals (страница отсутствует)\">Vertex Pharmaceuticals</a></li>\n",
            "<li><a href=\"/wiki/Walgreens_Boots_Alliance\" title=\"Walgreens Boots Alliance\">Walgreens Boots Alliance</a></li>\n",
            "<li><a href=\"/wiki/Western_Digital\" title=\"Western Digital\">Western Digital</a></li>\n",
            "<li><a class=\"new\" href=\"/w/index.php?title=Workday,_Inc.&amp;action=edit&amp;redlink=1\" title=\"Workday, Inc. (страница отсутствует)\">Workday, Inc.</a></li>\n",
            "<li><a class=\"new\" href=\"/w/index.php?title=Xcel_Energy&amp;action=edit&amp;redlink=1\" title=\"Xcel Energy (страница отсутствует)\">Xcel Energy</a></li>\n",
            "<li><a href=\"/wiki/Xilinx\" title=\"Xilinx\">Xilinx</a></li>\n",
            "<li><a href=\"/wiki/Zoom_Video_Communications\" title=\"Zoom Video Communications\">Zoom Video Communications</a></li></ul>\n",
            "</div>\n",
            "</div></div></td></tr></tbody></table></div></div></td></tr></tbody></table></div>\n",
            "<!-- \n",
            "NewPP limit report\n",
            "Parsed by mw1423\n",
            "Cached time: 20220312002405\n",
            "Cache expiry: 86400\n",
            "Reduced expiry: true\n",
            "Complications: [vary‐revision‐sha1]\n",
            "CPU time usage: 1.883 seconds\n",
            "Real time usage: 2.189 seconds\n",
            "Preprocessor visited node count: 21052/1000000\n",
            "Post‐expand include size: 490975/2097152 bytes\n",
            "Template argument size: 65781/2097152 bytes\n",
            "Highest expansion depth: 23/100\n",
            "Expensive parser function count: 75/500\n",
            "Unstrip recursion depth: 0/20\n",
            "Unstrip post‐expand size: 51023/5000000 bytes\n",
            "Lua time usage: 0.948/10.000 seconds\n",
            "Lua memory usage: 16358841/52428800 bytes\n",
            "Number of Wikibase entities loaded: 15/400\n",
            "-->\n",
            "<!--\n",
            "Transclusion expansion time report (%,ms,calls,template)\n",
            "100.00% 1895.083      1 -total\n",
            " 38.01%  720.323      1 Шаблон:Компания\n",
            " 35.31%  669.085      1 Шаблон:Карточка\n",
            " 29.33%  555.826      1 Шаблон:Примечания\n",
            " 17.69%  335.325     36 Шаблон:Cite_web\n",
            " 10.42%  197.491      1 Шаблон:Навигационный_блок\n",
            "  9.41%  178.331      7 Шаблон:Wikidata\n",
            "  8.88%  168.368      5 Шаблон:Навигационная_таблица\n",
            "  8.15%  154.429      1 Шаблон:Внешние_ссылки\n",
            "  7.68%  145.521      1 Шаблон:NetflixFilms\n",
            "-->\n",
            "\n",
            "<!-- Saved in parser cache with key ruwiki:pcache:idhash:3406461-0!canonical and timestamp 20220312002403 and revision id 120557852. Serialized with JSON.\n",
            " -->\n",
            "</div><noscript><img alt=\"\" height=\"1\" src=\"//ru.wikipedia.org/wiki/Special:CentralAutoLogin/start?type=1x1\" style=\"border: none; position: absolute;\" title=\"\" width=\"1\"/></noscript>\n",
            "<div class=\"printfooter\">Источник — <a dir=\"ltr\" href=\"https://ru.wikipedia.org/w/index.php?title=Netflix&amp;oldid=120557852\">https://ru.wikipedia.org/w/index.php?title=Netflix&amp;oldid=120557852</a></div></div>\n",
            "\t\t<div class=\"catlinks\" data-mw=\"interface\" id=\"catlinks\"><div class=\"mw-normal-catlinks\" id=\"mw-normal-catlinks\"><a href=\"/wiki/%D0%A1%D0%BB%D1%83%D0%B6%D0%B5%D0%B1%D0%BD%D0%B0%D1%8F:%D0%9A%D0%B0%D1%82%D0%B5%D0%B3%D0%BE%D1%80%D0%B8%D0%B8\" title=\"Служебная:Категории\">Категории</a>: <ul><li><a href=\"/wiki/%D0%9A%D0%B0%D1%82%D0%B5%D0%B3%D0%BE%D1%80%D0%B8%D1%8F:%D0%9A%D0%BE%D0%BC%D0%BF%D0%B0%D0%BD%D0%B8%D0%B8,_%D0%B8%D0%BC%D0%B5%D1%8E%D1%89%D0%B8%D0%B5_%D0%BB%D0%B8%D1%81%D1%82%D0%B8%D0%BD%D0%B3_%D0%B0%D0%BA%D1%86%D0%B8%D0%B9_%D0%BD%D0%B0_NASDAQ\" title=\"Категория:Компании, имеющие листинг акций на NASDAQ\">Компании, имеющие листинг акций на NASDAQ</a></li><li><a href=\"/wiki/%D0%9A%D0%B0%D1%82%D0%B5%D0%B3%D0%BE%D1%80%D0%B8%D1%8F:%D0%9A%D0%BE%D0%BC%D0%BF%D0%B0%D0%BD%D0%B8%D0%B8_%D0%BF%D0%BE_%D0%B0%D0%BB%D1%84%D0%B0%D0%B2%D0%B8%D1%82%D1%83\" title=\"Категория:Компании по алфавиту\">Компании по алфавиту</a></li><li><a href=\"/wiki/%D0%9A%D0%B0%D1%82%D0%B5%D0%B3%D0%BE%D1%80%D0%B8%D1%8F:%D0%9A%D0%BE%D0%BC%D0%BF%D0%B0%D0%BD%D0%B8%D0%B8,_%D0%BE%D1%81%D0%BD%D0%BE%D0%B2%D0%B0%D0%BD%D0%BD%D1%8B%D0%B5_%D0%B2_1997_%D0%B3%D0%BE%D0%B4%D1%83\" title=\"Категория:Компании, основанные в 1997 году\">Компании, основанные в 1997 году</a></li><li><a href=\"/wiki/%D0%9A%D0%B0%D1%82%D0%B5%D0%B3%D0%BE%D1%80%D0%B8%D1%8F:%D0%A1%D1%82%D1%80%D0%B8%D0%BC%D0%B8%D0%BD%D0%B3%D0%BE%D0%B2%D1%8B%D0%B5_%D1%81%D0%B5%D1%80%D0%B2%D0%B8%D1%81%D1%8B\" title=\"Категория:Стриминговые сервисы\">Стриминговые сервисы</a></li><li><a href=\"/wiki/%D0%9A%D0%B0%D1%82%D0%B5%D0%B3%D0%BE%D1%80%D0%B8%D1%8F:Netflix\" title=\"Категория:Netflix\">Netflix</a></li><li><a href=\"/wiki/%D0%9A%D0%B0%D1%82%D0%B5%D0%B3%D0%BE%D1%80%D0%B8%D1%8F:%D0%9A%D0%B8%D0%BD%D0%BE%D0%BA%D0%BE%D0%BC%D0%BF%D0%B0%D0%BD%D0%B8%D0%B8_%D0%A1%D0%A8%D0%90\" title=\"Категория:Кинокомпании США\">Кинокомпании США</a></li><li><a href=\"/wiki/%D0%9A%D0%B0%D1%82%D0%B5%D0%B3%D0%BE%D1%80%D0%B8%D1%8F:%D0%9A%D0%BE%D0%BC%D0%BF%D0%B0%D0%BD%D0%B8%D0%B8_%D0%9A%D1%80%D0%B5%D0%BC%D0%BD%D0%B8%D0%B5%D0%B2%D0%BE%D0%B9_%D0%B4%D0%BE%D0%BB%D0%B8%D0%BD%D1%8B\" title=\"Категория:Компании Кремниевой долины\">Компании Кремниевой долины</a></li></ul></div><div class=\"mw-hidden-catlinks mw-hidden-cats-hidden\" id=\"mw-hidden-catlinks\">Скрытые категории: <ul><li><a href=\"/wiki/%D0%9A%D0%B0%D1%82%D0%B5%D0%B3%D0%BE%D1%80%D0%B8%D1%8F:%D0%92%D0%B8%D0%BA%D0%B8%D0%BF%D0%B5%D0%B4%D0%B8%D1%8F:Cite_news_(%D0%B7%D0%B0%D0%BF%D0%BE%D0%BB%D0%BD%D0%B5%D0%BD_%D0%BF%D0%B0%D1%80%D0%B0%D0%BC%D0%B5%D1%82%D1%80_id)\" title=\"Категория:Википедия:Cite news (заполнен параметр id)\">Википедия:Cite news (заполнен параметр id)</a></li><li><a href=\"/wiki/%D0%9A%D0%B0%D1%82%D0%B5%D0%B3%D0%BE%D1%80%D0%B8%D1%8F:%D0%92%D0%B8%D0%BA%D0%B8%D0%BF%D0%B5%D0%B4%D0%B8%D1%8F:Cite_web_(%D0%BD%D0%B5_%D1%83%D0%BA%D0%B0%D0%B7%D0%B0%D0%BD_%D1%8F%D0%B7%D1%8B%D0%BA)\" title=\"Категория:Википедия:Cite web (не указан язык)\">Википедия:Cite web (не указан язык)</a></li><li><a href=\"/wiki/%D0%9A%D0%B0%D1%82%D0%B5%D0%B3%D0%BE%D1%80%D0%B8%D1%8F:%D0%92%D0%B8%D0%BA%D0%B8%D0%BF%D0%B5%D0%B4%D0%B8%D1%8F:%D0%A1%D1%82%D1%80%D0%B0%D0%BD%D0%B8%D1%86%D1%8B_%D1%81_%D0%B5%D0%B6%D0%B5%D0%B4%D0%BD%D0%B5%D0%B2%D0%BD%D0%BE_%D0%BE%D1%87%D0%B8%D1%89%D0%B0%D0%B5%D0%BC%D1%8B%D0%BC_%D0%BA%D1%8D%D1%88%D0%B5%D0%BC\" title=\"Категория:Википедия:Страницы с ежедневно очищаемым кэшем\">Википедия:Страницы с ежедневно очищаемым кэшем</a></li><li><a href=\"/wiki/%D0%9A%D0%B0%D1%82%D0%B5%D0%B3%D0%BE%D1%80%D0%B8%D1%8F:%D0%92%D0%B8%D0%BA%D0%B8%D0%BF%D0%B5%D0%B4%D0%B8%D1%8F:%D0%A1%D1%82%D0%B0%D1%82%D1%8C%D0%B8_%D1%81%D0%BE_%D1%81%D1%81%D1%8B%D0%BB%D0%BA%D0%B0%D0%BC%D0%B8_%D0%BD%D0%B0_%D1%8D%D0%BB%D0%B5%D0%BC%D0%B5%D0%BD%D1%82%D1%8B_%D0%92%D0%B8%D0%BA%D0%B8%D0%B4%D0%B0%D0%BD%D0%BD%D1%8B%D1%85_%D0%B1%D0%B5%D0%B7_%D1%80%D1%83%D1%81%D1%81%D0%BA%D0%BE%D0%B9_%D0%BF%D0%BE%D0%B4%D0%BF%D0%B8%D1%81%D0%B8\" title=\"Категория:Википедия:Статьи со ссылками на элементы Викиданных без русской подписи\">Википедия:Статьи со ссылками на элементы Викиданных без русской подписи</a></li><li><a href=\"/wiki/%D0%9A%D0%B0%D1%82%D0%B5%D0%B3%D0%BE%D1%80%D0%B8%D1%8F:%D0%92%D0%B8%D0%BA%D0%B8%D0%BF%D0%B5%D0%B4%D0%B8%D1%8F:%D0%A1%D1%82%D0%B0%D1%82%D1%8C%D0%B8_%D1%81_%D0%B8%D1%81%D1%82%D0%BE%D1%87%D0%BD%D0%B8%D0%BA%D0%B0%D0%BC%D0%B8_%D0%B8%D0%B7_%D0%92%D0%B8%D0%BA%D0%B8%D0%B4%D0%B0%D0%BD%D0%BD%D1%8B%D1%85\" title=\"Категория:Википедия:Статьи с источниками из Викиданных\">Википедия:Статьи с источниками из Викиданных</a></li><li><a href=\"/wiki/%D0%9A%D0%B0%D1%82%D0%B5%D0%B3%D0%BE%D1%80%D0%B8%D1%8F:%D0%92%D0%B8%D0%BA%D0%B8%D0%BF%D0%B5%D0%B4%D0%B8%D1%8F:%D0%93%D0%BB%D0%BE%D0%B1%D0%B0%D0%BB%D0%B8%D0%B7%D0%B8%D1%80%D0%BE%D0%B2%D0%B0%D1%82%D1%8C\" title=\"Категория:Википедия:Глобализировать\">Википедия:Глобализировать</a></li><li><a href=\"/wiki/%D0%9A%D0%B0%D1%82%D0%B5%D0%B3%D0%BE%D1%80%D0%B8%D1%8F:%D0%A1%D1%82%D0%B0%D1%82%D1%8C%D0%B8_%D1%81%D0%BE_%D1%81%D1%81%D1%8B%D0%BB%D0%BA%D0%B0%D0%BC%D0%B8_%D0%BD%D0%B0_%D0%92%D0%B8%D0%BA%D0%B8%D1%81%D0%BA%D0%BB%D0%B0%D0%B4\" title=\"Категория:Статьи со ссылками на Викисклад\">Статьи со ссылками на Викисклад</a></li><li><a href=\"/wiki/%D0%9A%D0%B0%D1%82%D0%B5%D0%B3%D0%BE%D1%80%D0%B8%D1%8F:%D0%92%D0%B8%D0%BA%D0%B8%D0%BF%D0%B5%D0%B4%D0%B8%D1%8F:%D0%97%D0%B0%D0%BF%D1%80%D0%BE%D1%81%D1%8B_%D0%BD%D0%B0_%D0%BF%D0%B5%D1%80%D0%B5%D0%B2%D0%BE%D0%B4_%D1%81_%D0%B0%D0%BD%D0%B3%D0%BB%D0%B8%D0%B9%D1%81%D0%BA%D0%BE%D0%B3%D0%BE\" title=\"Категория:Википедия:Запросы на перевод с английского\">Википедия:Запросы на перевод с английского</a></li><li><a href=\"/wiki/%D0%9A%D0%B0%D1%82%D0%B5%D0%B3%D0%BE%D1%80%D0%B8%D1%8F:%D0%92%D0%B8%D0%BA%D0%B8%D0%BF%D0%B5%D0%B4%D0%B8%D1%8F:%D0%A1%D1%82%D1%80%D0%B0%D0%BD%D0%B8%D1%86%D1%8B_%D1%81_%D0%BA%D0%B0%D1%80%D1%82%D0%B0%D0%BC%D0%B8\" title=\"Категория:Википедия:Страницы с картами\">Википедия:Страницы с картами</a></li></ul></div></div>\n",
            "\t</div>\n",
            "</div>\n",
            "<div id=\"mw-data-after-content\">\n",
            "\t<div class=\"read-more-container\"></div>\n",
            "</div>\n",
            "\n",
            "<div id=\"mw-navigation\">\n",
            "\t<h2>Навигация</h2>\n",
            "\t<div id=\"mw-head\">\n",
            "\t\t\n",
            "<nav aria-labelledby=\"p-personal-label\" class=\"mw-portlet mw-portlet-personal vector-user-menu-legacy vector-menu\" id=\"p-personal\" role=\"navigation\">\n",
            "\t<label aria-label=\"\" class=\"vector-menu-heading\" id=\"p-personal-label\">\n",
            "\t\t<span class=\"vector-menu-heading-label\">Персональные инструменты</span>\n",
            "\t</label>\n",
            "\t<div class=\"vector-menu-content\">\n",
            "\t\t\n",
            "\t\t<ul class=\"vector-menu-content-list\"><li class=\"mw-list-item\" id=\"pt-anonuserpage\"><span>Вы не представились системе</span></li><li class=\"mw-list-item\" id=\"pt-anontalk\"><a accesskey=\"n\" href=\"/wiki/%D0%A1%D0%BB%D1%83%D0%B6%D0%B5%D0%B1%D0%BD%D0%B0%D1%8F:%D0%9C%D0%BE%D1%91_%D0%BE%D0%B1%D1%81%D1%83%D0%B6%D0%B4%D0%B5%D0%BD%D0%B8%D0%B5\" title=\"Страница обсуждений для моего IP [n]\"><span>Обсуждение</span></a></li><li class=\"mw-list-item\" id=\"pt-anoncontribs\"><a accesskey=\"y\" href=\"/wiki/%D0%A1%D0%BB%D1%83%D0%B6%D0%B5%D0%B1%D0%BD%D0%B0%D1%8F:%D0%9C%D0%BE%D0%B9_%D0%B2%D0%BA%D0%BB%D0%B0%D0%B4\" title=\"Список правок, сделанных с этого IP-адреса [y]\"><span>Вклад</span></a></li><li class=\"mw-list-item\" id=\"pt-createaccount\"><a href=\"/w/index.php?title=%D0%A1%D0%BB%D1%83%D0%B6%D0%B5%D0%B1%D0%BD%D0%B0%D1%8F:%D0%A1%D0%BE%D0%B7%D0%B4%D0%B0%D1%82%D1%8C_%D1%83%D1%87%D1%91%D1%82%D0%BD%D1%83%D1%8E_%D0%B7%D0%B0%D0%BF%D0%B8%D1%81%D1%8C&amp;returnto=Netflix\" title=\"Мы предлагаем вам создать учётную запись и войти в систему, хотя это и не обязательно.\"><span>Создать учётную запись</span></a></li><li class=\"mw-list-item\" id=\"pt-login\"><a accesskey=\"o\" href=\"/w/index.php?title=%D0%A1%D0%BB%D1%83%D0%B6%D0%B5%D0%B1%D0%BD%D0%B0%D1%8F:%D0%92%D1%85%D0%BE%D0%B4&amp;returnto=Netflix\" title=\"Здесь можно зарегистрироваться в системе, но это необязательно. [o]\"><span>Войти</span></a></li></ul>\n",
            "\t\t\n",
            "\t</div>\n",
            "</nav>\n",
            "\n",
            "\t\t<div id=\"left-navigation\">\n",
            "\t\t\t\n",
            "<nav aria-labelledby=\"p-namespaces-label\" class=\"mw-portlet mw-portlet-namespaces vector-menu vector-menu-tabs\" id=\"p-namespaces\" role=\"navigation\">\n",
            "\t<label aria-label=\"\" class=\"vector-menu-heading\" id=\"p-namespaces-label\">\n",
            "\t\t<span class=\"vector-menu-heading-label\">Пространства имён</span>\n",
            "\t</label>\n",
            "\t<div class=\"vector-menu-content\">\n",
            "\t\t\n",
            "\t\t<ul class=\"vector-menu-content-list\"><li class=\"selected mw-list-item\" id=\"ca-nstab-main\"><a accesskey=\"c\" href=\"/wiki/Netflix\" title=\"Просмотр основной страницы [c]\"><span>Статья</span></a></li><li class=\"mw-list-item\" id=\"ca-talk\"><a accesskey=\"t\" href=\"/wiki/%D0%9E%D0%B1%D1%81%D1%83%D0%B6%D0%B4%D0%B5%D0%BD%D0%B8%D0%B5:Netflix\" rel=\"discussion\" title=\"Обсуждение основной страницы [t]\"><span>Обсуждение</span></a></li></ul>\n",
            "\t\t\n",
            "\t</div>\n",
            "</nav>\n",
            "\n",
            "\t\t\t\n",
            "<nav aria-labelledby=\"p-variants-label\" class=\"mw-portlet mw-portlet-variants emptyPortlet vector-menu-dropdown-noicon vector-menu vector-menu-dropdown\" id=\"p-variants\" role=\"navigation\">\n",
            "\t<input aria-haspopup=\"true\" aria-labelledby=\"p-variants-label\" class=\"vector-menu-checkbox\" data-event-name=\"ui.dropdown-p-variants\" id=\"p-variants-checkbox\" role=\"button\" type=\"checkbox\"/>\n",
            "\t<label aria-label=\"Change language variant\" class=\"vector-menu-heading\" id=\"p-variants-label\">\n",
            "\t\t<span class=\"vector-menu-heading-label\">русский</span>\n",
            "\t\t\t<span class=\"vector-menu-checkbox-expanded\">expanded</span>\n",
            "\t\t\t<span class=\"vector-menu-checkbox-collapsed\">collapsed</span>\n",
            "\t</label>\n",
            "\t<div class=\"vector-menu-content\">\n",
            "\t\t\n",
            "\t\t<ul class=\"vector-menu-content-list\"></ul>\n",
            "\t\t\n",
            "\t</div>\n",
            "</nav>\n",
            "\n",
            "\t\t</div>\n",
            "\t\t<div id=\"right-navigation\">\n",
            "\t\t\t\n",
            "<nav aria-labelledby=\"p-views-label\" class=\"mw-portlet mw-portlet-views vector-menu vector-menu-tabs\" id=\"p-views\" role=\"navigation\">\n",
            "\t<label aria-label=\"\" class=\"vector-menu-heading\" id=\"p-views-label\">\n",
            "\t\t<span class=\"vector-menu-heading-label\">Просмотры</span>\n",
            "\t</label>\n",
            "\t<div class=\"vector-menu-content\">\n",
            "\t\t\n",
            "\t\t<ul class=\"vector-menu-content-list\"><li class=\"selected mw-list-item\" id=\"ca-view\"><a href=\"/wiki/Netflix\"><span>Читать</span></a></li><li class=\"mw-list-item\" id=\"ca-ve-edit\"><a accesskey=\"v\" href=\"/w/index.php?title=Netflix&amp;veaction=edit\" title=\"Редактировать данную страницу [v]\"><span>Править</span></a></li><li class=\"collapsible mw-list-item\" id=\"ca-edit\"><a accesskey=\"e\" href=\"/w/index.php?title=Netflix&amp;action=edit\" title=\"Эту статью можно изменять. Перед сохранением изменений, пожалуйста, нажмите кнопку предварительного просмотра для визуальной проверки результата [e]\"><span>Править код</span></a></li><li class=\"mw-list-item\" id=\"ca-history\"><a accesskey=\"h\" href=\"/w/index.php?title=Netflix&amp;action=history\" title=\"Журнал изменений страницы [h]\"><span>История</span></a></li></ul>\n",
            "\t\t\n",
            "\t</div>\n",
            "</nav>\n",
            "\n",
            "\t\t\t\n",
            "<nav aria-labelledby=\"p-cactions-label\" class=\"mw-portlet mw-portlet-cactions emptyPortlet vector-menu-dropdown-noicon vector-menu vector-menu-dropdown\" id=\"p-cactions\" role=\"navigation\" title=\"Больше возможностей\">\n",
            "\t<input aria-haspopup=\"true\" aria-labelledby=\"p-cactions-label\" class=\"vector-menu-checkbox\" data-event-name=\"ui.dropdown-p-cactions\" id=\"p-cactions-checkbox\" role=\"button\" type=\"checkbox\"/>\n",
            "\t<label aria-label=\"\" class=\"vector-menu-heading\" id=\"p-cactions-label\">\n",
            "\t\t<span class=\"vector-menu-heading-label\">Ещё</span>\n",
            "\t\t\t<span class=\"vector-menu-checkbox-expanded\">expanded</span>\n",
            "\t\t\t<span class=\"vector-menu-checkbox-collapsed\">collapsed</span>\n",
            "\t</label>\n",
            "\t<div class=\"vector-menu-content\">\n",
            "\t\t\n",
            "\t\t<ul class=\"vector-menu-content-list\"></ul>\n",
            "\t\t\n",
            "\t</div>\n",
            "</nav>\n",
            "\n",
            "\t\t\t\n",
            "<div class=\"vector-search-box-vue vector-search-box-show-thumbnail vector-search-box-auto-expand-width vector-search-box\" id=\"p-search\" role=\"search\">\n",
            "\t<div>\n",
            "\t\t\t<h3>\n",
            "\t\t\t\t<label for=\"searchInput\">Поиск</label>\n",
            "\t\t\t</h3>\n",
            "\t\t<form action=\"/w/index.php\" class=\"vector-search-box-form\" id=\"searchform\">\n",
            "\t\t\t<div class=\"vector-search-box-inner\" data-search-loc=\"header-navigation\" id=\"simpleSearch\">\n",
            "\t\t\t\t<input accesskey=\"f\" aria-label=\"Искать в Википедии\" autocapitalize=\"sentences\" class=\"vector-search-box-input\" id=\"searchInput\" name=\"search\" placeholder=\"Искать в Википедии\" title=\"Искать в Википедии [f]\" type=\"search\"/>\n",
            "\t\t\t\t<input name=\"title\" type=\"hidden\" value=\"Служебная:Поиск\"/>\n",
            "\t\t\t\t<input class=\"searchButton mw-fallbackSearchButton\" id=\"mw-searchButton\" name=\"fulltext\" title=\"Найти страницы, содержащие указанный текст\" type=\"submit\" value=\"Найти\"/>\n",
            "\t\t\t\t<input class=\"searchButton\" id=\"searchButton\" name=\"go\" title=\"Перейти к странице, имеющей в точности такое название\" type=\"submit\" value=\"Перейти\"/>\n",
            "\t\t\t</div>\n",
            "\t\t</form>\n",
            "\t</div>\n",
            "</div>\n",
            "\n",
            "\t\t</div>\n",
            "\t</div>\n",
            "\t\n",
            "\n",
            "<div id=\"mw-panel\">\n",
            "\t<div id=\"p-logo\" role=\"banner\">\n",
            "\t\t<a class=\"mw-wiki-logo\" href=\"/wiki/%D0%97%D0%B0%D0%B3%D0%BB%D0%B0%D0%B2%D0%BD%D0%B0%D1%8F_%D1%81%D1%82%D1%80%D0%B0%D0%BD%D0%B8%D1%86%D0%B0\" title=\"Перейти на заглавную страницу\"></a>\n",
            "\t</div>\n",
            "\t\n",
            "<nav aria-labelledby=\"p-navigation-label\" class=\"mw-portlet mw-portlet-navigation vector-menu vector-menu-portal portal\" id=\"p-navigation\" role=\"navigation\">\n",
            "\t<label aria-label=\"\" class=\"vector-menu-heading\" id=\"p-navigation-label\">\n",
            "\t\t<span class=\"vector-menu-heading-label\">Навигация</span>\n",
            "\t</label>\n",
            "\t<div class=\"vector-menu-content\">\n",
            "\t\t\n",
            "\t\t<ul class=\"vector-menu-content-list\"><li class=\"mw-list-item\" id=\"n-mainpage-description\"><a accesskey=\"z\" href=\"/wiki/%D0%97%D0%B0%D0%B3%D0%BB%D0%B0%D0%B2%D0%BD%D0%B0%D1%8F_%D1%81%D1%82%D1%80%D0%B0%D0%BD%D0%B8%D1%86%D0%B0\" icon=\"home\" title=\"Перейти на заглавную страницу [z]\"><span>Заглавная страница</span></a></li><li class=\"mw-list-item\" id=\"n-content\"><a href=\"/wiki/%D0%92%D0%B8%D0%BA%D0%B8%D0%BF%D0%B5%D0%B4%D0%B8%D1%8F:%D0%A1%D0%BE%D0%B4%D0%B5%D1%80%D0%B6%D0%B0%D0%BD%D0%B8%D0%B5\"><span>Содержание</span></a></li><li class=\"mw-list-item\" id=\"n-featured\"><a href=\"/wiki/%D0%92%D0%B8%D0%BA%D0%B8%D0%BF%D0%B5%D0%B4%D0%B8%D1%8F:%D0%98%D0%B7%D0%B1%D1%80%D0%B0%D0%BD%D0%BD%D1%8B%D0%B5_%D1%81%D1%82%D0%B0%D1%82%D1%8C%D0%B8\" title=\"Статьи, считающиеся лучшими статьями проекта\"><span>Избранные статьи</span></a></li><li class=\"mw-list-item\" id=\"n-randompage\"><a accesskey=\"x\" href=\"/wiki/%D0%A1%D0%BB%D1%83%D0%B6%D0%B5%D0%B1%D0%BD%D0%B0%D1%8F:%D0%A1%D0%BB%D1%83%D1%87%D0%B0%D0%B9%D0%BD%D0%B0%D1%8F_%D1%81%D1%82%D1%80%D0%B0%D0%BD%D0%B8%D1%86%D0%B0\" icon=\"die\" title=\"Посмотреть случайно выбранную страницу [x]\"><span>Случайная статья</span></a></li><li class=\"mw-list-item\" id=\"n-currentevents\"><a href=\"/wiki/%D0%9F%D0%BE%D1%80%D1%82%D0%B0%D0%BB:%D0%A2%D0%B5%D0%BA%D1%83%D1%89%D0%B8%D0%B5_%D1%81%D0%BE%D0%B1%D1%8B%D1%82%D0%B8%D1%8F\" title=\"Статьи о текущих событиях в мире\"><span>Текущие события</span></a></li><li class=\"mw-list-item\" id=\"n-sitesupport\"><a href=\"//donate.wikimedia.org/wiki/Special:FundraiserRedirector?utm_source=donate&amp;utm_medium=sidebar&amp;utm_campaign=C13_ru.wikipedia.org&amp;uselang=ru\" title=\"Поддержите нас\"><span>Пожертвовать</span></a></li></ul>\n",
            "\t\t\n",
            "\t</div>\n",
            "</nav>\n",
            "\n",
            "\t\n",
            "<nav aria-labelledby=\"p-participation-label\" class=\"mw-portlet mw-portlet-participation vector-menu vector-menu-portal portal\" id=\"p-participation\" role=\"navigation\">\n",
            "\t<label aria-label=\"\" class=\"vector-menu-heading\" id=\"p-participation-label\">\n",
            "\t\t<span class=\"vector-menu-heading-label\">Участие</span>\n",
            "\t</label>\n",
            "\t<div class=\"vector-menu-content\">\n",
            "\t\t\n",
            "\t\t<ul class=\"vector-menu-content-list\"><li class=\"mw-list-item\" id=\"n-bug_in_article\"><a href=\"/wiki/%D0%92%D0%B8%D0%BA%D0%B8%D0%BF%D0%B5%D0%B4%D0%B8%D1%8F:%D0%A1%D0%BE%D0%BE%D0%B1%D1%89%D0%B5%D0%BD%D0%B8%D1%8F_%D0%BE%D0%B1_%D0%BE%D1%88%D0%B8%D0%B1%D0%BA%D0%B0%D1%85\" title=\"Сообщить об ошибке в этой статье\"><span>Сообщить об ошибке</span></a></li><li class=\"mw-list-item\" id=\"n-introduction\"><a href=\"/wiki/%D0%A1%D0%BF%D1%80%D0%B0%D0%B2%D0%BA%D0%B0:%D0%92%D0%B2%D0%B5%D0%B4%D0%B5%D0%BD%D0%B8%D0%B5\"><span>Как править статьи</span></a></li><li class=\"mw-list-item\" id=\"n-portal\"><a href=\"/wiki/%D0%92%D0%B8%D0%BA%D0%B8%D0%BF%D0%B5%D0%B4%D0%B8%D1%8F:%D0%A1%D0%BE%D0%BE%D0%B1%D1%89%D0%B5%D1%81%D1%82%D0%B2%D0%BE\" title=\"О проекте, о том, чем здесь можно заниматься, а также — где что находится\"><span>Сообщество</span></a></li><li class=\"mw-list-item\" id=\"n-forum\"><a href=\"/wiki/%D0%92%D0%B8%D0%BA%D0%B8%D0%BF%D0%B5%D0%B4%D0%B8%D1%8F:%D0%A4%D0%BE%D1%80%D1%83%D0%BC\" title=\"Форум участников Википедии\"><span>Форум</span></a></li><li class=\"mw-list-item\" id=\"n-recentchanges\"><a accesskey=\"r\" href=\"/wiki/%D0%A1%D0%BB%D1%83%D0%B6%D0%B5%D0%B1%D0%BD%D0%B0%D1%8F:%D0%A1%D0%B2%D0%B5%D0%B6%D0%B8%D0%B5_%D0%BF%D1%80%D0%B0%D0%B2%D0%BA%D0%B8\" icon=\"recentChanges\" title=\"Список последних изменений [r]\"><span>Свежие правки</span></a></li><li class=\"mw-list-item\" id=\"n-newpages\"><a href=\"/wiki/%D0%A1%D0%BB%D1%83%D0%B6%D0%B5%D0%B1%D0%BD%D0%B0%D1%8F:%D0%9D%D0%BE%D0%B2%D1%8B%D0%B5_%D1%81%D1%82%D1%80%D0%B0%D0%BD%D0%B8%D1%86%D1%8B\" title=\"Список недавно созданных страниц\"><span>Новые страницы</span></a></li><li class=\"mw-list-item\" id=\"n-help\"><a href=\"/wiki/%D0%92%D0%B8%D0%BA%D0%B8%D0%BF%D0%B5%D0%B4%D0%B8%D1%8F:%D0%A1%D0%BF%D1%80%D0%B0%D0%B2%D0%BA%D0%B0\" icon=\"help\" title=\"Место расположения Справки\"><span>Справка</span></a></li></ul>\n",
            "\t\t\n",
            "\t</div>\n",
            "</nav>\n",
            "\n",
            "<nav aria-labelledby=\"p-tb-label\" class=\"mw-portlet mw-portlet-tb vector-menu vector-menu-portal portal\" id=\"p-tb\" role=\"navigation\">\n",
            "\t<label aria-label=\"\" class=\"vector-menu-heading\" id=\"p-tb-label\">\n",
            "\t\t<span class=\"vector-menu-heading-label\">Инструменты</span>\n",
            "\t</label>\n",
            "\t<div class=\"vector-menu-content\">\n",
            "\t\t\n",
            "\t\t<ul class=\"vector-menu-content-list\"><li class=\"mw-list-item\" id=\"t-whatlinkshere\"><a accesskey=\"j\" href=\"/wiki/%D0%A1%D0%BB%D1%83%D0%B6%D0%B5%D0%B1%D0%BD%D0%B0%D1%8F:%D0%A1%D1%81%D1%8B%D0%BB%D0%BA%D0%B8_%D1%81%D1%8E%D0%B4%D0%B0/Netflix\" title=\"Список всех страниц, ссылающихся на данную [j]\"><span>Ссылки сюда</span></a></li><li class=\"mw-list-item\" id=\"t-recentchangeslinked\"><a accesskey=\"k\" href=\"/wiki/%D0%A1%D0%BB%D1%83%D0%B6%D0%B5%D0%B1%D0%BD%D0%B0%D1%8F:%D0%A1%D0%B2%D1%8F%D0%B7%D0%B0%D0%BD%D0%BD%D1%8B%D0%B5_%D0%BF%D1%80%D0%B0%D0%B2%D0%BA%D0%B8/Netflix\" rel=\"nofollow\" title=\"Последние изменения в страницах, на которые ссылается эта страница [k]\"><span>Связанные правки</span></a></li><li class=\"mw-list-item\" id=\"t-specialpages\"><a accesskey=\"q\" href=\"/wiki/%D0%A1%D0%BB%D1%83%D0%B6%D0%B5%D0%B1%D0%BD%D0%B0%D1%8F:%D0%A1%D0%BF%D0%B5%D1%86%D1%81%D1%82%D1%80%D0%B0%D0%BD%D0%B8%D1%86%D1%8B\" title=\"Список служебных страниц [q]\"><span>Служебные страницы</span></a></li><li class=\"mw-list-item\" id=\"t-permalink\"><a href=\"/w/index.php?title=Netflix&amp;oldid=120557852\" title=\"Постоянная ссылка на эту версию страницы\"><span>Постоянная ссылка</span></a></li><li class=\"mw-list-item\" id=\"t-info\"><a href=\"/w/index.php?title=Netflix&amp;action=info\" title=\"Подробнее об этой странице\"><span>Сведения о странице</span></a></li><li class=\"mw-list-item\" id=\"t-cite\"><a href=\"/w/index.php?title=%D0%A1%D0%BB%D1%83%D0%B6%D0%B5%D0%B1%D0%BD%D0%B0%D1%8F:%D0%A6%D0%B8%D1%82%D0%B0%D1%82%D0%B0&amp;page=Netflix&amp;id=120557852&amp;wpFormIdentifier=titleform\" title=\"Информация о том, как цитировать эту страницу\"><span>Цитировать страницу</span></a></li><li class=\"mw-list-item\" id=\"t-wikibase\"><a accesskey=\"g\" href=\"https://www.wikidata.org/wiki/Special:EntityPage/Q907311\" title=\"Ссылка на связанный элемент репозитория данных [g]\"><span>Элемент Викиданных</span></a></li></ul>\n",
            "\t\t\n",
            "\t</div>\n",
            "</nav>\n",
            "\n",
            "<nav aria-labelledby=\"p-coll-print_export-label\" class=\"mw-portlet mw-portlet-coll-print_export vector-menu vector-menu-portal portal\" id=\"p-coll-print_export\" role=\"navigation\">\n",
            "\t<label aria-label=\"\" class=\"vector-menu-heading\" id=\"p-coll-print_export-label\">\n",
            "\t\t<span class=\"vector-menu-heading-label\">Печать/экспорт</span>\n",
            "\t</label>\n",
            "\t<div class=\"vector-menu-content\">\n",
            "\t\t\n",
            "\t\t<ul class=\"vector-menu-content-list\"><li class=\"mw-list-item\" id=\"coll-create_a_book\"><a href=\"/w/index.php?title=%D0%A1%D0%BB%D1%83%D0%B6%D0%B5%D0%B1%D0%BD%D0%B0%D1%8F:%D0%9A%D0%BE%D0%BB%D0%BB%D0%B5%D0%BA%D1%86%D0%B8%D1%8F_%D0%BA%D0%BD%D0%B8%D0%B3&amp;bookcmd=book_creator&amp;referer=Netflix\" title=\"Создать книгу или коллекцию статей\"><span>Создать книгу</span></a></li><li class=\"mw-list-item\" id=\"coll-download-as-rl\"><a href=\"/w/index.php?title=%D0%A1%D0%BB%D1%83%D0%B6%D0%B5%D0%B1%D0%BD%D0%B0%D1%8F:DownloadAsPdf&amp;page=Netflix&amp;action=show-download-screen\" title=\"Скачать эту страницу как файл PDF\"><span>Скачать как PDF</span></a></li><li class=\"mw-list-item\" id=\"t-print\"><a accesskey=\"p\" href=\"/w/index.php?title=Netflix&amp;printable=yes\" title=\"Версия этой страницы для печати [p]\"><span>Версия для печати</span></a></li></ul>\n",
            "\t\t\n",
            "\t</div>\n",
            "</nav>\n",
            "\n",
            "<nav aria-labelledby=\"p-wikibase-otherprojects-label\" class=\"mw-portlet mw-portlet-wikibase-otherprojects vector-menu vector-menu-portal portal\" id=\"p-wikibase-otherprojects\" role=\"navigation\">\n",
            "\t<label aria-label=\"\" class=\"vector-menu-heading\" id=\"p-wikibase-otherprojects-label\">\n",
            "\t\t<span class=\"vector-menu-heading-label\">В других проектах</span>\n",
            "\t</label>\n",
            "\t<div class=\"vector-menu-content\">\n",
            "\t\t\n",
            "\t\t<ul class=\"vector-menu-content-list\"><li class=\"wb-otherproject-link wb-otherproject-commons mw-list-item\"><a href=\"https://commons.wikimedia.org/wiki/Category:Netflix\" hreflang=\"en\"><span>Викисклад</span></a></li><li class=\"wb-otherproject-link wb-otherproject-wikinews mw-list-item\"><a href=\"https://ru.wikinews.org/wiki/%D0%9A%D0%B0%D1%82%D0%B5%D0%B3%D0%BE%D1%80%D0%B8%D1%8F:Netflix\" hreflang=\"ru\"><span>Викиновости</span></a></li></ul>\n",
            "\t\t\n",
            "\t</div>\n",
            "</nav>\n",
            "\n",
            "\t\n",
            "<nav aria-labelledby=\"p-lang-label\" class=\"mw-portlet mw-portlet-lang vector-menu vector-menu-portal portal\" id=\"p-lang\" role=\"navigation\">\n",
            "\t<label aria-label=\"\" class=\"vector-menu-heading\" id=\"p-lang-label\">\n",
            "\t\t<span class=\"vector-menu-heading-label\">На других языках</span>\n",
            "\t</label>\n",
            "\t<div class=\"vector-menu-content\">\n",
            "\t\t\n",
            "\t\t<ul class=\"vector-menu-content-list\"><li class=\"interlanguage-link interwiki-ace mw-list-item\"><a class=\"interlanguage-link-target\" href=\"https://ace.wikipedia.org/wiki/Netflix\" hreflang=\"ace\" lang=\"ace\" title=\"Netflix — ачехский\"><span>Acèh</span></a></li><li class=\"interlanguage-link interwiki-af mw-list-item\"><a class=\"interlanguage-link-target\" href=\"https://af.wikipedia.org/wiki/Netflix\" hreflang=\"af\" lang=\"af\" title=\"Netflix — африкаанс\"><span>Afrikaans</span></a></li><li class=\"interlanguage-link interwiki-als mw-list-item\"><a class=\"interlanguage-link-target\" href=\"https://als.wikipedia.org/wiki/Netflix\" hreflang=\"gsw\" lang=\"gsw\" title=\"Netflix — Alemannisch\"><span>Alemannisch</span></a></li><li class=\"interlanguage-link interwiki-am mw-list-item\"><a class=\"interlanguage-link-target\" href=\"https://am.wikipedia.org/wiki/%E1%8A%94%E1%89%B5%E1%8D%8D%E1%88%8A%E1%8A%AD%E1%88%B5\" hreflang=\"am\" lang=\"am\" title=\"ኔትፍሊክስ — амхарский\"><span>አማርኛ</span></a></li><li class=\"interlanguage-link interwiki-an mw-list-item\"><a class=\"interlanguage-link-target\" href=\"https://an.wikipedia.org/wiki/Netflix\" hreflang=\"an\" lang=\"an\" title=\"Netflix — арагонский\"><span>Aragonés</span></a></li><li class=\"interlanguage-link interwiki-ar mw-list-item\"><a class=\"interlanguage-link-target\" href=\"https://ar.wikipedia.org/wiki/%D9%86%D8%AA%D9%81%D9%84%D9%8A%D9%83%D8%B3\" hreflang=\"ar\" lang=\"ar\" title=\"نتفليكس — арабский\"><span>العربية</span></a></li><li class=\"interlanguage-link interwiki-ary mw-list-item\"><a class=\"interlanguage-link-target\" href=\"https://ary.wikipedia.org/wiki/%D9%86%D8%AA%D9%81%D9%84%D9%8A%D9%83%D8%B3\" hreflang=\"ary\" lang=\"ary\" title=\"نتفليكس — Moroccan Arabic\"><span>الدارجة</span></a></li><li class=\"interlanguage-link interwiki-arz mw-list-item\"><a class=\"interlanguage-link-target\" href=\"https://arz.wikipedia.org/wiki/%D9%86%D9%8A%D8%AA%D9%81%D9%84%D9%8A%D9%83%D8%B3\" hreflang=\"arz\" lang=\"arz\" title=\"نيتفليكس — Egyptian Arabic\"><span>مصرى</span></a></li><li class=\"interlanguage-link interwiki-as mw-list-item\"><a class=\"interlanguage-link-target\" href=\"https://as.wikipedia.org/wiki/%E0%A6%A8%E0%A7%87%E0%A6%9F%E0%A6%AB%E0%A7%8D%E0%A6%B2%E0%A6%BF%E0%A6%95%E0%A7%8D%E0%A6%B8\" hreflang=\"as\" lang=\"as\" title=\"নেটফ্লিক্স — ассамский\"><span>অসমীয়া</span></a></li><li class=\"interlanguage-link interwiki-ast mw-list-item\"><a class=\"interlanguage-link-target\" href=\"https://ast.wikipedia.org/wiki/Netflix\" hreflang=\"ast\" lang=\"ast\" title=\"Netflix — астурийский\"><span>Asturianu</span></a></li><li class=\"interlanguage-link interwiki-az mw-list-item\"><a class=\"interlanguage-link-target\" href=\"https://az.wikipedia.org/wiki/Netflix\" hreflang=\"az\" lang=\"az\" title=\"Netflix — азербайджанский\"><span>Azərbaycanca</span></a></li><li class=\"interlanguage-link interwiki-ban mw-list-item\"><a class=\"interlanguage-link-target\" href=\"https://ban.wikipedia.org/wiki/Netflix\" hreflang=\"ban\" lang=\"ban\" title=\"Netflix — балийский\"><span>Basa Bali</span></a></li><li class=\"interlanguage-link interwiki-be mw-list-item\"><a class=\"interlanguage-link-target\" href=\"https://be.wikipedia.org/wiki/Netflix\" hreflang=\"be\" lang=\"be\" title=\"Netflix — белорусский\"><span>Беларуская</span></a></li><li class=\"interlanguage-link interwiki-be-x-old mw-list-item\"><a class=\"interlanguage-link-target\" href=\"https://be-tarask.wikipedia.org/wiki/Netflix\" hreflang=\"be-tarask\" lang=\"be-tarask\" title=\"Netflix — Belarusian (Taraškievica orthography)\"><span>Беларуская (тарашкевіца)</span></a></li><li class=\"interlanguage-link interwiki-bg mw-list-item\"><a class=\"interlanguage-link-target\" href=\"https://bg.wikipedia.org/wiki/%D0%9D%D0%B5%D1%82%D1%84%D0%BB%D0%B8%D0%BA%D1%81\" hreflang=\"bg\" lang=\"bg\" title=\"Нетфликс — болгарский\"><span>Български</span></a></li><li class=\"interlanguage-link interwiki-bh mw-list-item\"><a class=\"interlanguage-link-target\" href=\"https://bh.wikipedia.org/wiki/%E0%A4%A8%E0%A5%87%E0%A4%9F%E0%A4%AB%E0%A5%8D%E0%A4%B2%E0%A4%BF%E0%A4%95%E0%A5%8D%E0%A4%B8\" hreflang=\"bh\" lang=\"bh\" title=\"नेटफ्लिक्स — Bhojpuri\"><span>भोजपुरी</span></a></li><li class=\"interlanguage-link interwiki-bn mw-list-item\"><a class=\"interlanguage-link-target\" href=\"https://bn.wikipedia.org/wiki/%E0%A6%A8%E0%A7%87%E0%A6%9F%E0%A6%AB%E0%A7%8D%E0%A6%B2%E0%A6%BF%E0%A6%95%E0%A7%8D%E0%A6%B8\" hreflang=\"bn\" lang=\"bn\" title=\"নেটফ্লিক্স — бенгальский\"><span>বাংলা</span></a></li><li class=\"interlanguage-link interwiki-br mw-list-item\"><a class=\"interlanguage-link-target\" href=\"https://br.wikipedia.org/wiki/Netflix\" hreflang=\"br\" lang=\"br\" title=\"Netflix — бретонский\"><span>Brezhoneg</span></a></li><li class=\"interlanguage-link interwiki-bs mw-list-item\"><a class=\"interlanguage-link-target\" href=\"https://bs.wikipedia.org/wiki/Netflix\" hreflang=\"bs\" lang=\"bs\" title=\"Netflix — боснийский\"><span>Bosanski</span></a></li><li class=\"interlanguage-link interwiki-ca mw-list-item\"><a class=\"interlanguage-link-target\" href=\"https://ca.wikipedia.org/wiki/Netflix\" hreflang=\"ca\" lang=\"ca\" title=\"Netflix — каталанский\"><span>Català</span></a></li><li class=\"interlanguage-link interwiki-ceb mw-list-item\"><a class=\"interlanguage-link-target\" href=\"https://ceb.wikipedia.org/wiki/Netflix\" hreflang=\"ceb\" lang=\"ceb\" title=\"Netflix — себуано\"><span>Cebuano</span></a></li><li class=\"interlanguage-link interwiki-ckb mw-list-item\"><a class=\"interlanguage-link-target\" href=\"https://ckb.wikipedia.org/wiki/%D9%86%DB%8E%D8%AA%D9%81%D9%84%DB%8C%DA%A9%D8%B3\" hreflang=\"ckb\" lang=\"ckb\" title=\"نێتفلیکس — сорани\"><span>کوردی</span></a></li><li class=\"interlanguage-link interwiki-cs mw-list-item\"><a class=\"interlanguage-link-target\" href=\"https://cs.wikipedia.org/wiki/Netflix\" hreflang=\"cs\" lang=\"cs\" title=\"Netflix — чешский\"><span>Čeština</span></a></li><li class=\"interlanguage-link interwiki-cy mw-list-item\"><a class=\"interlanguage-link-target\" href=\"https://cy.wikipedia.org/wiki/Netflix\" hreflang=\"cy\" lang=\"cy\" title=\"Netflix — валлийский\"><span>Cymraeg</span></a></li><li class=\"interlanguage-link interwiki-da mw-list-item\"><a class=\"interlanguage-link-target\" href=\"https://da.wikipedia.org/wiki/Netflix\" hreflang=\"da\" lang=\"da\" title=\"Netflix — датский\"><span>Dansk</span></a></li><li class=\"interlanguage-link interwiki-de mw-list-item\"><a class=\"interlanguage-link-target\" href=\"https://de.wikipedia.org/wiki/Netflix\" hreflang=\"de\" lang=\"de\" title=\"Netflix — немецкий\"><span>Deutsch</span></a></li><li class=\"interlanguage-link interwiki-diq mw-list-item\"><a class=\"interlanguage-link-target\" href=\"https://diq.wikipedia.org/wiki/Netflix\" hreflang=\"diq\" lang=\"diq\" title=\"Netflix — Zazaki\"><span>Zazaki</span></a></li><li class=\"interlanguage-link interwiki-dv mw-list-item\"><a class=\"interlanguage-link-target\" href=\"https://dv.wikipedia.org/wiki/%DE%82%DE%AC%DE%93%DE%B0%DE%8A%DE%B0%DE%8D%DE%A8%DE%86%DE%B0%DE%90%DE%B0\" hreflang=\"dv\" lang=\"dv\" title=\"ނެޓްފްލިކްސް — мальдивский\"><span>ދިވެހިބަސް</span></a></li><li class=\"interlanguage-link interwiki-el mw-list-item\"><a class=\"interlanguage-link-target\" href=\"https://el.wikipedia.org/wiki/Netflix\" hreflang=\"el\" lang=\"el\" title=\"Netflix — греческий\"><span>Ελληνικά</span></a></li><li class=\"interlanguage-link interwiki-en mw-list-item\"><a class=\"interlanguage-link-target\" href=\"https://en.wikipedia.org/wiki/Netflix\" hreflang=\"en\" lang=\"en\" title=\"Netflix — английский\"><span>English</span></a></li><li class=\"interlanguage-link interwiki-eo mw-list-item\"><a class=\"interlanguage-link-target\" href=\"https://eo.wikipedia.org/wiki/Netflix\" hreflang=\"eo\" lang=\"eo\" title=\"Netflix — эсперанто\"><span>Esperanto</span></a></li><li class=\"interlanguage-link interwiki-es mw-list-item\"><a class=\"interlanguage-link-target\" href=\"https://es.wikipedia.org/wiki/Netflix\" hreflang=\"es\" lang=\"es\" title=\"Netflix — испанский\"><span>Español</span></a></li><li class=\"interlanguage-link interwiki-et mw-list-item\"><a class=\"interlanguage-link-target\" href=\"https://et.wikipedia.org/wiki/Netflix\" hreflang=\"et\" lang=\"et\" title=\"Netflix — эстонский\"><span>Eesti</span></a></li><li class=\"interlanguage-link interwiki-eu mw-list-item\"><a class=\"interlanguage-link-target\" href=\"https://eu.wikipedia.org/wiki/Netflix\" hreflang=\"eu\" lang=\"eu\" title=\"Netflix — баскский\"><span>Euskara</span></a></li><li class=\"interlanguage-link interwiki-fa mw-list-item\"><a class=\"interlanguage-link-target\" href=\"https://fa.wikipedia.org/wiki/%D9%86%D8%AA%D9%81%D9%84%DB%8C%DA%A9%D8%B3\" hreflang=\"fa\" lang=\"fa\" title=\"نتفلیکس — персидский\"><span>فارسی</span></a></li><li class=\"interlanguage-link interwiki-fi mw-list-item\"><a class=\"interlanguage-link-target\" href=\"https://fi.wikipedia.org/wiki/Netflix\" hreflang=\"fi\" lang=\"fi\" title=\"Netflix — финский\"><span>Suomi</span></a></li><li class=\"interlanguage-link interwiki-fr mw-list-item\"><a class=\"interlanguage-link-target\" href=\"https://fr.wikipedia.org/wiki/Netflix\" hreflang=\"fr\" lang=\"fr\" title=\"Netflix — французский\"><span>Français</span></a></li><li class=\"interlanguage-link interwiki-fy mw-list-item\"><a class=\"interlanguage-link-target\" href=\"https://fy.wikipedia.org/wiki/Netflix\" hreflang=\"fy\" lang=\"fy\" title=\"Netflix — западнофризский\"><span>Frysk</span></a></li><li class=\"interlanguage-link interwiki-ga mw-list-item\"><a class=\"interlanguage-link-target\" href=\"https://ga.wikipedia.org/wiki/Netflix\" hreflang=\"ga\" lang=\"ga\" title=\"Netflix — ирландский\"><span>Gaeilge</span></a></li><li class=\"interlanguage-link interwiki-gl mw-list-item\"><a class=\"interlanguage-link-target\" href=\"https://gl.wikipedia.org/wiki/Netflix\" hreflang=\"gl\" lang=\"gl\" title=\"Netflix — галисийский\"><span>Galego</span></a></li><li class=\"interlanguage-link interwiki-gn mw-list-item\"><a class=\"interlanguage-link-target\" href=\"https://gn.wikipedia.org/wiki/Netflix\" hreflang=\"gn\" lang=\"gn\" title=\"Netflix — гуарани\"><span>Avañe'ẽ</span></a></li><li class=\"interlanguage-link interwiki-he mw-list-item\"><a class=\"interlanguage-link-target\" href=\"https://he.wikipedia.org/wiki/%D7%A0%D7%98%D7%A4%D7%9C%D7%99%D7%A7%D7%A1\" hreflang=\"he\" lang=\"he\" title=\"נטפליקס — иврит\"><span>עברית</span></a></li><li class=\"interlanguage-link interwiki-hi mw-list-item\"><a class=\"interlanguage-link-target\" href=\"https://hi.wikipedia.org/wiki/%E0%A4%A8%E0%A5%87%E0%A4%9F%E0%A4%AB%E0%A5%8D%E0%A4%B2%E0%A4%BF%E0%A4%95%E0%A5%8D%E0%A4%B8\" hreflang=\"hi\" lang=\"hi\" title=\"नेटफ्लिक्स — хинди\"><span>हिन्दी</span></a></li><li class=\"interlanguage-link interwiki-hr mw-list-item\"><a class=\"interlanguage-link-target\" href=\"https://hr.wikipedia.org/wiki/Netflix\" hreflang=\"hr\" lang=\"hr\" title=\"Netflix — хорватский\"><span>Hrvatski</span></a></li><li class=\"interlanguage-link interwiki-ht mw-list-item\"><a class=\"interlanguage-link-target\" href=\"https://ht.wikipedia.org/wiki/Netflix\" hreflang=\"ht\" lang=\"ht\" title=\"Netflix — гаитянский\"><span>Kreyòl ayisyen</span></a></li><li class=\"interlanguage-link interwiki-hu mw-list-item\"><a class=\"interlanguage-link-target\" href=\"https://hu.wikipedia.org/wiki/Netflix\" hreflang=\"hu\" lang=\"hu\" title=\"Netflix — венгерский\"><span>Magyar</span></a></li><li class=\"interlanguage-link interwiki-hy mw-list-item\"><a class=\"interlanguage-link-target\" href=\"https://hy.wikipedia.org/wiki/%D5%86%D5%A5%D5%A9%D6%86%D5%AC%D5%AB%D6%84%D5%BD\" hreflang=\"hy\" lang=\"hy\" title=\"Նեթֆլիքս — армянский\"><span>Հայերեն</span></a></li><li class=\"interlanguage-link interwiki-id mw-list-item\"><a class=\"interlanguage-link-target\" href=\"https://id.wikipedia.org/wiki/Netflix\" hreflang=\"id\" lang=\"id\" title=\"Netflix — индонезийский\"><span>Bahasa Indonesia</span></a></li><li class=\"interlanguage-link interwiki-is mw-list-item\"><a class=\"interlanguage-link-target\" href=\"https://is.wikipedia.org/wiki/Netflix\" hreflang=\"is\" lang=\"is\" title=\"Netflix — исландский\"><span>Íslenska</span></a></li><li class=\"interlanguage-link interwiki-it mw-list-item\"><a class=\"interlanguage-link-target\" href=\"https://it.wikipedia.org/wiki/Netflix\" hreflang=\"it\" lang=\"it\" title=\"Netflix — итальянский\"><span>Italiano</span></a></li><li class=\"interlanguage-link interwiki-ja mw-list-item\"><a class=\"interlanguage-link-target\" href=\"https://ja.wikipedia.org/wiki/Netflix\" hreflang=\"ja\" lang=\"ja\" title=\"Netflix — японский\"><span>日本語</span></a></li><li class=\"interlanguage-link interwiki-ka mw-list-item\"><a class=\"interlanguage-link-target\" href=\"https://ka.wikipedia.org/wiki/Netflix\" hreflang=\"ka\" lang=\"ka\" title=\"Netflix — грузинский\"><span>ქართული</span></a></li><li class=\"interlanguage-link interwiki-kk mw-list-item\"><a class=\"interlanguage-link-target\" href=\"https://kk.wikipedia.org/wiki/Netflix\" hreflang=\"kk\" lang=\"kk\" title=\"Netflix — казахский\"><span>Қазақша</span></a></li><li class=\"interlanguage-link interwiki-km mw-list-item\"><a class=\"interlanguage-link-target\" href=\"https://km.wikipedia.org/wiki/%E1%9E%8E%E1%9E%B7%E1%9E%8F%E1%9E%A0%E1%9F%92%E1%9E%9C%E1%9F%92%E1%9E%9B%E1%9E%B7%E1%9E%85\" hreflang=\"km\" lang=\"km\" title=\"ណិតហ្វ្លិច — кхмерский\"><span>ភាសាខ្មែរ</span></a></li><li class=\"interlanguage-link interwiki-kn mw-list-item\"><a class=\"interlanguage-link-target\" href=\"https://kn.wikipedia.org/wiki/%E0%B2%A8%E0%B3%86%E0%B2%9F%E0%B3%8D%E2%80%8D%E0%B2%AB%E0%B3%8D%E0%B2%B2%E0%B2%BF%E0%B2%95%E0%B3%8D%E0%B2%B8%E0%B3%8D\" hreflang=\"kn\" lang=\"kn\" title=\"ನೆಟ್‍ಫ್ಲಿಕ್ಸ್ — каннада\"><span>ಕನ್ನಡ</span></a></li><li class=\"interlanguage-link interwiki-ko mw-list-item\"><a class=\"interlanguage-link-target\" href=\"https://ko.wikipedia.org/wiki/%EB%84%B7%ED%94%8C%EB%A6%AD%EC%8A%A4\" hreflang=\"ko\" lang=\"ko\" title=\"넷플릭스 — корейский\"><span>한국어</span></a></li><li class=\"interlanguage-link interwiki-ku mw-list-item\"><a class=\"interlanguage-link-target\" href=\"https://ku.wikipedia.org/wiki/Netflix\" hreflang=\"ku\" lang=\"ku\" title=\"Netflix — курдский\"><span>Kurdî</span></a></li><li class=\"interlanguage-link interwiki-ky mw-list-item\"><a class=\"interlanguage-link-target\" href=\"https://ky.wikipedia.org/wiki/Netflix\" hreflang=\"ky\" lang=\"ky\" title=\"Netflix — киргизский\"><span>Кыргызча</span></a></li><li class=\"interlanguage-link interwiki-la mw-list-item\"><a class=\"interlanguage-link-target\" href=\"https://la.wikipedia.org/wiki/Netflix\" hreflang=\"la\" lang=\"la\" title=\"Netflix — латинский\"><span>Latina</span></a></li><li class=\"interlanguage-link interwiki-lo mw-list-item\"><a class=\"interlanguage-link-target\" href=\"https://lo.wikipedia.org/wiki/%E0%BB%80%E0%BA%99%E0%BA%B1%E0%BA%94%E0%BA%9F%E0%BA%A5%E0%BA%B4%E0%BA%81\" hreflang=\"lo\" lang=\"lo\" title=\"ເນັດຟລິກ — лаосский\"><span>ລາວ</span></a></li><li class=\"interlanguage-link interwiki-lt mw-list-item\"><a class=\"interlanguage-link-target\" href=\"https://lt.wikipedia.org/wiki/Netflix\" hreflang=\"lt\" lang=\"lt\" title=\"Netflix — литовский\"><span>Lietuvių</span></a></li><li class=\"interlanguage-link interwiki-lv mw-list-item\"><a class=\"interlanguage-link-target\" href=\"https://lv.wikipedia.org/wiki/Netflix\" hreflang=\"lv\" lang=\"lv\" title=\"Netflix — латышский\"><span>Latviešu</span></a></li><li class=\"interlanguage-link interwiki-mai mw-list-item\"><a class=\"interlanguage-link-target\" href=\"https://mai.wikipedia.org/wiki/%E0%A4%A8%E0%A5%87%E0%A4%9F%E0%A4%AB%E0%A5%8D%E0%A4%B2%E0%A4%BF%E0%A4%95%E0%A5%8D%E0%A4%B8\" hreflang=\"mai\" lang=\"mai\" title=\"नेटफ्लिक्स — майтхили\"><span>मैथिली</span></a></li><li class=\"interlanguage-link interwiki-min mw-list-item\"><a class=\"interlanguage-link-target\" href=\"https://min.wikipedia.org/wiki/Netflix\" hreflang=\"min\" lang=\"min\" title=\"Netflix — минангкабау\"><span>Minangkabau</span></a></li><li class=\"interlanguage-link interwiki-ml mw-list-item\"><a class=\"interlanguage-link-target\" href=\"https://ml.wikipedia.org/wiki/%E0%B4%A8%E0%B5%86%E0%B4%B1%E0%B5%8D%E0%B4%B1%E0%B5%8D%E0%B4%AB%E0%B5%8D%E0%B4%B2%E0%B4%BF%E0%B4%95%E0%B5%8D%E0%B4%B8%E0%B5%8D\" hreflang=\"ml\" lang=\"ml\" title=\"നെറ്റ്ഫ്ലിക്സ് — малаялам\"><span>മലയാളം</span></a></li><li class=\"interlanguage-link interwiki-mr mw-list-item\"><a class=\"interlanguage-link-target\" href=\"https://mr.wikipedia.org/wiki/%E0%A4%A8%E0%A5%87%E0%A4%9F%E0%A4%AB%E0%A5%8D%E0%A4%B2%E0%A4%BF%E0%A4%95%E0%A5%8D%E0%A4%B8\" hreflang=\"mr\" lang=\"mr\" title=\"नेटफ्लिक्स — маратхи\"><span>मराठी</span></a></li><li class=\"interlanguage-link interwiki-ms mw-list-item\"><a class=\"interlanguage-link-target\" href=\"https://ms.wikipedia.org/wiki/Netflix\" hreflang=\"ms\" lang=\"ms\" title=\"Netflix — малайский\"><span>Bahasa Melayu</span></a></li><li class=\"interlanguage-link interwiki-my mw-list-item\"><a class=\"interlanguage-link-target\" href=\"https://my.wikipedia.org/wiki/%E1%80%94%E1%80%80%E1%80%BA%E1%80%96%E1%80%9C%E1%80%85%E1%80%BA\" hreflang=\"my\" lang=\"my\" title=\"နက်ဖလစ် — бирманский\"><span>မြန်မာဘာသာ</span></a></li><li class=\"interlanguage-link interwiki-nds-nl mw-list-item\"><a class=\"interlanguage-link-target\" href=\"https://nds-nl.wikipedia.org/wiki/Netflix\" hreflang=\"nds-NL\" lang=\"nds-NL\" title=\"Netflix — нижнесаксонский\"><span>Nedersaksies</span></a></li><li class=\"interlanguage-link interwiki-ne mw-list-item\"><a class=\"interlanguage-link-target\" href=\"https://ne.wikipedia.org/wiki/%E0%A4%A8%E0%A5%87%E0%A4%9F%E0%A4%AB%E0%A5%8D%E0%A4%B2%E0%A4%BF%E0%A4%95%E0%A5%8D%E0%A4%B8\" hreflang=\"ne\" lang=\"ne\" title=\"नेटफ्लिक्स — непальский\"><span>नेपाली</span></a></li><li class=\"interlanguage-link interwiki-nl mw-list-item\"><a class=\"interlanguage-link-target\" href=\"https://nl.wikipedia.org/wiki/Netflix\" hreflang=\"nl\" lang=\"nl\" title=\"Netflix — нидерландский\"><span>Nederlands</span></a></li><li class=\"interlanguage-link interwiki-nn mw-list-item\"><a class=\"interlanguage-link-target\" href=\"https://nn.wikipedia.org/wiki/Netflix\" hreflang=\"nn\" lang=\"nn\" title=\"Netflix — нюнорск\"><span>Norsk nynorsk</span></a></li><li class=\"interlanguage-link interwiki-no mw-list-item\"><a class=\"interlanguage-link-target\" href=\"https://no.wikipedia.org/wiki/Netflix\" hreflang=\"nb\" lang=\"nb\" title=\"Netflix — норвежский букмол\"><span>Norsk bokmål</span></a></li><li class=\"interlanguage-link interwiki-pa mw-list-item\"><a class=\"interlanguage-link-target\" href=\"https://pa.wikipedia.org/wiki/%E0%A8%A8%E0%A9%88%E0%A8%9F%E0%A8%AB%E0%A8%B2%E0%A8%BF%E0%A8%95%E0%A8%B8\" hreflang=\"pa\" lang=\"pa\" title=\"ਨੈਟਫਲਿਕਸ — панджаби\"><span>ਪੰਜਾਬੀ</span></a></li><li class=\"interlanguage-link interwiki-pl mw-list-item\"><a class=\"interlanguage-link-target\" href=\"https://pl.wikipedia.org/wiki/Netflix\" hreflang=\"pl\" lang=\"pl\" title=\"Netflix — польский\"><span>Polski</span></a></li><li class=\"interlanguage-link interwiki-pnb mw-list-item\"><a class=\"interlanguage-link-target\" href=\"https://pnb.wikipedia.org/wiki/%D9%86%DB%8C%D9%B9_%D9%81%D9%84%DB%8C%DA%A9%D8%B3\" hreflang=\"pnb\" lang=\"pnb\" title=\"نیٹ فلیکس — Western Punjabi\"><span>پنجابی</span></a></li><li class=\"interlanguage-link interwiki-ps mw-list-item\"><a class=\"interlanguage-link-target\" href=\"https://ps.wikipedia.org/wiki/%D9%86%D9%8A%D9%BC_%D9%81%D9%84%D9%8A%DA%A9%D8%B3\" hreflang=\"ps\" lang=\"ps\" title=\"نيټ فليکس — пушту\"><span>پښتو</span></a></li><li class=\"interlanguage-link interwiki-pt mw-list-item\"><a class=\"interlanguage-link-target\" href=\"https://pt.wikipedia.org/wiki/Netflix\" hreflang=\"pt\" lang=\"pt\" title=\"Netflix — португальский\"><span>Português</span></a></li><li class=\"interlanguage-link interwiki-ro mw-list-item\"><a class=\"interlanguage-link-target\" href=\"https://ro.wikipedia.org/wiki/Netflix\" hreflang=\"ro\" lang=\"ro\" title=\"Netflix — румынский\"><span>Română</span></a></li><li class=\"interlanguage-link interwiki-sah mw-list-item\"><a class=\"interlanguage-link-target\" href=\"https://sah.wikipedia.org/wiki/Netflix\" hreflang=\"sah\" lang=\"sah\" title=\"Netflix — саха\"><span>Саха тыла</span></a></li><li class=\"interlanguage-link interwiki-sc mw-list-item\"><a class=\"interlanguage-link-target\" href=\"https://sc.wikipedia.org/wiki/Netflix\" hreflang=\"sc\" lang=\"sc\" title=\"Netflix — сардинский\"><span>Sardu</span></a></li><li class=\"interlanguage-link interwiki-sco mw-list-item\"><a class=\"interlanguage-link-target\" href=\"https://sco.wikipedia.org/wiki/Netflix\" hreflang=\"sco\" lang=\"sco\" title=\"Netflix — шотландский\"><span>Scots</span></a></li><li class=\"interlanguage-link interwiki-sh mw-list-item\"><a class=\"interlanguage-link-target\" href=\"https://sh.wikipedia.org/wiki/Netflix\" hreflang=\"sh\" lang=\"sh\" title=\"Netflix — сербскохорватский\"><span>Srpskohrvatski / српскохрватски</span></a></li><li class=\"interlanguage-link interwiki-simple mw-list-item\"><a class=\"interlanguage-link-target\" href=\"https://simple.wikipedia.org/wiki/Netflix\" hreflang=\"en-simple\" lang=\"en-simple\" title=\"Netflix — Simple English\"><span>Simple English</span></a></li><li class=\"interlanguage-link interwiki-sk mw-list-item\"><a class=\"interlanguage-link-target\" href=\"https://sk.wikipedia.org/wiki/Netflix\" hreflang=\"sk\" lang=\"sk\" title=\"Netflix — словацкий\"><span>Slovenčina</span></a></li><li class=\"interlanguage-link interwiki-smn mw-list-item\"><a class=\"interlanguage-link-target\" href=\"https://smn.wikipedia.org/wiki/Netflix\" hreflang=\"smn\" lang=\"smn\" title=\"Netflix — инари-саамский\"><span>Anarâškielâ</span></a></li><li class=\"interlanguage-link interwiki-so mw-list-item\"><a class=\"interlanguage-link-target\" href=\"https://so.wikipedia.org/wiki/Netflix\" hreflang=\"so\" lang=\"so\" title=\"Netflix — сомали\"><span>Soomaaliga</span></a></li><li class=\"interlanguage-link interwiki-sq mw-list-item\"><a class=\"interlanguage-link-target\" href=\"https://sq.wikipedia.org/wiki/Netflix\" hreflang=\"sq\" lang=\"sq\" title=\"Netflix — албанский\"><span>Shqip</span></a></li><li class=\"interlanguage-link interwiki-sr mw-list-item\"><a class=\"interlanguage-link-target\" href=\"https://sr.wikipedia.org/wiki/Netflix\" hreflang=\"sr\" lang=\"sr\" title=\"Netflix — сербский\"><span>Српски / srpski</span></a></li><li class=\"interlanguage-link interwiki-su mw-list-item\"><a class=\"interlanguage-link-target\" href=\"https://su.wikipedia.org/wiki/Netflix\" hreflang=\"su\" lang=\"su\" title=\"Netflix — сунданский\"><span>Sunda</span></a></li><li class=\"interlanguage-link interwiki-sv mw-list-item\"><a class=\"interlanguage-link-target\" href=\"https://sv.wikipedia.org/wiki/Netflix\" hreflang=\"sv\" lang=\"sv\" title=\"Netflix — шведский\"><span>Svenska</span></a></li><li class=\"interlanguage-link interwiki-sw mw-list-item\"><a class=\"interlanguage-link-target\" href=\"https://sw.wikipedia.org/wiki/Netflix\" hreflang=\"sw\" lang=\"sw\" title=\"Netflix — суахили\"><span>Kiswahili</span></a></li><li class=\"interlanguage-link interwiki-ta mw-list-item\"><a class=\"interlanguage-link-target\" href=\"https://ta.wikipedia.org/wiki/%E0%AE%A8%E0%AF%86%E0%AE%B1%E0%AF%8D%E0%AE%83%E0%AE%AA%E0%AE%BF%E0%AE%B3%E0%AE%BF%E0%AE%95%E0%AF%8D%E0%AE%9A%E0%AF%81\" hreflang=\"ta\" lang=\"ta\" title=\"நெற்ஃபிளிக்சு — тамильский\"><span>தமிழ்</span></a></li><li class=\"interlanguage-link interwiki-te mw-list-item\"><a class=\"interlanguage-link-target\" href=\"https://te.wikipedia.org/wiki/%E0%B0%A8%E0%B1%86%E0%B0%9F%E0%B1%8D%E2%80%8C%E0%B0%AB%E0%B1%8D%E0%B0%B2%E0%B0%BF%E0%B0%95%E0%B1%8D%E0%B0%B8%E0%B1%8D\" hreflang=\"te\" lang=\"te\" title=\"నెట్‌ఫ్లిక్స్ — телугу\"><span>తెలుగు</span></a></li><li class=\"interlanguage-link interwiki-tg mw-list-item\"><a class=\"interlanguage-link-target\" href=\"https://tg.wikipedia.org/wiki/Netflix\" hreflang=\"tg\" lang=\"tg\" title=\"Netflix — таджикский\"><span>Тоҷикӣ</span></a></li><li class=\"interlanguage-link interwiki-th mw-list-item\"><a class=\"interlanguage-link-target\" href=\"https://th.wikipedia.org/wiki/%E0%B9%80%E0%B8%99%E0%B9%87%E0%B8%95%E0%B8%9F%E0%B8%A5%E0%B8%B4%E0%B8%81%E0%B8%8B%E0%B9%8C\" hreflang=\"th\" lang=\"th\" title=\"เน็ตฟลิกซ์ — тайский\"><span>ไทย</span></a></li><li class=\"interlanguage-link interwiki-tl mw-list-item\"><a class=\"interlanguage-link-target\" href=\"https://tl.wikipedia.org/wiki/Netflix\" hreflang=\"tl\" lang=\"tl\" title=\"Netflix — тагалог\"><span>Tagalog</span></a></li><li class=\"interlanguage-link interwiki-tr mw-list-item\"><a class=\"interlanguage-link-target\" href=\"https://tr.wikipedia.org/wiki/Netflix\" hreflang=\"tr\" lang=\"tr\" title=\"Netflix — турецкий\"><span>Türkçe</span></a></li><li class=\"interlanguage-link interwiki-tt mw-list-item\"><a class=\"interlanguage-link-target\" href=\"https://tt.wikipedia.org/wiki/Netflix\" hreflang=\"tt\" lang=\"tt\" title=\"Netflix — татарский\"><span>Татарча/tatarça</span></a></li><li class=\"interlanguage-link interwiki-ug mw-list-item\"><a class=\"interlanguage-link-target\" href=\"https://ug.wikipedia.org/wiki/%D9%86%DB%95%D8%AA%D9%81%D9%84%D9%89%D9%83%D9%89%D8%B3\" hreflang=\"ug\" lang=\"ug\" title=\"نەتفلىكىس — уйгурский\"><span>ئۇيغۇرچە / Uyghurche</span></a></li><li class=\"interlanguage-link interwiki-uk mw-list-item\"><a class=\"interlanguage-link-target\" href=\"https://uk.wikipedia.org/wiki/Netflix\" hreflang=\"uk\" lang=\"uk\" title=\"Netflix — украинский\"><span>Українська</span></a></li><li class=\"interlanguage-link interwiki-ur mw-list-item\"><a class=\"interlanguage-link-target\" href=\"https://ur.wikipedia.org/wiki/%D9%86%DB%8C%D9%B9_%D9%81%D9%84%DA%A9%D8%B3\" hreflang=\"ur\" lang=\"ur\" title=\"نیٹ فلکس — урду\"><span>اردو</span></a></li><li class=\"interlanguage-link interwiki-uz mw-list-item\"><a class=\"interlanguage-link-target\" href=\"https://uz.wikipedia.org/wiki/Netflix\" hreflang=\"uz\" lang=\"uz\" title=\"Netflix — узбекский\"><span>Oʻzbekcha/ўзбекча</span></a></li><li class=\"interlanguage-link interwiki-vi mw-list-item\"><a class=\"interlanguage-link-target\" href=\"https://vi.wikipedia.org/wiki/Netflix\" hreflang=\"vi\" lang=\"vi\" title=\"Netflix — вьетнамский\"><span>Tiếng Việt</span></a></li><li class=\"interlanguage-link interwiki-wuu mw-list-item\"><a class=\"interlanguage-link-target\" href=\"https://wuu.wikipedia.org/wiki/Netflix\" hreflang=\"wuu\" lang=\"wuu\" title=\"Netflix — ву\"><span>吴语</span></a></li><li class=\"interlanguage-link interwiki-xmf mw-list-item\"><a class=\"interlanguage-link-target\" href=\"https://xmf.wikipedia.org/wiki/Netflix\" hreflang=\"xmf\" lang=\"xmf\" title=\"Netflix — Mingrelian\"><span>მარგალური</span></a></li><li class=\"interlanguage-link interwiki-yi mw-list-item\"><a class=\"interlanguage-link-target\" href=\"https://yi.wikipedia.org/wiki/%D7%A0%D7%A2%D7%98%D7%A4%D7%9C%D7%99%D7%A7%D7%A1\" hreflang=\"yi\" lang=\"yi\" title=\"נעטפליקס — идиш\"><span>ייִדיש</span></a></li><li class=\"interlanguage-link interwiki-zh mw-list-item\"><a class=\"interlanguage-link-target\" href=\"https://zh.wikipedia.org/wiki/Netflix\" hreflang=\"zh\" lang=\"zh\" title=\"Netflix — китайский\"><span>中文</span></a></li><li class=\"interlanguage-link interwiki-zh-classical mw-list-item\"><a class=\"interlanguage-link-target\" href=\"https://zh-classical.wikipedia.org/wiki/%E7%B6%B2%E9%A3%9B\" hreflang=\"lzh\" lang=\"lzh\" title=\"網飛 — Classical Chinese\"><span>文言</span></a></li><li class=\"interlanguage-link interwiki-zh-min-nan mw-list-item\"><a class=\"interlanguage-link-target\" href=\"https://zh-min-nan.wikipedia.org/wiki/Netflix\" hreflang=\"nan\" lang=\"nan\" title=\"Netflix — Chinese (Min Nan)\"><span>Bân-lâm-gú</span></a></li><li class=\"interlanguage-link interwiki-zh-yue mw-list-item\"><a class=\"interlanguage-link-target\" href=\"https://zh-yue.wikipedia.org/wiki/Netflix\" hreflang=\"yue\" lang=\"yue\" title=\"Netflix — Cantonese\"><span>粵語</span></a></li><li class=\"interlanguage-link interwiki-zu mw-list-item\"><a class=\"interlanguage-link-target\" href=\"https://zu.wikipedia.org/wiki/Netflix\" hreflang=\"zu\" lang=\"zu\" title=\"Netflix — зулу\"><span>IsiZulu</span></a></li></ul>\n",
            "\t\t<div class=\"after-portlet after-portlet-lang\"><span class=\"wb-langlinks-edit wb-langlinks-link\"><a class=\"wbc-editpage\" href=\"https://www.wikidata.org/wiki/Special:EntityPage/Q907311#sitelinks-wikipedia\" title=\"Править межъязыковые ссылки\">Править ссылки</a></span></div>\n",
            "\t</div>\n",
            "</nav>\n",
            "\n",
            "</div>\n",
            "\n",
            "</div>\n",
            "\n",
            "<footer class=\"mw-footer\" id=\"footer\" role=\"contentinfo\">\n",
            "\t<ul id=\"footer-info\">\n",
            "\t<li id=\"footer-info-lastmod\"> Эта страница в последний раз была отредактирована 10 марта 2022 в 16:55.</li>\n",
            "\t<li id=\"footer-info-copyright\">Текст доступен по <a href=\"//ru.wikipedia.org/wiki/Википедия:Текст_лицензии_Creative_Commons_Attribution-ShareAlike_3.0_Unported\" rel=\"license\">лицензии Creative Commons Attribution-ShareAlike</a><a href=\"//creativecommons.org/licenses/by-sa/3.0/\" rel=\"license\" style=\"display:none;\"></a>; в отдельных случаях могут действовать дополнительные условия.\n",
            "<span class=\"noprint\">Подробнее см. <a href=\"//foundation.wikimedia.org/wiki/Terms_of_Use/ru\">Условия использования</a>.</span><br/>\n",
            "Wikipedia® — зарегистрированный товарный знак некоммерческой организации <a href=\"//wikimediafoundation.org\">Wikimedia Foundation, Inc.</a></li>\n",
            "</ul>\n",
            "\n",
            "\t<ul id=\"footer-places\">\n",
            "\t<li id=\"footer-places-privacy\"><a class=\"extiw\" href=\"https://meta.wikimedia.org/wiki/Privacy_policy/ru\" title=\"m:Privacy policy/ru\">Политика конфиденциальности</a></li>\n",
            "\t<li id=\"footer-places-about\"><a href=\"/wiki/%D0%92%D0%B8%D0%BA%D0%B8%D0%BF%D0%B5%D0%B4%D0%B8%D1%8F:%D0%9E%D0%BF%D0%B8%D1%81%D0%B0%D0%BD%D0%B8%D0%B5\" title=\"Википедия:Описание\">Описание Википедии</a></li>\n",
            "\t<li id=\"footer-places-disclaimer\"><a href=\"/wiki/%D0%92%D0%B8%D0%BA%D0%B8%D0%BF%D0%B5%D0%B4%D0%B8%D1%8F:%D0%9E%D1%82%D0%BA%D0%B0%D0%B7_%D0%BE%D1%82_%D0%BE%D1%82%D0%B2%D0%B5%D1%82%D1%81%D1%82%D0%B2%D0%B5%D0%BD%D0%BD%D0%BE%D1%81%D1%82%D0%B8\" title=\"Википедия:Отказ от ответственности\">Отказ от ответственности</a></li>\n",
            "\t<li id=\"footer-places-contact\"><a href=\"//ru.wikipedia.org/wiki/Википедия:Контакты\">Свяжитесь с нами</a></li>\n",
            "\t<li id=\"footer-places-mobileview\"><a class=\"noprint stopMobileRedirectToggle\" href=\"//ru.m.wikipedia.org/w/index.php?title=Netflix&amp;mobileaction=toggle_view_mobile\">Мобильная версия</a></li>\n",
            "\t<li id=\"footer-places-developers\"><a href=\"https://www.mediawiki.org/wiki/Special:MyLanguage/How_to_contribute\">Разработчики</a></li>\n",
            "\t<li id=\"footer-places-statslink\"><a href=\"https://stats.wikimedia.org/#/ru.wikipedia.org\">Статистика</a></li>\n",
            "\t<li id=\"footer-places-cookiestatement\"><a href=\"https://foundation.wikimedia.org/wiki/Cookie_statement\">Заявление о куки</a></li>\n",
            "</ul>\n",
            "\n",
            "\t<ul class=\"noprint\" id=\"footer-icons\">\n",
            "\t<li id=\"footer-copyrightico\"><a href=\"https://wikimediafoundation.org/\"><img alt=\"Wikimedia Foundation\" height=\"31\" loading=\"lazy\" src=\"/static/images/footer/wikimedia-button.png\" srcset=\"/static/images/footer/wikimedia-button-1.5x.png 1.5x, /static/images/footer/wikimedia-button-2x.png 2x\" width=\"88\"/></a></li>\n",
            "\t<li id=\"footer-poweredbyico\"><a href=\"https://www.mediawiki.org/\"><img alt=\"Powered by MediaWiki\" height=\"31\" loading=\"lazy\" src=\"/static/images/footer/poweredby_mediawiki_88x31.png\" srcset=\"/static/images/footer/poweredby_mediawiki_132x47.png 1.5x, /static/images/footer/poweredby_mediawiki_176x62.png 2x\" width=\"88\"/></a></li>\n",
            "</ul>\n",
            "\n",
            "</footer>\n",
            "\n",
            "<script>(RLQ=window.RLQ||[]).push(function(){mw.config.set({\"wgPageParseReport\":{\"limitreport\":{\"cputime\":\"1.883\",\"walltime\":\"2.189\",\"ppvisitednodes\":{\"value\":21052,\"limit\":1000000},\"postexpandincludesize\":{\"value\":490975,\"limit\":2097152},\"templateargumentsize\":{\"value\":65781,\"limit\":2097152},\"expansiondepth\":{\"value\":23,\"limit\":100},\"expensivefunctioncount\":{\"value\":75,\"limit\":500},\"unstrip-depth\":{\"value\":0,\"limit\":20},\"unstrip-size\":{\"value\":51023,\"limit\":5000000},\"entityaccesscount\":{\"value\":15,\"limit\":400},\"timingprofile\":[\"100.00% 1895.083      1 -total\",\" 38.01%  720.323      1 Шаблон:Компания\",\" 35.31%  669.085      1 Шаблон:Карточка\",\" 29.33%  555.826      1 Шаблон:Примечания\",\" 17.69%  335.325     36 Шаблон:Cite_web\",\" 10.42%  197.491      1 Шаблон:Навигационный_блок\",\"  9.41%  178.331      7 Шаблон:Wikidata\",\"  8.88%  168.368      5 Шаблон:Навигационная_таблица\",\"  8.15%  154.429      1 Шаблон:Внешние_ссылки\",\"  7.68%  145.521      1 Шаблон:NetflixFilms\"]},\"scribunto\":{\"limitreport-timeusage\":{\"value\":\"0.948\",\"limit\":\"10.000\"},\"limitreport-memusage\":{\"value\":16358841,\"limit\":52428800},\"limitreport-logs\":\"Loaded datatype commonsMedia of P154 from wikidata, consider passing datatype argument to formatProperty call or to Wikidata/config\\nLoaded datatype wikibase-item of P1454 from wikidata, consider passing datatype argument to formatProperty call or to Wikidata/config\\nLoaded datatype wikibase-item of P414 from wikidata, consider passing datatype argument to formatProperty call or to Wikidata/config\\nLoaded datatype wikibase-item of P1366 from wikidata, consider passing datatype argument to formatProperty call or to Wikidata/config\\nLoaded datatype wikibase-item of P112 from wikidata, consider passing datatype argument to formatProperty call or to Wikidata/config\\nLoaded datatype wikibase-item of P452 from wikidata, consider passing datatype argument to formatProperty call or to Wikidata/config\\nLoaded datatype wikibase-item of P1056 from wikidata, consider passing datatype argument to formatProperty call or to Wikidata/config\\nLoaded datatype time of P585 from wikidata, consider passing datatype argument to formatProperty call or to Wikidata/config\\nLoaded datatype time of P585 from wikidata, consider passing datatype argument to formatProperty call or to Wikidata/config\\nLoaded datatype time of P585 from wikidata, consider passing datatype argument to formatProperty call or to Wikidata/config\\nLoaded datatype time of P585 from wikidata, consider passing datatype argument to formatProperty call or to Wikidata/config\\nLoaded datatype time of P585 from wikidata, consider passing datatype argument to formatProperty call or to Wikidata/config\\nLoaded datatype time of P585 from wikidata, consider passing datatype argument to formatProperty call or to Wikidata/config\\nLoaded datatype time of P585 from wikidata, consider passing datatype argument to formatProperty call or to Wikidata/config\\nLoaded datatype wikibase-item of P749 from wikidata, consider passing datatype argument to formatProperty call or to Wikidata/config\\nLoaded datatype wikibase-item of P355 from wikidata, consider passing datatype argument to formatProperty call or to Wikidata/config\\n\"},\"cachereport\":{\"origin\":\"mw1423\",\"timestamp\":\"20220312002405\",\"ttl\":86400,\"transientcontent\":true}}});});</script>\n",
            "<script type=\"application/ld+json\">{\"@context\":\"https:\\/\\/schema.org\",\"@type\":\"Article\",\"name\":\"Netflix\",\"url\":\"https:\\/\\/ru.wikipedia.org\\/wiki\\/Netflix\",\"sameAs\":\"http:\\/\\/www.wikidata.org\\/entity\\/Q907311\",\"mainEntity\":\"http:\\/\\/www.wikidata.org\\/entity\\/Q907311\",\"author\":{\"@type\":\"Organization\",\"name\":\"Contributors to Wikimedia projects\"},\"publisher\":{\"@type\":\"Organization\",\"name\":\"\\u0424\\u043e\\u043d\\u0434 \\u0412\\u0438\\u043a\\u0438\\u043c\\u0435\\u0434\\u0438\\u0430\",\"logo\":{\"@type\":\"ImageObject\",\"url\":\"https:\\/\\/www.wikimedia.org\\/static\\/images\\/wmf-hor-googpub.png\"}},\"datePublished\":\"2011-08-08T14:34:38Z\",\"dateModified\":\"2022-03-10T16:55:11Z\",\"image\":\"https:\\/\\/upload.wikimedia.org\\/wikipedia\\/commons\\/9\\/9d\\/Netflix_headquarters.jpg\",\"headline\":\"\\u0410\\u043c\\u0435\\u0440\\u0438\\u043a\\u0430\\u043d\\u0441\\u043a\\u0430\\u044f \\u0440\\u0430\\u0437\\u0432\\u043b\\u0435\\u043a\\u0430\\u0442\\u0435\\u043b\\u044c\\u043d\\u0430\\u044f \\u043a\\u043e\\u043c\\u043f\\u0430\\u043d\\u0438\\u044f, \\u043e\\u0441\\u043d\\u043e\\u0432\\u0430\\u043d\\u043d\\u0430\\u044f \\u0432 1997 \\u0433\\u043e\\u0434\\u0443\"}</script>\n",
            "<script>(RLQ=window.RLQ||[]).push(function(){mw.config.set({\"wgBackendResponseTime\":191,\"wgHostname\":\"mw1365\"});});</script>\n",
            "\n",
            "</body></html>\n"
          ]
        }
      ]
    },
    {
      "cell_type": "code",
      "source": [
        "# Найдём все заголовки\n",
        "print(soup('h1'))"
      ],
      "metadata": {
        "colab": {
          "base_uri": "https://localhost:8080/"
        },
        "id": "gZqE4bgh2_ox",
        "outputId": "e85de497-7c04-4d0b-a286-5853d1911a9c"
      },
      "execution_count": null,
      "outputs": [
        {
          "output_type": "stream",
          "name": "stdout",
          "text": [
            "[<h1 class=\"firstHeading mw-first-heading\" id=\"firstHeading\">Netflix</h1>]\n"
          ]
        }
      ]
    },
    {
      "cell_type": "code",
      "source": [
        "for tag in soup('h2'):\n",
        "  print(tag.text)"
      ],
      "metadata": {
        "colab": {
          "base_uri": "https://localhost:8080/"
        },
        "id": "vgagtOS62_mI",
        "outputId": "06376dc4-b712-4c94-ca3e-7f14c54e1a61"
      },
      "execution_count": null,
      "outputs": [
        {
          "output_type": "stream",
          "name": "stdout",
          "text": [
            "Содержание\n",
            "История[править | править код]\n",
            "Собственники[править | править код]\n",
            "Технические детали и тарифы[править | править код]\n",
            "Материалы[править | править код]\n",
            "Галерея[править | править код]\n",
            "См. также[править | править код]\n",
            "Примечания[править | править код]\n",
            "Ссылки[править | править код]\n",
            "Навигация\n"
          ]
        }
      ]
    },
    {
      "cell_type": "code",
      "source": [
        "# Найдём все параграфы и сохраним их текст\n",
        "main_text = ''\n",
        "for tag in soup('p'):\n",
        "  main_text += tag.text\n",
        "\n",
        "main_text"
      ],
      "metadata": {
        "colab": {
          "base_uri": "https://localhost:8080/",
          "height": 213
        },
        "id": "Aeo0ikS34I4Y",
        "outputId": "8334fb79-c652-4348-9c3f-9ab29bfa5d53"
      },
      "execution_count": null,
      "outputs": [
        {
          "output_type": "execute_result",
          "data": {
            "text/plain": [
              "'Netflix\\xa0— американская развлекательная компания, стриминговый сервис фильмов и сериалов. Основана 29 августа 1997 года Ридом Хастингсом и Марком Рэндольфом[3]. Штаб-квартира находится в Лос-Гатосе, Калифорния.\\nС 2013 года Netflix производит собственные фильмы и сериалы, в том числе и анимационные, а также телепрограммы. В 2016 году компания выпустила 126 оригинальных сериалов и фильмов\\xa0— больше, чем любой другой сетевой или кабельный канал[4]. Их усилия по производству нового контента, обеспечению прав на дополнительный контент и диверсификации через 190 стран потребовали дополнительных капиталов, привлекаемых в том числе через займы. Суммарный долг в 2016 году составил 16,8\\xa0млрд долларов, по состоянию на сентябрь 2017 года он был уже 21,9\\xa0млрд долларов[5]. При этом 6,5 миллиарда долларов\\xa0— это долгосрочный долг, а остальная часть\\xa0— долгосрочные обязательства[6]. В октябре 2018 года Netflix объявила о привлечении ещё 2 миллиардов долларов для финансирования нового контента[7]. По состоянию на январь 2021 года у компании насчитывается 203,7\\xa0млн подписчиков по всему миру, при этом компания потратила 11,8\\xa0млрд долларов на создание контента в 2020 году[8].\\nNetflix была основана 29 августа 1997 года в Скоттс-Вэлли, штат Калифорния[en], Марком Рэндольфом[9] и Ридом Хастингсом. Рэндольф в то время работал директором по маркетингу в компании Хастингса «Pure Software[en]»[10]. Рэндольф был одним из основателей компании MicroWarehouse, занимавшейся доставкой компьютеров по почте, а позже был принят на работу в Borland International в качестве вице-президента по маркетингу.\\nХастингс, компьютерный учёный и математик, продал Pure Software[en] компании Rational Software Corporation в 1997 году за 700 миллионов долларов, что было на тот момент самым крупным приобретением в истории Кремниевой долины. Они придумали идею Netflix в поездках между своими домами в Санта-Крусе и штаб-квартирой Pure Software в Саннивейле, ожидая одобрения слияния двух компаний государственными органами, хотя Хастингс позднее рассказывал различные истории появления этой идеи[11].\\nХастингс вложил 2,5 миллиона долларов в стартап для Netflix[12]. Рэндольф восхищался тогда ещё молодой компанией Amazon и хотел найти большую категорию портативных товаров для продажи через Интернет, используя подобную им бизнес-модель. По их мнению, доставка фильмов на видеокассетах VHS была нерентабельна из-за их относительно крупного размера и, соответственно, неудобства хранения.\\nКогда основатели компании услышали о DVD-дисках, которые впервые появились в Соединённых Штатах 24 марта 1997 года, они протестировали концепцию продажи или аренды DVD-дисков по почте, отправив компакт-диск в дом Хастингса в Санта-Крусе. Когда диск прибыл в целости и сохранности, они решили войти в 16-миллиардную индустрию продаж и проката домашнего видео[13]. Хастингса часто цитируют, говоря, что он решил основать Netflix после того, как его оштрафовали на 40 долларов в магазине Blockbuster[en] за опоздание вернуть копию фильма «Аполлон-13». Но это вымышленная история, которую он и Рэндольф придумали позже, чтобы объяснить бизнес-модель и поддержать мотивацию сотрудников компании[13].\\nNetflix начал свою деятельность как первый в мире интернет-магазин проката DVD, имея всего 30 сотрудников и 925 доступных фильмов, что было почти всем каталогом, выпущенным на DVD на тот момент[12], используя модель оплаты за аренду со ставками и сроками возврата, очень похожими на те же условия своего основного конкурента, Blockbuster[14].\\nNetflix представила концепцию ежемесячной подписки в сентябре 1999 года[15], а затем отказалась от модели однократного проката в начале 2000 года. С тех пор компания построила свою репутацию на бизнес-модели безлимитной аренды с фиксированной ставкой, без сроков оплаты, просроченных платежей, сборов за доставку и обработку[16].\\nВ 2000 году у Netflix было всего около 300\\xa0000 подписчиков, которые получали DVD-диски по почте. Компания терпела убытки, в связи с чем руководство предложило компании Blockbuster выкупить 49\\xa0% Netflix за 50 миллионов долларов. Согласно предложенным условиям, Netflix должен быть переименован в Blockbuster.com и заниматься онлайн-продажами, в то время как сам Blockbuster займётся приобретением, хранением и доставкой DVD-дисков, став менее зависимым от Почтовой службы США. Однако предложение было отклонено[17][18].\\nВ начале 2001 года компания переживала быстрый рост, но вскоре пузырь доткомов лопнул, и позднее в том же году произошли теракты 11 сентября, что сильно повлияло на компанию и вынудило руководство сократить треть своих сотрудников. Однако продажи DVD-плееров в конце концов взлетели, поскольку они стали более доступными, продаваясь по цене примерно 200 долларов за штуку, став одним из самых популярных рождественских подарков в этом году. Это обстоятельство способствовало новому росту продаж подписки Netflix в начале 2002 года[19][20].\\nNetflix инициировала первичное публичное размещение акций (IPO) на бирже NASDAQ 29 мая 2002 года, продав 5,5 миллиона акций по цене 15 долларов США за акцию. 14 июня 2002 года компания продала дополнительно 825\\xa0000 акций по той же цене. После того как Netflix понесла значительные убытки в течение первых нескольких лет своей деятельности, впервые была опубликована финансовая отчётность: в 2003 году прибыль составила 6,5\\xa0млн долларов при выручке 272\\xa0млн долларов[21].\\nРэндольф, основной продюсер и член совета директоров Netflix, ушёл из компании в 2004 году[22]. В 2005 году было доступно для проката уже 35000 различных фильмов, и ежедневно Netflix поставляла 1 миллион DVD-дисков[21].\\nВ середине 2000-х годов скорость передачи данных значительно повысилась, и стоимость интернет-трафика снизилась настолько, что позволило клиентам загружать фильмы из сети. Первоначальная идея заключалась в создании «коробки Netflix», которая могла бы скачивать фильмы за одну ночь для просмотра на следующий день. К 2005 году было разработано устройство и приобретены права на показ фильмов. Компания была готова к выпуску его на рынок. Однако после открытия YouTube и наблюдения за тем, насколько популярными становятся потоковые сервисы, несмотря на отсутствие контента высокой чёткости, концепция использования аппаратного устройства была отброшена и заменена концепцией потоковой передачи данных, проект которой был завершён в 2007 году[23].\\nNetflix разработала и поддерживает обширную персонализированную систему видео-рекомендаций, основанную на рейтингах и отзывах своих клиентов. 1 октября 2006 года Netflix предложил премию в размере 1\\xa0000\\xa0000 долларов первому разработчику алгоритма предсказания оценки, которую зритель поставит фильму, на основе предыдущих оценок этого и других зрителей который мог бы улучшить существующий алгоритм Cinematch более чем на 10\\xa0%[24]. В феврале 2007 года компания осуществила доставку своего миллиардного DVD-диска[25] и начала отходить от первоначальной основной бизнес-модели, расширяя бизнес за счёт внедрения сервиса потокового вещания, сохранив при этом службу проката DVD и Blu-ray. Netflix рос по мере того, как продажи DVD падали с 2006 по 2011 год[26][27].\\nОнлайн-прокат DVD Netflix мог предложить гораздо больший выбор фильмов, чем пункты проката Blockbuster. Но когда они впервые предложили своим подписчикам бесплатный потоковый контент в 2007 году, он содержал не более 1000 фильмов и телешоу, всего 1\\xa0% по сравнению с более чем 100\\xa0000 DVD-продуктов. Тем не менее, поскольку популярность нового типа контента продолжала расти, количество доступных для потоковой передачи вариантов также росло и достигло 12\\xa0000 фильмов и шоу в июне 2009 года. Система рекомендаций, известная как Cinematch, не только привязывала зрителей к использованию сервиса, но и выводила недооценённые фильмы, чтобы клиенты могли просматривать их исходя из своих рекомендаций. Этот атрибут приносил выгоду не только компании, но и зрителям и киностудиям, участвовавшим в их создании[28].\\nКомпания вышла на международный рынок в 2010, когда потоковое вещание стало доступно в Канаде.\\nК январю 2013 года количество клиентов потокового сервиса Netflix достигло 27,1 миллиона в США и 29,4 миллиона в мире, с выручкой в 945\\xa0млн долларов[29]. К апрелю число подписчиков увеличилось до 36,3 миллионов (29,2 миллиона в Соединённых Штатах)[30]. По состоянию на сентябрь 2013 года Netflix сообщила об общем количестве абонентов потоковой передачи в 40,4 миллиона человек (31,2 миллиона в Соединённых Штатах)[31][32]. К сентябрю 2014 года у Netflix были подписчики более чем в 40 странах, к тому же, компания намеревалась расширить зону поставки своих услуг[33].\\nВ марте 2015 года сервис стал доступен в Австралии и Новой Зеландии, а осенью\\xa0— в Японии.\\n6 января 2016 года, во время пресс-релиза на мировой выставке электроники CES, Рид Хастингс неожиданно объявил, что сервис запустился и доступен для регистрации пользователей в 190 странах мира, среди которых такие большие аудитории, как Россия, Индия и Южная Корея[34]. Сервис недоступен в Китае, где правительство регулирует интернет, а также «на территории Крыма, КНДР и Сирии ввиду ограничений правительства США на деятельность американских компаний»[35][36].\\nВ июне 2016 года министр культуры России Владимир Мединский заявил, что Netflix якобы является частью «плана» правительства США по влиянию на мировую культуру: «войти в каждый дом, попасть в каждый телевизор и через этот телевизор в голову каждого человека на земле». Это было частью его аргумента в пользу увеличения финансирования российского кино.\\nВесной 2017 года Netflix запустил программу по найму фрилансеров для перевода субтитров, с её помощью онлайн-кинотеатр намерен перевести свои сериалы на более чем 20 иностранных языков, в том числе русский[37]. Значительная часть библиотеки Netflix имеет субтитры на русском языке, часть контента также имеет озвучку[38]. К октябрю 2018 года клиентская база Netflix достигла 137 миллионов человек по всему миру, что подтверждает её статус крупнейшего в мире видеосервиса с онлайн-подпиской[39].\\n6 марта 2019 года компания Netflix приобрела права на экранизацию романа Габриэля Гарсиа Маркеса «Сто лет одиночества». Произведение будет перенесено на экран впервые[40].\\nВо время пандемии COVID-19 в 2020 году, когда большинство кинотеатров по всему миру были закрыты, Netflix получил 16 миллионов новых подписчиков[41]. С 15 октября 2020 года Netflix официально запущен в России и СНГ с русскоязычным оформлением. По итогам 2020 года Netflix вошёл в четвёрку самых популярных онлайн-кинотеатров в России после ivi, «Кинопоиск HD» и Okko[42].\\n3 марта 2022 года компания объявила о приостановке всех проектов в России в знак протеста против вторжения России на Украину[43].\\n6 марта 2022 года Netflix объявила, что приостанавливает работу в России[44].\\nПо состоянию на декабрь 2021 82\\xa0% акций Netflix находились у институциональных инвесторов. Самые крупные из них, в числе которых Capital Group Companies, The Vanguard Group и BlackRock, владели не более чем по 8\\xa0% акций. Крупнейшие частные держатели владели не более чем 0,02\\xa0% акций[45].\\nБиблиотека Netflix доступна для просмотра из большинства современных интернет-браузеров, также существуют приложения для мобильных платформ Android, iOS; приставок на базе Android TV и Apple TV, игровых консолей PlayStation и Xbox; и для многих моделей телевизоров с функцией Smart TV. С января 2016 года фильмы и сериалы от Netflix доступны клиентам в качестве до Ultra HD 4K (на территории США также в 3D-формате).\\nНа октябрь 2021 года существуют три тарифа, каждый из которых открывает всю библиотеку сервиса[46].\\nРекомендованные параметры от Netflix:\\nNetflix Original\\xa0— это материалы, которые производятся, выпускаются и распространяются самостоятельно компанией Netflix. В марте 2011 года Netflix начала производить оригинальные материалы для своей библиотеки, начав с политической драмы «Карточный домик», которая дебютировала в феврале 2013 года. Сериал спродюсирован Дэвидом Финчером, в главной роли Кевин Спейси.\\nКомедийно-драматический телесериал о жизни в женской тюрьме\\xa0— «Оранжевый\\xa0— хит сезона»\\xa0— дебютировал в потоковом сервисе в июле 2013 года. Руководители Netflix сообщили, что этот сериал является самым популярным оригинальным сериалом Netflix[51]. В феврале 2016 сериал был продлён на пятый, шестой и седьмой сезоны.\\nВ ноябре 2013 года Netflix и Marvel Television объявили о заключении контракта на производство 5 сезонов сериалов, посвящённых супергероям Marvel\\xa0— Сорвиголове, Джессике Джонс, Железному Кулаку и Люку Кейджу, а также мини-сериала «Защитники», объединяющего всех этих героев. В начале 2019 компания заявила о закрытии всех сериалов о героях Marvel[52].\\nВ июле 2013 Netflix был первым кандидатом из поставщиков интернет-видео на премию «Эмми». Компания получила 14 номинаций, из которых сериал «Карточный домик» выиграл 9.\\nВ мае 2016 года Netflix выпускает собственное Late Night Show\\xa0— «Челси», которое ведёт американская комедиантка Челси Хэдлер. 30-минутное шоу выходит каждую среду, четверг и пятницу. В июле 2016 года шоу было продлено на второй сезон.\\n15 июля 2016 года состоялась премьера первого сезона американского научно-фантастического сериала «Очень странные дела», созданного братьями Дафферами. Он получил высокие оценки критиков, которые отметили атмосферность, актёрскую игру, режиссуру, музыкальное сопровождение и отсылки к жанровым фильмам 1980-х годов. Второй сезон, состоящий из девяти серий, был выпущен 27 октября 2017 года. В декабре 2017 года Netflix заказал третий сезон (8 эпизодов), премьера которого состоялась 4 июля 2019 года. 30 сентября 2019 на официальном канале сериала на YouTube подтвердилось, что сериал получит продолжение. Зимой 2020 года планируется начало съёмок. В свет четвёртый сезон выйдет в 2022 году. Братья Даффер заявили, что всего запланировано четыре или пять сезонов. Сериал получил 6 премий «Эмми» и 30 номинаций, в том числе в категории «Лучший драматический сериал», четыре номинации на премию «Золотой глобус» и завоевал премию Гильдии киноактёров США за лучший актёрский состав в драматическом сериале в 2016 году.\\n31 марта 2017 года вышел новый сериал «13 причин почему».\\nNetflix заказывает и эксклюзивно транслирует на собственном онлайн-сервисе стендапы многих популярных комиков, таких как Луи Си Кей[53], Джим Джеффрис, Ник Офферман, Джимми Карр, Эми Шумер и другие. В октябре 2016 года стало известно, что Netflix заплатит Крису Року 40 миллионов долларов США за права на показ двух его выступлений[54].\\n28 декабря 2018 года на Netflix вышел интерактивный эпизод сериала «Чёрное зеркало», где зрители могли рассматривать различные варианты поворота сценария, смешивая воедино элементы игры и традиционного видео. В 2019 году вышло интерактивное шоу «Ты против дикой природы», в котором зрители могут управлять действиями ведущего\\xa0— Беара Гриллса[55].\\nНачиная с 2017 года Netflix начала приобретать права на распространение сторонних фильмов. Одним из первых приобретений стал фильм «Парадокс Кловерфилда», который Netflix приобрела у Paramount Pictures в начале 2018 года и запустила в трансляцию с 4 февраля 2018 года. Также компания купила права на дистрибуцию картин «Аннигиляция», «Закат цивилизации», «Маугли».\\n22 января 2019 года фильмы Netflix получили 15 номинаций на кинопремию «Оскар» и смогли одержать победу в 4 категориях, включая «Оскар» за лучший фильм на иностранном языке («Рома» Альфонсо Куарона)[56].\\n13 января 2020 года фильмы Netflix получили 24 номинации на кинопремию «Оскар», однако выиграны были лишь 2 статуэтки.\\n15 марта 2021 года фильмы Netflix получили 35 номинаций на кинопремию «Оскар» и выиграли 7 статуэток, в том числе за фильмы «Манк» и «Ма Рейни: Мать блюза».\\nВ июле 2021 года компания объявила о планах расширить свою подписку доступом к видеоиграм, в том числе основанным на сериалах и фильмах стримингового сервиса. На начальном этапе Netflix будет ориентироваться в первую очередь на игры для мобильных устройств, однако в дальнейшем на платформе также появятся игры для консолей и ПК. Видеоигры будут доступны подписчикам Netflix бесплатно, в них также не будет рекламы и внутриигровых покупок[57].\\nВ ноябре 2021 года компания открыла подписчикам доступ к пяти мобильным играм, доступным через приложение Netflix на устройствах Android. В дальнейшем планируется запустить видеоигры и для других операционных систем[58].\\nМарк Рэндольф, соучредитель Netflix и первый генеральный директор компании\\nРид Хастингс, соучредитель и действующий председатель и генеральный директор\\nПульт дистанционного управления Aquos[en] с кнопкой Netflix\\nСтенд Netflix на San Diego Comic-Con 2017\\nРеклама Netflix на станции Тонг Ло БТС[en], Бангкок\\n'"
            ],
            "application/vnd.google.colaboratory.intrinsic+json": {
              "type": "string"
            }
          },
          "metadata": {},
          "execution_count": 22
        }
      ]
    },
    {
      "cell_type": "code",
      "source": [
        "# Весь текст со страницы можно взять с помощью атрибута .text\n",
        "soup.text"
      ],
      "metadata": {
        "id": "LelID12pvH5W",
        "colab": {
          "base_uri": "https://localhost:8080/",
          "height": 213
        },
        "outputId": "783ff60f-0d0e-4d51-e6f7-d10eaaf297e0"
      },
      "execution_count": null,
      "outputs": [
        {
          "output_type": "execute_result",
          "data": {
            "text/plain": [
              "'\\n\\nNetflix — Википедия\\ndocument.documentElement.className=\"client-js\";RLCONF={\"wgBreakFrames\":false,\"wgSeparatorTransformTable\":[\",\\\\t.\",\"\\xa0\\\\t,\"],\"wgDigitTransformTable\":[\"\",\"\"],\"wgDefaultDateFormat\":\"dmy\",\"wgMonthNames\":[\"\",\"январь\",\"февраль\",\"март\",\"апрель\",\"май\",\"июнь\",\"июль\",\"август\",\"сентябрь\",\"октябрь\",\"ноябрь\",\"декабрь\"],\"wgRequestId\":\"b1796b1e-399e-48c4-be58-e189d22b3f2e\",\"wgCSPNonce\":false,\"wgCanonicalNamespace\":\"\",\"wgCanonicalSpecialPageName\":false,\"wgNamespaceNumber\":0,\"wgPageName\":\"Netflix\",\"wgTitle\":\"Netflix\",\"wgCurRevisionId\":120557852,\"wgRevisionId\":120557852,\"wgArticleId\":3406461,\"wgIsArticle\":true,\"wgIsRedirect\":false,\"wgAction\":\"view\",\"wgUserName\":null,\"wgUserGroups\":[\"*\"],\"wgCategories\":[\"Википедия:Cite news (заполнен параметр id)\",\"Википедия:Cite web (не указан язык)\",\"Википедия:Страницы с ежедневно очищаемым кэшем\",\\n\"Википедия:Статьи со ссылками на элементы Викиданных без русской подписи\",\"Википедия:Статьи с источниками из Викиданных\",\"Википедия:Глобализировать\",\"Статьи со ссылками на Викисклад\",\"Википедия:Запросы на перевод с английского\",\"Википедия:Страницы с картами\",\"Компании, имеющие листинг акций на NASDAQ\",\"Компании по алфавиту\",\"Компании, основанные в 1997 году\",\"Стриминговые сервисы\",\"Netflix\",\"Кинокомпании США\",\"Компании Кремниевой долины\"],\"wgPageContentLanguage\":\"ru\",\"wgPageContentModel\":\"wikitext\",\"wgRelevantPageName\":\"Netflix\",\"wgRelevantArticleId\":3406461,\"wgIsProbablyEditable\":true,\"wgRelevantPageIsProbablyEditable\":true,\"wgRestrictionEdit\":[],\\n\"wgRestrictionMove\":[],\"wgFlaggedRevsParams\":{\"tags\":{\"accuracy\":{\"levels\":1}}},\"wgStableRevisionId\":120557852,\"wgVisualEditor\":{\"pageLanguageCode\":\"ru\",\"pageLanguageDir\":\"ltr\",\"pageVariantFallbacks\":\"ru\"},\"wgMFDisplayWikibaseDescriptions\":{\"search\":true,\"nearby\":true,\"watchlist\":true,\"tagline\":false},\"wgWMESchemaEditAttemptStepOversample\":false,\"wgWMEPageLength\":50000,\"wgNoticeProject\":\"wikipedia\",\"wgMediaViewerOnClick\":true,\"wgMediaViewerEnabledByDefault\":true,\"wgPopupsFlags\":10,\"wgULSCurrentAutonym\":\"русский\",\"wgCoordinates\":{\"lat\":37.2597,\"lon\":-121.9627},\"wgEditSubmitButtonLabelPublish\":true,\"wgCentralAuthMobileDomain\":false,\"wgULSPosition\":\"interlanguage\",\"wgULSisCompactLinksEnabled\":true,\"wgWikibaseItemId\":\"Q907311\",\"wgGENewcomerTasksGuidanceEnabled\":true,\"wgGEAskQuestionEnabled\":true,\"wgGELinkRecommendationsFrontendEnabled\":true};RLSTATE={\"ext.globalCssJs.user.styles\":\"ready\",\"site.styles\":\"ready\",\"user.styles\":\"ready\",\"ext.globalCssJs.user\":\"ready\",\"user\":\"ready\",\\n\"user.options\":\"loading\",\"ext.flaggedRevs.icons\":\"ready\",\"oojs-ui-core.styles\":\"ready\",\"oojs-ui.styles.indicators\":\"ready\",\"mediawiki.widgets.styles\":\"ready\",\"oojs-ui-core.icons\":\"ready\",\"ext.cite.styles\":\"ready\",\"ext.kartographer.style\":\"ready\",\"mediawiki.page.gallery.styles\":\"ready\",\"skins.vector.styles.legacy\":\"ready\",\"jquery.tablesorter.styles\":\"ready\",\"ext.flaggedRevs.basic\":\"ready\",\"ext.visualEditor.desktopArticleTarget.noscript\":\"ready\",\"ext.wikimediaBadges\":\"ready\",\"ext.uls.interlanguage\":\"ready\",\"wikibase.client.init\":\"ready\"};RLPAGEMODULES=[\"ext.cite.ux-enhancements\",\"ext.kartographer.link\",\"mediawiki.page.gallery.slideshow\",\"ext.scribunto.logs\",\"site\",\"mediawiki.page.ready\",\"jquery.tablesorter\",\"mediawiki.toc\",\"skins.vector.legacy.js\",\"ext.flaggedRevs.advanced\",\"ext.gadget.collapserefs\",\"ext.gadget.directLinkToCommons\",\"ext.gadget.referenceTooltips\",\"ext.gadget.logo\",\"ext.gadget.edittop\",\"ext.gadget.blpEditNotice\",\"ext.gadget.wikibugs\",\"ext.gadget.sidebarRelated\",\\n\"ext.gadget.navboxNavigation\",\"mmv.head\",\"mmv.bootstrap.autostart\",\"ext.visualEditor.desktopArticleTarget.init\",\"ext.visualEditor.targetLoader\",\"ext.eventLogging\",\"ext.wikimediaEvents\",\"ext.navigationTiming\",\"ext.cx.eventlogging.campaigns\",\"ext.quicksurveys.init\",\"ext.centralNotice.geoIP\",\"ext.centralNotice.startUp\",\"ext.centralauth.centralautologin\",\"ext.popups\",\"ext.uls.compactlinks\",\"ext.uls.interface\",\"ext.growthExperiments.SuggestedEditSession\"];\\n(RLQ=window.RLQ||[]).push(function(){mw.loader.implement(\"user.options@1i9g4\",function($,jQuery,require,module){mw.user.tokens.set({\"patrolToken\":\"+\\\\\\\\\",\"watchToken\":\"+\\\\\\\\\",\"csrfToken\":\"+\\\\\\\\\"});});});\\n\\n\\n\\n\\n\\n\\n\\n\\n\\n\\n\\n\\n\\n\\n\\n\\n\\n\\n\\n\\n\\n\\n\\n\\n\\n\\n\\n\\n\\n\\n\\n\\n\\n\\n\\n\\n\\t\\n\\t\\n\\t\\n\\t37°15′35″\\xa0с.\\xa0ш. 121°57′46″\\xa0з.\\xa0д.HGЯO\\n\\t\\n\\tNetflix\\n\\t\\n\\t\\tМатериал из Википедии — свободной энциклопедии\\n\\t\\t\\n\\t\\t\\n\\t\\t\\n\\t\\t\\n\\t\\tПерейти к навигации\\n\\t\\tПерейти к поиску\\n\\t\\tNetflix Inc.    \\n\\nТип\\n\\nпубличная компания\\n\\n\\nЛистинг на бирже\\n\\nNASDAQ: NFLX\\n\\n\\nОснование\\n\\n1997; 25\\xa0лет назад\\xa0(1997)\\n\\n\\nОснователи\\n\\nРид Хастингс,Марк Рэндольф\\n\\n\\nРасположение\\n\\n\\xa0США: Лос-Гатос (Калифорния)\\n\\n\\nКлючевые фигуры\\n\\nРид Хастингс (председатель и CEO), Тед Сарандос (CCO[en])\\n\\n\\nОтрасль\\n\\nстриминг и DVD-by-mail[d]\\n\\n\\nПродукция\\n\\nКинопроизводство, телепроизводство, потоковое видео, онлайн-прокат Blu-ray и DVD\\n\\n\\nСобственный капитал\\n\\n15,8 млрд\\xa0$ (2021)[1]\\n\\n\\nОборот\\n\\n▲29,7 млрд\\xa0$ (2021)[1]\\n\\n\\nОперационная прибыль\\n\\n▲6,19 млрд\\xa0$ (2021)[1]\\n\\n\\nЧистая прибыль\\n\\n▲5,12 млрд\\xa0$ (2021)[1]\\n\\n\\nАктивы\\n\\n▲44,6 млрд\\xa0$ (2021)[1]\\n\\n\\nКапитализация\\n\\n171 млрд\\xa0$ (31 января 2022)[2]\\n\\n\\nЧисло сотрудников\\n\\n▲11\\xa0300\\xa0чел. (31 декабря 2021)[1]\\n\\n\\nДочерние компании\\n\\nNetflix Animation\\n\\n\\nСайт\\n\\nnetflix.com\\n\\xa0Медиафайлы на Викискладе\\n\\nNetflix\\xa0— американская развлекательная компания, стриминговый сервис фильмов и сериалов. Основана 29 августа 1997 года Ридом Хастингсом и Марком Рэндольфом[3]. Штаб-квартира находится в Лос-Гатосе, Калифорния.\\nС 2013 года Netflix производит собственные фильмы и сериалы, в том числе и анимационные, а также телепрограммы. В 2016 году компания выпустила 126 оригинальных сериалов и фильмов\\xa0— больше, чем любой другой сетевой или кабельный канал[4]. Их усилия по производству нового контента, обеспечению прав на дополнительный контент и диверсификации через 190 стран потребовали дополнительных капиталов, привлекаемых в том числе через займы. Суммарный долг в 2016 году составил 16,8\\xa0млрд долларов, по состоянию на сентябрь 2017 года он был уже 21,9\\xa0млрд долларов[5]. При этом 6,5 миллиарда долларов\\xa0— это долгосрочный долг, а остальная часть\\xa0— долгосрочные обязательства[6]. В октябре 2018 года Netflix объявила о привлечении ещё 2 миллиардов долларов для финансирования нового контента[7]. По состоянию на январь 2021 года у компании насчитывается 203,7\\xa0млн подписчиков по всему миру, при этом компания потратила 11,8\\xa0млрд долларов на создание контента в 2020 году[8].\\n\\nСодержание\\n\\n1 История\\n\\n1.1 Основание\\n1.2 Предложение о приобретении Blockbuster, начало роста, выпуск акций\\n1.3 Снижение продаж DVD, внедрение видео по запросу\\n1.4 Международная экспансия\\n1.5 Бойкот России\\n\\n\\n2 Собственники\\n3 Технические детали и тарифы\\n4 Материалы\\n\\n4.1 Netflix Original\\n4.2 Фильмы\\n4.3 Видеоигры\\n\\n\\n5 Галерея\\n6 См. также\\n7 Примечания\\n8 Ссылки\\n\\n\\n\\nИстория[править | править код]\\nОснование[править | править код]\\nNetflix была основана 29 августа 1997 года в Скоттс-Вэлли, штат Калифорния[en], Марком Рэндольфом[9] и Ридом Хастингсом. Рэндольф в то время работал директором по маркетингу в компании Хастингса «Pure Software[en]»[10]. Рэндольф был одним из основателей компании MicroWarehouse, занимавшейся доставкой компьютеров по почте, а позже был принят на работу в Borland International в качестве вице-президента по маркетингу.\\nХастингс, компьютерный учёный и математик, продал Pure Software[en] компании Rational Software Corporation в 1997 году за 700 миллионов долларов, что было на тот момент самым крупным приобретением в истории Кремниевой долины. Они придумали идею Netflix в поездках между своими домами в Санта-Крусе и штаб-квартирой Pure Software в Саннивейле, ожидая одобрения слияния двух компаний государственными органами, хотя Хастингс позднее рассказывал различные истории появления этой идеи[11].\\nХастингс вложил 2,5 миллиона долларов в стартап для Netflix[12]. Рэндольф восхищался тогда ещё молодой компанией Amazon и хотел найти большую категорию портативных товаров для продажи через Интернет, используя подобную им бизнес-модель. По их мнению, доставка фильмов на видеокассетах VHS была нерентабельна из-за их относительно крупного размера и, соответственно, неудобства хранения.\\nКогда основатели компании услышали о DVD-дисках, которые впервые появились в Соединённых Штатах 24 марта 1997 года, они протестировали концепцию продажи или аренды DVD-дисков по почте, отправив компакт-диск в дом Хастингса в Санта-Крусе. Когда диск прибыл в целости и сохранности, они решили войти в 16-миллиардную индустрию продаж и проката домашнего видео[13]. Хастингса часто цитируют, говоря, что он решил основать Netflix после того, как его оштрафовали на 40 долларов в магазине Blockbuster[en] за опоздание вернуть копию фильма «Аполлон-13». Но это вымышленная история, которую он и Рэндольф придумали позже, чтобы объяснить бизнес-модель и поддержать мотивацию сотрудников компании[13].\\nNetflix начал свою деятельность как первый в мире интернет-магазин проката DVD, имея всего 30 сотрудников и 925 доступных фильмов, что было почти всем каталогом, выпущенным на DVD на тот момент[12], используя модель оплаты за аренду со ставками и сроками возврата, очень похожими на те же условия своего основного конкурента, Blockbuster[14].\\n\\nПредложение о приобретении Blockbuster, начало роста, выпуск акций[править | править код]\\nNetflix представила концепцию ежемесячной подписки в сентябре 1999 года[15], а затем отказалась от модели однократного проката в начале 2000 года. С тех пор компания построила свою репутацию на бизнес-модели безлимитной аренды с фиксированной ставкой, без сроков оплаты, просроченных платежей, сборов за доставку и обработку[16].\\nВ 2000 году у Netflix было всего около 300\\xa0000 подписчиков, которые получали DVD-диски по почте. Компания терпела убытки, в связи с чем руководство предложило компании Blockbuster выкупить 49\\xa0% Netflix за 50 миллионов долларов. Согласно предложенным условиям, Netflix должен быть переименован в Blockbuster.com и заниматься онлайн-продажами, в то время как сам Blockbuster займётся приобретением, хранением и доставкой DVD-дисков, став менее зависимым от Почтовой службы США. Однако предложение было отклонено[17][18].\\nВ начале 2001 года компания переживала быстрый рост, но вскоре пузырь доткомов лопнул, и позднее в том же году произошли теракты 11 сентября, что сильно повлияло на компанию и вынудило руководство сократить треть своих сотрудников. Однако продажи DVD-плееров в конце концов взлетели, поскольку они стали более доступными, продаваясь по цене примерно 200 долларов за штуку, став одним из самых популярных рождественских подарков в этом году. Это обстоятельство способствовало новому росту продаж подписки Netflix в начале 2002 года[19][20].\\nNetflix инициировала первичное публичное размещение акций (IPO) на бирже NASDAQ 29 мая 2002 года, продав 5,5 миллиона акций по цене 15 долларов США за акцию. 14 июня 2002 года компания продала дополнительно 825\\xa0000 акций по той же цене. После того как Netflix понесла значительные убытки в течение первых нескольких лет своей деятельности, впервые была опубликована финансовая отчётность: в 2003 году прибыль составила 6,5\\xa0млн долларов при выручке 272\\xa0млн долларов[21].\\nРэндольф, основной продюсер и член совета директоров Netflix, ушёл из компании в 2004 году[22]. В 2005 году было доступно для проката уже 35000 различных фильмов, и ежедневно Netflix поставляла 1 миллион DVD-дисков[21].\\n\\nСнижение продаж DVD, внедрение видео по запросу[править | править код]\\nВ середине 2000-х годов скорость передачи данных значительно повысилась, и стоимость интернет-трафика снизилась настолько, что позволило клиентам загружать фильмы из сети. Первоначальная идея заключалась в создании «коробки Netflix», которая могла бы скачивать фильмы за одну ночь для просмотра на следующий день. К 2005 году было разработано устройство и приобретены права на показ фильмов. Компания была готова к выпуску его на рынок. Однако после открытия YouTube и наблюдения за тем, насколько популярными становятся потоковые сервисы, несмотря на отсутствие контента высокой чёткости, концепция использования аппаратного устройства была отброшена и заменена концепцией потоковой передачи данных, проект которой был завершён в 2007 году[23].\\nNetflix разработала и поддерживает обширную персонализированную систему видео-рекомендаций, основанную на рейтингах и отзывах своих клиентов. 1 октября 2006 года Netflix предложил премию в размере 1\\xa0000\\xa0000 долларов первому разработчику алгоритма предсказания оценки, которую зритель поставит фильму, на основе предыдущих оценок этого и других зрителей который мог бы улучшить существующий алгоритм Cinematch более чем на 10\\xa0%[24]. В феврале 2007 года компания осуществила доставку своего миллиардного DVD-диска[25] и начала отходить от первоначальной основной бизнес-модели, расширяя бизнес за счёт внедрения сервиса потокового вещания, сохранив при этом службу проката DVD и Blu-ray. Netflix рос по мере того, как продажи DVD падали с 2006 по 2011 год[26][27].\\nОнлайн-прокат DVD Netflix мог предложить гораздо больший выбор фильмов, чем пункты проката Blockbuster. Но когда они впервые предложили своим подписчикам бесплатный потоковый контент в 2007 году, он содержал не более 1000 фильмов и телешоу, всего 1\\xa0% по сравнению с более чем 100\\xa0000 DVD-продуктов. Тем не менее, поскольку популярность нового типа контента продолжала расти, количество доступных для потоковой передачи вариантов также росло и достигло 12\\xa0000 фильмов и шоу в июне 2009 года. Система рекомендаций, известная как Cinematch, не только привязывала зрителей к использованию сервиса, но и выводила недооценённые фильмы, чтобы клиенты могли просматривать их исходя из своих рекомендаций. Этот атрибут приносил выгоду не только компании, но и зрителям и киностудиям, участвовавшим в их создании[28].\\n\\nМеждународная экспансия[править | править код]\\nОсновная статья: Международная экспансия Netflix\\nКомпания вышла на международный рынок в 2010, когда потоковое вещание стало доступно в Канаде.\\nК январю 2013 года количество клиентов потокового сервиса Netflix достигло 27,1 миллиона в США и 29,4 миллиона в мире, с выручкой в 945\\xa0млн долларов[29]. К апрелю число подписчиков увеличилось до 36,3 миллионов (29,2 миллиона в Соединённых Штатах)[30]. По состоянию на сентябрь 2013 года Netflix сообщила об общем количестве абонентов потоковой передачи в 40,4 миллиона человек (31,2 миллиона в Соединённых Штатах)[31][32]. К сентябрю 2014 года у Netflix были подписчики более чем в 40 странах, к тому же, компания намеревалась расширить зону поставки своих услуг[33].\\nВ марте 2015 года сервис стал доступен в Австралии и Новой Зеландии, а осенью\\xa0— в Японии.\\n\\n  Доступность Netflix по странам на январь 2016 года\\xa0\\xa0\\xa0\\xa0\\xa0Доступен\\xa0\\xa0\\xa0\\xa0\\xa0Недоступен\\n6 января 2016 года, во время пресс-релиза на мировой выставке электроники CES, Рид Хастингс неожиданно объявил, что сервис запустился и доступен для регистрации пользователей в 190 странах мира, среди которых такие большие аудитории, как Россия, Индия и Южная Корея[34]. Сервис недоступен в Китае, где правительство регулирует интернет, а также «на территории Крыма, КНДР и Сирии ввиду ограничений правительства США на деятельность американских компаний»[35][36].\\nВ июне 2016 года министр культуры России Владимир Мединский заявил, что Netflix якобы является частью «плана» правительства США по влиянию на мировую культуру: «войти в каждый дом, попасть в каждый телевизор и через этот телевизор в голову каждого человека на земле». Это было частью его аргумента в пользу увеличения финансирования российского кино.\\nВесной 2017 года Netflix запустил программу по найму фрилансеров для перевода субтитров, с её помощью онлайн-кинотеатр намерен перевести свои сериалы на более чем 20 иностранных языков, в том числе русский[37]. Значительная часть библиотеки Netflix имеет субтитры на русском языке, часть контента также имеет озвучку[38]. К октябрю 2018 года клиентская база Netflix достигла 137 миллионов человек по всему миру, что подтверждает её статус крупнейшего в мире видеосервиса с онлайн-подпиской[39].\\n6 марта 2019 года компания Netflix приобрела права на экранизацию романа Габриэля Гарсиа Маркеса «Сто лет одиночества». Произведение будет перенесено на экран впервые[40].\\nВо время пандемии COVID-19 в 2020 году, когда большинство кинотеатров по всему миру были закрыты, Netflix получил 16 миллионов новых подписчиков[41]. С 15 октября 2020 года Netflix официально запущен в России и СНГ с русскоязычным оформлением. По итогам 2020 года Netflix вошёл в четвёрку самых популярных онлайн-кинотеатров в России после ivi, «Кинопоиск HD» и Okko[42].\\n\\nБойкот России[править | править код]\\n3 марта 2022 года компания объявила о приостановке всех проектов в России в знак протеста против вторжения России на Украину[43].\\n6 марта 2022 года Netflix объявила, что приостанавливает работу в России[44].\\n\\nСобственники[править | править код]\\nПо состоянию на декабрь 2021 82\\xa0% акций Netflix находились у институциональных инвесторов. Самые крупные из них, в числе которых Capital Group Companies, The Vanguard Group и BlackRock, владели не более чем по 8\\xa0% акций. Крупнейшие частные держатели владели не более чем 0,02\\xa0% акций[45].\\n\\nТехнические детали и тарифы[править | править код]\\nЭта статья или раздел описывает ситуацию применительно лишь к одному региону, возможно, нарушая при этом правило о взвешенности изложения.Вы можете помочь Википедии, добавив информацию для других стран и регионов.\\nБиблиотека Netflix доступна для просмотра из большинства современных интернет-браузеров, также существуют приложения для мобильных платформ Android, iOS; приставок на базе Android TV и Apple TV, игровых консолей PlayStation и Xbox; и для многих моделей телевизоров с функцией Smart TV. С января 2016 года фильмы и сериалы от Netflix доступны клиентам в качестве до Ultra HD 4K (на территории США также в 3D-формате).\\nНа октябрь 2021 года существуют три тарифа, каждый из которых открывает всю библиотеку сервиса[46].\\n\\n«Базовый»\\xa0— 599 ₽ в месяц\\xa0— позволяет смотреть видео на одном экране с качеством SD,\\n«Стандартный»\\xa0— 799 ₽ в месяц\\xa0— на двух в HD,\\n«Премиум»\\xa0— 999 ₽ в месяц\\xa0— на четырёх в HD или Ultra HD, когда это доступно. Доступен просмотр HDR-видео, сервис поддерживает 2 формата трансляций в HDR: Dolby Vision и HDR10.\\nРекомендованные параметры от Netflix:\\n\\n\\n\\n\\nКачество\\nРекомендованнаяпотоковая скорость\\nСправка\\n\\n\\nМин. требуемое\\n0,5 Мбит/с\\n[47]\\n\\n\\nРекомендованное\\n1,5 Мбит/с\\n[47]\\n\\n\\nSD\\n3,0 Мбит/с\\n[47]\\n\\n\\nHD (720p и 1080p)\\n5,0 Мбит/с\\n[47]\\n\\n\\nUltra HD (2160p)\\n25 Мбит/с\\n[48]\\n\\nМатериалы[править | править код]\\n\\n\\n\\n\\n\\nДолгое время штаб-квартира Netflix в Лос-Гатосе и текущий юридический адрес по адресу 100 Винчестер Сёркл (строение A)\\n\\n\\n\\nРасширение кампуса Netflix Лос-Гатос в 90-160 Олбрайт Вэй (корпус G, Олбрайт Вэй 101)[49][50].\\n\\n\\n\\n\\n\\n\\n\\n\\n\\n\\n\\nПервый логотип, использовавшийся с 1997 по 2000 год\\n\\n\\n\\nЛоготип Netflix, использовавшийся с 2000 по 2014 год\\n\\n\\n\\n\\n\\n\\n  Открыт прокатный конверт Netflix, содержащий DVD Тренер Картер\\nNetflix Original[править | править код]\\nNetflix Original\\xa0— это материалы, которые производятся, выпускаются и распространяются самостоятельно компанией Netflix. В марте 2011 года Netflix начала производить оригинальные материалы для своей библиотеки, начав с политической драмы «Карточный домик», которая дебютировала в феврале 2013 года. Сериал спродюсирован Дэвидом Финчером, в главной роли Кевин Спейси.\\nКомедийно-драматический телесериал о жизни в женской тюрьме\\xa0— «Оранжевый\\xa0— хит сезона»\\xa0— дебютировал в потоковом сервисе в июле 2013 года. Руководители Netflix сообщили, что этот сериал является самым популярным оригинальным сериалом Netflix[51]. В феврале 2016 сериал был продлён на пятый, шестой и седьмой сезоны.\\nВ ноябре 2013 года Netflix и Marvel Television объявили о заключении контракта на производство 5 сезонов сериалов, посвящённых супергероям Marvel\\xa0— Сорвиголове, Джессике Джонс, Железному Кулаку и Люку Кейджу, а также мини-сериала «Защитники», объединяющего всех этих героев. В начале 2019 компания заявила о закрытии всех сериалов о героях Marvel[52].\\nВ июле 2013 Netflix был первым кандидатом из поставщиков интернет-видео на премию «Эмми». Компания получила 14 номинаций, из которых сериал «Карточный домик» выиграл 9.\\nВ мае 2016 года Netflix выпускает собственное Late Night Show\\xa0— «Челси», которое ведёт американская комедиантка Челси Хэдлер. 30-минутное шоу выходит каждую среду, четверг и пятницу. В июле 2016 года шоу было продлено на второй сезон.\\n15 июля 2016 года состоялась премьера первого сезона американского научно-фантастического сериала «Очень странные дела», созданного братьями Дафферами. Он получил высокие оценки критиков, которые отметили атмосферность, актёрскую игру, режиссуру, музыкальное сопровождение и отсылки к жанровым фильмам 1980-х годов. Второй сезон, состоящий из девяти серий, был выпущен 27 октября 2017 года. В декабре 2017 года Netflix заказал третий сезон (8 эпизодов), премьера которого состоялась 4 июля 2019 года. 30 сентября 2019 на официальном канале сериала на YouTube подтвердилось, что сериал получит продолжение. Зимой 2020 года планируется начало съёмок. В свет четвёртый сезон выйдет в 2022 году. Братья Даффер заявили, что всего запланировано четыре или пять сезонов. Сериал получил 6 премий «Эмми» и 30 номинаций, в том числе в категории «Лучший драматический сериал», четыре номинации на премию «Золотой глобус» и завоевал премию Гильдии киноактёров США за лучший актёрский состав в драматическом сериале в 2016 году.\\n31 марта 2017 года вышел новый сериал «13 причин почему».\\nNetflix заказывает и эксклюзивно транслирует на собственном онлайн-сервисе стендапы многих популярных комиков, таких как Луи Си Кей[53], Джим Джеффрис, Ник Офферман, Джимми Карр, Эми Шумер и другие. В октябре 2016 года стало известно, что Netflix заплатит Крису Року 40 миллионов долларов США за права на показ двух его выступлений[54].\\n28 декабря 2018 года на Netflix вышел интерактивный эпизод сериала «Чёрное зеркало», где зрители могли рассматривать различные варианты поворота сценария, смешивая воедино элементы игры и традиционного видео. В 2019 году вышло интерактивное шоу «Ты против дикой природы», в котором зрители могут управлять действиями ведущего\\xa0— Беара Гриллса[55].\\n\\nФильмы[править | править код]\\nНачиная с 2017 года Netflix начала приобретать права на распространение сторонних фильмов. Одним из первых приобретений стал фильм «Парадокс Кловерфилда», который Netflix приобрела у Paramount Pictures в начале 2018 года и запустила в трансляцию с 4 февраля 2018 года. Также компания купила права на дистрибуцию картин «Аннигиляция», «Закат цивилизации», «Маугли».\\n22 января 2019 года фильмы Netflix получили 15 номинаций на кинопремию «Оскар» и смогли одержать победу в 4 категориях, включая «Оскар» за лучший фильм на иностранном языке («Рома» Альфонсо Куарона)[56].\\n13 января 2020 года фильмы Netflix получили 24 номинации на кинопремию «Оскар», однако выиграны были лишь 2 статуэтки.\\n15 марта 2021 года фильмы Netflix получили 35 номинаций на кинопремию «Оскар» и выиграли 7 статуэток, в том числе за фильмы «Манк» и «Ма Рейни: Мать блюза».\\n\\nВидеоигры[править | править код]\\nВ июле 2021 года компания объявила о планах расширить свою подписку доступом к видеоиграм, в том числе основанным на сериалах и фильмах стримингового сервиса. На начальном этапе Netflix будет ориентироваться в первую очередь на игры для мобильных устройств, однако в дальнейшем на платформе также появятся игры для консолей и ПК. Видеоигры будут доступны подписчикам Netflix бесплатно, в них также не будет рекламы и внутриигровых покупок[57].\\nВ ноябре 2021 года компания открыла подписчикам доступ к пяти мобильным играм, доступным через приложение Netflix на устройствах Android. В дальнейшем планируется запустить видеоигры и для других операционных систем[58].\\n\\nГалерея[править | править код]\\n\\n\\t\\t\\n\\t\\t\\t\\n\\t\\t\\t\\nМарк Рэндольф, соучредитель Netflix и первый генеральный директор компании\\n\\n\\t\\t\\t\\n\\t\\t\\n\\t\\t\\n\\t\\t\\t\\n\\t\\t\\t\\nРид Хастингс, соучредитель и действующий председатель и генеральный директор\\n\\n\\t\\t\\t\\n\\t\\t\\n\\t\\t\\n\\t\\t\\t\\n\\t\\t\\t\\nПульт дистанционного управления Aquos[en] с кнопкой Netflix\\n\\n\\t\\t\\t\\n\\t\\t\\n\\t\\t\\n\\t\\t\\t\\n\\t\\t\\t\\nСтенд Netflix на San Diego Comic-Con 2017\\n\\n\\t\\t\\t\\n\\t\\t\\n\\t\\t\\n\\t\\t\\t\\n\\t\\t\\t\\nРеклама Netflix на станции Тонг Ло БТС[en], Бангкок\\n\\n\\t\\t\\t\\n\\t\\t\\n\\nСм. также[править | править код]\\nNetflix Prize\\nPopcorn Time\\nМанбан\\xa0— система IPTV в КНДР, основанная на интерфейсе Netflix.\\nПримечания[править | править код]\\n\\n\\n↑ 1 2 3 4 5 6 Netflix Annual Report 2021 SEC 10-K\\n\\n↑ Forbes Netflix (NFLX) Stock Key Data\\n\\n↑ Pogue, David. A Stream of Movies, Sort of Free, The New York Times\\xa0(25 января 2007). Дата обращения 21 апреля 2017.\\n\\n↑ The Netflix Backlash: Why Hollywood Fears a Content Monopoly\\xa0(англ.), The Hollywood Reporter. Дата обращения 29 мая 2017.\\n\\n↑ Netflix sinking deeper into debt to fuel subscriber growth\\xa0(англ.).  thestar.com (16 октября 2017). Дата обращения: 4 мая 2020.\\n\\n↑ Bloomberg - As Netflix Trumpets Stock Value, Debt Investors Want Cash Flow\\xa0(неопр.).  www.bloomberg.com. Дата обращения: 4 мая 2020.\\n\\n↑ Netflix to raise $2 billion in debt to fund more original content\\xa0(англ.).  TechCrunch. Дата обращения: 4 мая 2020.\\n\\n↑ Число подписчиков Netflix превысило 200 млн человек\\xa0(неопр.).  Игромания (журнал) (20 января 2021). Дата обращения: 27 января 2021.\\n\\n↑ BookRenter Adds Netflix Co-Founder Marc Randolph To Its Board Of Directors\\xa0(англ.).  TechCrunch. Дата обращения: 4 мая 2020.\\n\\n↑ Rational Software Announces Agreement to Acquire Pure Atria\\xa0(неопр.).  web.archive.org (25 февраля 2017). Дата обращения: 4 мая 2020.\\n\\n↑ Michelle Castillo. Reed Hastings\\' story about the founding of Netflix has changed several times\\xa0(англ.).  CNBC (23 мая 2017). Дата обращения: 4 мая 2020.\\n\\n↑ 1 2 History of Netflix, Inc. – FundingUniverse\\xa0(неопр.).  www.fundinguniverse.com. Дата обращения: 4 мая 2020.\\n\\n↑ 1 2 Keating, Gina (2012). Netflixed: The Epic Battle for America’s Eyeballs. Portfolio/ Penguin.\\n\\n↑ DVDFILE.COM: Special Report - DVD Historical Timeline\\xa0(неопр.).  web.archive.org (19 марта 2006). Дата обращения: 4 мая 2020.\\n\\n↑ Jeffrey M. O\\'Brien. The Netflix Effect\\xa0(англ.)\\xa0// Wired\\xa0: magazine.\\xa0— 2002-12-01.\\xa0— ISSN 1059-1028.\\n\\n↑ Facebook, Twitter, LinkedIn. How to Use the Netflix DVD Rental Program\\xa0(англ.).  Lifewire. Дата обращения: 4 мая 2020.\\n\\n↑ Ken Auletta. The Red-Envelope Revolution\\xa0(англ.).  The New Yorker. Дата обращения: 4 мая 2020.\\n\\n↑ Spector, Mike. Blockbuster to Remake Itself Under Creditors, Wall Street Journal\\xa0(24 сентября 2010). Дата обращения 4 мая 2020.\\n\\n↑ Patty McCord. How Netflix Reinvented HR\\xa0// Harvard Business Review.\\xa0— 2014-01-01.\\xa0— Вып. January–February 2014.\\xa0— ISSN 0017-8012.\\n\\n↑ Nielsen Business Media Inc. Billboard\\xa0(англ.).\\xa0— Nielsen Business Media, Inc., 2001-06-16.\\xa0— 116\\xa0p.\\n\\n↑ 1 2 Movies to go\\xa0// The Economist.\\xa0— ISSN 0013-0613.\\n\\n↑ Marc Randolph\\xa0(англ.).  APB Speakers. Дата обращения: 7 мая 2020.\\n\\n↑ Robert Kyncl. The inside story of how Netflix transitioned to digital video after seeing the power of YouTube\\xa0(англ.).  Vox (13 сентября 2017). Дата обращения: 7 мая 2020.\\n\\n↑ Netflix Prize: Home\\xa0(неопр.)\\xa0(недоступная ссылка).  www.netflixprize.com. Дата обращения: 7 мая 2020. Архивировано 10\\xa0декабря 2006\\xa0года.\\n\\n↑ The Victoria Advocate - Google News Archive Search\\xa0(неопр.).  news.google.com. Дата обращения: 7 мая 2020.\\n\\n↑ Matt Peckham. DVD Sales Plunge in U.S., Digital Sales On the Rise\\xa0(англ.)\\xa0// Time\\xa0: magazine.\\xa0— 2011-05-04.\\xa0— ISSN 0040-781X.\\n\\n↑ Nate Anderson. Netflix offers streaming movies to subscribers\\xa0(англ.).  Ars Technica (16 января 2007). Дата обращения: 7 мая 2020.\\n\\n↑ Netflix – Managing a still-hot business as its time runs out.\\xa0(англ.).  profkenhoma (23 июня 2009). Дата обращения: 7 мая 2020.\\n\\n↑ HuffPost - Breaking News, U.S. and World News\\xa0(англ.).  HuffPost. Дата обращения: 7 мая 2020.\\n\\n↑ By The Numbers: Netflix subscribers\\xa0(англ.).  news.yahoo.com. Дата обращения: 7 мая 2020.\\n\\n↑ Stelter, Brian. Netflix Hits Milestone and Raises Its Sights, The New York Times\\xa0(21 октября 2013). Дата обращения 7 мая 2020.\\n\\n↑ Cliff Edwards. Netflix Seen Reporting Web Users Grew to 33.1 Million\\xa0(неопр.).  Newsmax (22 января 2014). Дата обращения: 7 мая 2020.\\n\\n↑ 40 Amazing Netflix Statistics and Facts\\xa0(неопр.).  web.archive.org (18 октября 2014). Дата обращения: 7 мая 2020.\\n\\n↑ Netflix announces it\\'s now live in 130 new countries including India and Russia\\xa0(неопр.).  The Verge (6 января 2016). Дата обращения: 13 мая 2017.\\n\\n↑ Netflix Is Now Available Around the World\\xa0(неопр.).  media.netflix.com.\\xa0— «Netflix will not yet be available in China, though the company continues to explore options for providing the service. It also won’t be available in Crimea, North Korea and Syria due to U.S. government restrictions on American companies.». Архивировано 6\\xa0января 2016\\xa0года.\\n\\n↑ Netflix открыл доступ для россиян\\xa0(рус.), vc.ru\\xa0(6 января 2016). Дата обращения 21 апреля 2017.\\n\\n↑ Елистратов, Вадим. Netflix запустил программу по найму фрилансеров для перевода субтитров\\xa0(рус.), DTF. Дата обращения 21 апреля 2017.\\n\\n↑ Amiko. Фильмы и сериалы в Netflix на русском языке — Кино и сериалы на DTF\\xa0(неопр.).  DTF (13 января 2019). Дата обращения: 20 марта 2019.\\n\\n↑ Sharma, Lisa Richwine, Vibhuti. Netflix record subscriber growth dispels Wall Street worries, Reuters\\xa0(17 октября 2018). Дата обращения 21 марта 2021.\\n\\n↑ Netflix первый в истории получил права на экранизацию книги «Сто лет одиночества»\\xa0(неопр.).\\n\\n↑ Netflix gets 16 million new sign-ups thanks to lockdown, BBC News\\xa0(21 апреля 2020). Дата обращения 21 марта 2021.\\n\\n↑ Евгения Евсеева. Netflix вошёл в четвёрку самых популярных у россиян видеосервисов после ivi, «Кинопоиск HD» и Okko — Telecom Daily — Медиа на vc.ru\\xa0(неопр.). vc.ru (19 марта 2021). Дата обращения: 21 марта 2021.\\n\\n↑ Netflix pauses future projects in Russia, BBC, 3.03.2022\\n\\n↑ Lang, Brent. Netflix Suspends Service in Russia Amid Invasion of Ukraine, Variety, Penske Media Corporation\\xa0(March 6, 2022).\\n\\n↑ Top Netflix Shareholders\\xa0(неопр.). Investopedia (10 июля 2020). Дата обращения: 12 декабря 2021.\\n\\n↑ Plans and Pricing\\xa0(рус.). Центр поддержки. Дата обращения: 6 октября 2021.\\n\\n↑ 1 2 3 4 Internet Connection Speed Recommendations\\xa0(неопр.).  Netflix. Дата обращения: 16 апреля 2015.\\n\\n↑ Can I stream Netflix in Ultra HD 4K?\\xa0(неопр.).  Netflix. Дата обращения: 9 июня 2014.\\n\\n↑ Netflix официально подписывает на новый кампус Лос-Гатос, Деловой журнал Силиконовой долины, Американские Городские Деловые Журналы\\xa0(11 декабря 2012). Дата обращения 2 апреля 2019.\\n\\n↑ Netflix пломбирует большое расширение Лос-Гатос, Деловой журнал Силиконовой долины, Американские Городские Деловые Журналы\\xa0(4 сентября 2015). Дата обращения 2 апреля 2019.\\n\\n↑ Anthony Ha. Netflix: ‘Orange Is The New Black’ Is Our Most-Watched Original, But Our TV Exclusives Are Even Bigger\\xa0(неопр.).  TechCrunch. Дата обращения: 21 апреля 2017.\\n\\n↑ Алиса Говорова. Netflix закрыл сериалы по Marvel «Каратель» и «Джессика Джонс»\\xa0(рус.).  Известия (19 февраля 2019). Дата обращения: 20 марта 2019.\\n\\n↑ Вышел трейлер спецпроекта Netflix с участием стендап-комика (видео), Росбалт. Дата обращения 21 апреля 2017.\\n\\n↑ Netflix заплатит Крису Року 40 млн долларов за два выступления\\xa0(рус.), КиноПоиск.ru. Дата обращения 21 апреля 2017.\\n\\n↑ Галина СЕРОВА | Сайт «Комсомольской правды». На Netflix выйдет интерактивное шоу \"Ты против дикой природы\" с Беаром Гриллсом\\xa0(рус.).  KP.RU - сайт «Комсомольской правды» (20 марта 2019). Дата обращения: 20 марта 2019.\\n\\n↑ «Рома» получила «Оскар» в категории «Лучший фильм на иностранном языке»\\xa0(рус.).  РИА Новости (20190225T0516+0300Z). Дата обращения: 20 марта 2019.\\n\\n↑ Netflix добавит мобильные игры в свою подписку\\xa0(рус.). Forbes.ru. Дата обращения: 3 ноября 2021.\\n\\n↑ Netflix запустил мобильные видеоигры по подписке в своем приложении\\xa0(рус.). Forbes.ru. Дата обращения: 3 ноября 2021.\\n\\n\\nСсылки[править | править код]\\n.mw-parser-output .ts-Родственные_проекты{width:19em;box-sizing:border-box;margin:0 0 .5em 1em;padding:.4em;background:#f8f9fa;border:1px solid #a2a9b1;font-size:90%}.mw-parser-output .ts-Родственные_проекты-header{margin-bottom:.2em;padding:.2em .6em;font-size:110%}.mw-parser-output .ts-Родственные_проекты-item{display:flex;padding:.2em .6em}.mw-parser-output .ts-Родственные_проекты-image{min-width:24px;display:inline-block;margin-right:.4em;flex:none;vertical-align:top;text-align:center}.mw-parser-output .ts-Родственные_проекты-image img{vertical-align:middle}.mw-parser-output .ts-Родственные_проекты-label{align-self:center}@media(max-width:719px){.mw-parser-output .ts-Родственные_проекты{width:auto;margin-left:0;margin-right:0}}Медиафайлы на\\xa0Викискладе\\nnetflix.com — официальный сайт Netflix\\nВидеоканал Netflix Russia на YouTube\\nNetflix: что происходит, когда вы нажимаете «воспроизвести»? на geektimes.ru\\nЕщё 7 миллионов: почему взлетели акции Netflix // Газета.Ru, 17.10.2018\\nВ другом языковом разделе есть более полная статья Netflix\\xa0(англ.).Вы можете помочь проекту, расширив текущую статью с помощью перевода.\\n\\xa0\\xa0\\xa0\\xa0В социальных сетях\\nТвиттер\\nFacebook\\nLinkedIn\\nФото, видео и аудио\\nInstagram\\nInstagram\\nInstagram\\nLast.fm\\nTikTok\\nYouTube\\nТематические сайты\\nGitHub\\nСловари и энциклопедии\\nБольшая норвежская\\nBritannica (онлайн)\\nBrockhaus\\n.mw-parser-output .ts-navbox-plaintitle{font-size:100%!important;margin:0 6em!important}В\\xa0библиографических каталогах\\nBNF: 16905232x\\nGND: 1036416135\\nISNI: 0000 0004 6358 9334\\nLCCN: nr2007013388\\nNKC: xx0226167\\nVIAF: 110144647635343459670\\nWorldCat VIAF: 110144647635343459670\\n\\nСсылки на связанные темы\\xa0Netflix\\nNetflix\\nNetflix Prize\\n Фильмы\\nСериалы\\nтекущие\\nвозрождённые\\nзавершённые\\nпредстоящие\\n\\n\\xa0Завершённые оригинальные сериалы Netflix (с 2012 по 2018 год)Запущенныедо 2015 года\\nДа здравствует король Джулиан (2014—2017)\\nКарточный домик (2013—2018)\\nКонь БоДжек (2014—2020)\\nЛиллехаммер (2012—2014)\\nМарко Поло (2014—2016)\\nОвощные истории в доме (2014—2016)\\nОранжевый — хит сезона (2013—2019)\\nРыцари «Сидонии» (2014—2015)\\nТурбо: Молниеносная команда (2013—2016)\\nХемлок Гроув (2013—2015)\\nЗапущенныев 2015 году\\nВосьмое чувство (2015—2018)\\nДжессика Джонс (2015—2019)\\nДраконы (2015—2018)\\nЖаркое американское лето: Первый день лагеря (2015)\\nКлуб Ворон (2015—2019)\\nМежду (2015—2016)\\nНарко (2015—2017)\\nНесгибаемая Кимми Шмидт (2015—2019)\\nПриключения Кота в сапогах (2015—2018)\\nРодословная (2015—2017)\\nСемейка Крудс. Начало (2015—2017)\\nСоздавая убийцу (2015—2018)\\nСорвиголова (2015—2018)\\nЗапущенныев 2016 году\\n3% (2016—2020)\\nБезбашенные (2016)\\nБолее полный дом (2016—2020)\\nВольтрон: Легендарный защитник (2016—2018)\\nДеграсси: Новый класс (2016—2017)\\nЛюбовь (2016—2018)\\nЛюк Кейдж (2016—2018)\\nМарсель (2016—2018)\\nМир Винкс (2016—2017)\\nОА (2016—2019)\\nОтжиг (2016—2017)\\nОхотники на троллей: Истории Аркадии (2016—2018)\\nПараноик (2016)\\nПроще простого (2016—2019)\\nПутешественники (2016—2018)\\nРанчо (2016—2020)\\nС чистого листа (2016—2017)\\nХолистическое детективное агентство Дирка Джентли (2016—2017)\\nЗапущенныев 2017 году\\n13 причин почему (2017—2020)\\nАбстракция: Искусство дизайна (2017)\\nАмериканский вандал (2017—2018)\\nБлеск (2017—2019)\\nДиета из Санта-Клариты (2017—2019)\\nДрузья с колледжа (2017—2019)\\nЕй это нужно позарез (2017—2019)\\nЖаркое американское лето: 10 лет спустя (2017)\\nЖелезный кулак (2017—2018)\\nЗабытые Богом (2017)\\nЗащитники (2017)\\nКаратель (2017—2019)\\nКастлвания (2017—2021)\\nКонец ***го мира (2017—2019)\\nЛемони Сникет: 33 несчастья (2017—2019)\\nНачальница (2017)\\nНео Йокио (2017)\\nНетипичный (2017—2021)\\nНеуправляемая (2017—2018)\\nОднажды за один раз (2017—2019)\\nОвощные истории в городе (2017)\\nОна же Грэйс (2017)\\nОхотник за разумом (2017—2019)\\nПроклятие (2017—2018)\\nРаскосяченные (2017—2018)\\nСамая плохая ведьма (2017—2020)\\nСпирит: Дух свободы (2017—2019)\\nСубура (2017—2020)\\nТелефонистки (2017—2020)\\nТьма (2017—2020)\\nУормвуд (2017)\\nЦыганка (2017)\\nЭль Чапо (2017—2018)\\nЭнн (2017—2020)\\nЗапущенныев 2018 году\\n1983 (2018)\\nБезопасность (2018)\\nБерлинские легавые (2018)\\nВидоизменённый углерод (2018—2020)\\nГород приливов (2018)\\nДевичьи секреты (2018—2020)\\nДождь (2018—2020)\\nЛеденящие душу приключения Сабрины (2018—2020)\\nЛощина (2018—2020)\\nМаньяк (2018)\\nМетод Комински (2018—2021)\\nНарко: Мексика (2018—2021)\\nНенасытная (2018—2019)\\nНечистые деньги (2018—2020)\\nОбитатели холмов (2018)\\nПадение Трои (2018)\\nПризрак дома на холме (2018)\\nСакральные игры (2018—2019)\\nСемь секунд (2018)\\nСупергерои на шпильках (2018)\\nТрое с небес: Истории Аркадии (2018—2019)\\nТролли (2018—2019)\\nШи-Ра и непобедимые принцессы (2018—2020)\\nDevilman: Crybaby (2018)\\nLost Song (2018)\\nSword Gai (2018)\\n\\n Netflix\\nФильмы\\nТекущие сериалы\\nЗавершённые сериалы (с 2019 года)\\nВозрождённые сериалы\\nПредстоящие сериалы\\n\\n\\xa0Оригинальные фильмы NetflixДокументальные\\nThe Zen of Bennett[en]\\nПлощадь[en]\\nМитт[en]\\nThe Battered Bastards of Baseball[en]\\nПринтер будущего[en]\\nE-Team[en]\\nВирунга\\nРазыскиваются горячие девушки[en]\\nЧто случилось, мисс Симон?[en]\\nТиг[en]\\nЗима в огне\\nMy Beautiful Broken Brain[en]\\nОдри и Дейзи[en]\\nТринадцатый[en]\\nВ самое пекло\\nИгра цвета слоновой кости[en]\\nИкар\\nПрослушивание на роль ДжонБене[en]\\nGet Me Roger Stone[en]\\nДжошуа: Подросток против суперсилы[en]\\nАферист из Tinder\\nХудожественные\\nБезродные звери\\nОчень мюрреевское Рождество\\nНелепая шестёрка\\nКрадущийся тигр, затаившийся дракон: Меч судьбы\\nДом игрушек Пи-ви[en]\\nСпециальные корреспонденты[en]\\nВсё по новой\\nОсновные принципы добра\\nBrahman Naman[en]\\nПерерождение[en]\\nТаллула[en]\\nПоцелуй[en]\\nАрка\\nОсада Жадовиля\\nТалисманы[en]\\nЯ прелесть, живущая в доме[en]\\nРеальные воспоминания международного убийцы\\nБлагодать[en]\\nBlue Jay[en]\\nСпектральный анализ\\nРазум в огне\\nБарри\\nПохищение монет[en]\\niБой[en]\\nImperial Dreams[en]\\nДень любимой[en]\\nВ этом мире я больше не чувствую себя как дома\\nРаскалённые пески[en]\\nДейдра и Лани грабят поезд[en]\\nСамая ненавистная женщина Америки[en]\\nОткрытие\\nОтыграйся[en]\\nСэнди Уэкслер\\nПесочный замок[en]\\nБродяги[en]\\nМелкие преступления[en]\\nКрасавчик[en]\\nBlame!\\nМашина войны\\nОзеро Шиммер[en]\\nНа одной волне\\nОкча\\nДо костей\\nНевероятная Джессика Джеймс[en]\\nГолышом\\nТайна 7 сестёр\\nТетрадь смерти\\nМаленькое зло[en]\\nСначала они убили моего отца\\nИгра Джеральда\\nНаши души по ночам[en]\\nИстории семьи Майровиц\\nНяня\\n1922\\nВодила[en]\\nУбийца[en]\\nПринц на Рождество[en]\\nФерма «Мадбаунд»\\nРождество в Эль-Камино[en]\\nРождественское наследие[en]\\nЯркость\\nКороль польки[en]\\nГодзилла: Планета чудовищ[en]\\nДом на продажу\\nСёстры по степу\\nПарадокс Кловерфилда\\nБремя\\nРоксана Роксана\\nНемой\\nПодстава\\n6 Balloons[en]\\nНеделя до…\\nЗакат цивилизации\\nВ высокой траве\\nЧувак\\nБудка поцелуев\\nТау\\nВсем парням, которых я любила раньше\\nПридержи тьму[en]\\nЧастная жизнь\\nCome Sunday[en]\\n22 июля \\nA Futile and Stupid Gesture[en]\\nАпостол\\nКороль вне закона\\nВеб-камера\\nБаллада Бастера Скраггса\\nРождественские хроники\\nМаугли\\nРома\\nПтичий короб\\nИрландец\\nМюнхен\\nОжидаемые\\nПобег из Спайдерхэд\\nБорьба со льдом\\nИмя наше — Адам\\nТехасская резня бензопилой\\nНа Западном фронте без перемен\\nБлондинка\\nРазрушение\\nДостать ножи 2\\nДоводы рассудка\\nПиноккио\\nАстронавт\\nДобрый медбрат\\nСерый человек\\nБелый шум\\n\\n Netflix\\nСериалы: Завершённые\\nВозрождённые\\nТекущие\\nПредстоящие\\n\\n\\xa0Стриминговые сервисыМузыка\\nAmazon Music\\nApple Music\\nVK Музыка\\nDeezer\\nLast.fm\\nMixcloud\\nPandora\\nSpotify\\nSoundCloud\\nTidal\\nYouTube Music\\nСберЗвук\\nЯндекс.Музыка\\nВидео\\n56.com\\nAmazon Prime Video\\nAOL Video\\nApple TV+\\nBBC iPlayer\\nBlockbuster\\nCanalplay\\nCrunchyroll\\nDailymotion\\nDAZN\\nDisney+\\nHBO Max\\nHulu\\nGoogle Play\\niTunes Store\\nivi\\nKion\\nMEGOGO\\nMore.TV\\nMUBI\\nNetflix\\nOkko\\nParamount+\\nPeacock\\nPremier\\nRutube\\nShudder\\nStart\\nTvigle\\nVimeo\\nVOKA\\nWatchESPN\\nWink\\nWWE Network\\nYouku\\nYouTube\\nАмедиатека\\nКинопоиск\\nСмотрим\\n\\n\\xa0База расчёта индекса Nasdaq-100 фондовой биржи NASDAQ\\n\\nActivision Blizzard\\nAdobe\\nAMD\\nAlexion Pharmaceuticals\\nAlign Technology\\nAlphabet\\nAmazon\\nAmerican Airlines Group\\nAmgen\\nAnalog Devices\\nAnsys\\nApple\\nApplied Materials\\nASML\\nAutodesk\\nAutomatic Data Processing\\nBaidu\\nBiogen\\nBioMarin Pharmaceutical\\nBooking Holdings\\nBroadcom Inc.\\nCadence Design Systems\\nCDW\\nCerner\\nCharter Communications\\nCheck Point\\nCintas\\nCisco Systems\\nCitrix Systems\\nCognizant\\nComcast\\nCopart\\nCoStar Group\\nCostco\\nCSX\\nDexcom\\nDollar Tree\\neBay\\nElectronic Arts\\nExelon\\nExpedia Group\\nFastenal\\nFiserv\\nFox Corporation\\nGilead Sciences\\nIdexx Laboratories\\nIllumina\\nIncyte\\nIntel\\nIntuit\\nIntuitive Surgical\\nJD.com\\nKLA Corporation\\nKraft Heinz\\nLam Research\\nLiberty Global\\nLululemon Athletica\\nMarriott International\\nMaxim Integrated\\nMercadoLibre\\nMeta\\nMicrochip Technology\\nMicron Technology\\nMicrosoft\\nMondelēz International\\nMonster Beverage\\nNetApp\\nNetEase\\nNetflix\\nNvidia\\nNXP Semiconductors\\nO\\'Reilly Auto Parts\\nPaccar\\nPaychex\\nPayPal\\nPepsiCo\\nQualcomm\\nRegeneron Pharmaceuticals\\nRoss Stores\\nSeagen\\nSirius XM\\nSkyworks Solutions\\nSplunk\\nStarbucks\\nSynopsys\\nT-Mobile US\\nTake-Two Interactive\\nTesla\\nTexas Instruments\\nTrip.com Group\\nUlta Beauty\\nUnited Airlines Holdings\\nVerisign\\nVerisk Analytics\\nVertex Pharmaceuticals\\nWalgreens Boots Alliance\\nWestern Digital\\nWorkday, Inc.\\nXcel Energy\\nXilinx\\nZoom Video Communications\\n\\n\\n\\n\\n\\n\\n\\nИсточник — https://ru.wikipedia.org/w/index.php?title=Netflix&oldid=120557852\\n\\t\\tКатегории: Компании, имеющие листинг акций на NASDAQКомпании по алфавитуКомпании, основанные в 1997 годуСтриминговые сервисыNetflixКинокомпании СШАКомпании Кремниевой долиныСкрытые категории: Википедия:Cite news (заполнен параметр id)Википедия:Cite web (не указан язык)Википедия:Страницы с ежедневно очищаемым кэшемВикипедия:Статьи со ссылками на элементы Викиданных без русской подписиВикипедия:Статьи с источниками из ВикиданныхВикипедия:ГлобализироватьСтатьи со ссылками на ВикискладВикипедия:Запросы на перевод с английскогоВикипедия:Страницы с картами\\n\\t\\n\\n\\n\\t\\n\\n\\n\\n\\tНавигация\\n\\t\\n\\t\\t\\n\\n\\t\\n\\t\\tПерсональные инструменты\\n\\t\\n\\t\\n\\t\\t\\n\\t\\tВы не представились системеОбсуждениеВкладСоздать учётную записьВойти\\n\\t\\t\\n\\t\\n\\n\\n\\t\\t\\n\\t\\t\\t\\n\\n\\t\\n\\t\\tПространства имён\\n\\t\\n\\t\\n\\t\\t\\n\\t\\tСтатьяОбсуждение\\n\\t\\t\\n\\t\\n\\n\\n\\t\\t\\t\\n\\n\\t\\n\\t\\n\\t\\tрусский\\n\\t\\t\\texpanded\\n\\t\\t\\tcollapsed\\n\\t\\n\\t\\n\\t\\t\\n\\t\\t\\n\\t\\t\\n\\t\\n\\n\\n\\t\\t\\n\\t\\t\\n\\t\\t\\t\\n\\n\\t\\n\\t\\tПросмотры\\n\\t\\n\\t\\n\\t\\t\\n\\t\\tЧитатьПравитьПравить кодИстория\\n\\t\\t\\n\\t\\n\\n\\n\\t\\t\\t\\n\\n\\t\\n\\t\\n\\t\\tЕщё\\n\\t\\t\\texpanded\\n\\t\\t\\tcollapsed\\n\\t\\n\\t\\n\\t\\t\\n\\t\\t\\n\\t\\t\\n\\t\\n\\n\\n\\t\\t\\t\\n\\n\\t\\n\\t\\t\\t\\n\\t\\t\\t\\tПоиск\\n\\t\\t\\t\\n\\t\\t\\n\\t\\t\\t\\n\\t\\t\\t\\t\\n\\t\\t\\t\\t\\n\\t\\t\\t\\t\\n\\t\\t\\t\\t\\n\\t\\t\\t\\n\\t\\t\\n\\t\\n\\n\\n\\t\\t\\n\\t\\n\\t\\n\\n\\n\\t\\n\\t\\t\\n\\t\\n\\t\\n\\n\\t\\n\\t\\tНавигация\\n\\t\\n\\t\\n\\t\\t\\n\\t\\tЗаглавная страницаСодержаниеИзбранные статьиСлучайная статьяТекущие событияПожертвовать\\n\\t\\t\\n\\t\\n\\n\\n\\t\\n\\n\\t\\n\\t\\tУчастие\\n\\t\\n\\t\\n\\t\\t\\n\\t\\tСообщить об\\xa0ошибкеКак править статьиСообществоФорумСвежие правкиНовые страницыСправка\\n\\t\\t\\n\\t\\n\\n\\n\\n\\t\\n\\t\\tИнструменты\\n\\t\\n\\t\\n\\t\\t\\n\\t\\tСсылки сюдаСвязанные правкиСлужебные страницыПостоянная ссылкаСведения о\\xa0страницеЦитировать страницуЭлемент Викиданных\\n\\t\\t\\n\\t\\n\\n\\n\\n\\t\\n\\t\\tПечать/экспорт\\n\\t\\n\\t\\n\\t\\t\\n\\t\\tСоздать книгуСкачать как PDFВерсия для печати\\n\\t\\t\\n\\t\\n\\n\\n\\n\\t\\n\\t\\tВ других проектах\\n\\t\\n\\t\\n\\t\\t\\n\\t\\tВикискладВикиновости\\n\\t\\t\\n\\t\\n\\n\\n\\t\\n\\n\\t\\n\\t\\tНа других языках\\n\\t\\n\\t\\n\\t\\t\\n\\t\\tAcèhAfrikaansAlemannischአማርኛAragonésالعربيةالدارجةمصرىঅসমীয়াAsturianuAzərbaycancaBasa BaliБеларускаяБеларуская (тарашкевіца)БългарскиभोजपुरीবাংলাBrezhonegBosanskiCatalàCebuanoکوردیČeštinaCymraegDanskDeutschZazakiދިވެހިބަސްΕλληνικάEnglishEsperantoEspañolEestiEuskaraفارسیSuomiFrançaisFryskGaeilgeGalegoAvañe\\'ẽעבריתहिन्दीHrvatskiKreyòl ayisyenMagyarՀայերենBahasa IndonesiaÍslenskaItaliano日本語ქართულიҚазақшаភាសាខ្មែរಕನ್ನಡ한국어KurdîКыргызчаLatinaລາວLietuviųLatviešuमैथिलीMinangkabauമലയാളംमराठीBahasa Melayuမြန်မာဘာသာNedersaksiesनेपालीNederlandsNorsk nynorskNorsk bokmålਪੰਜਾਬੀPolskiپنجابیپښتوPortuguêsRomânăСаха тылаSarduScotsSrpskohrvatski / српскохрватскиSimple EnglishSlovenčinaAnarâškielâSoomaaligaShqipСрпски / srpskiSundaSvenskaKiswahiliதமிழ்తెలుగుТоҷикӣไทยTagalogTürkçeТатарча/tatarçaئۇيغۇرچە / UyghurcheУкраїнськаاردوOʻzbekcha/ўзбекчаTiếng Việt吴语მარგალურიייִדיש中文文言Bân-lâm-gú粵語IsiZulu\\n\\t\\tПравить ссылки\\n\\t\\n\\n\\n\\n\\n\\n\\n\\n\\t\\n\\t Эта страница в последний раз была отредактирована 10 марта 2022 в 16:55.\\n\\tТекст доступен по лицензии Creative Commons Attribution-ShareAlike; в отдельных случаях могут действовать дополнительные условия.\\nПодробнее см. Условия использования.\\nWikipedia®\\xa0— зарегистрированный товарный знак некоммерческой организации Wikimedia Foundation, Inc.\\n\\n\\n\\t\\n\\tПолитика конфиденциальности\\n\\tОписание Википедии\\n\\tОтказ от ответственности\\n\\tСвяжитесь с нами\\n\\tМобильная версия\\n\\tРазработчики\\n\\tСтатистика\\n\\tЗаявление о куки\\n\\n\\n\\t\\n\\t\\n\\t\\n\\n\\n\\n\\n(RLQ=window.RLQ||[]).push(function(){mw.config.set({\"wgPageParseReport\":{\"limitreport\":{\"cputime\":\"1.883\",\"walltime\":\"2.189\",\"ppvisitednodes\":{\"value\":21052,\"limit\":1000000},\"postexpandincludesize\":{\"value\":490975,\"limit\":2097152},\"templateargumentsize\":{\"value\":65781,\"limit\":2097152},\"expansiondepth\":{\"value\":23,\"limit\":100},\"expensivefunctioncount\":{\"value\":75,\"limit\":500},\"unstrip-depth\":{\"value\":0,\"limit\":20},\"unstrip-size\":{\"value\":51023,\"limit\":5000000},\"entityaccesscount\":{\"value\":15,\"limit\":400},\"timingprofile\":[\"100.00% 1895.083      1 -total\",\" 38.01%  720.323      1 Шаблон:Компания\",\" 35.31%  669.085      1 Шаблон:Карточка\",\" 29.33%  555.826      1 Шаблон:Примечания\",\" 17.69%  335.325     36 Шаблон:Cite_web\",\" 10.42%  197.491      1 Шаблон:Навигационный_блок\",\"  9.41%  178.331      7 Шаблон:Wikidata\",\"  8.88%  168.368      5 Шаблон:Навигационная_таблица\",\"  8.15%  154.429      1 Шаблон:Внешние_ссылки\",\"  7.68%  145.521      1 Шаблон:NetflixFilms\"]},\"scribunto\":{\"limitreport-timeusage\":{\"value\":\"0.948\",\"limit\":\"10.000\"},\"limitreport-memusage\":{\"value\":16358841,\"limit\":52428800},\"limitreport-logs\":\"Loaded datatype commonsMedia of P154 from wikidata, consider passing datatype argument to formatProperty call or to Wikidata/config\\\\nLoaded datatype wikibase-item of P1454 from wikidata, consider passing datatype argument to formatProperty call or to Wikidata/config\\\\nLoaded datatype wikibase-item of P414 from wikidata, consider passing datatype argument to formatProperty call or to Wikidata/config\\\\nLoaded datatype wikibase-item of P1366 from wikidata, consider passing datatype argument to formatProperty call or to Wikidata/config\\\\nLoaded datatype wikibase-item of P112 from wikidata, consider passing datatype argument to formatProperty call or to Wikidata/config\\\\nLoaded datatype wikibase-item of P452 from wikidata, consider passing datatype argument to formatProperty call or to Wikidata/config\\\\nLoaded datatype wikibase-item of P1056 from wikidata, consider passing datatype argument to formatProperty call or to Wikidata/config\\\\nLoaded datatype time of P585 from wikidata, consider passing datatype argument to formatProperty call or to Wikidata/config\\\\nLoaded datatype time of P585 from wikidata, consider passing datatype argument to formatProperty call or to Wikidata/config\\\\nLoaded datatype time of P585 from wikidata, consider passing datatype argument to formatProperty call or to Wikidata/config\\\\nLoaded datatype time of P585 from wikidata, consider passing datatype argument to formatProperty call or to Wikidata/config\\\\nLoaded datatype time of P585 from wikidata, consider passing datatype argument to formatProperty call or to Wikidata/config\\\\nLoaded datatype time of P585 from wikidata, consider passing datatype argument to formatProperty call or to Wikidata/config\\\\nLoaded datatype time of P585 from wikidata, consider passing datatype argument to formatProperty call or to Wikidata/config\\\\nLoaded datatype wikibase-item of P749 from wikidata, consider passing datatype argument to formatProperty call or to Wikidata/config\\\\nLoaded datatype wikibase-item of P355 from wikidata, consider passing datatype argument to formatProperty call or to Wikidata/config\\\\n\"},\"cachereport\":{\"origin\":\"mw1423\",\"timestamp\":\"20220312002405\",\"ttl\":86400,\"transientcontent\":true}}});});\\n{\"@context\":\"https:\\\\/\\\\/schema.org\",\"@type\":\"Article\",\"name\":\"Netflix\",\"url\":\"https:\\\\/\\\\/ru.wikipedia.org\\\\/wiki\\\\/Netflix\",\"sameAs\":\"http:\\\\/\\\\/www.wikidata.org\\\\/entity\\\\/Q907311\",\"mainEntity\":\"http:\\\\/\\\\/www.wikidata.org\\\\/entity\\\\/Q907311\",\"author\":{\"@type\":\"Organization\",\"name\":\"Contributors to Wikimedia projects\"},\"publisher\":{\"@type\":\"Organization\",\"name\":\"\\\\u0424\\\\u043e\\\\u043d\\\\u0434 \\\\u0412\\\\u0438\\\\u043a\\\\u0438\\\\u043c\\\\u0435\\\\u0434\\\\u0438\\\\u0430\",\"logo\":{\"@type\":\"ImageObject\",\"url\":\"https:\\\\/\\\\/www.wikimedia.org\\\\/static\\\\/images\\\\/wmf-hor-googpub.png\"}},\"datePublished\":\"2011-08-08T14:34:38Z\",\"dateModified\":\"2022-03-10T16:55:11Z\",\"image\":\"https:\\\\/\\\\/upload.wikimedia.org\\\\/wikipedia\\\\/commons\\\\/9\\\\/9d\\\\/Netflix_headquarters.jpg\",\"headline\":\"\\\\u0410\\\\u043c\\\\u0435\\\\u0440\\\\u0438\\\\u043a\\\\u0430\\\\u043d\\\\u0441\\\\u043a\\\\u0430\\\\u044f \\\\u0440\\\\u0430\\\\u0437\\\\u0432\\\\u043b\\\\u0435\\\\u043a\\\\u0430\\\\u0442\\\\u0435\\\\u043b\\\\u044c\\\\u043d\\\\u0430\\\\u044f \\\\u043a\\\\u043e\\\\u043c\\\\u043f\\\\u0430\\\\u043d\\\\u0438\\\\u044f, \\\\u043e\\\\u0441\\\\u043d\\\\u043e\\\\u0432\\\\u0430\\\\u043d\\\\u043d\\\\u0430\\\\u044f \\\\u0432 1997 \\\\u0433\\\\u043e\\\\u0434\\\\u0443\"}\\n(RLQ=window.RLQ||[]).push(function(){mw.config.set({\"wgBackendResponseTime\":191,\"wgHostname\":\"mw1365\"});});\\n\\n'"
            ],
            "application/vnd.google.colaboratory.intrinsic+json": {
              "type": "string"
            }
          },
          "metadata": {},
          "execution_count": 23
        }
      ]
    },
    {
      "cell_type": "markdown",
      "source": [
        "## Полезные и использованные ссылки\n",
        "\n",
        "* https://istories.media/workshops/2021/01/29/vvedenie-v-python-chast-11-rabota-s-failami/\n",
        "* https://python-scripts.com/json"
      ],
      "metadata": {
        "id": "1H28Vhdtnppl"
      }
    }
  ]
}